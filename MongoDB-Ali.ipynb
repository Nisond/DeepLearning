{
 "cells": [
  {
   "cell_type": "code",
   "execution_count": 1,
   "metadata": {},
   "outputs": [],
   "source": [
    "import pandas as pd\n",
    "import numpy as np\n",
    "from pandas.api.types import is_numeric_dtype\n",
    "import os\n",
    "from tqdm import tqdm_notebook\n",
    "import seaborn as sns\n",
    "import re\n",
    "from pprint import pprint"
   ]
  },
  {
   "cell_type": "code",
   "execution_count": 2,
   "metadata": {},
   "outputs": [],
   "source": [
    "columns = ['entity', 'start_date', 'ProfitLoss',\n",
    "        'ProfitLossFromOrdinaryActivitiesBeforeTax','ContributedCapital',\n",
    "        'CurrentAssets', 'Equity', 'LiabilitiesAndEquity',\n",
    "        'RetainedEarnings', 'ShorttermLiabilitiesOtherThanProvisions',\n",
    "        'ClassOfReportingEntity',\n",
    "        'AverageNumberOfEmployees',\n",
    "        'AddressOfReportingEntityPostCodeIdentifier'\n",
    "       ]"
   ]
  },
  {
   "cell_type": "code",
   "execution_count": 3,
   "metadata": {},
   "outputs": [],
   "source": [
    "def preprocess_df(f):\n",
    "    try:\n",
    "        df = pd.read_csv(f, usecols=columns)\n",
    "        company_class = df.ClassOfReportingEntity.unique()[0]\n",
    "        zip_code = re.findall('\\d{4}', str(df.AddressOfReportingEntityPostCodeIdentifier.unique()[0]))[0]\n",
    "        df.drop(['ClassOfReportingEntity', 'AddressOfReportingEntityPostCodeIdentifier'], axis=1, inplace=True)\n",
    "        df.start_date = df.start_date.apply(lambda x: str(x)[:4])\n",
    "        # Aggregate the rows by the \n",
    "        df = df.groupby('start_date').mean()\n",
    "        df['Target'] = df['Equity'].shift(-1)\n",
    "        df['Class'] = company_class\n",
    "        df['Zip_Code'] = zip_code\n",
    "        df = df[~df.Target.isna()]\n",
    "    except Exception as e:\n",
    "       # print(\"Oups\")\n",
    "       # print(str(e))\n",
    "        df = 0\n",
    "    return df\n",
    "\n"
   ]
  },
  {
   "cell_type": "code",
   "execution_count": 4,
   "metadata": {},
   "outputs": [],
   "source": [
    "files = ['Data/'+file for file in os.listdir('Data/') if file[-1]=='v']\n",
    "files.extend(['New_data/'+file for file in os.listdir('New_data/') if file[-1]=='v'])"
   ]
  },
  {
   "cell_type": "code",
   "execution_count": 5,
   "metadata": {},
   "outputs": [
    {
     "data": {
      "application/vnd.jupyter.widget-view+json": {
       "model_id": "647b2b0db1a34dc887bfddf9c5f665b0",
       "version_major": 2,
       "version_minor": 0
      },
      "text/plain": [
       "HBox(children=(IntProgress(value=0, max=218668), HTML(value='')))"
      ]
     },
     "metadata": {},
     "output_type": "display_data"
    },
    {
     "name": "stdout",
     "output_type": "stream",
     "text": [
      "\n"
     ]
    }
   ],
   "source": [
    "df = [preprocess_df(f) for f in tqdm_notebook(files)]"
   ]
  },
  {
   "cell_type": "code",
   "execution_count": 6,
   "metadata": {},
   "outputs": [],
   "source": [
    "new_list = [dd for dd in df if type(dd) is not int]"
   ]
  },
  {
   "cell_type": "code",
   "execution_count": 7,
   "metadata": {},
   "outputs": [
    {
     "name": "stderr",
     "output_type": "stream",
     "text": [
      "C:\\Users\\Bruger\\Anaconda3\\lib\\site-packages\\ipykernel_launcher.py:1: FutureWarning: Sorting because non-concatenation axis is not aligned. A future version\n",
      "of pandas will change to not sort by default.\n",
      "\n",
      "To accept the future behavior, pass 'sort=False'.\n",
      "\n",
      "To retain the current behavior and silence the warning, pass 'sort=True'.\n",
      "\n",
      "  \"\"\"Entry point for launching an IPython kernel.\n"
     ]
    }
   ],
   "source": [
    "new_df = pd.concat(new_list)"
   ]
  },
  {
   "cell_type": "code",
   "execution_count": 8,
   "metadata": {},
   "outputs": [],
   "source": [
    "# Turn Company type into either A, B, C or D \n",
    "def strip_company_type(x):\n",
    "    try:\n",
    "        return re.findall('[ABCD]', str(x))[0]\n",
    "    except Exception as e:\n",
    "        return np.NaN"
   ]
  },
  {
   "cell_type": "code",
   "execution_count": 9,
   "metadata": {},
   "outputs": [],
   "source": [
    "new_df.Class = new_df.Class.apply(strip_company_type)"
   ]
  },
  {
   "cell_type": "code",
   "execution_count": 10,
   "metadata": {},
   "outputs": [
    {
     "name": "stdout",
     "output_type": "stream",
     "text": [
      "<class 'pandas.core.frame.DataFrame'>\n",
      "Index: 54250 entries, 2016 to 2017\n",
      "Data columns (total 13 columns):\n",
      "AverageNumberOfEmployees                     54250 non-null float64\n",
      "Class                                        54250 non-null object\n",
      "ContributedCapital                           54250 non-null float64\n",
      "CurrentAssets                                54250 non-null float64\n",
      "Equity                                       54250 non-null float64\n",
      "LiabilitiesAndEquity                         54250 non-null float64\n",
      "ProfitLoss                                   54250 non-null float64\n",
      "ProfitLossFromOrdinaryActivitiesBeforeTax    54250 non-null float64\n",
      "RetainedEarnings                             54250 non-null float64\n",
      "ShorttermLiabilitiesOtherThanProvisions      54250 non-null float64\n",
      "Target                                       54250 non-null float64\n",
      "Zip_Code                                     54250 non-null object\n",
      "entity                                       54250 non-null float64\n",
      "dtypes: float64(11), object(2)\n",
      "memory usage: 5.8+ MB\n"
     ]
    }
   ],
   "source": [
    "new_df = new_df.dropna()\n",
    "new_df.info()"
   ]
  },
  {
   "cell_type": "code",
   "execution_count": 15,
   "metadata": {},
   "outputs": [],
   "source": [
    "new_df.to_pickle('2018_data_company_type_nb_employes_zip_code_ali.pkl')"
   ]
  }
 ],
 "metadata": {
  "hide_input": false,
  "kernelspec": {
   "display_name": "Python 3",
   "language": "python",
   "name": "python3"
  },
  "language_info": {
   "codemirror_mode": {
    "name": "ipython",
    "version": 3
   },
   "file_extension": ".py",
   "mimetype": "text/x-python",
   "name": "python",
   "nbconvert_exporter": "python",
   "pygments_lexer": "ipython3",
   "version": "3.7.3"
  }
 },
 "nbformat": 4,
 "nbformat_minor": 2
}
