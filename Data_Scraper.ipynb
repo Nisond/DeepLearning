{
 "cells": [
  {
   "cell_type": "code",
   "execution_count": 1,
   "metadata": {},
   "outputs": [],
   "source": [
    "import requests\n",
    "import json\n",
    "from datetime import datetime\n",
    "import pytz\n",
    "import pandas as pd\n",
    "import traceback\n",
    "\n",
    "from liquer import *\n",
    "\n",
    "HEADERS_FOR_JSON = {\n",
    "    'accept': \"application/json; charset=utf-8\",\n",
    "    'content-type': \"application/json\"\n",
    "}\n",
    "\n",
    "SEARCH_URL = \"http://distribution.virk.dk/offentliggoerelser/_search\"\n",
    "\n",
    "\n",
    "def to_datetime(d):\n",
    "    if isinstance(d, datetime):\n",
    "        return d.strftime('%Y-%m-%dT%H:%M:%S.%f')[:-3] + 'Z'\n",
    "    if d in (None, \"NOW\"):\n",
    "        return datetime.utcnow().strftime('%Y-%m-%dT%H:%M:%S.%f')[:-3] + 'Z'\n",
    "\n",
    "\n",
    "NS = \"virk\"\n",
    "\n",
    "\n",
    "@first_command(ns=NS)\n",
    "def offentliggoerelser_raw(day=None, size=2999):\n",
    "    \"\"\"Get public register as JSON document.\n",
    "\n",
    "    Arguments:\n",
    "    day -- date string in YYYYMMDD format\n",
    "    size -- size argument in the query\n",
    "    \"\"\"\n",
    "    if day in (None, \"TODAY\"):\n",
    "        d = datetime.utcnow()\n",
    "    else:\n",
    "        d = datetime.strptime(day, \"%Y%m%d\")\n",
    "    dd = d.strftime(\"%Y-%m-%d\")\n",
    "    gt = f\"{dd}T00:00:00.001Z\"\n",
    "    lt = f\"{dd}T23:59:59.505Z\"\n",
    "    data = {\n",
    "        \"query\": {\n",
    "            \"bool\": {\n",
    "                \"must\": [\n",
    "                    {\n",
    "                        \"term\": {\n",
    "                            \"dokumenter.dokumentMimeType\": \"application\"\n",
    "                        }\n",
    "                    },\n",
    "                    {\n",
    "                        \"term\": {\n",
    "                            \"dokumenter.dokumentMimeType\": \"xml\"\n",
    "                        }\n",
    "                    },\n",
    "                    {\n",
    "                        \"range\": {\n",
    "                            \"offentliggoerelsesTidspunkt\": {\n",
    "                                \"gt\": gt,\n",
    "                                \"lt\": lt\n",
    "                            }\n",
    "                        }\n",
    "                    }\n",
    "                ],\n",
    "                \"must_not\": [],\n",
    "                \"should\": []\n",
    "            }\n",
    "        },\n",
    "        \"size\": size\n",
    "    }\n",
    "\n",
    "    response = requests.post(SEARCH_URL, data=json.dumps(data),\n",
    "                             headers=HEADERS_FOR_JSON)\n",
    "    return response.json()\n",
    "\n",
    "\n",
    "@command(ns=NS)\n",
    "def register2df(data):\n",
    "    \"\"\"Convert JSON response from offentliggoerelser_raw to DataFrame\"\"\"\n",
    "    df = pd.DataFrame(columns=[\"_id\", \"_index\", \"_score\", \"cvrNummer\"])\n",
    "    for r in data[\"hits\"][\"hits\"]:\n",
    "        d = dict(\n",
    "            _id=r[\"_id\"],\n",
    "            _index=r[\"_index\"],\n",
    "            _score=r[\"_score\"],\n",
    "            cvrNummer=str(r[\"_source\"][\"cvrNummer\"]),\n",
    "            indlaesningsId=r[\"_source\"][\"indlaesningsId\"],\n",
    "            indlaesningsTidspunkt=r[\"_source\"][\"indlaesningsTidspunkt\"],\n",
    "            offentliggoerelsesTidspunkt=r[\"_source\"][\"offentliggoerelsesTidspunkt\"],\n",
    "            offentliggoerelsestype=r[\"_source\"][\"offentliggoerelsestype\"],\n",
    "            omgoerelse=r[\"_source\"][\"omgoerelse\"],\n",
    "            regNummer=r[\"_source\"][\"regNummer\"],\n",
    "            regnskabsperiode_startDato=r[\"_source\"][\"regnskab\"][\"regnskabsperiode\"][\"startDato\"],\n",
    "            regnskabsperiode_slutDato=r[\"_source\"][\"regnskab\"][\"regnskabsperiode\"][\"slutDato\"],\n",
    "            sagsNummer=r[\"_source\"][\"sagsNummer\"],\n",
    "            sidstOpdateret=r[\"_source\"][\"sidstOpdateret\"],\n",
    "        )\n",
    "        for doc in r[\"_source\"][\"dokumenter\"]:\n",
    "            t = {\"application/xhtml+xml\": \"html\", \"application/pdf\": \"pdf\",\n",
    "                 \"application/xml\": \"xml\"}.get(doc[\"dokumentMimeType\"])\n",
    "            if t is not None:\n",
    "                if doc[\"dokumentType\"] == \"AARSRAPPORT\":\n",
    "                    d[f\"AARSRAPPORT_{t}\"] = doc[\"dokumentUrl\"]\n",
    "        df = df.append(d, ignore_index=True)\n",
    "    return df\n",
    "\n",
    "\n",
    "@first_command(ns=NS)\n",
    "def register(day=\"TODAY\", size=2999):\n",
    "    \"\"\"Get public register as dataframe.\n",
    "    Uses offentliggoerelser_raw to fetch the data and register2df to convert the data afterwards.\n",
    "\n",
    "    Arguments:\n",
    "    day -- date string in YYYYMMDD format\n",
    "    size -- size argument in the query\n",
    "    \"\"\"\n",
    "    return evaluate(f\"ns-{NS}/offentliggoerelser_raw-{day}-{size}/register2df\").get()\n",
    "\n",
    "\n",
    "@first_command(ns=NS)\n",
    "def cvr(cvr, ext=\"xml\", day=\"TODAY\", size=2999):\n",
    "    \"\"\"\n",
    "    Get the document for a specified CVR number.\n",
    "    Document has to be found in an index (obtained by the 'index' function taking day and size parameters).\n",
    "    Multiple formats of document are supported by VIRK, format is specified by 'ext' (xml by default).\n",
    "    \"\"\"\n",
    "    df = register(day=day, size=size)\n",
    "    url = list(df.loc[df.cvrNummer.map(str) == str(cvr), f\"AARSRAPPORT_{ext}\"])\n",
    "    if len(url):\n",
    "        try:\n",
    "            return requests.get(url[0]).text\n",
    "        except:\n",
    "            import traceback\n",
    "            traceback.print_exc()\n",
    "            return \"\"\n",
    "    else:\n",
    "        return \"\"\n",
    "\n",
    "\n",
    "@command(ns=NS, volatile=True)\n",
    "def tojson(xml):\n",
    "    \"\"\"Convert XML document with financial statements to JSON\"\"\"\n",
    "    from xmljson import yahoo\n",
    "    from lxml import etree\n",
    "    try:\n",
    "        root = etree.fromstring(xml.encode(\"utf-8\"))\n",
    "    except:\n",
    "        return {}\n",
    "    for elem in root.getiterator():\n",
    "        try:\n",
    "            tag = etree.QName(elem.tag)\n",
    "        except:\n",
    "            traceback.print_exc()\n",
    "            continue\n",
    "        elem.tag = tag.localname\n",
    "        d = {}\n",
    "        for key, value in elem.attrib.items():\n",
    "            nkey = etree.QName(key).localname\n",
    "            d[nkey] = value\n",
    "            del elem.attrib[key]\n",
    "        elem.attrib.update(d)\n",
    "\n",
    "    d = yahoo.data(root)\n",
    "    return d[\"xbrl\"]\n",
    "\n",
    "\n",
    "@command(ns=NS, volatile=True)\n",
    "def json2df(doc, keep_multiline_values=False, init=None):\n",
    "    \"\"\"Convert JSON document with financial statements to DataFrame\n",
    "\n",
    "    Arguments:\n",
    "    keep_multiline_values -- if True, arguments with multiline strings are kept\n",
    "    init -- parameter for internal use\n",
    "    \"\"\"\n",
    "    if not isinstance(init, dict):\n",
    "        init = {}\n",
    "    df = pd.DataFrame(columns=[\"entity\", \"start_date\", \"end_date\", \"context\"])\n",
    "    context = {c[\"id\"]: c for c in doc.get(\"context\", [])}\n",
    "    cdates = []\n",
    "    for c in doc.get(\"context\", []):\n",
    "        period = c.get(\"period\", {})\n",
    "        cid = c[\"id\"]\n",
    "        if \"instant\" in period:\n",
    "            cdates.append((period[\"instant\"], period[\"instant\"], cid))\n",
    "        elif \"startDate\" in period and \"endDate\" in period:\n",
    "            cdates.append((period[\"startDate\"], period[\"endDate\"], cid))\n",
    "        else:\n",
    "            raise Exception(\"Context without known dates\")\n",
    "\n",
    "    cdates = sorted(cdates)\n",
    "\n",
    "    cols = sorted(key for key in doc.keys() if key not in [\"context\", \"unit\"])\n",
    "    for start, end, identifier in cdates:\n",
    "        c = context[identifier]\n",
    "        entity = c[\"entity\"][\"identifier\"][\"content\"]\n",
    "        d = dict(init, start_date=start, end_date=end,\n",
    "                 entity=entity, context=identifier)\n",
    "        for key in cols:\n",
    "            keydata = doc[key]\n",
    "            if isinstance(keydata, list):\n",
    "                row = [r for r in keydata if r[\"contextRef\"] == identifier]\n",
    "#                if len(row) > 1:\n",
    "#                    print(\n",
    "#                        f\"Warning: multiple context entries for {entity} {key}, context:{identifier}\")\n",
    "                if len(row):\n",
    "                    keydata = row[0]\n",
    "                else:\n",
    "                    keydata = None\n",
    "            if keydata is not None:\n",
    "                if isinstance(keydata, dict) and \"content\" in keydata:\n",
    "                    use = keep_multiline_values or \"\\n\" not in keydata[\"content\"]\n",
    "                    if use:\n",
    "                        value = keydata[\"content\"]\n",
    "                        try:\n",
    "                            value = float(value)\n",
    "                            if int(value) == value:\n",
    "                                value = int(value)\n",
    "                        except:\n",
    "                            pass\n",
    "                        d[key] = value\n",
    "        df = df.append(d, ignore_index=True)\n",
    "    return df\n",
    "\n",
    "\n",
    "@first_command(ns=NS)\n",
    "def cvrdf(cvr, keep_multiline_values=False, day=\"TODAY\", size=2999):\n",
    "    \"\"\"\n",
    "    Get the document for a specified CVR number as DataFrame.\n",
    "    Document has to be found in an index (obtained by the 'index' function taking day and size parameters).\n",
    "    If keep_multiline_values is True, arguments with multiline strings are kept, otherwise they are removed (default).\n",
    "    \"\"\"\n",
    "    register_df = register(day=day, size=size)\n",
    "    register_df = register_df.loc[register_df.cvrNummer.map(\n",
    "        str) == str(cvr), :]\n",
    "    df = pd.DataFrame()\n",
    "    for index, row in register_df.iterrows():\n",
    "        cvr = str(row.cvrNummer)\n",
    "        doc = evaluate(f\"ns-{NS}/cvr-{cvr}-xml-{day}-{size}/tojson\").get()\n",
    "        cvr_df = json2df(\n",
    "            doc, keep_multiline_values=keep_multiline_values, init=dict(row))\n",
    "        df = df.append(cvr_df, ignore_index=True)\n",
    "    return df"
   ]
  },
  {
   "cell_type": "code",
   "execution_count": 2,
   "metadata": {},
   "outputs": [],
   "source": [
    "import liquer.ext.basic\n",
    "import liquer.ext.lq_pandas\n",
    "from datetime import datetime\n",
    "from tqdm import tqdm_notebook\n",
    "import warnings, sys, os\n",
    "from liquer.cache import FileCache, set_cache\n",
    "set_cache(FileCache(\"cache\"))\n",
    "\n"
   ]
  },
  {
   "cell_type": "code",
   "execution_count": 3,
   "metadata": {},
   "outputs": [],
   "source": [
    "def find_common_attributes(start_date, end_date):\n",
    "    # Define the dates we are interested in\n",
    "    dates = [date.strftime('%Y%m%d') for date in pd.date_range(start=start_date, end=end_date)] \n",
    "\n",
    "    attributes = []\n",
    "    for date in tqdm_notebook(dates): # Loop over the dates and get the cvr of each update for that day\n",
    "        register_df2 = register(date)\n",
    "        cvrs = register_df2.cvrNummer  \n",
    "        print(f'Number of cvr numbers in current iteration: {len(cvrs)}')\n",
    "        for cvr_num in tqdm_notebook(cvrs):             # Find the attributes of that specific company and store it\n",
    "            attributes.append(set(cvrdf(str(cvr_num), day=date).columns))\n",
    "\n",
    "    return set.intersection(*attributes)"
   ]
  },
  {
   "cell_type": "code",
   "execution_count": 4,
   "metadata": {},
   "outputs": [],
   "source": [
    "def find_all_attributes(start_date, end_date):\n",
    "    # Define the dates we are interested in\n",
    "    dates = [date.strftime('%Y%m%d') for date in pd.date_range(start=start_date, end=end_date)] \n",
    "\n",
    "    attributes = []\n",
    "    for date in tqdm_notebook(dates): # Loop over the dates and get the cvr of each update for that day\n",
    "        register_df2 = register(date)\n",
    "        cvrs = register_df2.cvrNummer  \n",
    "        print(f'Number of cvr numbers in current iteration: {len(cvrs)}')\n",
    "        for cvr_num in tqdm_notebook(cvrs):             # Find the attributes of that specific company and store it\n",
    "            attributes.append(set(cvrdf(str(cvr_num), day=date).columns))\n",
    "\n",
    "    return set.union(*attributes)"
   ]
  },
  {
   "cell_type": "code",
   "execution_count": 5,
   "metadata": {},
   "outputs": [],
   "source": [
    "def download_files(start_date, end_date, found_cvrs=set()):\n",
    "    # Define the dates we are interested in\n",
    "    dates = [date.strftime('%Y%m%d') for date in pd.date_range(start=start_date, end=end_date)] \n",
    "    skipped_cvrs = []\n",
    "    cvr_set = found_cvrs\n",
    "    print(type(cvr_set))\n",
    "    for date in tqdm_notebook(dates): # Loop over the dates and get the cvr of each update for that day\n",
    "        register_df2 = register(date)\n",
    "        cvrs = register_df2.cvrNummer    \n",
    "        print(f'Number of cvr numbers in current iteration: {len(cvrs)}')\n",
    "        for cvr_num in tqdm_notebook(cvrs):             # Find the attributes of that specific company and store it\n",
    "            if cvr_num in cvr_set:\n",
    "                continue\n",
    "            else:\n",
    "                try:\n",
    "                    cvrdf(str(cvr_num), day=date).to_csv(path_or_buf='New_data/' + str(cvr_num) + '.csv')\n",
    "                except:\n",
    "                    skipped_cvrs.append(cvr_num)\n",
    "                    continue\n",
    "        cvr_set.update(set(cvrs))\n",
    "    return skipped_cvrs"
   ]
  },
  {
   "cell_type": "code",
   "execution_count": 6,
   "metadata": {},
   "outputs": [
    {
     "data": {
      "application/vnd.jupyter.widget-view+json": {
       "model_id": "29c7234d75b242e7b3e1f1caf481b74a",
       "version_major": 2,
       "version_minor": 0
      },
      "text/plain": [
       "HBox(children=(IntProgress(value=0, max=1), HTML(value='')))"
      ]
     },
     "metadata": {},
     "output_type": "display_data"
    },
    {
     "name": "stdout",
     "output_type": "stream",
     "text": [
      "Number of cvr numbers in current iteration: 159\n"
     ]
    },
    {
     "data": {
      "application/vnd.jupyter.widget-view+json": {
       "model_id": "45ad219503f3465aab7d3d5111a11a8a",
       "version_major": 2,
       "version_minor": 0
      },
      "text/plain": [
       "HBox(children=(IntProgress(value=0, max=159), HTML(value='')))"
      ]
     },
     "metadata": {},
     "output_type": "display_data"
    },
    {
     "name": "stderr",
     "output_type": "stream",
     "text": [
      "Traceback (most recent call last):\n",
      "  File \"<ipython-input-1-d648b050eb9b>\", line 152, in tojson\n",
      "    tag = etree.QName(elem.tag)\n",
      "  File \"src/lxml/etree.pyx\", line 1835, in lxml.etree.QName.__init__\n",
      "  File \"src/lxml/apihelpers.pxi\", line 1680, in lxml.etree._tagValidOrRaise\n",
      "ValueError: Invalid tag name '<cyfunction Comment at 0x000001DB73381C80>'\n",
      "Traceback (most recent call last):\n",
      "  File \"<ipython-input-1-d648b050eb9b>\", line 152, in tojson\n",
      "    tag = etree.QName(elem.tag)\n",
      "  File \"src/lxml/etree.pyx\", line 1835, in lxml.etree.QName.__init__\n",
      "  File \"src/lxml/apihelpers.pxi\", line 1680, in lxml.etree._tagValidOrRaise\n",
      "ValueError: Invalid tag name '<cyfunction Comment at 0x000001DB73381C80>'\n",
      "Traceback (most recent call last):\n",
      "  File \"<ipython-input-1-d648b050eb9b>\", line 152, in tojson\n",
      "    tag = etree.QName(elem.tag)\n",
      "  File \"src/lxml/etree.pyx\", line 1835, in lxml.etree.QName.__init__\n",
      "  File \"src/lxml/apihelpers.pxi\", line 1680, in lxml.etree._tagValidOrRaise\n",
      "ValueError: Invalid tag name '<cyfunction Comment at 0x000001DB73381C80>'\n",
      "Traceback (most recent call last):\n",
      "  File \"<ipython-input-1-d648b050eb9b>\", line 152, in tojson\n",
      "    tag = etree.QName(elem.tag)\n",
      "  File \"src/lxml/etree.pyx\", line 1835, in lxml.etree.QName.__init__\n",
      "  File \"src/lxml/apihelpers.pxi\", line 1680, in lxml.etree._tagValidOrRaise\n",
      "ValueError: Invalid tag name '<cyfunction Comment at 0x000001DB73381C80>'\n",
      "Traceback (most recent call last):\n",
      "  File \"<ipython-input-1-d648b050eb9b>\", line 152, in tojson\n",
      "    tag = etree.QName(elem.tag)\n",
      "  File \"src/lxml/etree.pyx\", line 1835, in lxml.etree.QName.__init__\n",
      "  File \"src/lxml/apihelpers.pxi\", line 1680, in lxml.etree._tagValidOrRaise\n",
      "ValueError: Invalid tag name '<cyfunction Comment at 0x000001DB73381C80>'\n",
      "Traceback (most recent call last):\n",
      "  File \"<ipython-input-1-d648b050eb9b>\", line 152, in tojson\n",
      "    tag = etree.QName(elem.tag)\n",
      "  File \"src/lxml/etree.pyx\", line 1835, in lxml.etree.QName.__init__\n",
      "  File \"src/lxml/apihelpers.pxi\", line 1680, in lxml.etree._tagValidOrRaise\n",
      "ValueError: Invalid tag name '<cyfunction Comment at 0x000001DB73381C80>'\n",
      "Traceback (most recent call last):\n",
      "  File \"<ipython-input-1-d648b050eb9b>\", line 152, in tojson\n",
      "    tag = etree.QName(elem.tag)\n",
      "  File \"src/lxml/etree.pyx\", line 1835, in lxml.etree.QName.__init__\n",
      "  File \"src/lxml/apihelpers.pxi\", line 1680, in lxml.etree._tagValidOrRaise\n",
      "ValueError: Invalid tag name '<cyfunction Comment at 0x000001DB73381C80>'\n",
      "Traceback (most recent call last):\n",
      "  File \"<ipython-input-1-d648b050eb9b>\", line 152, in tojson\n",
      "    tag = etree.QName(elem.tag)\n",
      "  File \"src/lxml/etree.pyx\", line 1835, in lxml.etree.QName.__init__\n",
      "  File \"src/lxml/apihelpers.pxi\", line 1680, in lxml.etree._tagValidOrRaise\n",
      "ValueError: Invalid tag name '<cyfunction Comment at 0x000001DB73381C80>'\n",
      "Traceback (most recent call last):\n",
      "  File \"<ipython-input-1-d648b050eb9b>\", line 152, in tojson\n",
      "    tag = etree.QName(elem.tag)\n",
      "  File \"src/lxml/etree.pyx\", line 1835, in lxml.etree.QName.__init__\n",
      "  File \"src/lxml/apihelpers.pxi\", line 1680, in lxml.etree._tagValidOrRaise\n",
      "ValueError: Invalid tag name '<cyfunction Comment at 0x000001DB73381C80>'\n",
      "Traceback (most recent call last):\n",
      "  File \"<ipython-input-1-d648b050eb9b>\", line 152, in tojson\n",
      "    tag = etree.QName(elem.tag)\n",
      "  File \"src/lxml/etree.pyx\", line 1835, in lxml.etree.QName.__init__\n",
      "  File \"src/lxml/apihelpers.pxi\", line 1680, in lxml.etree._tagValidOrRaise\n",
      "ValueError: Invalid tag name '<cyfunction Comment at 0x000001DB73381C80>'\n",
      "Traceback (most recent call last):\n",
      "  File \"<ipython-input-1-d648b050eb9b>\", line 152, in tojson\n",
      "    tag = etree.QName(elem.tag)\n",
      "  File \"src/lxml/etree.pyx\", line 1835, in lxml.etree.QName.__init__\n",
      "  File \"src/lxml/apihelpers.pxi\", line 1680, in lxml.etree._tagValidOrRaise\n",
      "ValueError: Invalid tag name '<cyfunction Comment at 0x000001DB73381C80>'\n",
      "Traceback (most recent call last):\n",
      "  File \"<ipython-input-1-d648b050eb9b>\", line 152, in tojson\n",
      "    tag = etree.QName(elem.tag)\n",
      "  File \"src/lxml/etree.pyx\", line 1835, in lxml.etree.QName.__init__\n",
      "  File \"src/lxml/apihelpers.pxi\", line 1680, in lxml.etree._tagValidOrRaise\n",
      "ValueError: Invalid tag name '<cyfunction Comment at 0x000001DB73381C80>'\n",
      "Traceback (most recent call last):\n",
      "  File \"<ipython-input-1-d648b050eb9b>\", line 152, in tojson\n",
      "    tag = etree.QName(elem.tag)\n",
      "  File \"src/lxml/etree.pyx\", line 1835, in lxml.etree.QName.__init__\n",
      "  File \"src/lxml/apihelpers.pxi\", line 1680, in lxml.etree._tagValidOrRaise\n",
      "ValueError: Invalid tag name '<cyfunction Comment at 0x000001DB73381C80>'\n",
      "Traceback (most recent call last):\n",
      "  File \"<ipython-input-1-d648b050eb9b>\", line 152, in tojson\n",
      "    tag = etree.QName(elem.tag)\n",
      "  File \"src/lxml/etree.pyx\", line 1835, in lxml.etree.QName.__init__\n",
      "  File \"src/lxml/apihelpers.pxi\", line 1680, in lxml.etree._tagValidOrRaise\n",
      "ValueError: Invalid tag name '<cyfunction Comment at 0x000001DB73381C80>'\n",
      "Traceback (most recent call last):\n",
      "  File \"<ipython-input-1-d648b050eb9b>\", line 152, in tojson\n",
      "    tag = etree.QName(elem.tag)\n",
      "  File \"src/lxml/etree.pyx\", line 1835, in lxml.etree.QName.__init__\n",
      "  File \"src/lxml/apihelpers.pxi\", line 1680, in lxml.etree._tagValidOrRaise\n",
      "ValueError: Invalid tag name '<cyfunction Comment at 0x000001DB73381C80>'\n",
      "Traceback (most recent call last):\n",
      "  File \"<ipython-input-1-d648b050eb9b>\", line 152, in tojson\n",
      "    tag = etree.QName(elem.tag)\n",
      "  File \"src/lxml/etree.pyx\", line 1835, in lxml.etree.QName.__init__\n",
      "  File \"src/lxml/apihelpers.pxi\", line 1680, in lxml.etree._tagValidOrRaise\n",
      "ValueError: Invalid tag name '<cyfunction Comment at 0x000001DB73381C80>'\n",
      "Traceback (most recent call last):\n",
      "  File \"<ipython-input-1-d648b050eb9b>\", line 152, in tojson\n",
      "    tag = etree.QName(elem.tag)\n",
      "  File \"src/lxml/etree.pyx\", line 1835, in lxml.etree.QName.__init__\n",
      "  File \"src/lxml/apihelpers.pxi\", line 1680, in lxml.etree._tagValidOrRaise\n",
      "ValueError: Invalid tag name '<cyfunction Comment at 0x000001DB73381C80>'\n",
      "Traceback (most recent call last):\n",
      "  File \"<ipython-input-1-d648b050eb9b>\", line 152, in tojson\n",
      "    tag = etree.QName(elem.tag)\n",
      "  File \"src/lxml/etree.pyx\", line 1835, in lxml.etree.QName.__init__\n",
      "  File \"src/lxml/apihelpers.pxi\", line 1680, in lxml.etree._tagValidOrRaise\n",
      "ValueError: Invalid tag name '<cyfunction Comment at 0x000001DB73381C80>'\n",
      "Traceback (most recent call last):\n",
      "  File \"<ipython-input-1-d648b050eb9b>\", line 152, in tojson\n",
      "    tag = etree.QName(elem.tag)\n",
      "  File \"src/lxml/etree.pyx\", line 1835, in lxml.etree.QName.__init__\n",
      "  File \"src/lxml/apihelpers.pxi\", line 1680, in lxml.etree._tagValidOrRaise\n",
      "ValueError: Invalid tag name '<cyfunction Comment at 0x000001DB73381C80>'\n",
      "Traceback (most recent call last):\n",
      "  File \"<ipython-input-1-d648b050eb9b>\", line 152, in tojson\n",
      "    tag = etree.QName(elem.tag)\n",
      "  File \"src/lxml/etree.pyx\", line 1835, in lxml.etree.QName.__init__\n",
      "  File \"src/lxml/apihelpers.pxi\", line 1680, in lxml.etree._tagValidOrRaise\n",
      "ValueError: Invalid tag name '<cyfunction Comment at 0x000001DB73381C80>'\n",
      "Traceback (most recent call last):\n",
      "  File \"<ipython-input-1-d648b050eb9b>\", line 152, in tojson\n",
      "    tag = etree.QName(elem.tag)\n",
      "  File \"src/lxml/etree.pyx\", line 1835, in lxml.etree.QName.__init__\n",
      "  File \"src/lxml/apihelpers.pxi\", line 1680, in lxml.etree._tagValidOrRaise\n",
      "ValueError: Invalid tag name '<cyfunction Comment at 0x000001DB73381C80>'\n",
      "Traceback (most recent call last):\n",
      "  File \"<ipython-input-1-d648b050eb9b>\", line 152, in tojson\n",
      "    tag = etree.QName(elem.tag)\n",
      "  File \"src/lxml/etree.pyx\", line 1835, in lxml.etree.QName.__init__\n",
      "  File \"src/lxml/apihelpers.pxi\", line 1680, in lxml.etree._tagValidOrRaise\n",
      "ValueError: Invalid tag name '<cyfunction Comment at 0x000001DB73381C80>'\n",
      "Traceback (most recent call last):\n",
      "  File \"<ipython-input-1-d648b050eb9b>\", line 152, in tojson\n",
      "    tag = etree.QName(elem.tag)\n",
      "  File \"src/lxml/etree.pyx\", line 1835, in lxml.etree.QName.__init__\n",
      "  File \"src/lxml/apihelpers.pxi\", line 1680, in lxml.etree._tagValidOrRaise\n",
      "ValueError: Invalid tag name '<cyfunction Comment at 0x000001DB73381C80>'\n",
      "Traceback (most recent call last):\n",
      "  File \"<ipython-input-1-d648b050eb9b>\", line 152, in tojson\n",
      "    tag = etree.QName(elem.tag)\n",
      "  File \"src/lxml/etree.pyx\", line 1835, in lxml.etree.QName.__init__\n",
      "  File \"src/lxml/apihelpers.pxi\", line 1680, in lxml.etree._tagValidOrRaise\n"
     ]
    },
    {
     "name": "stderr",
     "output_type": "stream",
     "text": [
      "ValueError: Invalid tag name '<cyfunction Comment at 0x000001DB73381C80>'\n",
      "Traceback (most recent call last):\n",
      "  File \"<ipython-input-1-d648b050eb9b>\", line 152, in tojson\n",
      "    tag = etree.QName(elem.tag)\n",
      "  File \"src/lxml/etree.pyx\", line 1835, in lxml.etree.QName.__init__\n",
      "  File \"src/lxml/apihelpers.pxi\", line 1680, in lxml.etree._tagValidOrRaise\n",
      "ValueError: Invalid tag name '<cyfunction Comment at 0x000001DB73381C80>'\n",
      "Traceback (most recent call last):\n",
      "  File \"<ipython-input-1-d648b050eb9b>\", line 152, in tojson\n",
      "    tag = etree.QName(elem.tag)\n",
      "  File \"src/lxml/etree.pyx\", line 1835, in lxml.etree.QName.__init__\n",
      "  File \"src/lxml/apihelpers.pxi\", line 1680, in lxml.etree._tagValidOrRaise\n",
      "ValueError: Invalid tag name '<cyfunction Comment at 0x000001DB73381C80>'\n",
      "Traceback (most recent call last):\n",
      "  File \"<ipython-input-1-d648b050eb9b>\", line 152, in tojson\n",
      "    tag = etree.QName(elem.tag)\n",
      "  File \"src/lxml/etree.pyx\", line 1835, in lxml.etree.QName.__init__\n",
      "  File \"src/lxml/apihelpers.pxi\", line 1680, in lxml.etree._tagValidOrRaise\n",
      "ValueError: Invalid tag name '<cyfunction Comment at 0x000001DB73381C80>'\n",
      "Traceback (most recent call last):\n",
      "  File \"<ipython-input-1-d648b050eb9b>\", line 152, in tojson\n",
      "    tag = etree.QName(elem.tag)\n",
      "  File \"src/lxml/etree.pyx\", line 1835, in lxml.etree.QName.__init__\n",
      "  File \"src/lxml/apihelpers.pxi\", line 1680, in lxml.etree._tagValidOrRaise\n",
      "ValueError: Invalid tag name '<cyfunction Comment at 0x000001DB73381C80>'\n",
      "Traceback (most recent call last):\n",
      "  File \"<ipython-input-1-d648b050eb9b>\", line 152, in tojson\n",
      "    tag = etree.QName(elem.tag)\n",
      "  File \"src/lxml/etree.pyx\", line 1835, in lxml.etree.QName.__init__\n",
      "  File \"src/lxml/apihelpers.pxi\", line 1680, in lxml.etree._tagValidOrRaise\n",
      "ValueError: Invalid tag name '<cyfunction Comment at 0x000001DB73381C80>'\n",
      "Traceback (most recent call last):\n",
      "  File \"<ipython-input-1-d648b050eb9b>\", line 152, in tojson\n",
      "    tag = etree.QName(elem.tag)\n",
      "  File \"src/lxml/etree.pyx\", line 1835, in lxml.etree.QName.__init__\n",
      "  File \"src/lxml/apihelpers.pxi\", line 1680, in lxml.etree._tagValidOrRaise\n",
      "ValueError: Invalid tag name '<cyfunction Comment at 0x000001DB73381C80>'\n",
      "Traceback (most recent call last):\n",
      "  File \"<ipython-input-1-d648b050eb9b>\", line 152, in tojson\n",
      "    tag = etree.QName(elem.tag)\n",
      "  File \"src/lxml/etree.pyx\", line 1835, in lxml.etree.QName.__init__\n",
      "  File \"src/lxml/apihelpers.pxi\", line 1680, in lxml.etree._tagValidOrRaise\n",
      "ValueError: Invalid tag name '<cyfunction Comment at 0x000001DB73381C80>'\n",
      "Traceback (most recent call last):\n",
      "  File \"<ipython-input-1-d648b050eb9b>\", line 152, in tojson\n",
      "    tag = etree.QName(elem.tag)\n",
      "  File \"src/lxml/etree.pyx\", line 1835, in lxml.etree.QName.__init__\n",
      "  File \"src/lxml/apihelpers.pxi\", line 1680, in lxml.etree._tagValidOrRaise\n",
      "ValueError: Invalid tag name '<cyfunction Comment at 0x000001DB73381C80>'\n",
      "Traceback (most recent call last):\n",
      "  File \"<ipython-input-1-d648b050eb9b>\", line 152, in tojson\n",
      "    tag = etree.QName(elem.tag)\n",
      "  File \"src/lxml/etree.pyx\", line 1835, in lxml.etree.QName.__init__\n",
      "  File \"src/lxml/apihelpers.pxi\", line 1680, in lxml.etree._tagValidOrRaise\n",
      "ValueError: Invalid tag name '<cyfunction Comment at 0x000001DB73381C80>'\n",
      "Traceback (most recent call last):\n",
      "  File \"<ipython-input-1-d648b050eb9b>\", line 152, in tojson\n",
      "    tag = etree.QName(elem.tag)\n",
      "  File \"src/lxml/etree.pyx\", line 1835, in lxml.etree.QName.__init__\n",
      "  File \"src/lxml/apihelpers.pxi\", line 1680, in lxml.etree._tagValidOrRaise\n",
      "ValueError: Invalid tag name '<cyfunction Comment at 0x000001DB73381C80>'\n",
      "Traceback (most recent call last):\n",
      "  File \"<ipython-input-1-d648b050eb9b>\", line 152, in tojson\n",
      "    tag = etree.QName(elem.tag)\n",
      "  File \"src/lxml/etree.pyx\", line 1835, in lxml.etree.QName.__init__\n",
      "  File \"src/lxml/apihelpers.pxi\", line 1680, in lxml.etree._tagValidOrRaise\n",
      "ValueError: Invalid tag name '<cyfunction Comment at 0x000001DB73381C80>'\n",
      "Traceback (most recent call last):\n",
      "  File \"<ipython-input-1-d648b050eb9b>\", line 152, in tojson\n",
      "    tag = etree.QName(elem.tag)\n",
      "  File \"src/lxml/etree.pyx\", line 1835, in lxml.etree.QName.__init__\n",
      "  File \"src/lxml/apihelpers.pxi\", line 1680, in lxml.etree._tagValidOrRaise\n",
      "ValueError: Invalid tag name '<cyfunction Comment at 0x000001DB73381C80>'\n",
      "Traceback (most recent call last):\n",
      "  File \"<ipython-input-1-d648b050eb9b>\", line 152, in tojson\n",
      "    tag = etree.QName(elem.tag)\n",
      "  File \"src/lxml/etree.pyx\", line 1835, in lxml.etree.QName.__init__\n",
      "  File \"src/lxml/apihelpers.pxi\", line 1680, in lxml.etree._tagValidOrRaise\n",
      "ValueError: Invalid tag name '<cyfunction Comment at 0x000001DB73381C80>'\n",
      "Traceback (most recent call last):\n",
      "  File \"<ipython-input-1-d648b050eb9b>\", line 152, in tojson\n",
      "    tag = etree.QName(elem.tag)\n",
      "  File \"src/lxml/etree.pyx\", line 1835, in lxml.etree.QName.__init__\n",
      "  File \"src/lxml/apihelpers.pxi\", line 1680, in lxml.etree._tagValidOrRaise\n",
      "ValueError: Invalid tag name '<cyfunction Comment at 0x000001DB73381C80>'\n",
      "Traceback (most recent call last):\n",
      "  File \"<ipython-input-1-d648b050eb9b>\", line 152, in tojson\n",
      "    tag = etree.QName(elem.tag)\n",
      "  File \"src/lxml/etree.pyx\", line 1835, in lxml.etree.QName.__init__\n",
      "  File \"src/lxml/apihelpers.pxi\", line 1680, in lxml.etree._tagValidOrRaise\n",
      "ValueError: Invalid tag name '<cyfunction Comment at 0x000001DB73381C80>'\n",
      "Traceback (most recent call last):\n",
      "  File \"<ipython-input-1-d648b050eb9b>\", line 152, in tojson\n",
      "    tag = etree.QName(elem.tag)\n",
      "  File \"src/lxml/etree.pyx\", line 1835, in lxml.etree.QName.__init__\n",
      "  File \"src/lxml/apihelpers.pxi\", line 1680, in lxml.etree._tagValidOrRaise\n",
      "ValueError: Invalid tag name '<cyfunction Comment at 0x000001DB73381C80>'\n",
      "Traceback (most recent call last):\n",
      "  File \"<ipython-input-1-d648b050eb9b>\", line 152, in tojson\n",
      "    tag = etree.QName(elem.tag)\n",
      "  File \"src/lxml/etree.pyx\", line 1835, in lxml.etree.QName.__init__\n",
      "  File \"src/lxml/apihelpers.pxi\", line 1680, in lxml.etree._tagValidOrRaise\n",
      "ValueError: Invalid tag name '<cyfunction Comment at 0x000001DB73381C80>'\n",
      "Traceback (most recent call last):\n",
      "  File \"<ipython-input-1-d648b050eb9b>\", line 152, in tojson\n",
      "    tag = etree.QName(elem.tag)\n",
      "  File \"src/lxml/etree.pyx\", line 1835, in lxml.etree.QName.__init__\n",
      "  File \"src/lxml/apihelpers.pxi\", line 1680, in lxml.etree._tagValidOrRaise\n",
      "ValueError: Invalid tag name '<cyfunction Comment at 0x000001DB73381C80>'\n",
      "Traceback (most recent call last):\n",
      "  File \"<ipython-input-1-d648b050eb9b>\", line 152, in tojson\n",
      "    tag = etree.QName(elem.tag)\n",
      "  File \"src/lxml/etree.pyx\", line 1835, in lxml.etree.QName.__init__\n",
      "  File \"src/lxml/apihelpers.pxi\", line 1680, in lxml.etree._tagValidOrRaise\n",
      "ValueError: Invalid tag name '<cyfunction Comment at 0x000001DB73381C80>'\n",
      "Traceback (most recent call last):\n",
      "  File \"<ipython-input-1-d648b050eb9b>\", line 152, in tojson\n",
      "    tag = etree.QName(elem.tag)\n",
      "  File \"src/lxml/etree.pyx\", line 1835, in lxml.etree.QName.__init__\n",
      "  File \"src/lxml/apihelpers.pxi\", line 1680, in lxml.etree._tagValidOrRaise\n",
      "ValueError: Invalid tag name '<cyfunction Comment at 0x000001DB73381C80>'\n",
      "Traceback (most recent call last):\n",
      "  File \"<ipython-input-1-d648b050eb9b>\", line 152, in tojson\n",
      "    tag = etree.QName(elem.tag)\n",
      "  File \"src/lxml/etree.pyx\", line 1835, in lxml.etree.QName.__init__\n",
      "  File \"src/lxml/apihelpers.pxi\", line 1680, in lxml.etree._tagValidOrRaise\n",
      "ValueError: Invalid tag name '<cyfunction Comment at 0x000001DB73381C80>'\n",
      "Traceback (most recent call last):\n",
      "  File \"<ipython-input-1-d648b050eb9b>\", line 152, in tojson\n",
      "    tag = etree.QName(elem.tag)\n",
      "  File \"src/lxml/etree.pyx\", line 1835, in lxml.etree.QName.__init__\n",
      "  File \"src/lxml/apihelpers.pxi\", line 1680, in lxml.etree._tagValidOrRaise\n",
      "ValueError: Invalid tag name '<cyfunction Comment at 0x000001DB73381C80>'\n",
      "Traceback (most recent call last):\n",
      "  File \"<ipython-input-1-d648b050eb9b>\", line 152, in tojson\n",
      "    tag = etree.QName(elem.tag)\n",
      "  File \"src/lxml/etree.pyx\", line 1835, in lxml.etree.QName.__init__\n",
      "  File \"src/lxml/apihelpers.pxi\", line 1680, in lxml.etree._tagValidOrRaise\n",
      "ValueError: Invalid tag name '<cyfunction Comment at 0x000001DB73381C80>'\n",
      "Traceback (most recent call last):\n",
      "  File \"<ipython-input-1-d648b050eb9b>\", line 152, in tojson\n",
      "    tag = etree.QName(elem.tag)\n",
      "  File \"src/lxml/etree.pyx\", line 1835, in lxml.etree.QName.__init__\n"
     ]
    },
    {
     "name": "stderr",
     "output_type": "stream",
     "text": [
      "  File \"src/lxml/apihelpers.pxi\", line 1680, in lxml.etree._tagValidOrRaise\n",
      "ValueError: Invalid tag name '<cyfunction Comment at 0x000001DB73381C80>'\n",
      "Traceback (most recent call last):\n",
      "  File \"<ipython-input-1-d648b050eb9b>\", line 152, in tojson\n",
      "    tag = etree.QName(elem.tag)\n",
      "  File \"src/lxml/etree.pyx\", line 1835, in lxml.etree.QName.__init__\n",
      "  File \"src/lxml/apihelpers.pxi\", line 1680, in lxml.etree._tagValidOrRaise\n",
      "ValueError: Invalid tag name '<cyfunction Comment at 0x000001DB73381C80>'\n",
      "Traceback (most recent call last):\n",
      "  File \"<ipython-input-1-d648b050eb9b>\", line 152, in tojson\n",
      "    tag = etree.QName(elem.tag)\n",
      "  File \"src/lxml/etree.pyx\", line 1835, in lxml.etree.QName.__init__\n",
      "  File \"src/lxml/apihelpers.pxi\", line 1680, in lxml.etree._tagValidOrRaise\n",
      "ValueError: Invalid tag name '<cyfunction Comment at 0x000001DB73381C80>'\n",
      "Traceback (most recent call last):\n",
      "  File \"<ipython-input-1-d648b050eb9b>\", line 152, in tojson\n",
      "    tag = etree.QName(elem.tag)\n",
      "  File \"src/lxml/etree.pyx\", line 1835, in lxml.etree.QName.__init__\n",
      "  File \"src/lxml/apihelpers.pxi\", line 1680, in lxml.etree._tagValidOrRaise\n",
      "ValueError: Invalid tag name '<cyfunction Comment at 0x000001DB73381C80>'\n",
      "Traceback (most recent call last):\n",
      "  File \"<ipython-input-1-d648b050eb9b>\", line 152, in tojson\n",
      "    tag = etree.QName(elem.tag)\n",
      "  File \"src/lxml/etree.pyx\", line 1835, in lxml.etree.QName.__init__\n",
      "  File \"src/lxml/apihelpers.pxi\", line 1680, in lxml.etree._tagValidOrRaise\n",
      "ValueError: Invalid tag name '<cyfunction Comment at 0x000001DB73381C80>'\n",
      "Traceback (most recent call last):\n",
      "  File \"<ipython-input-1-d648b050eb9b>\", line 152, in tojson\n",
      "    tag = etree.QName(elem.tag)\n",
      "  File \"src/lxml/etree.pyx\", line 1835, in lxml.etree.QName.__init__\n",
      "  File \"src/lxml/apihelpers.pxi\", line 1680, in lxml.etree._tagValidOrRaise\n",
      "ValueError: Invalid tag name '<cyfunction Comment at 0x000001DB73381C80>'\n",
      "Traceback (most recent call last):\n",
      "  File \"<ipython-input-1-d648b050eb9b>\", line 152, in tojson\n",
      "    tag = etree.QName(elem.tag)\n",
      "  File \"src/lxml/etree.pyx\", line 1835, in lxml.etree.QName.__init__\n",
      "  File \"src/lxml/apihelpers.pxi\", line 1680, in lxml.etree._tagValidOrRaise\n",
      "ValueError: Invalid tag name '<cyfunction Comment at 0x000001DB73381C80>'\n",
      "Traceback (most recent call last):\n",
      "  File \"<ipython-input-1-d648b050eb9b>\", line 152, in tojson\n",
      "    tag = etree.QName(elem.tag)\n",
      "  File \"src/lxml/etree.pyx\", line 1835, in lxml.etree.QName.__init__\n",
      "  File \"src/lxml/apihelpers.pxi\", line 1680, in lxml.etree._tagValidOrRaise\n",
      "ValueError: Invalid tag name '<cyfunction Comment at 0x000001DB73381C80>'\n",
      "Traceback (most recent call last):\n",
      "  File \"<ipython-input-1-d648b050eb9b>\", line 152, in tojson\n",
      "    tag = etree.QName(elem.tag)\n",
      "  File \"src/lxml/etree.pyx\", line 1835, in lxml.etree.QName.__init__\n",
      "  File \"src/lxml/apihelpers.pxi\", line 1680, in lxml.etree._tagValidOrRaise\n",
      "ValueError: Invalid tag name '<cyfunction Comment at 0x000001DB73381C80>'\n",
      "Traceback (most recent call last):\n",
      "  File \"<ipython-input-1-d648b050eb9b>\", line 152, in tojson\n",
      "    tag = etree.QName(elem.tag)\n",
      "  File \"src/lxml/etree.pyx\", line 1835, in lxml.etree.QName.__init__\n",
      "  File \"src/lxml/apihelpers.pxi\", line 1680, in lxml.etree._tagValidOrRaise\n",
      "ValueError: Invalid tag name '<cyfunction Comment at 0x000001DB73381C80>'\n",
      "Traceback (most recent call last):\n",
      "  File \"<ipython-input-1-d648b050eb9b>\", line 152, in tojson\n",
      "    tag = etree.QName(elem.tag)\n",
      "  File \"src/lxml/etree.pyx\", line 1835, in lxml.etree.QName.__init__\n",
      "  File \"src/lxml/apihelpers.pxi\", line 1680, in lxml.etree._tagValidOrRaise\n",
      "ValueError: Invalid tag name '<cyfunction Comment at 0x000001DB73381C80>'\n",
      "Traceback (most recent call last):\n",
      "  File \"<ipython-input-1-d648b050eb9b>\", line 152, in tojson\n",
      "    tag = etree.QName(elem.tag)\n",
      "  File \"src/lxml/etree.pyx\", line 1835, in lxml.etree.QName.__init__\n",
      "  File \"src/lxml/apihelpers.pxi\", line 1680, in lxml.etree._tagValidOrRaise\n",
      "ValueError: Invalid tag name '<cyfunction Comment at 0x000001DB73381C80>'\n",
      "Traceback (most recent call last):\n",
      "  File \"<ipython-input-1-d648b050eb9b>\", line 152, in tojson\n",
      "    tag = etree.QName(elem.tag)\n",
      "  File \"src/lxml/etree.pyx\", line 1835, in lxml.etree.QName.__init__\n",
      "  File \"src/lxml/apihelpers.pxi\", line 1680, in lxml.etree._tagValidOrRaise\n",
      "ValueError: Invalid tag name '<cyfunction Comment at 0x000001DB73381C80>'\n",
      "Traceback (most recent call last):\n",
      "  File \"<ipython-input-1-d648b050eb9b>\", line 152, in tojson\n",
      "    tag = etree.QName(elem.tag)\n",
      "  File \"src/lxml/etree.pyx\", line 1835, in lxml.etree.QName.__init__\n",
      "  File \"src/lxml/apihelpers.pxi\", line 1680, in lxml.etree._tagValidOrRaise\n",
      "ValueError: Invalid tag name '<cyfunction Comment at 0x000001DB73381C80>'\n",
      "Traceback (most recent call last):\n",
      "  File \"<ipython-input-1-d648b050eb9b>\", line 152, in tojson\n",
      "    tag = etree.QName(elem.tag)\n",
      "  File \"src/lxml/etree.pyx\", line 1835, in lxml.etree.QName.__init__\n",
      "  File \"src/lxml/apihelpers.pxi\", line 1680, in lxml.etree._tagValidOrRaise\n",
      "ValueError: Invalid tag name '<cyfunction Comment at 0x000001DB73381C80>'\n",
      "Traceback (most recent call last):\n",
      "  File \"<ipython-input-1-d648b050eb9b>\", line 152, in tojson\n",
      "    tag = etree.QName(elem.tag)\n",
      "  File \"src/lxml/etree.pyx\", line 1835, in lxml.etree.QName.__init__\n",
      "  File \"src/lxml/apihelpers.pxi\", line 1680, in lxml.etree._tagValidOrRaise\n",
      "ValueError: Invalid tag name '<cyfunction Comment at 0x000001DB73381C80>'\n",
      "Traceback (most recent call last):\n",
      "  File \"<ipython-input-1-d648b050eb9b>\", line 152, in tojson\n",
      "    tag = etree.QName(elem.tag)\n",
      "  File \"src/lxml/etree.pyx\", line 1835, in lxml.etree.QName.__init__\n",
      "  File \"src/lxml/apihelpers.pxi\", line 1680, in lxml.etree._tagValidOrRaise\n",
      "ValueError: Invalid tag name '<cyfunction Comment at 0x000001DB73381C80>'\n",
      "Traceback (most recent call last):\n",
      "  File \"<ipython-input-1-d648b050eb9b>\", line 152, in tojson\n",
      "    tag = etree.QName(elem.tag)\n",
      "  File \"src/lxml/etree.pyx\", line 1835, in lxml.etree.QName.__init__\n",
      "  File \"src/lxml/apihelpers.pxi\", line 1680, in lxml.etree._tagValidOrRaise\n",
      "ValueError: Invalid tag name '<cyfunction Comment at 0x000001DB73381C80>'\n",
      "Traceback (most recent call last):\n",
      "  File \"<ipython-input-1-d648b050eb9b>\", line 152, in tojson\n",
      "    tag = etree.QName(elem.tag)\n",
      "  File \"src/lxml/etree.pyx\", line 1835, in lxml.etree.QName.__init__\n",
      "  File \"src/lxml/apihelpers.pxi\", line 1680, in lxml.etree._tagValidOrRaise\n",
      "ValueError: Invalid tag name '<cyfunction Comment at 0x000001DB73381C80>'\n",
      "Traceback (most recent call last):\n",
      "  File \"<ipython-input-1-d648b050eb9b>\", line 152, in tojson\n",
      "    tag = etree.QName(elem.tag)\n",
      "  File \"src/lxml/etree.pyx\", line 1835, in lxml.etree.QName.__init__\n",
      "  File \"src/lxml/apihelpers.pxi\", line 1680, in lxml.etree._tagValidOrRaise\n",
      "ValueError: Invalid tag name '<cyfunction Comment at 0x000001DB73381C80>'\n",
      "Traceback (most recent call last):\n",
      "  File \"<ipython-input-1-d648b050eb9b>\", line 152, in tojson\n",
      "    tag = etree.QName(elem.tag)\n",
      "  File \"src/lxml/etree.pyx\", line 1835, in lxml.etree.QName.__init__\n",
      "  File \"src/lxml/apihelpers.pxi\", line 1680, in lxml.etree._tagValidOrRaise\n",
      "ValueError: Invalid tag name '<cyfunction Comment at 0x000001DB73381C80>'\n",
      "Traceback (most recent call last):\n",
      "  File \"<ipython-input-1-d648b050eb9b>\", line 152, in tojson\n",
      "    tag = etree.QName(elem.tag)\n",
      "  File \"src/lxml/etree.pyx\", line 1835, in lxml.etree.QName.__init__\n",
      "  File \"src/lxml/apihelpers.pxi\", line 1680, in lxml.etree._tagValidOrRaise\n",
      "ValueError: Invalid tag name '<cyfunction Comment at 0x000001DB73381C80>'\n",
      "Traceback (most recent call last):\n",
      "  File \"<ipython-input-1-d648b050eb9b>\", line 152, in tojson\n",
      "    tag = etree.QName(elem.tag)\n",
      "  File \"src/lxml/etree.pyx\", line 1835, in lxml.etree.QName.__init__\n",
      "  File \"src/lxml/apihelpers.pxi\", line 1680, in lxml.etree._tagValidOrRaise\n",
      "ValueError: Invalid tag name '<cyfunction Comment at 0x000001DB73381C80>'\n",
      "Traceback (most recent call last):\n",
      "  File \"<ipython-input-1-d648b050eb9b>\", line 152, in tojson\n",
      "    tag = etree.QName(elem.tag)\n",
      "  File \"src/lxml/etree.pyx\", line 1835, in lxml.etree.QName.__init__\n",
      "  File \"src/lxml/apihelpers.pxi\", line 1680, in lxml.etree._tagValidOrRaise\n",
      "ValueError: Invalid tag name '<cyfunction Comment at 0x000001DB73381C80>'\n",
      "Traceback (most recent call last):\n",
      "  File \"<ipython-input-1-d648b050eb9b>\", line 152, in tojson\n",
      "    tag = etree.QName(elem.tag)\n"
     ]
    },
    {
     "name": "stderr",
     "output_type": "stream",
     "text": [
      "  File \"src/lxml/etree.pyx\", line 1835, in lxml.etree.QName.__init__\n",
      "  File \"src/lxml/apihelpers.pxi\", line 1680, in lxml.etree._tagValidOrRaise\n",
      "ValueError: Invalid tag name '<cyfunction Comment at 0x000001DB73381C80>'\n",
      "Traceback (most recent call last):\n",
      "  File \"<ipython-input-1-d648b050eb9b>\", line 152, in tojson\n",
      "    tag = etree.QName(elem.tag)\n",
      "  File \"src/lxml/etree.pyx\", line 1835, in lxml.etree.QName.__init__\n",
      "  File \"src/lxml/apihelpers.pxi\", line 1680, in lxml.etree._tagValidOrRaise\n",
      "ValueError: Invalid tag name '<cyfunction Comment at 0x000001DB73381C80>'\n",
      "Traceback (most recent call last):\n",
      "  File \"<ipython-input-1-d648b050eb9b>\", line 152, in tojson\n",
      "    tag = etree.QName(elem.tag)\n",
      "  File \"src/lxml/etree.pyx\", line 1835, in lxml.etree.QName.__init__\n",
      "  File \"src/lxml/apihelpers.pxi\", line 1680, in lxml.etree._tagValidOrRaise\n",
      "ValueError: Invalid tag name '<cyfunction Comment at 0x000001DB73381C80>'\n",
      "Traceback (most recent call last):\n",
      "  File \"<ipython-input-1-d648b050eb9b>\", line 152, in tojson\n",
      "    tag = etree.QName(elem.tag)\n",
      "  File \"src/lxml/etree.pyx\", line 1835, in lxml.etree.QName.__init__\n",
      "  File \"src/lxml/apihelpers.pxi\", line 1680, in lxml.etree._tagValidOrRaise\n",
      "ValueError: Invalid tag name '<cyfunction Comment at 0x000001DB73381C80>'\n",
      "Traceback (most recent call last):\n",
      "  File \"<ipython-input-1-d648b050eb9b>\", line 152, in tojson\n",
      "    tag = etree.QName(elem.tag)\n",
      "  File \"src/lxml/etree.pyx\", line 1835, in lxml.etree.QName.__init__\n",
      "  File \"src/lxml/apihelpers.pxi\", line 1680, in lxml.etree._tagValidOrRaise\n",
      "ValueError: Invalid tag name '<cyfunction Comment at 0x000001DB73381C80>'\n",
      "Traceback (most recent call last):\n",
      "  File \"<ipython-input-1-d648b050eb9b>\", line 152, in tojson\n",
      "    tag = etree.QName(elem.tag)\n",
      "  File \"src/lxml/etree.pyx\", line 1835, in lxml.etree.QName.__init__\n",
      "  File \"src/lxml/apihelpers.pxi\", line 1680, in lxml.etree._tagValidOrRaise\n",
      "ValueError: Invalid tag name '<cyfunction Comment at 0x000001DB73381C80>'\n",
      "Traceback (most recent call last):\n",
      "  File \"<ipython-input-1-d648b050eb9b>\", line 152, in tojson\n",
      "    tag = etree.QName(elem.tag)\n",
      "  File \"src/lxml/etree.pyx\", line 1835, in lxml.etree.QName.__init__\n",
      "  File \"src/lxml/apihelpers.pxi\", line 1680, in lxml.etree._tagValidOrRaise\n",
      "ValueError: Invalid tag name '<cyfunction Comment at 0x000001DB73381C80>'\n",
      "Traceback (most recent call last):\n",
      "  File \"<ipython-input-1-d648b050eb9b>\", line 152, in tojson\n",
      "    tag = etree.QName(elem.tag)\n",
      "  File \"src/lxml/etree.pyx\", line 1835, in lxml.etree.QName.__init__\n",
      "  File \"src/lxml/apihelpers.pxi\", line 1680, in lxml.etree._tagValidOrRaise\n",
      "ValueError: Invalid tag name '<cyfunction Comment at 0x000001DB73381C80>'\n",
      "Traceback (most recent call last):\n",
      "  File \"<ipython-input-1-d648b050eb9b>\", line 152, in tojson\n",
      "    tag = etree.QName(elem.tag)\n",
      "  File \"src/lxml/etree.pyx\", line 1835, in lxml.etree.QName.__init__\n",
      "  File \"src/lxml/apihelpers.pxi\", line 1680, in lxml.etree._tagValidOrRaise\n",
      "ValueError: Invalid tag name '<cyfunction Comment at 0x000001DB73381C80>'\n",
      "Traceback (most recent call last):\n",
      "  File \"<ipython-input-1-d648b050eb9b>\", line 152, in tojson\n",
      "    tag = etree.QName(elem.tag)\n",
      "  File \"src/lxml/etree.pyx\", line 1835, in lxml.etree.QName.__init__\n",
      "  File \"src/lxml/apihelpers.pxi\", line 1680, in lxml.etree._tagValidOrRaise\n",
      "ValueError: Invalid tag name '<cyfunction Comment at 0x000001DB73381C80>'\n",
      "Traceback (most recent call last):\n",
      "  File \"<ipython-input-1-d648b050eb9b>\", line 152, in tojson\n",
      "    tag = etree.QName(elem.tag)\n",
      "  File \"src/lxml/etree.pyx\", line 1835, in lxml.etree.QName.__init__\n",
      "  File \"src/lxml/apihelpers.pxi\", line 1680, in lxml.etree._tagValidOrRaise\n",
      "ValueError: Invalid tag name '<cyfunction Comment at 0x000001DB73381C80>'\n",
      "Traceback (most recent call last):\n",
      "  File \"<ipython-input-1-d648b050eb9b>\", line 152, in tojson\n",
      "    tag = etree.QName(elem.tag)\n",
      "  File \"src/lxml/etree.pyx\", line 1835, in lxml.etree.QName.__init__\n",
      "  File \"src/lxml/apihelpers.pxi\", line 1680, in lxml.etree._tagValidOrRaise\n",
      "ValueError: Invalid tag name '<cyfunction Comment at 0x000001DB73381C80>'\n",
      "Traceback (most recent call last):\n",
      "  File \"<ipython-input-1-d648b050eb9b>\", line 152, in tojson\n",
      "    tag = etree.QName(elem.tag)\n",
      "  File \"src/lxml/etree.pyx\", line 1835, in lxml.etree.QName.__init__\n",
      "  File \"src/lxml/apihelpers.pxi\", line 1680, in lxml.etree._tagValidOrRaise\n",
      "ValueError: Invalid tag name '<cyfunction Comment at 0x000001DB73381C80>'\n",
      "Traceback (most recent call last):\n",
      "  File \"<ipython-input-1-d648b050eb9b>\", line 152, in tojson\n",
      "    tag = etree.QName(elem.tag)\n",
      "  File \"src/lxml/etree.pyx\", line 1835, in lxml.etree.QName.__init__\n",
      "  File \"src/lxml/apihelpers.pxi\", line 1680, in lxml.etree._tagValidOrRaise\n",
      "ValueError: Invalid tag name '<cyfunction Comment at 0x000001DB73381C80>'\n",
      "Traceback (most recent call last):\n",
      "  File \"<ipython-input-1-d648b050eb9b>\", line 152, in tojson\n",
      "    tag = etree.QName(elem.tag)\n",
      "  File \"src/lxml/etree.pyx\", line 1835, in lxml.etree.QName.__init__\n",
      "  File \"src/lxml/apihelpers.pxi\", line 1680, in lxml.etree._tagValidOrRaise\n",
      "ValueError: Invalid tag name '<cyfunction Comment at 0x000001DB73381C80>'\n",
      "Traceback (most recent call last):\n",
      "  File \"<ipython-input-1-d648b050eb9b>\", line 152, in tojson\n",
      "    tag = etree.QName(elem.tag)\n",
      "  File \"src/lxml/etree.pyx\", line 1835, in lxml.etree.QName.__init__\n",
      "  File \"src/lxml/apihelpers.pxi\", line 1680, in lxml.etree._tagValidOrRaise\n",
      "ValueError: Invalid tag name '<cyfunction Comment at 0x000001DB73381C80>'\n",
      "Traceback (most recent call last):\n",
      "  File \"<ipython-input-1-d648b050eb9b>\", line 152, in tojson\n",
      "    tag = etree.QName(elem.tag)\n",
      "  File \"src/lxml/etree.pyx\", line 1835, in lxml.etree.QName.__init__\n",
      "  File \"src/lxml/apihelpers.pxi\", line 1680, in lxml.etree._tagValidOrRaise\n",
      "ValueError: Invalid tag name '<cyfunction Comment at 0x000001DB73381C80>'\n",
      "Traceback (most recent call last):\n",
      "  File \"<ipython-input-1-d648b050eb9b>\", line 152, in tojson\n",
      "    tag = etree.QName(elem.tag)\n",
      "  File \"src/lxml/etree.pyx\", line 1835, in lxml.etree.QName.__init__\n",
      "  File \"src/lxml/apihelpers.pxi\", line 1680, in lxml.etree._tagValidOrRaise\n",
      "ValueError: Invalid tag name '<cyfunction Comment at 0x000001DB73381C80>'\n",
      "Traceback (most recent call last):\n",
      "  File \"<ipython-input-1-d648b050eb9b>\", line 152, in tojson\n",
      "    tag = etree.QName(elem.tag)\n",
      "  File \"src/lxml/etree.pyx\", line 1835, in lxml.etree.QName.__init__\n",
      "  File \"src/lxml/apihelpers.pxi\", line 1680, in lxml.etree._tagValidOrRaise\n",
      "ValueError: Invalid tag name '<cyfunction Comment at 0x000001DB73381C80>'\n",
      "Traceback (most recent call last):\n",
      "  File \"<ipython-input-1-d648b050eb9b>\", line 152, in tojson\n",
      "    tag = etree.QName(elem.tag)\n",
      "  File \"src/lxml/etree.pyx\", line 1835, in lxml.etree.QName.__init__\n",
      "  File \"src/lxml/apihelpers.pxi\", line 1680, in lxml.etree._tagValidOrRaise\n",
      "ValueError: Invalid tag name '<cyfunction Comment at 0x000001DB73381C80>'\n",
      "Traceback (most recent call last):\n",
      "  File \"<ipython-input-1-d648b050eb9b>\", line 152, in tojson\n",
      "    tag = etree.QName(elem.tag)\n",
      "  File \"src/lxml/etree.pyx\", line 1835, in lxml.etree.QName.__init__\n",
      "  File \"src/lxml/apihelpers.pxi\", line 1680, in lxml.etree._tagValidOrRaise\n",
      "ValueError: Invalid tag name '<cyfunction Comment at 0x000001DB73381C80>'\n",
      "Traceback (most recent call last):\n",
      "  File \"<ipython-input-1-d648b050eb9b>\", line 152, in tojson\n",
      "    tag = etree.QName(elem.tag)\n",
      "  File \"src/lxml/etree.pyx\", line 1835, in lxml.etree.QName.__init__\n",
      "  File \"src/lxml/apihelpers.pxi\", line 1680, in lxml.etree._tagValidOrRaise\n",
      "ValueError: Invalid tag name '<cyfunction Comment at 0x000001DB73381C80>'\n",
      "Traceback (most recent call last):\n",
      "  File \"<ipython-input-1-d648b050eb9b>\", line 152, in tojson\n",
      "    tag = etree.QName(elem.tag)\n",
      "  File \"src/lxml/etree.pyx\", line 1835, in lxml.etree.QName.__init__\n",
      "  File \"src/lxml/apihelpers.pxi\", line 1680, in lxml.etree._tagValidOrRaise\n",
      "ValueError: Invalid tag name '<cyfunction Comment at 0x000001DB73381C80>'\n",
      "Traceback (most recent call last):\n",
      "  File \"<ipython-input-1-d648b050eb9b>\", line 152, in tojson\n",
      "    tag = etree.QName(elem.tag)\n",
      "  File \"src/lxml/etree.pyx\", line 1835, in lxml.etree.QName.__init__\n",
      "  File \"src/lxml/apihelpers.pxi\", line 1680, in lxml.etree._tagValidOrRaise\n",
      "ValueError: Invalid tag name '<cyfunction Comment at 0x000001DB73381C80>'\n"
     ]
    },
    {
     "name": "stderr",
     "output_type": "stream",
     "text": [
      "Traceback (most recent call last):\n",
      "  File \"<ipython-input-1-d648b050eb9b>\", line 152, in tojson\n",
      "    tag = etree.QName(elem.tag)\n",
      "  File \"src/lxml/etree.pyx\", line 1835, in lxml.etree.QName.__init__\n",
      "  File \"src/lxml/apihelpers.pxi\", line 1680, in lxml.etree._tagValidOrRaise\n",
      "ValueError: Invalid tag name '<cyfunction Comment at 0x000001DB73381C80>'\n",
      "Traceback (most recent call last):\n",
      "  File \"<ipython-input-1-d648b050eb9b>\", line 152, in tojson\n",
      "    tag = etree.QName(elem.tag)\n",
      "  File \"src/lxml/etree.pyx\", line 1835, in lxml.etree.QName.__init__\n",
      "  File \"src/lxml/apihelpers.pxi\", line 1680, in lxml.etree._tagValidOrRaise\n",
      "ValueError: Invalid tag name '<cyfunction Comment at 0x000001DB73381C80>'\n",
      "Traceback (most recent call last):\n",
      "  File \"<ipython-input-1-d648b050eb9b>\", line 152, in tojson\n",
      "    tag = etree.QName(elem.tag)\n",
      "  File \"src/lxml/etree.pyx\", line 1835, in lxml.etree.QName.__init__\n",
      "  File \"src/lxml/apihelpers.pxi\", line 1680, in lxml.etree._tagValidOrRaise\n",
      "ValueError: Invalid tag name '<cyfunction Comment at 0x000001DB73381C80>'\n",
      "Traceback (most recent call last):\n",
      "  File \"<ipython-input-1-d648b050eb9b>\", line 152, in tojson\n",
      "    tag = etree.QName(elem.tag)\n",
      "  File \"src/lxml/etree.pyx\", line 1835, in lxml.etree.QName.__init__\n",
      "  File \"src/lxml/apihelpers.pxi\", line 1680, in lxml.etree._tagValidOrRaise\n",
      "ValueError: Invalid tag name '<cyfunction Comment at 0x000001DB73381C80>'\n",
      "Traceback (most recent call last):\n",
      "  File \"<ipython-input-1-d648b050eb9b>\", line 152, in tojson\n",
      "    tag = etree.QName(elem.tag)\n",
      "  File \"src/lxml/etree.pyx\", line 1835, in lxml.etree.QName.__init__\n",
      "  File \"src/lxml/apihelpers.pxi\", line 1680, in lxml.etree._tagValidOrRaise\n",
      "ValueError: Invalid tag name '<cyfunction Comment at 0x000001DB73381C80>'\n",
      "Traceback (most recent call last):\n",
      "  File \"<ipython-input-1-d648b050eb9b>\", line 152, in tojson\n",
      "    tag = etree.QName(elem.tag)\n",
      "  File \"src/lxml/etree.pyx\", line 1835, in lxml.etree.QName.__init__\n",
      "  File \"src/lxml/apihelpers.pxi\", line 1680, in lxml.etree._tagValidOrRaise\n",
      "ValueError: Invalid tag name '<cyfunction Comment at 0x000001DB73381C80>'\n",
      "Traceback (most recent call last):\n",
      "  File \"<ipython-input-1-d648b050eb9b>\", line 152, in tojson\n",
      "    tag = etree.QName(elem.tag)\n",
      "  File \"src/lxml/etree.pyx\", line 1835, in lxml.etree.QName.__init__\n",
      "  File \"src/lxml/apihelpers.pxi\", line 1680, in lxml.etree._tagValidOrRaise\n",
      "ValueError: Invalid tag name '<cyfunction Comment at 0x000001DB73381C80>'\n",
      "Traceback (most recent call last):\n",
      "  File \"<ipython-input-1-d648b050eb9b>\", line 152, in tojson\n",
      "    tag = etree.QName(elem.tag)\n",
      "  File \"src/lxml/etree.pyx\", line 1835, in lxml.etree.QName.__init__\n",
      "  File \"src/lxml/apihelpers.pxi\", line 1680, in lxml.etree._tagValidOrRaise\n",
      "ValueError: Invalid tag name '<cyfunction Comment at 0x000001DB73381C80>'\n",
      "Traceback (most recent call last):\n",
      "  File \"<ipython-input-1-d648b050eb9b>\", line 152, in tojson\n",
      "    tag = etree.QName(elem.tag)\n",
      "  File \"src/lxml/etree.pyx\", line 1835, in lxml.etree.QName.__init__\n",
      "  File \"src/lxml/apihelpers.pxi\", line 1680, in lxml.etree._tagValidOrRaise\n",
      "ValueError: Invalid tag name '<cyfunction Comment at 0x000001DB73381C80>'\n",
      "Traceback (most recent call last):\n",
      "  File \"<ipython-input-1-d648b050eb9b>\", line 152, in tojson\n",
      "    tag = etree.QName(elem.tag)\n",
      "  File \"src/lxml/etree.pyx\", line 1835, in lxml.etree.QName.__init__\n",
      "  File \"src/lxml/apihelpers.pxi\", line 1680, in lxml.etree._tagValidOrRaise\n",
      "ValueError: Invalid tag name '<cyfunction Comment at 0x000001DB73381C80>'\n",
      "Traceback (most recent call last):\n",
      "  File \"<ipython-input-1-d648b050eb9b>\", line 152, in tojson\n",
      "    tag = etree.QName(elem.tag)\n",
      "  File \"src/lxml/etree.pyx\", line 1835, in lxml.etree.QName.__init__\n",
      "  File \"src/lxml/apihelpers.pxi\", line 1680, in lxml.etree._tagValidOrRaise\n",
      "ValueError: Invalid tag name '<cyfunction Comment at 0x000001DB73381C80>'\n",
      "Traceback (most recent call last):\n",
      "  File \"<ipython-input-1-d648b050eb9b>\", line 152, in tojson\n",
      "    tag = etree.QName(elem.tag)\n",
      "  File \"src/lxml/etree.pyx\", line 1835, in lxml.etree.QName.__init__\n",
      "  File \"src/lxml/apihelpers.pxi\", line 1680, in lxml.etree._tagValidOrRaise\n",
      "ValueError: Invalid tag name '<cyfunction Comment at 0x000001DB73381C80>'\n",
      "Traceback (most recent call last):\n",
      "  File \"<ipython-input-1-d648b050eb9b>\", line 152, in tojson\n",
      "    tag = etree.QName(elem.tag)\n",
      "  File \"src/lxml/etree.pyx\", line 1835, in lxml.etree.QName.__init__\n",
      "  File \"src/lxml/apihelpers.pxi\", line 1680, in lxml.etree._tagValidOrRaise\n",
      "ValueError: Invalid tag name '<cyfunction Comment at 0x000001DB73381C80>'\n",
      "Traceback (most recent call last):\n",
      "  File \"<ipython-input-1-d648b050eb9b>\", line 152, in tojson\n",
      "    tag = etree.QName(elem.tag)\n",
      "  File \"src/lxml/etree.pyx\", line 1835, in lxml.etree.QName.__init__\n",
      "  File \"src/lxml/apihelpers.pxi\", line 1680, in lxml.etree._tagValidOrRaise\n",
      "ValueError: Invalid tag name '<cyfunction Comment at 0x000001DB73381C80>'\n",
      "Traceback (most recent call last):\n",
      "  File \"<ipython-input-1-d648b050eb9b>\", line 152, in tojson\n",
      "    tag = etree.QName(elem.tag)\n",
      "  File \"src/lxml/etree.pyx\", line 1835, in lxml.etree.QName.__init__\n",
      "  File \"src/lxml/apihelpers.pxi\", line 1680, in lxml.etree._tagValidOrRaise\n",
      "ValueError: Invalid tag name '<cyfunction Comment at 0x000001DB73381C80>'\n",
      "Traceback (most recent call last):\n",
      "  File \"<ipython-input-1-d648b050eb9b>\", line 152, in tojson\n",
      "    tag = etree.QName(elem.tag)\n",
      "  File \"src/lxml/etree.pyx\", line 1835, in lxml.etree.QName.__init__\n",
      "  File \"src/lxml/apihelpers.pxi\", line 1680, in lxml.etree._tagValidOrRaise\n",
      "ValueError: Invalid tag name '<cyfunction Comment at 0x000001DB73381C80>'\n",
      "Traceback (most recent call last):\n",
      "  File \"<ipython-input-1-d648b050eb9b>\", line 152, in tojson\n",
      "    tag = etree.QName(elem.tag)\n",
      "  File \"src/lxml/etree.pyx\", line 1835, in lxml.etree.QName.__init__\n",
      "  File \"src/lxml/apihelpers.pxi\", line 1680, in lxml.etree._tagValidOrRaise\n",
      "ValueError: Invalid tag name '<cyfunction Comment at 0x000001DB73381C80>'\n",
      "Traceback (most recent call last):\n",
      "  File \"<ipython-input-1-d648b050eb9b>\", line 152, in tojson\n",
      "    tag = etree.QName(elem.tag)\n",
      "  File \"src/lxml/etree.pyx\", line 1835, in lxml.etree.QName.__init__\n",
      "  File \"src/lxml/apihelpers.pxi\", line 1680, in lxml.etree._tagValidOrRaise\n",
      "ValueError: Invalid tag name '<cyfunction Comment at 0x000001DB73381C80>'\n",
      "Traceback (most recent call last):\n",
      "  File \"<ipython-input-1-d648b050eb9b>\", line 152, in tojson\n",
      "    tag = etree.QName(elem.tag)\n",
      "  File \"src/lxml/etree.pyx\", line 1835, in lxml.etree.QName.__init__\n",
      "  File \"src/lxml/apihelpers.pxi\", line 1680, in lxml.etree._tagValidOrRaise\n",
      "ValueError: Invalid tag name '<cyfunction Comment at 0x000001DB73381C80>'\n",
      "Traceback (most recent call last):\n",
      "  File \"<ipython-input-1-d648b050eb9b>\", line 152, in tojson\n",
      "    tag = etree.QName(elem.tag)\n",
      "  File \"src/lxml/etree.pyx\", line 1835, in lxml.etree.QName.__init__\n",
      "  File \"src/lxml/apihelpers.pxi\", line 1680, in lxml.etree._tagValidOrRaise\n",
      "ValueError: Invalid tag name '<cyfunction Comment at 0x000001DB73381C80>'\n",
      "Traceback (most recent call last):\n",
      "  File \"<ipython-input-1-d648b050eb9b>\", line 152, in tojson\n",
      "    tag = etree.QName(elem.tag)\n",
      "  File \"src/lxml/etree.pyx\", line 1835, in lxml.etree.QName.__init__\n",
      "  File \"src/lxml/apihelpers.pxi\", line 1680, in lxml.etree._tagValidOrRaise\n",
      "ValueError: Invalid tag name '<cyfunction Comment at 0x000001DB73381C80>'\n",
      "Traceback (most recent call last):\n",
      "  File \"<ipython-input-1-d648b050eb9b>\", line 152, in tojson\n",
      "    tag = etree.QName(elem.tag)\n",
      "  File \"src/lxml/etree.pyx\", line 1835, in lxml.etree.QName.__init__\n",
      "  File \"src/lxml/apihelpers.pxi\", line 1680, in lxml.etree._tagValidOrRaise\n",
      "ValueError: Invalid tag name '<cyfunction Comment at 0x000001DB73381C80>'\n",
      "Traceback (most recent call last):\n",
      "  File \"<ipython-input-1-d648b050eb9b>\", line 152, in tojson\n",
      "    tag = etree.QName(elem.tag)\n",
      "  File \"src/lxml/etree.pyx\", line 1835, in lxml.etree.QName.__init__\n",
      "  File \"src/lxml/apihelpers.pxi\", line 1680, in lxml.etree._tagValidOrRaise\n",
      "ValueError: Invalid tag name '<cyfunction Comment at 0x000001DB73381C80>'\n",
      "Traceback (most recent call last):\n",
      "  File \"<ipython-input-1-d648b050eb9b>\", line 152, in tojson\n",
      "    tag = etree.QName(elem.tag)\n",
      "  File \"src/lxml/etree.pyx\", line 1835, in lxml.etree.QName.__init__\n",
      "  File \"src/lxml/apihelpers.pxi\", line 1680, in lxml.etree._tagValidOrRaise\n"
     ]
    },
    {
     "name": "stderr",
     "output_type": "stream",
     "text": [
      "ValueError: Invalid tag name '<cyfunction Comment at 0x000001DB73381C80>'\n",
      "Traceback (most recent call last):\n",
      "  File \"<ipython-input-1-d648b050eb9b>\", line 152, in tojson\n",
      "    tag = etree.QName(elem.tag)\n",
      "  File \"src/lxml/etree.pyx\", line 1835, in lxml.etree.QName.__init__\n",
      "  File \"src/lxml/apihelpers.pxi\", line 1680, in lxml.etree._tagValidOrRaise\n",
      "ValueError: Invalid tag name '<cyfunction Comment at 0x000001DB73381C80>'\n",
      "Traceback (most recent call last):\n",
      "  File \"<ipython-input-1-d648b050eb9b>\", line 152, in tojson\n",
      "    tag = etree.QName(elem.tag)\n",
      "  File \"src/lxml/etree.pyx\", line 1835, in lxml.etree.QName.__init__\n",
      "  File \"src/lxml/apihelpers.pxi\", line 1680, in lxml.etree._tagValidOrRaise\n",
      "ValueError: Invalid tag name '<cyfunction Comment at 0x000001DB73381C80>'\n",
      "Traceback (most recent call last):\n",
      "  File \"<ipython-input-1-d648b050eb9b>\", line 152, in tojson\n",
      "    tag = etree.QName(elem.tag)\n",
      "  File \"src/lxml/etree.pyx\", line 1835, in lxml.etree.QName.__init__\n",
      "  File \"src/lxml/apihelpers.pxi\", line 1680, in lxml.etree._tagValidOrRaise\n",
      "ValueError: Invalid tag name '<cyfunction Comment at 0x000001DB73381C80>'\n",
      "Traceback (most recent call last):\n",
      "  File \"<ipython-input-1-d648b050eb9b>\", line 152, in tojson\n",
      "    tag = etree.QName(elem.tag)\n",
      "  File \"src/lxml/etree.pyx\", line 1835, in lxml.etree.QName.__init__\n",
      "  File \"src/lxml/apihelpers.pxi\", line 1680, in lxml.etree._tagValidOrRaise\n",
      "ValueError: Invalid tag name '<cyfunction Comment at 0x000001DB73381C80>'\n",
      "Traceback (most recent call last):\n",
      "  File \"<ipython-input-1-d648b050eb9b>\", line 152, in tojson\n",
      "    tag = etree.QName(elem.tag)\n",
      "  File \"src/lxml/etree.pyx\", line 1835, in lxml.etree.QName.__init__\n",
      "  File \"src/lxml/apihelpers.pxi\", line 1680, in lxml.etree._tagValidOrRaise\n",
      "ValueError: Invalid tag name '<cyfunction Comment at 0x000001DB73381C80>'\n",
      "Traceback (most recent call last):\n",
      "  File \"<ipython-input-1-d648b050eb9b>\", line 152, in tojson\n",
      "    tag = etree.QName(elem.tag)\n",
      "  File \"src/lxml/etree.pyx\", line 1835, in lxml.etree.QName.__init__\n",
      "  File \"src/lxml/apihelpers.pxi\", line 1680, in lxml.etree._tagValidOrRaise\n",
      "ValueError: Invalid tag name '<cyfunction Comment at 0x000001DB73381C80>'\n",
      "Traceback (most recent call last):\n",
      "  File \"<ipython-input-1-d648b050eb9b>\", line 152, in tojson\n",
      "    tag = etree.QName(elem.tag)\n",
      "  File \"src/lxml/etree.pyx\", line 1835, in lxml.etree.QName.__init__\n",
      "  File \"src/lxml/apihelpers.pxi\", line 1680, in lxml.etree._tagValidOrRaise\n",
      "ValueError: Invalid tag name '<cyfunction Comment at 0x000001DB73381C80>'\n",
      "Traceback (most recent call last):\n",
      "  File \"<ipython-input-1-d648b050eb9b>\", line 152, in tojson\n",
      "    tag = etree.QName(elem.tag)\n",
      "  File \"src/lxml/etree.pyx\", line 1835, in lxml.etree.QName.__init__\n",
      "  File \"src/lxml/apihelpers.pxi\", line 1680, in lxml.etree._tagValidOrRaise\n",
      "ValueError: Invalid tag name '<cyfunction Comment at 0x000001DB73381C80>'\n",
      "Traceback (most recent call last):\n",
      "  File \"<ipython-input-1-d648b050eb9b>\", line 152, in tojson\n",
      "    tag = etree.QName(elem.tag)\n",
      "  File \"src/lxml/etree.pyx\", line 1835, in lxml.etree.QName.__init__\n",
      "  File \"src/lxml/apihelpers.pxi\", line 1680, in lxml.etree._tagValidOrRaise\n",
      "ValueError: Invalid tag name '<cyfunction Comment at 0x000001DB73381C80>'\n",
      "Traceback (most recent call last):\n",
      "  File \"<ipython-input-1-d648b050eb9b>\", line 152, in tojson\n",
      "    tag = etree.QName(elem.tag)\n",
      "  File \"src/lxml/etree.pyx\", line 1835, in lxml.etree.QName.__init__\n",
      "  File \"src/lxml/apihelpers.pxi\", line 1680, in lxml.etree._tagValidOrRaise\n",
      "ValueError: Invalid tag name '<cyfunction Comment at 0x000001DB73381C80>'\n",
      "Traceback (most recent call last):\n",
      "  File \"<ipython-input-1-d648b050eb9b>\", line 152, in tojson\n",
      "    tag = etree.QName(elem.tag)\n",
      "  File \"src/lxml/etree.pyx\", line 1835, in lxml.etree.QName.__init__\n",
      "  File \"src/lxml/apihelpers.pxi\", line 1680, in lxml.etree._tagValidOrRaise\n",
      "ValueError: Invalid tag name '<cyfunction Comment at 0x000001DB73381C80>'\n",
      "Traceback (most recent call last):\n",
      "  File \"<ipython-input-1-d648b050eb9b>\", line 152, in tojson\n",
      "    tag = etree.QName(elem.tag)\n",
      "  File \"src/lxml/etree.pyx\", line 1835, in lxml.etree.QName.__init__\n",
      "  File \"src/lxml/apihelpers.pxi\", line 1680, in lxml.etree._tagValidOrRaise\n",
      "ValueError: Invalid tag name '<cyfunction Comment at 0x000001DB73381C80>'\n",
      "Traceback (most recent call last):\n",
      "  File \"<ipython-input-1-d648b050eb9b>\", line 152, in tojson\n",
      "    tag = etree.QName(elem.tag)\n",
      "  File \"src/lxml/etree.pyx\", line 1835, in lxml.etree.QName.__init__\n",
      "  File \"src/lxml/apihelpers.pxi\", line 1680, in lxml.etree._tagValidOrRaise\n",
      "ValueError: Invalid tag name '<cyfunction Comment at 0x000001DB73381C80>'\n",
      "Traceback (most recent call last):\n",
      "  File \"<ipython-input-1-d648b050eb9b>\", line 152, in tojson\n",
      "    tag = etree.QName(elem.tag)\n",
      "  File \"src/lxml/etree.pyx\", line 1835, in lxml.etree.QName.__init__\n",
      "  File \"src/lxml/apihelpers.pxi\", line 1680, in lxml.etree._tagValidOrRaise\n",
      "ValueError: Invalid tag name '<cyfunction Comment at 0x000001DB73381C80>'\n",
      "Traceback (most recent call last):\n",
      "  File \"<ipython-input-1-d648b050eb9b>\", line 152, in tojson\n",
      "    tag = etree.QName(elem.tag)\n",
      "  File \"src/lxml/etree.pyx\", line 1835, in lxml.etree.QName.__init__\n",
      "  File \"src/lxml/apihelpers.pxi\", line 1680, in lxml.etree._tagValidOrRaise\n",
      "ValueError: Invalid tag name '<cyfunction Comment at 0x000001DB73381C80>'\n",
      "Traceback (most recent call last):\n",
      "  File \"<ipython-input-1-d648b050eb9b>\", line 152, in tojson\n",
      "    tag = etree.QName(elem.tag)\n",
      "  File \"src/lxml/etree.pyx\", line 1835, in lxml.etree.QName.__init__\n",
      "  File \"src/lxml/apihelpers.pxi\", line 1680, in lxml.etree._tagValidOrRaise\n",
      "ValueError: Invalid tag name '<cyfunction Comment at 0x000001DB73381C80>'\n",
      "Traceback (most recent call last):\n",
      "  File \"<ipython-input-1-d648b050eb9b>\", line 152, in tojson\n",
      "    tag = etree.QName(elem.tag)\n",
      "  File \"src/lxml/etree.pyx\", line 1835, in lxml.etree.QName.__init__\n",
      "  File \"src/lxml/apihelpers.pxi\", line 1680, in lxml.etree._tagValidOrRaise\n",
      "ValueError: Invalid tag name '<cyfunction Comment at 0x000001DB73381C80>'\n",
      "Traceback (most recent call last):\n",
      "  File \"<ipython-input-1-d648b050eb9b>\", line 152, in tojson\n",
      "    tag = etree.QName(elem.tag)\n",
      "  File \"src/lxml/etree.pyx\", line 1835, in lxml.etree.QName.__init__\n",
      "  File \"src/lxml/apihelpers.pxi\", line 1680, in lxml.etree._tagValidOrRaise\n",
      "ValueError: Invalid tag name '<cyfunction Comment at 0x000001DB73381C80>'\n",
      "Traceback (most recent call last):\n",
      "  File \"<ipython-input-1-d648b050eb9b>\", line 152, in tojson\n",
      "    tag = etree.QName(elem.tag)\n",
      "  File \"src/lxml/etree.pyx\", line 1835, in lxml.etree.QName.__init__\n",
      "  File \"src/lxml/apihelpers.pxi\", line 1680, in lxml.etree._tagValidOrRaise\n",
      "ValueError: Invalid tag name '<cyfunction Comment at 0x000001DB73381C80>'\n",
      "Traceback (most recent call last):\n",
      "  File \"<ipython-input-1-d648b050eb9b>\", line 152, in tojson\n",
      "    tag = etree.QName(elem.tag)\n",
      "  File \"src/lxml/etree.pyx\", line 1835, in lxml.etree.QName.__init__\n",
      "  File \"src/lxml/apihelpers.pxi\", line 1680, in lxml.etree._tagValidOrRaise\n",
      "ValueError: Invalid tag name '<cyfunction Comment at 0x000001DB73381C80>'\n",
      "Traceback (most recent call last):\n",
      "  File \"<ipython-input-1-d648b050eb9b>\", line 152, in tojson\n",
      "    tag = etree.QName(elem.tag)\n",
      "  File \"src/lxml/etree.pyx\", line 1835, in lxml.etree.QName.__init__\n",
      "  File \"src/lxml/apihelpers.pxi\", line 1680, in lxml.etree._tagValidOrRaise\n",
      "ValueError: Invalid tag name '<cyfunction Comment at 0x000001DB73381C80>'\n",
      "Traceback (most recent call last):\n",
      "  File \"<ipython-input-1-d648b050eb9b>\", line 152, in tojson\n",
      "    tag = etree.QName(elem.tag)\n",
      "  File \"src/lxml/etree.pyx\", line 1835, in lxml.etree.QName.__init__\n",
      "  File \"src/lxml/apihelpers.pxi\", line 1680, in lxml.etree._tagValidOrRaise\n",
      "ValueError: Invalid tag name '<cyfunction Comment at 0x000001DB73381C80>'\n",
      "Traceback (most recent call last):\n",
      "  File \"<ipython-input-1-d648b050eb9b>\", line 152, in tojson\n",
      "    tag = etree.QName(elem.tag)\n",
      "  File \"src/lxml/etree.pyx\", line 1835, in lxml.etree.QName.__init__\n",
      "  File \"src/lxml/apihelpers.pxi\", line 1680, in lxml.etree._tagValidOrRaise\n",
      "ValueError: Invalid tag name '<cyfunction Comment at 0x000001DB73381C80>'\n",
      "Traceback (most recent call last):\n",
      "  File \"<ipython-input-1-d648b050eb9b>\", line 152, in tojson\n",
      "    tag = etree.QName(elem.tag)\n",
      "  File \"src/lxml/etree.pyx\", line 1835, in lxml.etree.QName.__init__\n"
     ]
    },
    {
     "name": "stderr",
     "output_type": "stream",
     "text": [
      "  File \"src/lxml/apihelpers.pxi\", line 1680, in lxml.etree._tagValidOrRaise\n",
      "ValueError: Invalid tag name '<cyfunction Comment at 0x000001DB73381C80>'\n",
      "Traceback (most recent call last):\n",
      "  File \"<ipython-input-1-d648b050eb9b>\", line 152, in tojson\n",
      "    tag = etree.QName(elem.tag)\n",
      "  File \"src/lxml/etree.pyx\", line 1835, in lxml.etree.QName.__init__\n",
      "  File \"src/lxml/apihelpers.pxi\", line 1680, in lxml.etree._tagValidOrRaise\n",
      "ValueError: Invalid tag name '<cyfunction Comment at 0x000001DB73381C80>'\n",
      "Traceback (most recent call last):\n",
      "  File \"<ipython-input-1-d648b050eb9b>\", line 152, in tojson\n",
      "    tag = etree.QName(elem.tag)\n",
      "  File \"src/lxml/etree.pyx\", line 1835, in lxml.etree.QName.__init__\n",
      "  File \"src/lxml/apihelpers.pxi\", line 1680, in lxml.etree._tagValidOrRaise\n",
      "ValueError: Invalid tag name '<cyfunction Comment at 0x000001DB73381C80>'\n",
      "Traceback (most recent call last):\n",
      "  File \"<ipython-input-1-d648b050eb9b>\", line 152, in tojson\n",
      "    tag = etree.QName(elem.tag)\n",
      "  File \"src/lxml/etree.pyx\", line 1835, in lxml.etree.QName.__init__\n",
      "  File \"src/lxml/apihelpers.pxi\", line 1680, in lxml.etree._tagValidOrRaise\n",
      "ValueError: Invalid tag name '<cyfunction Comment at 0x000001DB73381C80>'\n",
      "Traceback (most recent call last):\n",
      "  File \"<ipython-input-1-d648b050eb9b>\", line 152, in tojson\n",
      "    tag = etree.QName(elem.tag)\n",
      "  File \"src/lxml/etree.pyx\", line 1835, in lxml.etree.QName.__init__\n",
      "  File \"src/lxml/apihelpers.pxi\", line 1680, in lxml.etree._tagValidOrRaise\n",
      "ValueError: Invalid tag name '<cyfunction Comment at 0x000001DB73381C80>'\n",
      "Traceback (most recent call last):\n",
      "  File \"<ipython-input-1-d648b050eb9b>\", line 152, in tojson\n",
      "    tag = etree.QName(elem.tag)\n",
      "  File \"src/lxml/etree.pyx\", line 1835, in lxml.etree.QName.__init__\n",
      "  File \"src/lxml/apihelpers.pxi\", line 1680, in lxml.etree._tagValidOrRaise\n",
      "ValueError: Invalid tag name '<cyfunction Comment at 0x000001DB73381C80>'\n",
      "Traceback (most recent call last):\n",
      "  File \"<ipython-input-1-d648b050eb9b>\", line 152, in tojson\n",
      "    tag = etree.QName(elem.tag)\n",
      "  File \"src/lxml/etree.pyx\", line 1835, in lxml.etree.QName.__init__\n",
      "  File \"src/lxml/apihelpers.pxi\", line 1680, in lxml.etree._tagValidOrRaise\n",
      "ValueError: Invalid tag name '<cyfunction Comment at 0x000001DB73381C80>'\n",
      "Traceback (most recent call last):\n",
      "  File \"<ipython-input-1-d648b050eb9b>\", line 152, in tojson\n",
      "    tag = etree.QName(elem.tag)\n",
      "  File \"src/lxml/etree.pyx\", line 1835, in lxml.etree.QName.__init__\n",
      "  File \"src/lxml/apihelpers.pxi\", line 1680, in lxml.etree._tagValidOrRaise\n",
      "ValueError: Invalid tag name '<cyfunction Comment at 0x000001DB73381C80>'\n",
      "Traceback (most recent call last):\n",
      "  File \"<ipython-input-1-d648b050eb9b>\", line 152, in tojson\n",
      "    tag = etree.QName(elem.tag)\n",
      "  File \"src/lxml/etree.pyx\", line 1835, in lxml.etree.QName.__init__\n",
      "  File \"src/lxml/apihelpers.pxi\", line 1680, in lxml.etree._tagValidOrRaise\n",
      "ValueError: Invalid tag name '<cyfunction Comment at 0x000001DB73381C80>'\n",
      "Traceback (most recent call last):\n",
      "  File \"<ipython-input-1-d648b050eb9b>\", line 152, in tojson\n",
      "    tag = etree.QName(elem.tag)\n",
      "  File \"src/lxml/etree.pyx\", line 1835, in lxml.etree.QName.__init__\n",
      "  File \"src/lxml/apihelpers.pxi\", line 1680, in lxml.etree._tagValidOrRaise\n",
      "ValueError: Invalid tag name '<cyfunction Comment at 0x000001DB73381C80>'\n",
      "Traceback (most recent call last):\n",
      "  File \"<ipython-input-1-d648b050eb9b>\", line 152, in tojson\n",
      "    tag = etree.QName(elem.tag)\n",
      "  File \"src/lxml/etree.pyx\", line 1835, in lxml.etree.QName.__init__\n",
      "  File \"src/lxml/apihelpers.pxi\", line 1680, in lxml.etree._tagValidOrRaise\n",
      "ValueError: Invalid tag name '<cyfunction Comment at 0x000001DB73381C80>'\n",
      "Traceback (most recent call last):\n",
      "  File \"<ipython-input-1-d648b050eb9b>\", line 152, in tojson\n",
      "    tag = etree.QName(elem.tag)\n",
      "  File \"src/lxml/etree.pyx\", line 1835, in lxml.etree.QName.__init__\n",
      "  File \"src/lxml/apihelpers.pxi\", line 1680, in lxml.etree._tagValidOrRaise\n",
      "ValueError: Invalid tag name '<cyfunction Comment at 0x000001DB73381C80>'\n",
      "Traceback (most recent call last):\n",
      "  File \"<ipython-input-1-d648b050eb9b>\", line 152, in tojson\n",
      "    tag = etree.QName(elem.tag)\n",
      "  File \"src/lxml/etree.pyx\", line 1835, in lxml.etree.QName.__init__\n",
      "  File \"src/lxml/apihelpers.pxi\", line 1680, in lxml.etree._tagValidOrRaise\n",
      "ValueError: Invalid tag name '<cyfunction Comment at 0x000001DB73381C80>'\n",
      "Traceback (most recent call last):\n",
      "  File \"<ipython-input-1-d648b050eb9b>\", line 152, in tojson\n",
      "    tag = etree.QName(elem.tag)\n",
      "  File \"src/lxml/etree.pyx\", line 1835, in lxml.etree.QName.__init__\n",
      "  File \"src/lxml/apihelpers.pxi\", line 1680, in lxml.etree._tagValidOrRaise\n",
      "ValueError: Invalid tag name '<cyfunction Comment at 0x000001DB73381C80>'\n",
      "Traceback (most recent call last):\n",
      "  File \"<ipython-input-1-d648b050eb9b>\", line 152, in tojson\n",
      "    tag = etree.QName(elem.tag)\n",
      "  File \"src/lxml/etree.pyx\", line 1835, in lxml.etree.QName.__init__\n",
      "  File \"src/lxml/apihelpers.pxi\", line 1680, in lxml.etree._tagValidOrRaise\n",
      "ValueError: Invalid tag name '<cyfunction Comment at 0x000001DB73381C80>'\n",
      "Traceback (most recent call last):\n",
      "  File \"<ipython-input-1-d648b050eb9b>\", line 152, in tojson\n",
      "    tag = etree.QName(elem.tag)\n",
      "  File \"src/lxml/etree.pyx\", line 1835, in lxml.etree.QName.__init__\n",
      "  File \"src/lxml/apihelpers.pxi\", line 1680, in lxml.etree._tagValidOrRaise\n",
      "ValueError: Invalid tag name '<cyfunction Comment at 0x000001DB73381C80>'\n",
      "Traceback (most recent call last):\n",
      "  File \"<ipython-input-1-d648b050eb9b>\", line 152, in tojson\n",
      "    tag = etree.QName(elem.tag)\n",
      "  File \"src/lxml/etree.pyx\", line 1835, in lxml.etree.QName.__init__\n",
      "  File \"src/lxml/apihelpers.pxi\", line 1680, in lxml.etree._tagValidOrRaise\n",
      "ValueError: Invalid tag name '<cyfunction Comment at 0x000001DB73381C80>'\n",
      "Traceback (most recent call last):\n",
      "  File \"<ipython-input-1-d648b050eb9b>\", line 152, in tojson\n",
      "    tag = etree.QName(elem.tag)\n",
      "  File \"src/lxml/etree.pyx\", line 1835, in lxml.etree.QName.__init__\n",
      "  File \"src/lxml/apihelpers.pxi\", line 1680, in lxml.etree._tagValidOrRaise\n",
      "ValueError: Invalid tag name '<cyfunction Comment at 0x000001DB73381C80>'\n",
      "Traceback (most recent call last):\n",
      "  File \"<ipython-input-1-d648b050eb9b>\", line 152, in tojson\n",
      "    tag = etree.QName(elem.tag)\n",
      "  File \"src/lxml/etree.pyx\", line 1835, in lxml.etree.QName.__init__\n",
      "  File \"src/lxml/apihelpers.pxi\", line 1680, in lxml.etree._tagValidOrRaise\n",
      "ValueError: Invalid tag name '<cyfunction Comment at 0x000001DB73381C80>'\n",
      "Traceback (most recent call last):\n",
      "  File \"<ipython-input-1-d648b050eb9b>\", line 152, in tojson\n",
      "    tag = etree.QName(elem.tag)\n",
      "  File \"src/lxml/etree.pyx\", line 1835, in lxml.etree.QName.__init__\n",
      "  File \"src/lxml/apihelpers.pxi\", line 1680, in lxml.etree._tagValidOrRaise\n",
      "ValueError: Invalid tag name '<cyfunction Comment at 0x000001DB73381C80>'\n",
      "Traceback (most recent call last):\n",
      "  File \"<ipython-input-1-d648b050eb9b>\", line 152, in tojson\n",
      "    tag = etree.QName(elem.tag)\n",
      "  File \"src/lxml/etree.pyx\", line 1835, in lxml.etree.QName.__init__\n",
      "  File \"src/lxml/apihelpers.pxi\", line 1680, in lxml.etree._tagValidOrRaise\n",
      "ValueError: Invalid tag name '<cyfunction Comment at 0x000001DB73381C80>'\n",
      "Traceback (most recent call last):\n",
      "  File \"<ipython-input-1-d648b050eb9b>\", line 152, in tojson\n",
      "    tag = etree.QName(elem.tag)\n",
      "  File \"src/lxml/etree.pyx\", line 1835, in lxml.etree.QName.__init__\n",
      "  File \"src/lxml/apihelpers.pxi\", line 1680, in lxml.etree._tagValidOrRaise\n",
      "ValueError: Invalid tag name '<cyfunction Comment at 0x000001DB73381C80>'\n",
      "Traceback (most recent call last):\n",
      "  File \"<ipython-input-1-d648b050eb9b>\", line 152, in tojson\n",
      "    tag = etree.QName(elem.tag)\n",
      "  File \"src/lxml/etree.pyx\", line 1835, in lxml.etree.QName.__init__\n",
      "  File \"src/lxml/apihelpers.pxi\", line 1680, in lxml.etree._tagValidOrRaise\n",
      "ValueError: Invalid tag name '<cyfunction Comment at 0x000001DB73381C80>'\n",
      "Traceback (most recent call last):\n",
      "  File \"<ipython-input-1-d648b050eb9b>\", line 152, in tojson\n",
      "    tag = etree.QName(elem.tag)\n",
      "  File \"src/lxml/etree.pyx\", line 1835, in lxml.etree.QName.__init__\n",
      "  File \"src/lxml/apihelpers.pxi\", line 1680, in lxml.etree._tagValidOrRaise\n",
      "ValueError: Invalid tag name '<cyfunction Comment at 0x000001DB73381C80>'\n",
      "Traceback (most recent call last):\n",
      "  File \"<ipython-input-1-d648b050eb9b>\", line 152, in tojson\n",
      "    tag = etree.QName(elem.tag)\n"
     ]
    },
    {
     "name": "stderr",
     "output_type": "stream",
     "text": [
      "  File \"src/lxml/etree.pyx\", line 1835, in lxml.etree.QName.__init__\n",
      "  File \"src/lxml/apihelpers.pxi\", line 1680, in lxml.etree._tagValidOrRaise\n",
      "ValueError: Invalid tag name '<cyfunction Comment at 0x000001DB73381C80>'\n",
      "Traceback (most recent call last):\n",
      "  File \"<ipython-input-1-d648b050eb9b>\", line 152, in tojson\n",
      "    tag = etree.QName(elem.tag)\n",
      "  File \"src/lxml/etree.pyx\", line 1835, in lxml.etree.QName.__init__\n",
      "  File \"src/lxml/apihelpers.pxi\", line 1680, in lxml.etree._tagValidOrRaise\n",
      "ValueError: Invalid tag name '<cyfunction Comment at 0x000001DB73381C80>'\n",
      "Traceback (most recent call last):\n",
      "  File \"<ipython-input-1-d648b050eb9b>\", line 152, in tojson\n",
      "    tag = etree.QName(elem.tag)\n",
      "  File \"src/lxml/etree.pyx\", line 1835, in lxml.etree.QName.__init__\n",
      "  File \"src/lxml/apihelpers.pxi\", line 1680, in lxml.etree._tagValidOrRaise\n",
      "ValueError: Invalid tag name '<cyfunction Comment at 0x000001DB73381C80>'\n",
      "Traceback (most recent call last):\n",
      "  File \"<ipython-input-1-d648b050eb9b>\", line 152, in tojson\n",
      "    tag = etree.QName(elem.tag)\n",
      "  File \"src/lxml/etree.pyx\", line 1835, in lxml.etree.QName.__init__\n",
      "  File \"src/lxml/apihelpers.pxi\", line 1680, in lxml.etree._tagValidOrRaise\n",
      "ValueError: Invalid tag name '<cyfunction Comment at 0x000001DB73381C80>'\n",
      "Traceback (most recent call last):\n",
      "  File \"<ipython-input-1-d648b050eb9b>\", line 152, in tojson\n",
      "    tag = etree.QName(elem.tag)\n",
      "  File \"src/lxml/etree.pyx\", line 1835, in lxml.etree.QName.__init__\n",
      "  File \"src/lxml/apihelpers.pxi\", line 1680, in lxml.etree._tagValidOrRaise\n",
      "ValueError: Invalid tag name '<cyfunction Comment at 0x000001DB73381C80>'\n",
      "Traceback (most recent call last):\n",
      "  File \"<ipython-input-1-d648b050eb9b>\", line 152, in tojson\n",
      "    tag = etree.QName(elem.tag)\n",
      "  File \"src/lxml/etree.pyx\", line 1835, in lxml.etree.QName.__init__\n",
      "  File \"src/lxml/apihelpers.pxi\", line 1680, in lxml.etree._tagValidOrRaise\n",
      "ValueError: Invalid tag name '<cyfunction Comment at 0x000001DB73381C80>'\n",
      "Traceback (most recent call last):\n",
      "  File \"<ipython-input-1-d648b050eb9b>\", line 152, in tojson\n",
      "    tag = etree.QName(elem.tag)\n",
      "  File \"src/lxml/etree.pyx\", line 1835, in lxml.etree.QName.__init__\n",
      "  File \"src/lxml/apihelpers.pxi\", line 1680, in lxml.etree._tagValidOrRaise\n",
      "ValueError: Invalid tag name '<cyfunction Comment at 0x000001DB73381C80>'\n",
      "Traceback (most recent call last):\n",
      "  File \"<ipython-input-1-d648b050eb9b>\", line 152, in tojson\n",
      "    tag = etree.QName(elem.tag)\n",
      "  File \"src/lxml/etree.pyx\", line 1835, in lxml.etree.QName.__init__\n",
      "  File \"src/lxml/apihelpers.pxi\", line 1680, in lxml.etree._tagValidOrRaise\n",
      "ValueError: Invalid tag name '<cyfunction Comment at 0x000001DB73381C80>'\n",
      "Traceback (most recent call last):\n",
      "  File \"<ipython-input-1-d648b050eb9b>\", line 152, in tojson\n",
      "    tag = etree.QName(elem.tag)\n",
      "  File \"src/lxml/etree.pyx\", line 1835, in lxml.etree.QName.__init__\n",
      "  File \"src/lxml/apihelpers.pxi\", line 1680, in lxml.etree._tagValidOrRaise\n",
      "ValueError: Invalid tag name '<cyfunction Comment at 0x000001DB73381C80>'\n",
      "Traceback (most recent call last):\n",
      "  File \"<ipython-input-1-d648b050eb9b>\", line 152, in tojson\n",
      "    tag = etree.QName(elem.tag)\n",
      "  File \"src/lxml/etree.pyx\", line 1835, in lxml.etree.QName.__init__\n",
      "  File \"src/lxml/apihelpers.pxi\", line 1680, in lxml.etree._tagValidOrRaise\n",
      "ValueError: Invalid tag name '<cyfunction Comment at 0x000001DB73381C80>'\n",
      "Traceback (most recent call last):\n",
      "  File \"<ipython-input-1-d648b050eb9b>\", line 152, in tojson\n",
      "    tag = etree.QName(elem.tag)\n",
      "  File \"src/lxml/etree.pyx\", line 1835, in lxml.etree.QName.__init__\n",
      "  File \"src/lxml/apihelpers.pxi\", line 1680, in lxml.etree._tagValidOrRaise\n",
      "ValueError: Invalid tag name '<cyfunction Comment at 0x000001DB73381C80>'\n",
      "Traceback (most recent call last):\n",
      "  File \"<ipython-input-1-d648b050eb9b>\", line 152, in tojson\n",
      "    tag = etree.QName(elem.tag)\n",
      "  File \"src/lxml/etree.pyx\", line 1835, in lxml.etree.QName.__init__\n",
      "  File \"src/lxml/apihelpers.pxi\", line 1680, in lxml.etree._tagValidOrRaise\n",
      "ValueError: Invalid tag name '<cyfunction Comment at 0x000001DB73381C80>'\n",
      "Traceback (most recent call last):\n",
      "  File \"<ipython-input-1-d648b050eb9b>\", line 152, in tojson\n",
      "    tag = etree.QName(elem.tag)\n",
      "  File \"src/lxml/etree.pyx\", line 1835, in lxml.etree.QName.__init__\n",
      "  File \"src/lxml/apihelpers.pxi\", line 1680, in lxml.etree._tagValidOrRaise\n",
      "ValueError: Invalid tag name '<cyfunction Comment at 0x000001DB73381C80>'\n",
      "Traceback (most recent call last):\n",
      "  File \"<ipython-input-1-d648b050eb9b>\", line 152, in tojson\n",
      "    tag = etree.QName(elem.tag)\n",
      "  File \"src/lxml/etree.pyx\", line 1835, in lxml.etree.QName.__init__\n",
      "  File \"src/lxml/apihelpers.pxi\", line 1680, in lxml.etree._tagValidOrRaise\n",
      "ValueError: Invalid tag name '<cyfunction Comment at 0x000001DB73381C80>'\n",
      "Traceback (most recent call last):\n",
      "  File \"<ipython-input-1-d648b050eb9b>\", line 152, in tojson\n",
      "    tag = etree.QName(elem.tag)\n",
      "  File \"src/lxml/etree.pyx\", line 1835, in lxml.etree.QName.__init__\n",
      "  File \"src/lxml/apihelpers.pxi\", line 1680, in lxml.etree._tagValidOrRaise\n",
      "ValueError: Invalid tag name '<cyfunction Comment at 0x000001DB73381C80>'\n",
      "Traceback (most recent call last):\n",
      "  File \"<ipython-input-1-d648b050eb9b>\", line 152, in tojson\n",
      "    tag = etree.QName(elem.tag)\n",
      "  File \"src/lxml/etree.pyx\", line 1835, in lxml.etree.QName.__init__\n",
      "  File \"src/lxml/apihelpers.pxi\", line 1680, in lxml.etree._tagValidOrRaise\n",
      "ValueError: Invalid tag name '<cyfunction Comment at 0x000001DB73381C80>'\n",
      "Traceback (most recent call last):\n",
      "  File \"<ipython-input-1-d648b050eb9b>\", line 152, in tojson\n",
      "    tag = etree.QName(elem.tag)\n",
      "  File \"src/lxml/etree.pyx\", line 1835, in lxml.etree.QName.__init__\n",
      "  File \"src/lxml/apihelpers.pxi\", line 1680, in lxml.etree._tagValidOrRaise\n",
      "ValueError: Invalid tag name '<cyfunction Comment at 0x000001DB73381C80>'\n",
      "Traceback (most recent call last):\n",
      "  File \"<ipython-input-1-d648b050eb9b>\", line 152, in tojson\n",
      "    tag = etree.QName(elem.tag)\n",
      "  File \"src/lxml/etree.pyx\", line 1835, in lxml.etree.QName.__init__\n",
      "  File \"src/lxml/apihelpers.pxi\", line 1680, in lxml.etree._tagValidOrRaise\n",
      "ValueError: Invalid tag name '<cyfunction Comment at 0x000001DB73381C80>'\n",
      "Traceback (most recent call last):\n",
      "  File \"<ipython-input-1-d648b050eb9b>\", line 152, in tojson\n",
      "    tag = etree.QName(elem.tag)\n",
      "  File \"src/lxml/etree.pyx\", line 1835, in lxml.etree.QName.__init__\n",
      "  File \"src/lxml/apihelpers.pxi\", line 1680, in lxml.etree._tagValidOrRaise\n",
      "ValueError: Invalid tag name '<cyfunction Comment at 0x000001DB73381C80>'\n",
      "Traceback (most recent call last):\n",
      "  File \"<ipython-input-1-d648b050eb9b>\", line 152, in tojson\n",
      "    tag = etree.QName(elem.tag)\n",
      "  File \"src/lxml/etree.pyx\", line 1835, in lxml.etree.QName.__init__\n",
      "  File \"src/lxml/apihelpers.pxi\", line 1680, in lxml.etree._tagValidOrRaise\n",
      "ValueError: Invalid tag name '<cyfunction Comment at 0x000001DB73381C80>'\n",
      "Traceback (most recent call last):\n",
      "  File \"<ipython-input-1-d648b050eb9b>\", line 152, in tojson\n",
      "    tag = etree.QName(elem.tag)\n",
      "  File \"src/lxml/etree.pyx\", line 1835, in lxml.etree.QName.__init__\n",
      "  File \"src/lxml/apihelpers.pxi\", line 1680, in lxml.etree._tagValidOrRaise\n",
      "ValueError: Invalid tag name '<cyfunction Comment at 0x000001DB73381C80>'\n",
      "Traceback (most recent call last):\n",
      "  File \"<ipython-input-1-d648b050eb9b>\", line 152, in tojson\n",
      "    tag = etree.QName(elem.tag)\n",
      "  File \"src/lxml/etree.pyx\", line 1835, in lxml.etree.QName.__init__\n",
      "  File \"src/lxml/apihelpers.pxi\", line 1680, in lxml.etree._tagValidOrRaise\n",
      "ValueError: Invalid tag name '<cyfunction Comment at 0x000001DB73381C80>'\n",
      "Traceback (most recent call last):\n",
      "  File \"<ipython-input-1-d648b050eb9b>\", line 152, in tojson\n",
      "    tag = etree.QName(elem.tag)\n",
      "  File \"src/lxml/etree.pyx\", line 1835, in lxml.etree.QName.__init__\n",
      "  File \"src/lxml/apihelpers.pxi\", line 1680, in lxml.etree._tagValidOrRaise\n",
      "ValueError: Invalid tag name '<cyfunction Comment at 0x000001DB73381C80>'\n",
      "Traceback (most recent call last):\n",
      "  File \"<ipython-input-1-d648b050eb9b>\", line 152, in tojson\n",
      "    tag = etree.QName(elem.tag)\n",
      "  File \"src/lxml/etree.pyx\", line 1835, in lxml.etree.QName.__init__\n",
      "  File \"src/lxml/apihelpers.pxi\", line 1680, in lxml.etree._tagValidOrRaise\n",
      "ValueError: Invalid tag name '<cyfunction Comment at 0x000001DB73381C80>'\n"
     ]
    },
    {
     "name": "stderr",
     "output_type": "stream",
     "text": [
      "Traceback (most recent call last):\n",
      "  File \"<ipython-input-1-d648b050eb9b>\", line 152, in tojson\n",
      "    tag = etree.QName(elem.tag)\n",
      "  File \"src/lxml/etree.pyx\", line 1835, in lxml.etree.QName.__init__\n",
      "  File \"src/lxml/apihelpers.pxi\", line 1680, in lxml.etree._tagValidOrRaise\n",
      "ValueError: Invalid tag name '<cyfunction Comment at 0x000001DB73381C80>'\n",
      "Traceback (most recent call last):\n",
      "  File \"<ipython-input-1-d648b050eb9b>\", line 152, in tojson\n",
      "    tag = etree.QName(elem.tag)\n",
      "  File \"src/lxml/etree.pyx\", line 1835, in lxml.etree.QName.__init__\n",
      "  File \"src/lxml/apihelpers.pxi\", line 1680, in lxml.etree._tagValidOrRaise\n",
      "ValueError: Invalid tag name '<cyfunction Comment at 0x000001DB73381C80>'\n",
      "Traceback (most recent call last):\n",
      "  File \"<ipython-input-1-d648b050eb9b>\", line 152, in tojson\n",
      "    tag = etree.QName(elem.tag)\n",
      "  File \"src/lxml/etree.pyx\", line 1835, in lxml.etree.QName.__init__\n",
      "  File \"src/lxml/apihelpers.pxi\", line 1680, in lxml.etree._tagValidOrRaise\n",
      "ValueError: Invalid tag name '<cyfunction Comment at 0x000001DB73381C80>'\n",
      "Traceback (most recent call last):\n",
      "  File \"<ipython-input-1-d648b050eb9b>\", line 152, in tojson\n",
      "    tag = etree.QName(elem.tag)\n",
      "  File \"src/lxml/etree.pyx\", line 1835, in lxml.etree.QName.__init__\n",
      "  File \"src/lxml/apihelpers.pxi\", line 1680, in lxml.etree._tagValidOrRaise\n",
      "ValueError: Invalid tag name '<cyfunction Comment at 0x000001DB73381C80>'\n",
      "Traceback (most recent call last):\n",
      "  File \"<ipython-input-1-d648b050eb9b>\", line 152, in tojson\n",
      "    tag = etree.QName(elem.tag)\n",
      "  File \"src/lxml/etree.pyx\", line 1835, in lxml.etree.QName.__init__\n",
      "  File \"src/lxml/apihelpers.pxi\", line 1680, in lxml.etree._tagValidOrRaise\n",
      "ValueError: Invalid tag name '<cyfunction Comment at 0x000001DB73381C80>'\n",
      "Traceback (most recent call last):\n",
      "  File \"<ipython-input-1-d648b050eb9b>\", line 152, in tojson\n",
      "    tag = etree.QName(elem.tag)\n",
      "  File \"src/lxml/etree.pyx\", line 1835, in lxml.etree.QName.__init__\n",
      "  File \"src/lxml/apihelpers.pxi\", line 1680, in lxml.etree._tagValidOrRaise\n",
      "ValueError: Invalid tag name '<cyfunction Comment at 0x000001DB73381C80>'\n",
      "Traceback (most recent call last):\n",
      "  File \"<ipython-input-1-d648b050eb9b>\", line 152, in tojson\n",
      "    tag = etree.QName(elem.tag)\n",
      "  File \"src/lxml/etree.pyx\", line 1835, in lxml.etree.QName.__init__\n",
      "  File \"src/lxml/apihelpers.pxi\", line 1680, in lxml.etree._tagValidOrRaise\n",
      "ValueError: Invalid tag name '<cyfunction Comment at 0x000001DB73381C80>'\n",
      "Traceback (most recent call last):\n",
      "  File \"<ipython-input-1-d648b050eb9b>\", line 152, in tojson\n",
      "    tag = etree.QName(elem.tag)\n",
      "  File \"src/lxml/etree.pyx\", line 1835, in lxml.etree.QName.__init__\n",
      "  File \"src/lxml/apihelpers.pxi\", line 1680, in lxml.etree._tagValidOrRaise\n",
      "ValueError: Invalid tag name '<cyfunction Comment at 0x000001DB73381C80>'\n",
      "Traceback (most recent call last):\n",
      "  File \"<ipython-input-1-d648b050eb9b>\", line 152, in tojson\n",
      "    tag = etree.QName(elem.tag)\n",
      "  File \"src/lxml/etree.pyx\", line 1835, in lxml.etree.QName.__init__\n",
      "  File \"src/lxml/apihelpers.pxi\", line 1680, in lxml.etree._tagValidOrRaise\n",
      "ValueError: Invalid tag name '<cyfunction Comment at 0x000001DB73381C80>'\n",
      "Traceback (most recent call last):\n",
      "  File \"<ipython-input-1-d648b050eb9b>\", line 152, in tojson\n",
      "    tag = etree.QName(elem.tag)\n",
      "  File \"src/lxml/etree.pyx\", line 1835, in lxml.etree.QName.__init__\n",
      "  File \"src/lxml/apihelpers.pxi\", line 1680, in lxml.etree._tagValidOrRaise\n",
      "ValueError: Invalid tag name '<cyfunction Comment at 0x000001DB73381C80>'\n",
      "Traceback (most recent call last):\n",
      "  File \"<ipython-input-1-d648b050eb9b>\", line 152, in tojson\n",
      "    tag = etree.QName(elem.tag)\n",
      "  File \"src/lxml/etree.pyx\", line 1835, in lxml.etree.QName.__init__\n",
      "  File \"src/lxml/apihelpers.pxi\", line 1680, in lxml.etree._tagValidOrRaise\n",
      "ValueError: Invalid tag name '<cyfunction Comment at 0x000001DB73381C80>'\n",
      "Traceback (most recent call last):\n",
      "  File \"<ipython-input-1-d648b050eb9b>\", line 152, in tojson\n",
      "    tag = etree.QName(elem.tag)\n",
      "  File \"src/lxml/etree.pyx\", line 1835, in lxml.etree.QName.__init__\n",
      "  File \"src/lxml/apihelpers.pxi\", line 1680, in lxml.etree._tagValidOrRaise\n",
      "ValueError: Invalid tag name '<cyfunction Comment at 0x000001DB73381C80>'\n",
      "Traceback (most recent call last):\n",
      "  File \"<ipython-input-1-d648b050eb9b>\", line 152, in tojson\n",
      "    tag = etree.QName(elem.tag)\n",
      "  File \"src/lxml/etree.pyx\", line 1835, in lxml.etree.QName.__init__\n",
      "  File \"src/lxml/apihelpers.pxi\", line 1680, in lxml.etree._tagValidOrRaise\n",
      "ValueError: Invalid tag name '<cyfunction Comment at 0x000001DB73381C80>'\n",
      "Traceback (most recent call last):\n",
      "  File \"<ipython-input-1-d648b050eb9b>\", line 152, in tojson\n",
      "    tag = etree.QName(elem.tag)\n",
      "  File \"src/lxml/etree.pyx\", line 1835, in lxml.etree.QName.__init__\n",
      "  File \"src/lxml/apihelpers.pxi\", line 1680, in lxml.etree._tagValidOrRaise\n",
      "ValueError: Invalid tag name '<cyfunction Comment at 0x000001DB73381C80>'\n",
      "Traceback (most recent call last):\n",
      "  File \"<ipython-input-1-d648b050eb9b>\", line 152, in tojson\n",
      "    tag = etree.QName(elem.tag)\n",
      "  File \"src/lxml/etree.pyx\", line 1835, in lxml.etree.QName.__init__\n",
      "  File \"src/lxml/apihelpers.pxi\", line 1680, in lxml.etree._tagValidOrRaise\n",
      "ValueError: Invalid tag name '<cyfunction Comment at 0x000001DB73381C80>'\n",
      "Traceback (most recent call last):\n",
      "  File \"<ipython-input-1-d648b050eb9b>\", line 152, in tojson\n",
      "    tag = etree.QName(elem.tag)\n",
      "  File \"src/lxml/etree.pyx\", line 1835, in lxml.etree.QName.__init__\n",
      "  File \"src/lxml/apihelpers.pxi\", line 1680, in lxml.etree._tagValidOrRaise\n",
      "ValueError: Invalid tag name '<cyfunction Comment at 0x000001DB73381C80>'\n",
      "Traceback (most recent call last):\n",
      "  File \"<ipython-input-1-d648b050eb9b>\", line 152, in tojson\n",
      "    tag = etree.QName(elem.tag)\n",
      "  File \"src/lxml/etree.pyx\", line 1835, in lxml.etree.QName.__init__\n",
      "  File \"src/lxml/apihelpers.pxi\", line 1680, in lxml.etree._tagValidOrRaise\n",
      "ValueError: Invalid tag name '<cyfunction Comment at 0x000001DB73381C80>'\n",
      "Traceback (most recent call last):\n",
      "  File \"<ipython-input-1-d648b050eb9b>\", line 152, in tojson\n",
      "    tag = etree.QName(elem.tag)\n",
      "  File \"src/lxml/etree.pyx\", line 1835, in lxml.etree.QName.__init__\n",
      "  File \"src/lxml/apihelpers.pxi\", line 1680, in lxml.etree._tagValidOrRaise\n",
      "ValueError: Invalid tag name '<cyfunction Comment at 0x000001DB73381C80>'\n",
      "Traceback (most recent call last):\n",
      "  File \"<ipython-input-1-d648b050eb9b>\", line 152, in tojson\n",
      "    tag = etree.QName(elem.tag)\n",
      "  File \"src/lxml/etree.pyx\", line 1835, in lxml.etree.QName.__init__\n",
      "  File \"src/lxml/apihelpers.pxi\", line 1680, in lxml.etree._tagValidOrRaise\n",
      "ValueError: Invalid tag name '<cyfunction Comment at 0x000001DB73381C80>'\n",
      "Traceback (most recent call last):\n",
      "  File \"<ipython-input-1-d648b050eb9b>\", line 152, in tojson\n",
      "    tag = etree.QName(elem.tag)\n",
      "  File \"src/lxml/etree.pyx\", line 1835, in lxml.etree.QName.__init__\n",
      "  File \"src/lxml/apihelpers.pxi\", line 1680, in lxml.etree._tagValidOrRaise\n",
      "ValueError: Invalid tag name '<cyfunction Comment at 0x000001DB73381C80>'\n",
      "Traceback (most recent call last):\n",
      "  File \"<ipython-input-1-d648b050eb9b>\", line 152, in tojson\n",
      "    tag = etree.QName(elem.tag)\n",
      "  File \"src/lxml/etree.pyx\", line 1835, in lxml.etree.QName.__init__\n",
      "  File \"src/lxml/apihelpers.pxi\", line 1680, in lxml.etree._tagValidOrRaise\n",
      "ValueError: Invalid tag name '<cyfunction Comment at 0x000001DB73381C80>'\n",
      "Traceback (most recent call last):\n",
      "  File \"<ipython-input-1-d648b050eb9b>\", line 152, in tojson\n",
      "    tag = etree.QName(elem.tag)\n",
      "  File \"src/lxml/etree.pyx\", line 1835, in lxml.etree.QName.__init__\n",
      "  File \"src/lxml/apihelpers.pxi\", line 1680, in lxml.etree._tagValidOrRaise\n",
      "ValueError: Invalid tag name '<cyfunction Comment at 0x000001DB73381C80>'\n",
      "Traceback (most recent call last):\n",
      "  File \"<ipython-input-1-d648b050eb9b>\", line 152, in tojson\n",
      "    tag = etree.QName(elem.tag)\n",
      "  File \"src/lxml/etree.pyx\", line 1835, in lxml.etree.QName.__init__\n",
      "  File \"src/lxml/apihelpers.pxi\", line 1680, in lxml.etree._tagValidOrRaise\n",
      "ValueError: Invalid tag name '<cyfunction Comment at 0x000001DB73381C80>'\n",
      "Traceback (most recent call last):\n",
      "  File \"<ipython-input-1-d648b050eb9b>\", line 152, in tojson\n",
      "    tag = etree.QName(elem.tag)\n",
      "  File \"src/lxml/etree.pyx\", line 1835, in lxml.etree.QName.__init__\n",
      "  File \"src/lxml/apihelpers.pxi\", line 1680, in lxml.etree._tagValidOrRaise\n"
     ]
    },
    {
     "name": "stderr",
     "output_type": "stream",
     "text": [
      "ValueError: Invalid tag name '<cyfunction Comment at 0x000001DB73381C80>'\n",
      "Traceback (most recent call last):\n",
      "  File \"<ipython-input-1-d648b050eb9b>\", line 152, in tojson\n",
      "    tag = etree.QName(elem.tag)\n",
      "  File \"src/lxml/etree.pyx\", line 1835, in lxml.etree.QName.__init__\n",
      "  File \"src/lxml/apihelpers.pxi\", line 1680, in lxml.etree._tagValidOrRaise\n",
      "ValueError: Invalid tag name '<cyfunction Comment at 0x000001DB73381C80>'\n",
      "Traceback (most recent call last):\n",
      "  File \"<ipython-input-1-d648b050eb9b>\", line 152, in tojson\n",
      "    tag = etree.QName(elem.tag)\n",
      "  File \"src/lxml/etree.pyx\", line 1835, in lxml.etree.QName.__init__\n",
      "  File \"src/lxml/apihelpers.pxi\", line 1680, in lxml.etree._tagValidOrRaise\n",
      "ValueError: Invalid tag name '<cyfunction Comment at 0x000001DB73381C80>'\n",
      "Traceback (most recent call last):\n",
      "  File \"<ipython-input-1-d648b050eb9b>\", line 152, in tojson\n",
      "    tag = etree.QName(elem.tag)\n",
      "  File \"src/lxml/etree.pyx\", line 1835, in lxml.etree.QName.__init__\n",
      "  File \"src/lxml/apihelpers.pxi\", line 1680, in lxml.etree._tagValidOrRaise\n",
      "ValueError: Invalid tag name '<cyfunction Comment at 0x000001DB73381C80>'\n",
      "Traceback (most recent call last):\n",
      "  File \"<ipython-input-1-d648b050eb9b>\", line 152, in tojson\n",
      "    tag = etree.QName(elem.tag)\n",
      "  File \"src/lxml/etree.pyx\", line 1835, in lxml.etree.QName.__init__\n",
      "  File \"src/lxml/apihelpers.pxi\", line 1680, in lxml.etree._tagValidOrRaise\n",
      "ValueError: Invalid tag name '<cyfunction Comment at 0x000001DB73381C80>'\n",
      "Traceback (most recent call last):\n",
      "  File \"<ipython-input-1-d648b050eb9b>\", line 152, in tojson\n",
      "    tag = etree.QName(elem.tag)\n",
      "  File \"src/lxml/etree.pyx\", line 1835, in lxml.etree.QName.__init__\n",
      "  File \"src/lxml/apihelpers.pxi\", line 1680, in lxml.etree._tagValidOrRaise\n",
      "ValueError: Invalid tag name '<cyfunction Comment at 0x000001DB73381C80>'\n",
      "Traceback (most recent call last):\n",
      "  File \"<ipython-input-1-d648b050eb9b>\", line 152, in tojson\n",
      "    tag = etree.QName(elem.tag)\n",
      "  File \"src/lxml/etree.pyx\", line 1835, in lxml.etree.QName.__init__\n",
      "  File \"src/lxml/apihelpers.pxi\", line 1680, in lxml.etree._tagValidOrRaise\n",
      "ValueError: Invalid tag name '<cyfunction Comment at 0x000001DB73381C80>'\n",
      "Traceback (most recent call last):\n",
      "  File \"<ipython-input-1-d648b050eb9b>\", line 152, in tojson\n",
      "    tag = etree.QName(elem.tag)\n",
      "  File \"src/lxml/etree.pyx\", line 1835, in lxml.etree.QName.__init__\n",
      "  File \"src/lxml/apihelpers.pxi\", line 1680, in lxml.etree._tagValidOrRaise\n",
      "ValueError: Invalid tag name '<cyfunction Comment at 0x000001DB73381C80>'\n",
      "Traceback (most recent call last):\n",
      "  File \"<ipython-input-1-d648b050eb9b>\", line 152, in tojson\n",
      "    tag = etree.QName(elem.tag)\n",
      "  File \"src/lxml/etree.pyx\", line 1835, in lxml.etree.QName.__init__\n",
      "  File \"src/lxml/apihelpers.pxi\", line 1680, in lxml.etree._tagValidOrRaise\n",
      "ValueError: Invalid tag name '<cyfunction Comment at 0x000001DB73381C80>'\n",
      "Traceback (most recent call last):\n",
      "  File \"<ipython-input-1-d648b050eb9b>\", line 152, in tojson\n",
      "    tag = etree.QName(elem.tag)\n",
      "  File \"src/lxml/etree.pyx\", line 1835, in lxml.etree.QName.__init__\n",
      "  File \"src/lxml/apihelpers.pxi\", line 1680, in lxml.etree._tagValidOrRaise\n",
      "ValueError: Invalid tag name '<cyfunction Comment at 0x000001DB73381C80>'\n",
      "Traceback (most recent call last):\n",
      "  File \"<ipython-input-1-d648b050eb9b>\", line 152, in tojson\n",
      "    tag = etree.QName(elem.tag)\n",
      "  File \"src/lxml/etree.pyx\", line 1835, in lxml.etree.QName.__init__\n",
      "  File \"src/lxml/apihelpers.pxi\", line 1680, in lxml.etree._tagValidOrRaise\n",
      "ValueError: Invalid tag name '<cyfunction Comment at 0x000001DB73381C80>'\n",
      "Traceback (most recent call last):\n",
      "  File \"<ipython-input-1-d648b050eb9b>\", line 152, in tojson\n",
      "    tag = etree.QName(elem.tag)\n",
      "  File \"src/lxml/etree.pyx\", line 1835, in lxml.etree.QName.__init__\n",
      "  File \"src/lxml/apihelpers.pxi\", line 1680, in lxml.etree._tagValidOrRaise\n",
      "ValueError: Invalid tag name '<cyfunction Comment at 0x000001DB73381C80>'\n",
      "Traceback (most recent call last):\n",
      "  File \"<ipython-input-1-d648b050eb9b>\", line 152, in tojson\n",
      "    tag = etree.QName(elem.tag)\n",
      "  File \"src/lxml/etree.pyx\", line 1835, in lxml.etree.QName.__init__\n",
      "  File \"src/lxml/apihelpers.pxi\", line 1680, in lxml.etree._tagValidOrRaise\n",
      "ValueError: Invalid tag name '<cyfunction Comment at 0x000001DB73381C80>'\n",
      "Traceback (most recent call last):\n",
      "  File \"<ipython-input-1-d648b050eb9b>\", line 152, in tojson\n",
      "    tag = etree.QName(elem.tag)\n",
      "  File \"src/lxml/etree.pyx\", line 1835, in lxml.etree.QName.__init__\n",
      "  File \"src/lxml/apihelpers.pxi\", line 1680, in lxml.etree._tagValidOrRaise\n",
      "ValueError: Invalid tag name '<cyfunction Comment at 0x000001DB73381C80>'\n",
      "Traceback (most recent call last):\n",
      "  File \"<ipython-input-1-d648b050eb9b>\", line 152, in tojson\n",
      "    tag = etree.QName(elem.tag)\n",
      "  File \"src/lxml/etree.pyx\", line 1835, in lxml.etree.QName.__init__\n",
      "  File \"src/lxml/apihelpers.pxi\", line 1680, in lxml.etree._tagValidOrRaise\n",
      "ValueError: Invalid tag name '<cyfunction Comment at 0x000001DB73381C80>'\n",
      "Traceback (most recent call last):\n",
      "  File \"<ipython-input-1-d648b050eb9b>\", line 152, in tojson\n",
      "    tag = etree.QName(elem.tag)\n",
      "  File \"src/lxml/etree.pyx\", line 1835, in lxml.etree.QName.__init__\n",
      "  File \"src/lxml/apihelpers.pxi\", line 1680, in lxml.etree._tagValidOrRaise\n",
      "ValueError: Invalid tag name '<cyfunction Comment at 0x000001DB73381C80>'\n",
      "Traceback (most recent call last):\n",
      "  File \"<ipython-input-1-d648b050eb9b>\", line 152, in tojson\n",
      "    tag = etree.QName(elem.tag)\n",
      "  File \"src/lxml/etree.pyx\", line 1835, in lxml.etree.QName.__init__\n",
      "  File \"src/lxml/apihelpers.pxi\", line 1680, in lxml.etree._tagValidOrRaise\n",
      "ValueError: Invalid tag name '<cyfunction Comment at 0x000001DB73381C80>'\n",
      "Traceback (most recent call last):\n",
      "  File \"<ipython-input-1-d648b050eb9b>\", line 152, in tojson\n",
      "    tag = etree.QName(elem.tag)\n",
      "  File \"src/lxml/etree.pyx\", line 1835, in lxml.etree.QName.__init__\n",
      "  File \"src/lxml/apihelpers.pxi\", line 1680, in lxml.etree._tagValidOrRaise\n",
      "ValueError: Invalid tag name '<cyfunction Comment at 0x000001DB73381C80>'\n",
      "Traceback (most recent call last):\n",
      "  File \"<ipython-input-1-d648b050eb9b>\", line 152, in tojson\n",
      "    tag = etree.QName(elem.tag)\n",
      "  File \"src/lxml/etree.pyx\", line 1835, in lxml.etree.QName.__init__\n",
      "  File \"src/lxml/apihelpers.pxi\", line 1680, in lxml.etree._tagValidOrRaise\n",
      "ValueError: Invalid tag name '<cyfunction Comment at 0x000001DB73381C80>'\n",
      "Traceback (most recent call last):\n",
      "  File \"<ipython-input-1-d648b050eb9b>\", line 152, in tojson\n",
      "    tag = etree.QName(elem.tag)\n",
      "  File \"src/lxml/etree.pyx\", line 1835, in lxml.etree.QName.__init__\n",
      "  File \"src/lxml/apihelpers.pxi\", line 1680, in lxml.etree._tagValidOrRaise\n",
      "ValueError: Invalid tag name '<cyfunction Comment at 0x000001DB73381C80>'\n",
      "Traceback (most recent call last):\n",
      "  File \"<ipython-input-1-d648b050eb9b>\", line 152, in tojson\n",
      "    tag = etree.QName(elem.tag)\n",
      "  File \"src/lxml/etree.pyx\", line 1835, in lxml.etree.QName.__init__\n",
      "  File \"src/lxml/apihelpers.pxi\", line 1680, in lxml.etree._tagValidOrRaise\n",
      "ValueError: Invalid tag name '<cyfunction Comment at 0x000001DB73381C80>'\n",
      "Traceback (most recent call last):\n",
      "  File \"<ipython-input-1-d648b050eb9b>\", line 152, in tojson\n",
      "    tag = etree.QName(elem.tag)\n",
      "  File \"src/lxml/etree.pyx\", line 1835, in lxml.etree.QName.__init__\n",
      "  File \"src/lxml/apihelpers.pxi\", line 1680, in lxml.etree._tagValidOrRaise\n",
      "ValueError: Invalid tag name '<cyfunction Comment at 0x000001DB73381C80>'\n",
      "Traceback (most recent call last):\n",
      "  File \"<ipython-input-1-d648b050eb9b>\", line 152, in tojson\n",
      "    tag = etree.QName(elem.tag)\n",
      "  File \"src/lxml/etree.pyx\", line 1835, in lxml.etree.QName.__init__\n",
      "  File \"src/lxml/apihelpers.pxi\", line 1680, in lxml.etree._tagValidOrRaise\n",
      "ValueError: Invalid tag name '<cyfunction Comment at 0x000001DB73381C80>'\n",
      "Traceback (most recent call last):\n",
      "  File \"<ipython-input-1-d648b050eb9b>\", line 152, in tojson\n",
      "    tag = etree.QName(elem.tag)\n",
      "  File \"src/lxml/etree.pyx\", line 1835, in lxml.etree.QName.__init__\n",
      "  File \"src/lxml/apihelpers.pxi\", line 1680, in lxml.etree._tagValidOrRaise\n",
      "ValueError: Invalid tag name '<cyfunction Comment at 0x000001DB73381C80>'\n",
      "Traceback (most recent call last):\n",
      "  File \"<ipython-input-1-d648b050eb9b>\", line 152, in tojson\n",
      "    tag = etree.QName(elem.tag)\n",
      "  File \"src/lxml/etree.pyx\", line 1835, in lxml.etree.QName.__init__\n"
     ]
    },
    {
     "name": "stderr",
     "output_type": "stream",
     "text": [
      "  File \"src/lxml/apihelpers.pxi\", line 1680, in lxml.etree._tagValidOrRaise\n",
      "ValueError: Invalid tag name '<cyfunction Comment at 0x000001DB73381C80>'\n",
      "Traceback (most recent call last):\n",
      "  File \"<ipython-input-1-d648b050eb9b>\", line 152, in tojson\n",
      "    tag = etree.QName(elem.tag)\n",
      "  File \"src/lxml/etree.pyx\", line 1835, in lxml.etree.QName.__init__\n",
      "  File \"src/lxml/apihelpers.pxi\", line 1680, in lxml.etree._tagValidOrRaise\n",
      "ValueError: Invalid tag name '<cyfunction Comment at 0x000001DB73381C80>'\n",
      "Traceback (most recent call last):\n",
      "  File \"<ipython-input-1-d648b050eb9b>\", line 152, in tojson\n",
      "    tag = etree.QName(elem.tag)\n",
      "  File \"src/lxml/etree.pyx\", line 1835, in lxml.etree.QName.__init__\n",
      "  File \"src/lxml/apihelpers.pxi\", line 1680, in lxml.etree._tagValidOrRaise\n",
      "ValueError: Invalid tag name '<cyfunction Comment at 0x000001DB73381C80>'\n",
      "Traceback (most recent call last):\n",
      "  File \"<ipython-input-1-d648b050eb9b>\", line 152, in tojson\n",
      "    tag = etree.QName(elem.tag)\n",
      "  File \"src/lxml/etree.pyx\", line 1835, in lxml.etree.QName.__init__\n",
      "  File \"src/lxml/apihelpers.pxi\", line 1680, in lxml.etree._tagValidOrRaise\n",
      "ValueError: Invalid tag name '<cyfunction Comment at 0x000001DB73381C80>'\n",
      "Traceback (most recent call last):\n",
      "  File \"<ipython-input-1-d648b050eb9b>\", line 152, in tojson\n",
      "    tag = etree.QName(elem.tag)\n",
      "  File \"src/lxml/etree.pyx\", line 1835, in lxml.etree.QName.__init__\n",
      "  File \"src/lxml/apihelpers.pxi\", line 1680, in lxml.etree._tagValidOrRaise\n",
      "ValueError: Invalid tag name '<cyfunction Comment at 0x000001DB73381C80>'\n",
      "Traceback (most recent call last):\n",
      "  File \"<ipython-input-1-d648b050eb9b>\", line 152, in tojson\n",
      "    tag = etree.QName(elem.tag)\n",
      "  File \"src/lxml/etree.pyx\", line 1835, in lxml.etree.QName.__init__\n",
      "  File \"src/lxml/apihelpers.pxi\", line 1680, in lxml.etree._tagValidOrRaise\n",
      "ValueError: Invalid tag name '<cyfunction Comment at 0x000001DB73381C80>'\n",
      "Traceback (most recent call last):\n",
      "  File \"<ipython-input-1-d648b050eb9b>\", line 152, in tojson\n",
      "    tag = etree.QName(elem.tag)\n",
      "  File \"src/lxml/etree.pyx\", line 1835, in lxml.etree.QName.__init__\n",
      "  File \"src/lxml/apihelpers.pxi\", line 1680, in lxml.etree._tagValidOrRaise\n",
      "ValueError: Invalid tag name '<cyfunction Comment at 0x000001DB73381C80>'\n",
      "Traceback (most recent call last):\n",
      "  File \"<ipython-input-1-d648b050eb9b>\", line 152, in tojson\n",
      "    tag = etree.QName(elem.tag)\n",
      "  File \"src/lxml/etree.pyx\", line 1835, in lxml.etree.QName.__init__\n",
      "  File \"src/lxml/apihelpers.pxi\", line 1680, in lxml.etree._tagValidOrRaise\n",
      "ValueError: Invalid tag name '<cyfunction Comment at 0x000001DB73381C80>'\n",
      "Traceback (most recent call last):\n",
      "  File \"<ipython-input-1-d648b050eb9b>\", line 152, in tojson\n",
      "    tag = etree.QName(elem.tag)\n",
      "  File \"src/lxml/etree.pyx\", line 1835, in lxml.etree.QName.__init__\n",
      "  File \"src/lxml/apihelpers.pxi\", line 1680, in lxml.etree._tagValidOrRaise\n",
      "ValueError: Invalid tag name '<cyfunction Comment at 0x000001DB73381C80>'\n",
      "Traceback (most recent call last):\n",
      "  File \"<ipython-input-1-d648b050eb9b>\", line 152, in tojson\n",
      "    tag = etree.QName(elem.tag)\n",
      "  File \"src/lxml/etree.pyx\", line 1835, in lxml.etree.QName.__init__\n",
      "  File \"src/lxml/apihelpers.pxi\", line 1680, in lxml.etree._tagValidOrRaise\n",
      "ValueError: Invalid tag name '<cyfunction Comment at 0x000001DB73381C80>'\n",
      "Traceback (most recent call last):\n",
      "  File \"<ipython-input-1-d648b050eb9b>\", line 152, in tojson\n",
      "    tag = etree.QName(elem.tag)\n",
      "  File \"src/lxml/etree.pyx\", line 1835, in lxml.etree.QName.__init__\n",
      "  File \"src/lxml/apihelpers.pxi\", line 1680, in lxml.etree._tagValidOrRaise\n",
      "ValueError: Invalid tag name '<cyfunction Comment at 0x000001DB73381C80>'\n",
      "Traceback (most recent call last):\n",
      "  File \"<ipython-input-1-d648b050eb9b>\", line 152, in tojson\n",
      "    tag = etree.QName(elem.tag)\n",
      "  File \"src/lxml/etree.pyx\", line 1835, in lxml.etree.QName.__init__\n",
      "  File \"src/lxml/apihelpers.pxi\", line 1680, in lxml.etree._tagValidOrRaise\n",
      "ValueError: Invalid tag name '<cyfunction Comment at 0x000001DB73381C80>'\n",
      "Traceback (most recent call last):\n",
      "  File \"<ipython-input-1-d648b050eb9b>\", line 152, in tojson\n",
      "    tag = etree.QName(elem.tag)\n",
      "  File \"src/lxml/etree.pyx\", line 1835, in lxml.etree.QName.__init__\n",
      "  File \"src/lxml/apihelpers.pxi\", line 1680, in lxml.etree._tagValidOrRaise\n",
      "ValueError: Invalid tag name '<cyfunction Comment at 0x000001DB73381C80>'\n",
      "Traceback (most recent call last):\n",
      "  File \"<ipython-input-1-d648b050eb9b>\", line 152, in tojson\n",
      "    tag = etree.QName(elem.tag)\n",
      "  File \"src/lxml/etree.pyx\", line 1835, in lxml.etree.QName.__init__\n",
      "  File \"src/lxml/apihelpers.pxi\", line 1680, in lxml.etree._tagValidOrRaise\n",
      "ValueError: Invalid tag name '<cyfunction Comment at 0x000001DB73381C80>'\n",
      "Traceback (most recent call last):\n",
      "  File \"<ipython-input-1-d648b050eb9b>\", line 152, in tojson\n",
      "    tag = etree.QName(elem.tag)\n",
      "  File \"src/lxml/etree.pyx\", line 1835, in lxml.etree.QName.__init__\n",
      "  File \"src/lxml/apihelpers.pxi\", line 1680, in lxml.etree._tagValidOrRaise\n",
      "ValueError: Invalid tag name '<cyfunction Comment at 0x000001DB73381C80>'\n",
      "Traceback (most recent call last):\n",
      "  File \"<ipython-input-1-d648b050eb9b>\", line 152, in tojson\n",
      "    tag = etree.QName(elem.tag)\n",
      "  File \"src/lxml/etree.pyx\", line 1835, in lxml.etree.QName.__init__\n",
      "  File \"src/lxml/apihelpers.pxi\", line 1680, in lxml.etree._tagValidOrRaise\n",
      "ValueError: Invalid tag name '<cyfunction Comment at 0x000001DB73381C80>'\n",
      "Traceback (most recent call last):\n",
      "  File \"<ipython-input-1-d648b050eb9b>\", line 152, in tojson\n",
      "    tag = etree.QName(elem.tag)\n",
      "  File \"src/lxml/etree.pyx\", line 1835, in lxml.etree.QName.__init__\n",
      "  File \"src/lxml/apihelpers.pxi\", line 1680, in lxml.etree._tagValidOrRaise\n",
      "ValueError: Invalid tag name '<cyfunction Comment at 0x000001DB73381C80>'\n",
      "Traceback (most recent call last):\n",
      "  File \"<ipython-input-1-d648b050eb9b>\", line 152, in tojson\n",
      "    tag = etree.QName(elem.tag)\n",
      "  File \"src/lxml/etree.pyx\", line 1835, in lxml.etree.QName.__init__\n",
      "  File \"src/lxml/apihelpers.pxi\", line 1680, in lxml.etree._tagValidOrRaise\n",
      "ValueError: Invalid tag name '<cyfunction Comment at 0x000001DB73381C80>'\n",
      "Traceback (most recent call last):\n",
      "  File \"<ipython-input-1-d648b050eb9b>\", line 152, in tojson\n",
      "    tag = etree.QName(elem.tag)\n",
      "  File \"src/lxml/etree.pyx\", line 1835, in lxml.etree.QName.__init__\n",
      "  File \"src/lxml/apihelpers.pxi\", line 1680, in lxml.etree._tagValidOrRaise\n",
      "ValueError: Invalid tag name '<cyfunction Comment at 0x000001DB73381C80>'\n",
      "Traceback (most recent call last):\n",
      "  File \"<ipython-input-1-d648b050eb9b>\", line 152, in tojson\n",
      "    tag = etree.QName(elem.tag)\n",
      "  File \"src/lxml/etree.pyx\", line 1835, in lxml.etree.QName.__init__\n",
      "  File \"src/lxml/apihelpers.pxi\", line 1680, in lxml.etree._tagValidOrRaise\n",
      "ValueError: Invalid tag name '<cyfunction Comment at 0x000001DB73381C80>'\n",
      "Traceback (most recent call last):\n",
      "  File \"<ipython-input-1-d648b050eb9b>\", line 152, in tojson\n",
      "    tag = etree.QName(elem.tag)\n",
      "  File \"src/lxml/etree.pyx\", line 1835, in lxml.etree.QName.__init__\n",
      "  File \"src/lxml/apihelpers.pxi\", line 1680, in lxml.etree._tagValidOrRaise\n",
      "ValueError: Invalid tag name '<cyfunction Comment at 0x000001DB73381C80>'\n",
      "Traceback (most recent call last):\n",
      "  File \"<ipython-input-1-d648b050eb9b>\", line 152, in tojson\n",
      "    tag = etree.QName(elem.tag)\n",
      "  File \"src/lxml/etree.pyx\", line 1835, in lxml.etree.QName.__init__\n",
      "  File \"src/lxml/apihelpers.pxi\", line 1680, in lxml.etree._tagValidOrRaise\n",
      "ValueError: Invalid tag name '<cyfunction Comment at 0x000001DB73381C80>'\n",
      "Traceback (most recent call last):\n",
      "  File \"<ipython-input-1-d648b050eb9b>\", line 152, in tojson\n",
      "    tag = etree.QName(elem.tag)\n",
      "  File \"src/lxml/etree.pyx\", line 1835, in lxml.etree.QName.__init__\n",
      "  File \"src/lxml/apihelpers.pxi\", line 1680, in lxml.etree._tagValidOrRaise\n",
      "ValueError: Invalid tag name '<cyfunction Comment at 0x000001DB73381C80>'\n",
      "Traceback (most recent call last):\n",
      "  File \"<ipython-input-1-d648b050eb9b>\", line 152, in tojson\n",
      "    tag = etree.QName(elem.tag)\n",
      "  File \"src/lxml/etree.pyx\", line 1835, in lxml.etree.QName.__init__\n",
      "  File \"src/lxml/apihelpers.pxi\", line 1680, in lxml.etree._tagValidOrRaise\n",
      "ValueError: Invalid tag name '<cyfunction Comment at 0x000001DB73381C80>'\n",
      "Traceback (most recent call last):\n",
      "  File \"<ipython-input-1-d648b050eb9b>\", line 152, in tojson\n",
      "    tag = etree.QName(elem.tag)\n"
     ]
    },
    {
     "name": "stderr",
     "output_type": "stream",
     "text": [
      "  File \"src/lxml/etree.pyx\", line 1835, in lxml.etree.QName.__init__\n",
      "  File \"src/lxml/apihelpers.pxi\", line 1680, in lxml.etree._tagValidOrRaise\n",
      "ValueError: Invalid tag name '<cyfunction Comment at 0x000001DB73381C80>'\n",
      "Traceback (most recent call last):\n",
      "  File \"<ipython-input-1-d648b050eb9b>\", line 152, in tojson\n",
      "    tag = etree.QName(elem.tag)\n",
      "  File \"src/lxml/etree.pyx\", line 1835, in lxml.etree.QName.__init__\n",
      "  File \"src/lxml/apihelpers.pxi\", line 1680, in lxml.etree._tagValidOrRaise\n",
      "ValueError: Invalid tag name '<cyfunction Comment at 0x000001DB73381C80>'\n",
      "Traceback (most recent call last):\n",
      "  File \"<ipython-input-1-d648b050eb9b>\", line 152, in tojson\n",
      "    tag = etree.QName(elem.tag)\n",
      "  File \"src/lxml/etree.pyx\", line 1835, in lxml.etree.QName.__init__\n",
      "  File \"src/lxml/apihelpers.pxi\", line 1680, in lxml.etree._tagValidOrRaise\n",
      "ValueError: Invalid tag name '<cyfunction Comment at 0x000001DB73381C80>'\n",
      "Traceback (most recent call last):\n",
      "  File \"<ipython-input-1-d648b050eb9b>\", line 152, in tojson\n",
      "    tag = etree.QName(elem.tag)\n",
      "  File \"src/lxml/etree.pyx\", line 1835, in lxml.etree.QName.__init__\n",
      "  File \"src/lxml/apihelpers.pxi\", line 1680, in lxml.etree._tagValidOrRaise\n",
      "ValueError: Invalid tag name '<cyfunction Comment at 0x000001DB73381C80>'\n",
      "Traceback (most recent call last):\n",
      "  File \"<ipython-input-1-d648b050eb9b>\", line 152, in tojson\n",
      "    tag = etree.QName(elem.tag)\n",
      "  File \"src/lxml/etree.pyx\", line 1835, in lxml.etree.QName.__init__\n",
      "  File \"src/lxml/apihelpers.pxi\", line 1680, in lxml.etree._tagValidOrRaise\n",
      "ValueError: Invalid tag name '<cyfunction Comment at 0x000001DB73381C80>'\n",
      "Traceback (most recent call last):\n",
      "  File \"<ipython-input-1-d648b050eb9b>\", line 152, in tojson\n",
      "    tag = etree.QName(elem.tag)\n",
      "  File \"src/lxml/etree.pyx\", line 1835, in lxml.etree.QName.__init__\n",
      "  File \"src/lxml/apihelpers.pxi\", line 1680, in lxml.etree._tagValidOrRaise\n",
      "ValueError: Invalid tag name '<cyfunction Comment at 0x000001DB73381C80>'\n",
      "Traceback (most recent call last):\n",
      "  File \"<ipython-input-1-d648b050eb9b>\", line 152, in tojson\n",
      "    tag = etree.QName(elem.tag)\n",
      "  File \"src/lxml/etree.pyx\", line 1835, in lxml.etree.QName.__init__\n",
      "  File \"src/lxml/apihelpers.pxi\", line 1680, in lxml.etree._tagValidOrRaise\n",
      "ValueError: Invalid tag name '<cyfunction Comment at 0x000001DB73381C80>'\n",
      "Traceback (most recent call last):\n",
      "  File \"<ipython-input-1-d648b050eb9b>\", line 152, in tojson\n",
      "    tag = etree.QName(elem.tag)\n",
      "  File \"src/lxml/etree.pyx\", line 1835, in lxml.etree.QName.__init__\n",
      "  File \"src/lxml/apihelpers.pxi\", line 1680, in lxml.etree._tagValidOrRaise\n",
      "ValueError: Invalid tag name '<cyfunction Comment at 0x000001DB73381C80>'\n",
      "Traceback (most recent call last):\n",
      "  File \"<ipython-input-1-d648b050eb9b>\", line 152, in tojson\n",
      "    tag = etree.QName(elem.tag)\n",
      "  File \"src/lxml/etree.pyx\", line 1835, in lxml.etree.QName.__init__\n",
      "  File \"src/lxml/apihelpers.pxi\", line 1680, in lxml.etree._tagValidOrRaise\n",
      "ValueError: Invalid tag name '<cyfunction Comment at 0x000001DB73381C80>'\n",
      "Traceback (most recent call last):\n",
      "  File \"<ipython-input-1-d648b050eb9b>\", line 152, in tojson\n",
      "    tag = etree.QName(elem.tag)\n",
      "  File \"src/lxml/etree.pyx\", line 1835, in lxml.etree.QName.__init__\n",
      "  File \"src/lxml/apihelpers.pxi\", line 1680, in lxml.etree._tagValidOrRaise\n",
      "ValueError: Invalid tag name '<cyfunction Comment at 0x000001DB73381C80>'\n",
      "Traceback (most recent call last):\n",
      "  File \"<ipython-input-1-d648b050eb9b>\", line 152, in tojson\n",
      "    tag = etree.QName(elem.tag)\n",
      "  File \"src/lxml/etree.pyx\", line 1835, in lxml.etree.QName.__init__\n",
      "  File \"src/lxml/apihelpers.pxi\", line 1680, in lxml.etree._tagValidOrRaise\n",
      "ValueError: Invalid tag name '<cyfunction Comment at 0x000001DB73381C80>'\n",
      "Traceback (most recent call last):\n",
      "  File \"<ipython-input-1-d648b050eb9b>\", line 152, in tojson\n",
      "    tag = etree.QName(elem.tag)\n",
      "  File \"src/lxml/etree.pyx\", line 1835, in lxml.etree.QName.__init__\n",
      "  File \"src/lxml/apihelpers.pxi\", line 1680, in lxml.etree._tagValidOrRaise\n",
      "ValueError: Invalid tag name '<cyfunction Comment at 0x000001DB73381C80>'\n",
      "Traceback (most recent call last):\n",
      "  File \"<ipython-input-1-d648b050eb9b>\", line 152, in tojson\n",
      "    tag = etree.QName(elem.tag)\n",
      "  File \"src/lxml/etree.pyx\", line 1835, in lxml.etree.QName.__init__\n",
      "  File \"src/lxml/apihelpers.pxi\", line 1680, in lxml.etree._tagValidOrRaise\n",
      "ValueError: Invalid tag name '<cyfunction Comment at 0x000001DB73381C80>'\n",
      "Traceback (most recent call last):\n",
      "  File \"<ipython-input-1-d648b050eb9b>\", line 152, in tojson\n",
      "    tag = etree.QName(elem.tag)\n",
      "  File \"src/lxml/etree.pyx\", line 1835, in lxml.etree.QName.__init__\n",
      "  File \"src/lxml/apihelpers.pxi\", line 1680, in lxml.etree._tagValidOrRaise\n",
      "ValueError: Invalid tag name '<cyfunction Comment at 0x000001DB73381C80>'\n",
      "Traceback (most recent call last):\n",
      "  File \"<ipython-input-1-d648b050eb9b>\", line 152, in tojson\n",
      "    tag = etree.QName(elem.tag)\n",
      "  File \"src/lxml/etree.pyx\", line 1835, in lxml.etree.QName.__init__\n",
      "  File \"src/lxml/apihelpers.pxi\", line 1680, in lxml.etree._tagValidOrRaise\n",
      "ValueError: Invalid tag name '<cyfunction Comment at 0x000001DB73381C80>'\n",
      "Traceback (most recent call last):\n",
      "  File \"<ipython-input-1-d648b050eb9b>\", line 152, in tojson\n",
      "    tag = etree.QName(elem.tag)\n",
      "  File \"src/lxml/etree.pyx\", line 1835, in lxml.etree.QName.__init__\n",
      "  File \"src/lxml/apihelpers.pxi\", line 1680, in lxml.etree._tagValidOrRaise\n",
      "ValueError: Invalid tag name '<cyfunction Comment at 0x000001DB73381C80>'\n",
      "Traceback (most recent call last):\n",
      "  File \"<ipython-input-1-d648b050eb9b>\", line 152, in tojson\n",
      "    tag = etree.QName(elem.tag)\n",
      "  File \"src/lxml/etree.pyx\", line 1835, in lxml.etree.QName.__init__\n",
      "  File \"src/lxml/apihelpers.pxi\", line 1680, in lxml.etree._tagValidOrRaise\n",
      "ValueError: Invalid tag name '<cyfunction Comment at 0x000001DB73381C80>'\n",
      "Traceback (most recent call last):\n",
      "  File \"<ipython-input-1-d648b050eb9b>\", line 152, in tojson\n",
      "    tag = etree.QName(elem.tag)\n",
      "  File \"src/lxml/etree.pyx\", line 1835, in lxml.etree.QName.__init__\n",
      "  File \"src/lxml/apihelpers.pxi\", line 1680, in lxml.etree._tagValidOrRaise\n",
      "ValueError: Invalid tag name '<cyfunction Comment at 0x000001DB73381C80>'\n",
      "Traceback (most recent call last):\n",
      "  File \"<ipython-input-1-d648b050eb9b>\", line 152, in tojson\n",
      "    tag = etree.QName(elem.tag)\n",
      "  File \"src/lxml/etree.pyx\", line 1835, in lxml.etree.QName.__init__\n",
      "  File \"src/lxml/apihelpers.pxi\", line 1680, in lxml.etree._tagValidOrRaise\n",
      "ValueError: Invalid tag name '<cyfunction Comment at 0x000001DB73381C80>'\n",
      "Traceback (most recent call last):\n",
      "  File \"<ipython-input-1-d648b050eb9b>\", line 152, in tojson\n",
      "    tag = etree.QName(elem.tag)\n",
      "  File \"src/lxml/etree.pyx\", line 1835, in lxml.etree.QName.__init__\n",
      "  File \"src/lxml/apihelpers.pxi\", line 1680, in lxml.etree._tagValidOrRaise\n",
      "ValueError: Invalid tag name '<cyfunction Comment at 0x000001DB73381C80>'\n",
      "Traceback (most recent call last):\n",
      "  File \"<ipython-input-1-d648b050eb9b>\", line 152, in tojson\n",
      "    tag = etree.QName(elem.tag)\n",
      "  File \"src/lxml/etree.pyx\", line 1835, in lxml.etree.QName.__init__\n",
      "  File \"src/lxml/apihelpers.pxi\", line 1680, in lxml.etree._tagValidOrRaise\n",
      "ValueError: Invalid tag name '<cyfunction Comment at 0x000001DB73381C80>'\n",
      "Traceback (most recent call last):\n",
      "  File \"<ipython-input-1-d648b050eb9b>\", line 152, in tojson\n",
      "    tag = etree.QName(elem.tag)\n",
      "  File \"src/lxml/etree.pyx\", line 1835, in lxml.etree.QName.__init__\n",
      "  File \"src/lxml/apihelpers.pxi\", line 1680, in lxml.etree._tagValidOrRaise\n",
      "ValueError: Invalid tag name '<cyfunction Comment at 0x000001DB73381C80>'\n",
      "Traceback (most recent call last):\n",
      "  File \"<ipython-input-1-d648b050eb9b>\", line 152, in tojson\n",
      "    tag = etree.QName(elem.tag)\n",
      "  File \"src/lxml/etree.pyx\", line 1835, in lxml.etree.QName.__init__\n",
      "  File \"src/lxml/apihelpers.pxi\", line 1680, in lxml.etree._tagValidOrRaise\n",
      "ValueError: Invalid tag name '<cyfunction Comment at 0x000001DB73381C80>'\n",
      "Traceback (most recent call last):\n",
      "  File \"<ipython-input-1-d648b050eb9b>\", line 152, in tojson\n",
      "    tag = etree.QName(elem.tag)\n",
      "  File \"src/lxml/etree.pyx\", line 1835, in lxml.etree.QName.__init__\n",
      "  File \"src/lxml/apihelpers.pxi\", line 1680, in lxml.etree._tagValidOrRaise\n",
      "ValueError: Invalid tag name '<cyfunction Comment at 0x000001DB73381C80>'\n"
     ]
    },
    {
     "name": "stderr",
     "output_type": "stream",
     "text": [
      "Traceback (most recent call last):\n",
      "  File \"<ipython-input-1-d648b050eb9b>\", line 152, in tojson\n",
      "    tag = etree.QName(elem.tag)\n",
      "  File \"src/lxml/etree.pyx\", line 1835, in lxml.etree.QName.__init__\n",
      "  File \"src/lxml/apihelpers.pxi\", line 1680, in lxml.etree._tagValidOrRaise\n",
      "ValueError: Invalid tag name '<cyfunction Comment at 0x000001DB73381C80>'\n",
      "Traceback (most recent call last):\n",
      "  File \"<ipython-input-1-d648b050eb9b>\", line 152, in tojson\n",
      "    tag = etree.QName(elem.tag)\n",
      "  File \"src/lxml/etree.pyx\", line 1835, in lxml.etree.QName.__init__\n",
      "  File \"src/lxml/apihelpers.pxi\", line 1680, in lxml.etree._tagValidOrRaise\n",
      "ValueError: Invalid tag name '<cyfunction Comment at 0x000001DB73381C80>'\n",
      "Traceback (most recent call last):\n",
      "  File \"<ipython-input-1-d648b050eb9b>\", line 152, in tojson\n",
      "    tag = etree.QName(elem.tag)\n",
      "  File \"src/lxml/etree.pyx\", line 1835, in lxml.etree.QName.__init__\n",
      "  File \"src/lxml/apihelpers.pxi\", line 1680, in lxml.etree._tagValidOrRaise\n",
      "ValueError: Invalid tag name '<cyfunction Comment at 0x000001DB73381C80>'\n",
      "Traceback (most recent call last):\n",
      "  File \"<ipython-input-1-d648b050eb9b>\", line 152, in tojson\n",
      "    tag = etree.QName(elem.tag)\n",
      "  File \"src/lxml/etree.pyx\", line 1835, in lxml.etree.QName.__init__\n",
      "  File \"src/lxml/apihelpers.pxi\", line 1680, in lxml.etree._tagValidOrRaise\n",
      "ValueError: Invalid tag name '<cyfunction Comment at 0x000001DB73381C80>'\n",
      "Traceback (most recent call last):\n",
      "  File \"<ipython-input-1-d648b050eb9b>\", line 152, in tojson\n",
      "    tag = etree.QName(elem.tag)\n",
      "  File \"src/lxml/etree.pyx\", line 1835, in lxml.etree.QName.__init__\n",
      "  File \"src/lxml/apihelpers.pxi\", line 1680, in lxml.etree._tagValidOrRaise\n",
      "ValueError: Invalid tag name '<cyfunction Comment at 0x000001DB73381C80>'\n",
      "Traceback (most recent call last):\n",
      "  File \"<ipython-input-1-d648b050eb9b>\", line 152, in tojson\n",
      "    tag = etree.QName(elem.tag)\n",
      "  File \"src/lxml/etree.pyx\", line 1835, in lxml.etree.QName.__init__\n",
      "  File \"src/lxml/apihelpers.pxi\", line 1680, in lxml.etree._tagValidOrRaise\n",
      "ValueError: Invalid tag name '<cyfunction Comment at 0x000001DB73381C80>'\n",
      "Traceback (most recent call last):\n",
      "  File \"<ipython-input-1-d648b050eb9b>\", line 152, in tojson\n",
      "    tag = etree.QName(elem.tag)\n",
      "  File \"src/lxml/etree.pyx\", line 1835, in lxml.etree.QName.__init__\n",
      "  File \"src/lxml/apihelpers.pxi\", line 1680, in lxml.etree._tagValidOrRaise\n",
      "ValueError: Invalid tag name '<cyfunction Comment at 0x000001DB73381C80>'\n",
      "Traceback (most recent call last):\n",
      "  File \"<ipython-input-1-d648b050eb9b>\", line 152, in tojson\n",
      "    tag = etree.QName(elem.tag)\n",
      "  File \"src/lxml/etree.pyx\", line 1835, in lxml.etree.QName.__init__\n",
      "  File \"src/lxml/apihelpers.pxi\", line 1680, in lxml.etree._tagValidOrRaise\n",
      "ValueError: Invalid tag name '<cyfunction Comment at 0x000001DB73381C80>'\n",
      "Traceback (most recent call last):\n",
      "  File \"<ipython-input-1-d648b050eb9b>\", line 152, in tojson\n",
      "    tag = etree.QName(elem.tag)\n",
      "  File \"src/lxml/etree.pyx\", line 1835, in lxml.etree.QName.__init__\n",
      "  File \"src/lxml/apihelpers.pxi\", line 1680, in lxml.etree._tagValidOrRaise\n",
      "ValueError: Invalid tag name '<cyfunction Comment at 0x000001DB73381C80>'\n",
      "Traceback (most recent call last):\n",
      "  File \"<ipython-input-1-d648b050eb9b>\", line 152, in tojson\n",
      "    tag = etree.QName(elem.tag)\n",
      "  File \"src/lxml/etree.pyx\", line 1835, in lxml.etree.QName.__init__\n",
      "  File \"src/lxml/apihelpers.pxi\", line 1680, in lxml.etree._tagValidOrRaise\n",
      "ValueError: Invalid tag name '<cyfunction Comment at 0x000001DB73381C80>'\n",
      "Traceback (most recent call last):\n",
      "  File \"<ipython-input-1-d648b050eb9b>\", line 152, in tojson\n",
      "    tag = etree.QName(elem.tag)\n",
      "  File \"src/lxml/etree.pyx\", line 1835, in lxml.etree.QName.__init__\n",
      "  File \"src/lxml/apihelpers.pxi\", line 1680, in lxml.etree._tagValidOrRaise\n",
      "ValueError: Invalid tag name '<cyfunction Comment at 0x000001DB73381C80>'\n",
      "Traceback (most recent call last):\n",
      "  File \"<ipython-input-1-d648b050eb9b>\", line 152, in tojson\n",
      "    tag = etree.QName(elem.tag)\n",
      "  File \"src/lxml/etree.pyx\", line 1835, in lxml.etree.QName.__init__\n",
      "  File \"src/lxml/apihelpers.pxi\", line 1680, in lxml.etree._tagValidOrRaise\n",
      "ValueError: Invalid tag name '<cyfunction Comment at 0x000001DB73381C80>'\n",
      "Traceback (most recent call last):\n",
      "  File \"<ipython-input-1-d648b050eb9b>\", line 152, in tojson\n",
      "    tag = etree.QName(elem.tag)\n",
      "  File \"src/lxml/etree.pyx\", line 1835, in lxml.etree.QName.__init__\n",
      "  File \"src/lxml/apihelpers.pxi\", line 1680, in lxml.etree._tagValidOrRaise\n",
      "ValueError: Invalid tag name '<cyfunction Comment at 0x000001DB73381C80>'\n",
      "Traceback (most recent call last):\n",
      "  File \"<ipython-input-1-d648b050eb9b>\", line 152, in tojson\n",
      "    tag = etree.QName(elem.tag)\n",
      "  File \"src/lxml/etree.pyx\", line 1835, in lxml.etree.QName.__init__\n",
      "  File \"src/lxml/apihelpers.pxi\", line 1680, in lxml.etree._tagValidOrRaise\n",
      "ValueError: Invalid tag name '<cyfunction Comment at 0x000001DB73381C80>'\n",
      "Traceback (most recent call last):\n",
      "  File \"<ipython-input-1-d648b050eb9b>\", line 152, in tojson\n",
      "    tag = etree.QName(elem.tag)\n",
      "  File \"src/lxml/etree.pyx\", line 1835, in lxml.etree.QName.__init__\n",
      "  File \"src/lxml/apihelpers.pxi\", line 1680, in lxml.etree._tagValidOrRaise\n",
      "ValueError: Invalid tag name '<cyfunction Comment at 0x000001DB73381C80>'\n",
      "Traceback (most recent call last):\n",
      "  File \"<ipython-input-1-d648b050eb9b>\", line 152, in tojson\n",
      "    tag = etree.QName(elem.tag)\n",
      "  File \"src/lxml/etree.pyx\", line 1835, in lxml.etree.QName.__init__\n",
      "  File \"src/lxml/apihelpers.pxi\", line 1680, in lxml.etree._tagValidOrRaise\n",
      "ValueError: Invalid tag name '<cyfunction Comment at 0x000001DB73381C80>'\n",
      "Traceback (most recent call last):\n",
      "  File \"<ipython-input-1-d648b050eb9b>\", line 152, in tojson\n",
      "    tag = etree.QName(elem.tag)\n",
      "  File \"src/lxml/etree.pyx\", line 1835, in lxml.etree.QName.__init__\n",
      "  File \"src/lxml/apihelpers.pxi\", line 1680, in lxml.etree._tagValidOrRaise\n",
      "ValueError: Invalid tag name '<cyfunction Comment at 0x000001DB73381C80>'\n",
      "Traceback (most recent call last):\n",
      "  File \"<ipython-input-1-d648b050eb9b>\", line 152, in tojson\n",
      "    tag = etree.QName(elem.tag)\n",
      "  File \"src/lxml/etree.pyx\", line 1835, in lxml.etree.QName.__init__\n",
      "  File \"src/lxml/apihelpers.pxi\", line 1680, in lxml.etree._tagValidOrRaise\n",
      "ValueError: Invalid tag name '<cyfunction Comment at 0x000001DB73381C80>'\n",
      "Traceback (most recent call last):\n",
      "  File \"<ipython-input-1-d648b050eb9b>\", line 152, in tojson\n",
      "    tag = etree.QName(elem.tag)\n",
      "  File \"src/lxml/etree.pyx\", line 1835, in lxml.etree.QName.__init__\n",
      "  File \"src/lxml/apihelpers.pxi\", line 1680, in lxml.etree._tagValidOrRaise\n",
      "ValueError: Invalid tag name '<cyfunction Comment at 0x000001DB73381C80>'\n",
      "Traceback (most recent call last):\n",
      "  File \"<ipython-input-1-d648b050eb9b>\", line 152, in tojson\n",
      "    tag = etree.QName(elem.tag)\n",
      "  File \"src/lxml/etree.pyx\", line 1835, in lxml.etree.QName.__init__\n",
      "  File \"src/lxml/apihelpers.pxi\", line 1680, in lxml.etree._tagValidOrRaise\n",
      "ValueError: Invalid tag name '<cyfunction Comment at 0x000001DB73381C80>'\n",
      "Traceback (most recent call last):\n",
      "  File \"<ipython-input-1-d648b050eb9b>\", line 152, in tojson\n",
      "    tag = etree.QName(elem.tag)\n",
      "  File \"src/lxml/etree.pyx\", line 1835, in lxml.etree.QName.__init__\n",
      "  File \"src/lxml/apihelpers.pxi\", line 1680, in lxml.etree._tagValidOrRaise\n",
      "ValueError: Invalid tag name '<cyfunction Comment at 0x000001DB73381C80>'\n",
      "Traceback (most recent call last):\n",
      "  File \"<ipython-input-1-d648b050eb9b>\", line 152, in tojson\n",
      "    tag = etree.QName(elem.tag)\n",
      "  File \"src/lxml/etree.pyx\", line 1835, in lxml.etree.QName.__init__\n",
      "  File \"src/lxml/apihelpers.pxi\", line 1680, in lxml.etree._tagValidOrRaise\n",
      "ValueError: Invalid tag name '<cyfunction Comment at 0x000001DB73381C80>'\n",
      "Traceback (most recent call last):\n",
      "  File \"<ipython-input-1-d648b050eb9b>\", line 152, in tojson\n",
      "    tag = etree.QName(elem.tag)\n",
      "  File \"src/lxml/etree.pyx\", line 1835, in lxml.etree.QName.__init__\n",
      "  File \"src/lxml/apihelpers.pxi\", line 1680, in lxml.etree._tagValidOrRaise\n",
      "ValueError: Invalid tag name '<cyfunction Comment at 0x000001DB73381C80>'\n",
      "Traceback (most recent call last):\n",
      "  File \"<ipython-input-1-d648b050eb9b>\", line 152, in tojson\n",
      "    tag = etree.QName(elem.tag)\n",
      "  File \"src/lxml/etree.pyx\", line 1835, in lxml.etree.QName.__init__\n",
      "  File \"src/lxml/apihelpers.pxi\", line 1680, in lxml.etree._tagValidOrRaise\n"
     ]
    },
    {
     "name": "stderr",
     "output_type": "stream",
     "text": [
      "ValueError: Invalid tag name '<cyfunction Comment at 0x000001DB73381C80>'\n",
      "Traceback (most recent call last):\n",
      "  File \"<ipython-input-1-d648b050eb9b>\", line 152, in tojson\n",
      "    tag = etree.QName(elem.tag)\n",
      "  File \"src/lxml/etree.pyx\", line 1835, in lxml.etree.QName.__init__\n",
      "  File \"src/lxml/apihelpers.pxi\", line 1680, in lxml.etree._tagValidOrRaise\n",
      "ValueError: Invalid tag name '<cyfunction Comment at 0x000001DB73381C80>'\n",
      "Traceback (most recent call last):\n",
      "  File \"<ipython-input-1-d648b050eb9b>\", line 152, in tojson\n",
      "    tag = etree.QName(elem.tag)\n",
      "  File \"src/lxml/etree.pyx\", line 1835, in lxml.etree.QName.__init__\n",
      "  File \"src/lxml/apihelpers.pxi\", line 1680, in lxml.etree._tagValidOrRaise\n",
      "ValueError: Invalid tag name '<cyfunction Comment at 0x000001DB73381C80>'\n",
      "Traceback (most recent call last):\n",
      "  File \"<ipython-input-1-d648b050eb9b>\", line 152, in tojson\n",
      "    tag = etree.QName(elem.tag)\n",
      "  File \"src/lxml/etree.pyx\", line 1835, in lxml.etree.QName.__init__\n",
      "  File \"src/lxml/apihelpers.pxi\", line 1680, in lxml.etree._tagValidOrRaise\n",
      "ValueError: Invalid tag name '<cyfunction Comment at 0x000001DB73381C80>'\n",
      "Traceback (most recent call last):\n",
      "  File \"<ipython-input-1-d648b050eb9b>\", line 152, in tojson\n",
      "    tag = etree.QName(elem.tag)\n",
      "  File \"src/lxml/etree.pyx\", line 1835, in lxml.etree.QName.__init__\n",
      "  File \"src/lxml/apihelpers.pxi\", line 1680, in lxml.etree._tagValidOrRaise\n",
      "ValueError: Invalid tag name '<cyfunction Comment at 0x000001DB73381C80>'\n",
      "Traceback (most recent call last):\n",
      "  File \"<ipython-input-1-d648b050eb9b>\", line 152, in tojson\n",
      "    tag = etree.QName(elem.tag)\n",
      "  File \"src/lxml/etree.pyx\", line 1835, in lxml.etree.QName.__init__\n",
      "  File \"src/lxml/apihelpers.pxi\", line 1680, in lxml.etree._tagValidOrRaise\n",
      "ValueError: Invalid tag name '<cyfunction Comment at 0x000001DB73381C80>'\n",
      "Traceback (most recent call last):\n",
      "  File \"<ipython-input-1-d648b050eb9b>\", line 152, in tojson\n",
      "    tag = etree.QName(elem.tag)\n",
      "  File \"src/lxml/etree.pyx\", line 1835, in lxml.etree.QName.__init__\n",
      "  File \"src/lxml/apihelpers.pxi\", line 1680, in lxml.etree._tagValidOrRaise\n",
      "ValueError: Invalid tag name '<cyfunction Comment at 0x000001DB73381C80>'\n",
      "Traceback (most recent call last):\n",
      "  File \"<ipython-input-1-d648b050eb9b>\", line 152, in tojson\n",
      "    tag = etree.QName(elem.tag)\n",
      "  File \"src/lxml/etree.pyx\", line 1835, in lxml.etree.QName.__init__\n",
      "  File \"src/lxml/apihelpers.pxi\", line 1680, in lxml.etree._tagValidOrRaise\n",
      "ValueError: Invalid tag name '<cyfunction Comment at 0x000001DB73381C80>'\n",
      "Traceback (most recent call last):\n",
      "  File \"<ipython-input-1-d648b050eb9b>\", line 152, in tojson\n",
      "    tag = etree.QName(elem.tag)\n",
      "  File \"src/lxml/etree.pyx\", line 1835, in lxml.etree.QName.__init__\n",
      "  File \"src/lxml/apihelpers.pxi\", line 1680, in lxml.etree._tagValidOrRaise\n",
      "ValueError: Invalid tag name '<cyfunction Comment at 0x000001DB73381C80>'\n",
      "Traceback (most recent call last):\n",
      "  File \"<ipython-input-1-d648b050eb9b>\", line 152, in tojson\n",
      "    tag = etree.QName(elem.tag)\n",
      "  File \"src/lxml/etree.pyx\", line 1835, in lxml.etree.QName.__init__\n",
      "  File \"src/lxml/apihelpers.pxi\", line 1680, in lxml.etree._tagValidOrRaise\n",
      "ValueError: Invalid tag name '<cyfunction Comment at 0x000001DB73381C80>'\n",
      "Traceback (most recent call last):\n",
      "  File \"<ipython-input-1-d648b050eb9b>\", line 152, in tojson\n",
      "    tag = etree.QName(elem.tag)\n",
      "  File \"src/lxml/etree.pyx\", line 1835, in lxml.etree.QName.__init__\n",
      "  File \"src/lxml/apihelpers.pxi\", line 1680, in lxml.etree._tagValidOrRaise\n",
      "ValueError: Invalid tag name '<cyfunction Comment at 0x000001DB73381C80>'\n",
      "Traceback (most recent call last):\n",
      "  File \"<ipython-input-1-d648b050eb9b>\", line 152, in tojson\n",
      "    tag = etree.QName(elem.tag)\n",
      "  File \"src/lxml/etree.pyx\", line 1835, in lxml.etree.QName.__init__\n",
      "  File \"src/lxml/apihelpers.pxi\", line 1680, in lxml.etree._tagValidOrRaise\n",
      "ValueError: Invalid tag name '<cyfunction Comment at 0x000001DB73381C80>'\n",
      "Traceback (most recent call last):\n",
      "  File \"<ipython-input-1-d648b050eb9b>\", line 152, in tojson\n",
      "    tag = etree.QName(elem.tag)\n",
      "  File \"src/lxml/etree.pyx\", line 1835, in lxml.etree.QName.__init__\n",
      "  File \"src/lxml/apihelpers.pxi\", line 1680, in lxml.etree._tagValidOrRaise\n",
      "ValueError: Invalid tag name '<cyfunction Comment at 0x000001DB73381C80>'\n",
      "Traceback (most recent call last):\n",
      "  File \"<ipython-input-1-d648b050eb9b>\", line 152, in tojson\n",
      "    tag = etree.QName(elem.tag)\n",
      "  File \"src/lxml/etree.pyx\", line 1835, in lxml.etree.QName.__init__\n",
      "  File \"src/lxml/apihelpers.pxi\", line 1680, in lxml.etree._tagValidOrRaise\n",
      "ValueError: Invalid tag name '<cyfunction Comment at 0x000001DB73381C80>'\n",
      "Traceback (most recent call last):\n",
      "  File \"<ipython-input-1-d648b050eb9b>\", line 152, in tojson\n",
      "    tag = etree.QName(elem.tag)\n",
      "  File \"src/lxml/etree.pyx\", line 1835, in lxml.etree.QName.__init__\n",
      "  File \"src/lxml/apihelpers.pxi\", line 1680, in lxml.etree._tagValidOrRaise\n",
      "ValueError: Invalid tag name '<cyfunction Comment at 0x000001DB73381C80>'\n",
      "Traceback (most recent call last):\n",
      "  File \"<ipython-input-1-d648b050eb9b>\", line 152, in tojson\n",
      "    tag = etree.QName(elem.tag)\n",
      "  File \"src/lxml/etree.pyx\", line 1835, in lxml.etree.QName.__init__\n",
      "  File \"src/lxml/apihelpers.pxi\", line 1680, in lxml.etree._tagValidOrRaise\n",
      "ValueError: Invalid tag name '<cyfunction Comment at 0x000001DB73381C80>'\n",
      "Traceback (most recent call last):\n",
      "  File \"<ipython-input-1-d648b050eb9b>\", line 152, in tojson\n",
      "    tag = etree.QName(elem.tag)\n",
      "  File \"src/lxml/etree.pyx\", line 1835, in lxml.etree.QName.__init__\n",
      "  File \"src/lxml/apihelpers.pxi\", line 1680, in lxml.etree._tagValidOrRaise\n",
      "ValueError: Invalid tag name '<cyfunction Comment at 0x000001DB73381C80>'\n",
      "Traceback (most recent call last):\n",
      "  File \"<ipython-input-1-d648b050eb9b>\", line 152, in tojson\n",
      "    tag = etree.QName(elem.tag)\n",
      "  File \"src/lxml/etree.pyx\", line 1835, in lxml.etree.QName.__init__\n",
      "  File \"src/lxml/apihelpers.pxi\", line 1680, in lxml.etree._tagValidOrRaise\n",
      "ValueError: Invalid tag name '<cyfunction Comment at 0x000001DB73381C80>'\n",
      "Traceback (most recent call last):\n",
      "  File \"<ipython-input-1-d648b050eb9b>\", line 152, in tojson\n",
      "    tag = etree.QName(elem.tag)\n",
      "  File \"src/lxml/etree.pyx\", line 1835, in lxml.etree.QName.__init__\n",
      "  File \"src/lxml/apihelpers.pxi\", line 1680, in lxml.etree._tagValidOrRaise\n",
      "ValueError: Invalid tag name '<cyfunction Comment at 0x000001DB73381C80>'\n",
      "Traceback (most recent call last):\n",
      "  File \"<ipython-input-1-d648b050eb9b>\", line 152, in tojson\n",
      "    tag = etree.QName(elem.tag)\n",
      "  File \"src/lxml/etree.pyx\", line 1835, in lxml.etree.QName.__init__\n",
      "  File \"src/lxml/apihelpers.pxi\", line 1680, in lxml.etree._tagValidOrRaise\n",
      "ValueError: Invalid tag name '<cyfunction Comment at 0x000001DB73381C80>'\n",
      "Traceback (most recent call last):\n",
      "  File \"<ipython-input-1-d648b050eb9b>\", line 152, in tojson\n",
      "    tag = etree.QName(elem.tag)\n",
      "  File \"src/lxml/etree.pyx\", line 1835, in lxml.etree.QName.__init__\n",
      "  File \"src/lxml/apihelpers.pxi\", line 1680, in lxml.etree._tagValidOrRaise\n",
      "ValueError: Invalid tag name '<cyfunction Comment at 0x000001DB73381C80>'\n",
      "Traceback (most recent call last):\n",
      "  File \"<ipython-input-1-d648b050eb9b>\", line 152, in tojson\n",
      "    tag = etree.QName(elem.tag)\n",
      "  File \"src/lxml/etree.pyx\", line 1835, in lxml.etree.QName.__init__\n",
      "  File \"src/lxml/apihelpers.pxi\", line 1680, in lxml.etree._tagValidOrRaise\n",
      "ValueError: Invalid tag name '<cyfunction Comment at 0x000001DB73381C80>'\n",
      "Traceback (most recent call last):\n",
      "  File \"<ipython-input-1-d648b050eb9b>\", line 152, in tojson\n",
      "    tag = etree.QName(elem.tag)\n",
      "  File \"src/lxml/etree.pyx\", line 1835, in lxml.etree.QName.__init__\n",
      "  File \"src/lxml/apihelpers.pxi\", line 1680, in lxml.etree._tagValidOrRaise\n",
      "ValueError: Invalid tag name '<cyfunction Comment at 0x000001DB73381C80>'\n",
      "Traceback (most recent call last):\n",
      "  File \"<ipython-input-1-d648b050eb9b>\", line 152, in tojson\n",
      "    tag = etree.QName(elem.tag)\n",
      "  File \"src/lxml/etree.pyx\", line 1835, in lxml.etree.QName.__init__\n",
      "  File \"src/lxml/apihelpers.pxi\", line 1680, in lxml.etree._tagValidOrRaise\n",
      "ValueError: Invalid tag name '<cyfunction Comment at 0x000001DB73381C80>'\n",
      "Traceback (most recent call last):\n",
      "  File \"<ipython-input-1-d648b050eb9b>\", line 152, in tojson\n",
      "    tag = etree.QName(elem.tag)\n",
      "  File \"src/lxml/etree.pyx\", line 1835, in lxml.etree.QName.__init__\n"
     ]
    },
    {
     "name": "stderr",
     "output_type": "stream",
     "text": [
      "  File \"src/lxml/apihelpers.pxi\", line 1680, in lxml.etree._tagValidOrRaise\n",
      "ValueError: Invalid tag name '<cyfunction Comment at 0x000001DB73381C80>'\n",
      "Traceback (most recent call last):\n",
      "  File \"<ipython-input-1-d648b050eb9b>\", line 152, in tojson\n",
      "    tag = etree.QName(elem.tag)\n",
      "  File \"src/lxml/etree.pyx\", line 1835, in lxml.etree.QName.__init__\n",
      "  File \"src/lxml/apihelpers.pxi\", line 1680, in lxml.etree._tagValidOrRaise\n",
      "ValueError: Invalid tag name '<cyfunction Comment at 0x000001DB73381C80>'\n",
      "Traceback (most recent call last):\n",
      "  File \"<ipython-input-1-d648b050eb9b>\", line 152, in tojson\n",
      "    tag = etree.QName(elem.tag)\n",
      "  File \"src/lxml/etree.pyx\", line 1835, in lxml.etree.QName.__init__\n",
      "  File \"src/lxml/apihelpers.pxi\", line 1680, in lxml.etree._tagValidOrRaise\n",
      "ValueError: Invalid tag name '<cyfunction Comment at 0x000001DB73381C80>'\n",
      "Traceback (most recent call last):\n",
      "  File \"<ipython-input-1-d648b050eb9b>\", line 152, in tojson\n",
      "    tag = etree.QName(elem.tag)\n",
      "  File \"src/lxml/etree.pyx\", line 1835, in lxml.etree.QName.__init__\n",
      "  File \"src/lxml/apihelpers.pxi\", line 1680, in lxml.etree._tagValidOrRaise\n",
      "ValueError: Invalid tag name '<cyfunction Comment at 0x000001DB73381C80>'\n",
      "Traceback (most recent call last):\n",
      "  File \"<ipython-input-1-d648b050eb9b>\", line 152, in tojson\n",
      "    tag = etree.QName(elem.tag)\n",
      "  File \"src/lxml/etree.pyx\", line 1835, in lxml.etree.QName.__init__\n",
      "  File \"src/lxml/apihelpers.pxi\", line 1680, in lxml.etree._tagValidOrRaise\n",
      "ValueError: Invalid tag name '<cyfunction Comment at 0x000001DB73381C80>'\n",
      "Traceback (most recent call last):\n",
      "  File \"<ipython-input-1-d648b050eb9b>\", line 152, in tojson\n",
      "    tag = etree.QName(elem.tag)\n",
      "  File \"src/lxml/etree.pyx\", line 1835, in lxml.etree.QName.__init__\n",
      "  File \"src/lxml/apihelpers.pxi\", line 1680, in lxml.etree._tagValidOrRaise\n",
      "ValueError: Invalid tag name '<cyfunction Comment at 0x000001DB73381C80>'\n",
      "Traceback (most recent call last):\n",
      "  File \"<ipython-input-1-d648b050eb9b>\", line 152, in tojson\n",
      "    tag = etree.QName(elem.tag)\n",
      "  File \"src/lxml/etree.pyx\", line 1835, in lxml.etree.QName.__init__\n",
      "  File \"src/lxml/apihelpers.pxi\", line 1680, in lxml.etree._tagValidOrRaise\n",
      "ValueError: Invalid tag name '<cyfunction Comment at 0x000001DB73381C80>'\n",
      "Traceback (most recent call last):\n",
      "  File \"<ipython-input-1-d648b050eb9b>\", line 152, in tojson\n",
      "    tag = etree.QName(elem.tag)\n",
      "  File \"src/lxml/etree.pyx\", line 1835, in lxml.etree.QName.__init__\n",
      "  File \"src/lxml/apihelpers.pxi\", line 1680, in lxml.etree._tagValidOrRaise\n",
      "ValueError: Invalid tag name '<cyfunction Comment at 0x000001DB73381C80>'\n",
      "Traceback (most recent call last):\n",
      "  File \"<ipython-input-1-d648b050eb9b>\", line 152, in tojson\n",
      "    tag = etree.QName(elem.tag)\n",
      "  File \"src/lxml/etree.pyx\", line 1835, in lxml.etree.QName.__init__\n",
      "  File \"src/lxml/apihelpers.pxi\", line 1680, in lxml.etree._tagValidOrRaise\n",
      "ValueError: Invalid tag name '<cyfunction Comment at 0x000001DB73381C80>'\n",
      "Traceback (most recent call last):\n",
      "  File \"<ipython-input-1-d648b050eb9b>\", line 152, in tojson\n",
      "    tag = etree.QName(elem.tag)\n",
      "  File \"src/lxml/etree.pyx\", line 1835, in lxml.etree.QName.__init__\n",
      "  File \"src/lxml/apihelpers.pxi\", line 1680, in lxml.etree._tagValidOrRaise\n",
      "ValueError: Invalid tag name '<cyfunction Comment at 0x000001DB73381C80>'\n",
      "Traceback (most recent call last):\n",
      "  File \"<ipython-input-1-d648b050eb9b>\", line 152, in tojson\n",
      "    tag = etree.QName(elem.tag)\n",
      "  File \"src/lxml/etree.pyx\", line 1835, in lxml.etree.QName.__init__\n",
      "  File \"src/lxml/apihelpers.pxi\", line 1680, in lxml.etree._tagValidOrRaise\n",
      "ValueError: Invalid tag name '<cyfunction Comment at 0x000001DB73381C80>'\n",
      "Traceback (most recent call last):\n",
      "  File \"<ipython-input-1-d648b050eb9b>\", line 152, in tojson\n",
      "    tag = etree.QName(elem.tag)\n",
      "  File \"src/lxml/etree.pyx\", line 1835, in lxml.etree.QName.__init__\n",
      "  File \"src/lxml/apihelpers.pxi\", line 1680, in lxml.etree._tagValidOrRaise\n",
      "ValueError: Invalid tag name '<cyfunction Comment at 0x000001DB73381C80>'\n",
      "Traceback (most recent call last):\n",
      "  File \"<ipython-input-1-d648b050eb9b>\", line 152, in tojson\n",
      "    tag = etree.QName(elem.tag)\n",
      "  File \"src/lxml/etree.pyx\", line 1835, in lxml.etree.QName.__init__\n",
      "  File \"src/lxml/apihelpers.pxi\", line 1680, in lxml.etree._tagValidOrRaise\n",
      "ValueError: Invalid tag name '<cyfunction Comment at 0x000001DB73381C80>'\n",
      "Traceback (most recent call last):\n",
      "  File \"<ipython-input-1-d648b050eb9b>\", line 152, in tojson\n",
      "    tag = etree.QName(elem.tag)\n",
      "  File \"src/lxml/etree.pyx\", line 1835, in lxml.etree.QName.__init__\n",
      "  File \"src/lxml/apihelpers.pxi\", line 1680, in lxml.etree._tagValidOrRaise\n",
      "ValueError: Invalid tag name '<cyfunction Comment at 0x000001DB73381C80>'\n",
      "Traceback (most recent call last):\n",
      "  File \"<ipython-input-1-d648b050eb9b>\", line 152, in tojson\n",
      "    tag = etree.QName(elem.tag)\n",
      "  File \"src/lxml/etree.pyx\", line 1835, in lxml.etree.QName.__init__\n",
      "  File \"src/lxml/apihelpers.pxi\", line 1680, in lxml.etree._tagValidOrRaise\n",
      "ValueError: Invalid tag name '<cyfunction Comment at 0x000001DB73381C80>'\n",
      "Traceback (most recent call last):\n",
      "  File \"<ipython-input-1-d648b050eb9b>\", line 152, in tojson\n",
      "    tag = etree.QName(elem.tag)\n",
      "  File \"src/lxml/etree.pyx\", line 1835, in lxml.etree.QName.__init__\n",
      "  File \"src/lxml/apihelpers.pxi\", line 1680, in lxml.etree._tagValidOrRaise\n",
      "ValueError: Invalid tag name '<cyfunction Comment at 0x000001DB73381C80>'\n",
      "Traceback (most recent call last):\n",
      "  File \"<ipython-input-1-d648b050eb9b>\", line 152, in tojson\n",
      "    tag = etree.QName(elem.tag)\n",
      "  File \"src/lxml/etree.pyx\", line 1835, in lxml.etree.QName.__init__\n",
      "  File \"src/lxml/apihelpers.pxi\", line 1680, in lxml.etree._tagValidOrRaise\n",
      "ValueError: Invalid tag name '<cyfunction Comment at 0x000001DB73381C80>'\n",
      "Traceback (most recent call last):\n",
      "  File \"<ipython-input-1-d648b050eb9b>\", line 152, in tojson\n",
      "    tag = etree.QName(elem.tag)\n",
      "  File \"src/lxml/etree.pyx\", line 1835, in lxml.etree.QName.__init__\n",
      "  File \"src/lxml/apihelpers.pxi\", line 1680, in lxml.etree._tagValidOrRaise\n",
      "ValueError: Invalid tag name '<cyfunction Comment at 0x000001DB73381C80>'\n",
      "Traceback (most recent call last):\n",
      "  File \"<ipython-input-1-d648b050eb9b>\", line 152, in tojson\n",
      "    tag = etree.QName(elem.tag)\n",
      "  File \"src/lxml/etree.pyx\", line 1835, in lxml.etree.QName.__init__\n",
      "  File \"src/lxml/apihelpers.pxi\", line 1680, in lxml.etree._tagValidOrRaise\n",
      "ValueError: Invalid tag name '<cyfunction Comment at 0x000001DB73381C80>'\n",
      "Traceback (most recent call last):\n",
      "  File \"<ipython-input-1-d648b050eb9b>\", line 152, in tojson\n",
      "    tag = etree.QName(elem.tag)\n",
      "  File \"src/lxml/etree.pyx\", line 1835, in lxml.etree.QName.__init__\n",
      "  File \"src/lxml/apihelpers.pxi\", line 1680, in lxml.etree._tagValidOrRaise\n",
      "ValueError: Invalid tag name '<cyfunction Comment at 0x000001DB73381C80>'\n",
      "Traceback (most recent call last):\n",
      "  File \"<ipython-input-1-d648b050eb9b>\", line 152, in tojson\n",
      "    tag = etree.QName(elem.tag)\n",
      "  File \"src/lxml/etree.pyx\", line 1835, in lxml.etree.QName.__init__\n",
      "  File \"src/lxml/apihelpers.pxi\", line 1680, in lxml.etree._tagValidOrRaise\n",
      "ValueError: Invalid tag name '<cyfunction Comment at 0x000001DB73381C80>'\n",
      "Traceback (most recent call last):\n",
      "  File \"<ipython-input-1-d648b050eb9b>\", line 152, in tojson\n",
      "    tag = etree.QName(elem.tag)\n",
      "  File \"src/lxml/etree.pyx\", line 1835, in lxml.etree.QName.__init__\n",
      "  File \"src/lxml/apihelpers.pxi\", line 1680, in lxml.etree._tagValidOrRaise\n",
      "ValueError: Invalid tag name '<cyfunction Comment at 0x000001DB73381C80>'\n",
      "Traceback (most recent call last):\n",
      "  File \"<ipython-input-1-d648b050eb9b>\", line 152, in tojson\n",
      "    tag = etree.QName(elem.tag)\n",
      "  File \"src/lxml/etree.pyx\", line 1835, in lxml.etree.QName.__init__\n",
      "  File \"src/lxml/apihelpers.pxi\", line 1680, in lxml.etree._tagValidOrRaise\n",
      "ValueError: Invalid tag name '<cyfunction Comment at 0x000001DB73381C80>'\n",
      "Traceback (most recent call last):\n",
      "  File \"<ipython-input-1-d648b050eb9b>\", line 152, in tojson\n",
      "    tag = etree.QName(elem.tag)\n",
      "  File \"src/lxml/etree.pyx\", line 1835, in lxml.etree.QName.__init__\n",
      "  File \"src/lxml/apihelpers.pxi\", line 1680, in lxml.etree._tagValidOrRaise\n",
      "ValueError: Invalid tag name '<cyfunction Comment at 0x000001DB73381C80>'\n",
      "Traceback (most recent call last):\n",
      "  File \"<ipython-input-1-d648b050eb9b>\", line 152, in tojson\n",
      "    tag = etree.QName(elem.tag)\n"
     ]
    },
    {
     "name": "stderr",
     "output_type": "stream",
     "text": [
      "  File \"src/lxml/etree.pyx\", line 1835, in lxml.etree.QName.__init__\n",
      "  File \"src/lxml/apihelpers.pxi\", line 1680, in lxml.etree._tagValidOrRaise\n",
      "ValueError: Invalid tag name '<cyfunction Comment at 0x000001DB73381C80>'\n",
      "Traceback (most recent call last):\n",
      "  File \"<ipython-input-1-d648b050eb9b>\", line 152, in tojson\n",
      "    tag = etree.QName(elem.tag)\n",
      "  File \"src/lxml/etree.pyx\", line 1835, in lxml.etree.QName.__init__\n",
      "  File \"src/lxml/apihelpers.pxi\", line 1680, in lxml.etree._tagValidOrRaise\n",
      "ValueError: Invalid tag name '<cyfunction Comment at 0x000001DB73381C80>'\n",
      "Traceback (most recent call last):\n",
      "  File \"<ipython-input-1-d648b050eb9b>\", line 152, in tojson\n",
      "    tag = etree.QName(elem.tag)\n",
      "  File \"src/lxml/etree.pyx\", line 1835, in lxml.etree.QName.__init__\n",
      "  File \"src/lxml/apihelpers.pxi\", line 1680, in lxml.etree._tagValidOrRaise\n",
      "ValueError: Invalid tag name '<cyfunction Comment at 0x000001DB73381C80>'\n",
      "Traceback (most recent call last):\n",
      "  File \"<ipython-input-1-d648b050eb9b>\", line 152, in tojson\n",
      "    tag = etree.QName(elem.tag)\n",
      "  File \"src/lxml/etree.pyx\", line 1835, in lxml.etree.QName.__init__\n",
      "  File \"src/lxml/apihelpers.pxi\", line 1680, in lxml.etree._tagValidOrRaise\n",
      "ValueError: Invalid tag name '<cyfunction Comment at 0x000001DB73381C80>'\n",
      "Traceback (most recent call last):\n",
      "  File \"<ipython-input-1-d648b050eb9b>\", line 152, in tojson\n",
      "    tag = etree.QName(elem.tag)\n",
      "  File \"src/lxml/etree.pyx\", line 1835, in lxml.etree.QName.__init__\n",
      "  File \"src/lxml/apihelpers.pxi\", line 1680, in lxml.etree._tagValidOrRaise\n",
      "ValueError: Invalid tag name '<cyfunction Comment at 0x000001DB73381C80>'\n",
      "Traceback (most recent call last):\n",
      "  File \"<ipython-input-1-d648b050eb9b>\", line 152, in tojson\n",
      "    tag = etree.QName(elem.tag)\n",
      "  File \"src/lxml/etree.pyx\", line 1835, in lxml.etree.QName.__init__\n",
      "  File \"src/lxml/apihelpers.pxi\", line 1680, in lxml.etree._tagValidOrRaise\n",
      "ValueError: Invalid tag name '<cyfunction Comment at 0x000001DB73381C80>'\n",
      "Traceback (most recent call last):\n",
      "  File \"<ipython-input-1-d648b050eb9b>\", line 152, in tojson\n",
      "    tag = etree.QName(elem.tag)\n",
      "  File \"src/lxml/etree.pyx\", line 1835, in lxml.etree.QName.__init__\n",
      "  File \"src/lxml/apihelpers.pxi\", line 1680, in lxml.etree._tagValidOrRaise\n",
      "ValueError: Invalid tag name '<cyfunction Comment at 0x000001DB73381C80>'\n",
      "Traceback (most recent call last):\n",
      "  File \"<ipython-input-1-d648b050eb9b>\", line 152, in tojson\n",
      "    tag = etree.QName(elem.tag)\n",
      "  File \"src/lxml/etree.pyx\", line 1835, in lxml.etree.QName.__init__\n",
      "  File \"src/lxml/apihelpers.pxi\", line 1680, in lxml.etree._tagValidOrRaise\n",
      "ValueError: Invalid tag name '<cyfunction Comment at 0x000001DB73381C80>'\n",
      "Traceback (most recent call last):\n",
      "  File \"<ipython-input-1-d648b050eb9b>\", line 152, in tojson\n",
      "    tag = etree.QName(elem.tag)\n",
      "  File \"src/lxml/etree.pyx\", line 1835, in lxml.etree.QName.__init__\n",
      "  File \"src/lxml/apihelpers.pxi\", line 1680, in lxml.etree._tagValidOrRaise\n",
      "ValueError: Invalid tag name '<cyfunction Comment at 0x000001DB73381C80>'\n",
      "Traceback (most recent call last):\n",
      "  File \"<ipython-input-1-d648b050eb9b>\", line 152, in tojson\n",
      "    tag = etree.QName(elem.tag)\n",
      "  File \"src/lxml/etree.pyx\", line 1835, in lxml.etree.QName.__init__\n",
      "  File \"src/lxml/apihelpers.pxi\", line 1680, in lxml.etree._tagValidOrRaise\n",
      "ValueError: Invalid tag name '<cyfunction Comment at 0x000001DB73381C80>'\n",
      "Traceback (most recent call last):\n",
      "  File \"<ipython-input-1-d648b050eb9b>\", line 152, in tojson\n",
      "    tag = etree.QName(elem.tag)\n",
      "  File \"src/lxml/etree.pyx\", line 1835, in lxml.etree.QName.__init__\n",
      "  File \"src/lxml/apihelpers.pxi\", line 1680, in lxml.etree._tagValidOrRaise\n",
      "ValueError: Invalid tag name '<cyfunction Comment at 0x000001DB73381C80>'\n",
      "Traceback (most recent call last):\n",
      "  File \"<ipython-input-1-d648b050eb9b>\", line 152, in tojson\n",
      "    tag = etree.QName(elem.tag)\n",
      "  File \"src/lxml/etree.pyx\", line 1835, in lxml.etree.QName.__init__\n",
      "  File \"src/lxml/apihelpers.pxi\", line 1680, in lxml.etree._tagValidOrRaise\n",
      "ValueError: Invalid tag name '<cyfunction Comment at 0x000001DB73381C80>'\n",
      "Traceback (most recent call last):\n",
      "  File \"<ipython-input-1-d648b050eb9b>\", line 152, in tojson\n",
      "    tag = etree.QName(elem.tag)\n",
      "  File \"src/lxml/etree.pyx\", line 1835, in lxml.etree.QName.__init__\n",
      "  File \"src/lxml/apihelpers.pxi\", line 1680, in lxml.etree._tagValidOrRaise\n",
      "ValueError: Invalid tag name '<cyfunction Comment at 0x000001DB73381C80>'\n",
      "Traceback (most recent call last):\n",
      "  File \"<ipython-input-1-d648b050eb9b>\", line 152, in tojson\n",
      "    tag = etree.QName(elem.tag)\n",
      "  File \"src/lxml/etree.pyx\", line 1835, in lxml.etree.QName.__init__\n",
      "  File \"src/lxml/apihelpers.pxi\", line 1680, in lxml.etree._tagValidOrRaise\n",
      "ValueError: Invalid tag name '<cyfunction Comment at 0x000001DB73381C80>'\n",
      "Traceback (most recent call last):\n",
      "  File \"<ipython-input-1-d648b050eb9b>\", line 152, in tojson\n",
      "    tag = etree.QName(elem.tag)\n",
      "  File \"src/lxml/etree.pyx\", line 1835, in lxml.etree.QName.__init__\n",
      "  File \"src/lxml/apihelpers.pxi\", line 1680, in lxml.etree._tagValidOrRaise\n",
      "ValueError: Invalid tag name '<cyfunction Comment at 0x000001DB73381C80>'\n",
      "Traceback (most recent call last):\n",
      "  File \"<ipython-input-1-d648b050eb9b>\", line 152, in tojson\n",
      "    tag = etree.QName(elem.tag)\n",
      "  File \"src/lxml/etree.pyx\", line 1835, in lxml.etree.QName.__init__\n",
      "  File \"src/lxml/apihelpers.pxi\", line 1680, in lxml.etree._tagValidOrRaise\n",
      "ValueError: Invalid tag name '<cyfunction Comment at 0x000001DB73381C80>'\n",
      "Traceback (most recent call last):\n",
      "  File \"<ipython-input-1-d648b050eb9b>\", line 152, in tojson\n",
      "    tag = etree.QName(elem.tag)\n",
      "  File \"src/lxml/etree.pyx\", line 1835, in lxml.etree.QName.__init__\n",
      "  File \"src/lxml/apihelpers.pxi\", line 1680, in lxml.etree._tagValidOrRaise\n",
      "ValueError: Invalid tag name '<cyfunction Comment at 0x000001DB73381C80>'\n",
      "Traceback (most recent call last):\n",
      "  File \"<ipython-input-1-d648b050eb9b>\", line 152, in tojson\n",
      "    tag = etree.QName(elem.tag)\n",
      "  File \"src/lxml/etree.pyx\", line 1835, in lxml.etree.QName.__init__\n",
      "  File \"src/lxml/apihelpers.pxi\", line 1680, in lxml.etree._tagValidOrRaise\n",
      "ValueError: Invalid tag name '<cyfunction Comment at 0x000001DB73381C80>'\n",
      "Traceback (most recent call last):\n",
      "  File \"<ipython-input-1-d648b050eb9b>\", line 152, in tojson\n",
      "    tag = etree.QName(elem.tag)\n",
      "  File \"src/lxml/etree.pyx\", line 1835, in lxml.etree.QName.__init__\n",
      "  File \"src/lxml/apihelpers.pxi\", line 1680, in lxml.etree._tagValidOrRaise\n",
      "ValueError: Invalid tag name '<cyfunction Comment at 0x000001DB73381C80>'\n",
      "Traceback (most recent call last):\n",
      "  File \"<ipython-input-1-d648b050eb9b>\", line 152, in tojson\n",
      "    tag = etree.QName(elem.tag)\n",
      "  File \"src/lxml/etree.pyx\", line 1835, in lxml.etree.QName.__init__\n",
      "  File \"src/lxml/apihelpers.pxi\", line 1680, in lxml.etree._tagValidOrRaise\n",
      "ValueError: Invalid tag name '<cyfunction Comment at 0x000001DB73381C80>'\n",
      "Traceback (most recent call last):\n",
      "  File \"<ipython-input-1-d648b050eb9b>\", line 152, in tojson\n",
      "    tag = etree.QName(elem.tag)\n",
      "  File \"src/lxml/etree.pyx\", line 1835, in lxml.etree.QName.__init__\n",
      "  File \"src/lxml/apihelpers.pxi\", line 1680, in lxml.etree._tagValidOrRaise\n",
      "ValueError: Invalid tag name '<cyfunction Comment at 0x000001DB73381C80>'\n",
      "Traceback (most recent call last):\n",
      "  File \"<ipython-input-1-d648b050eb9b>\", line 152, in tojson\n",
      "    tag = etree.QName(elem.tag)\n",
      "  File \"src/lxml/etree.pyx\", line 1835, in lxml.etree.QName.__init__\n",
      "  File \"src/lxml/apihelpers.pxi\", line 1680, in lxml.etree._tagValidOrRaise\n",
      "ValueError: Invalid tag name '<cyfunction Comment at 0x000001DB73381C80>'\n",
      "Traceback (most recent call last):\n",
      "  File \"<ipython-input-1-d648b050eb9b>\", line 152, in tojson\n",
      "    tag = etree.QName(elem.tag)\n",
      "  File \"src/lxml/etree.pyx\", line 1835, in lxml.etree.QName.__init__\n",
      "  File \"src/lxml/apihelpers.pxi\", line 1680, in lxml.etree._tagValidOrRaise\n",
      "ValueError: Invalid tag name '<cyfunction Comment at 0x000001DB73381C80>'\n",
      "Traceback (most recent call last):\n",
      "  File \"<ipython-input-1-d648b050eb9b>\", line 152, in tojson\n",
      "    tag = etree.QName(elem.tag)\n",
      "  File \"src/lxml/etree.pyx\", line 1835, in lxml.etree.QName.__init__\n",
      "  File \"src/lxml/apihelpers.pxi\", line 1680, in lxml.etree._tagValidOrRaise\n",
      "ValueError: Invalid tag name '<cyfunction Comment at 0x000001DB73381C80>'\n"
     ]
    },
    {
     "name": "stderr",
     "output_type": "stream",
     "text": [
      "Traceback (most recent call last):\n",
      "  File \"<ipython-input-1-d648b050eb9b>\", line 152, in tojson\n",
      "    tag = etree.QName(elem.tag)\n",
      "  File \"src/lxml/etree.pyx\", line 1835, in lxml.etree.QName.__init__\n",
      "  File \"src/lxml/apihelpers.pxi\", line 1680, in lxml.etree._tagValidOrRaise\n",
      "ValueError: Invalid tag name '<cyfunction Comment at 0x000001DB73381C80>'\n",
      "Traceback (most recent call last):\n",
      "  File \"<ipython-input-1-d648b050eb9b>\", line 152, in tojson\n",
      "    tag = etree.QName(elem.tag)\n",
      "  File \"src/lxml/etree.pyx\", line 1835, in lxml.etree.QName.__init__\n",
      "  File \"src/lxml/apihelpers.pxi\", line 1680, in lxml.etree._tagValidOrRaise\n",
      "ValueError: Invalid tag name '<cyfunction Comment at 0x000001DB73381C80>'\n",
      "Traceback (most recent call last):\n",
      "  File \"<ipython-input-1-d648b050eb9b>\", line 152, in tojson\n",
      "    tag = etree.QName(elem.tag)\n",
      "  File \"src/lxml/etree.pyx\", line 1835, in lxml.etree.QName.__init__\n",
      "  File \"src/lxml/apihelpers.pxi\", line 1680, in lxml.etree._tagValidOrRaise\n",
      "ValueError: Invalid tag name '<cyfunction Comment at 0x000001DB73381C80>'\n",
      "Traceback (most recent call last):\n",
      "  File \"<ipython-input-1-d648b050eb9b>\", line 152, in tojson\n",
      "    tag = etree.QName(elem.tag)\n",
      "  File \"src/lxml/etree.pyx\", line 1835, in lxml.etree.QName.__init__\n",
      "  File \"src/lxml/apihelpers.pxi\", line 1680, in lxml.etree._tagValidOrRaise\n",
      "ValueError: Invalid tag name '<cyfunction Comment at 0x000001DB73381C80>'\n",
      "Traceback (most recent call last):\n",
      "  File \"<ipython-input-1-d648b050eb9b>\", line 152, in tojson\n",
      "    tag = etree.QName(elem.tag)\n",
      "  File \"src/lxml/etree.pyx\", line 1835, in lxml.etree.QName.__init__\n",
      "  File \"src/lxml/apihelpers.pxi\", line 1680, in lxml.etree._tagValidOrRaise\n",
      "ValueError: Invalid tag name '<cyfunction Comment at 0x000001DB73381C80>'\n",
      "Traceback (most recent call last):\n",
      "  File \"<ipython-input-1-d648b050eb9b>\", line 152, in tojson\n",
      "    tag = etree.QName(elem.tag)\n",
      "  File \"src/lxml/etree.pyx\", line 1835, in lxml.etree.QName.__init__\n",
      "  File \"src/lxml/apihelpers.pxi\", line 1680, in lxml.etree._tagValidOrRaise\n",
      "ValueError: Invalid tag name '<cyfunction Comment at 0x000001DB73381C80>'\n",
      "Traceback (most recent call last):\n",
      "  File \"<ipython-input-1-d648b050eb9b>\", line 152, in tojson\n",
      "    tag = etree.QName(elem.tag)\n",
      "  File \"src/lxml/etree.pyx\", line 1835, in lxml.etree.QName.__init__\n",
      "  File \"src/lxml/apihelpers.pxi\", line 1680, in lxml.etree._tagValidOrRaise\n",
      "ValueError: Invalid tag name '<cyfunction Comment at 0x000001DB73381C80>'\n",
      "Traceback (most recent call last):\n",
      "  File \"<ipython-input-1-d648b050eb9b>\", line 152, in tojson\n",
      "    tag = etree.QName(elem.tag)\n",
      "  File \"src/lxml/etree.pyx\", line 1835, in lxml.etree.QName.__init__\n",
      "  File \"src/lxml/apihelpers.pxi\", line 1680, in lxml.etree._tagValidOrRaise\n",
      "ValueError: Invalid tag name '<cyfunction Comment at 0x000001DB73381C80>'\n",
      "Traceback (most recent call last):\n",
      "  File \"<ipython-input-1-d648b050eb9b>\", line 152, in tojson\n",
      "    tag = etree.QName(elem.tag)\n",
      "  File \"src/lxml/etree.pyx\", line 1835, in lxml.etree.QName.__init__\n",
      "  File \"src/lxml/apihelpers.pxi\", line 1680, in lxml.etree._tagValidOrRaise\n",
      "ValueError: Invalid tag name '<cyfunction Comment at 0x000001DB73381C80>'\n",
      "Traceback (most recent call last):\n",
      "  File \"<ipython-input-1-d648b050eb9b>\", line 152, in tojson\n",
      "    tag = etree.QName(elem.tag)\n",
      "  File \"src/lxml/etree.pyx\", line 1835, in lxml.etree.QName.__init__\n",
      "  File \"src/lxml/apihelpers.pxi\", line 1680, in lxml.etree._tagValidOrRaise\n",
      "ValueError: Invalid tag name '<cyfunction Comment at 0x000001DB73381C80>'\n",
      "Traceback (most recent call last):\n",
      "  File \"<ipython-input-1-d648b050eb9b>\", line 152, in tojson\n",
      "    tag = etree.QName(elem.tag)\n",
      "  File \"src/lxml/etree.pyx\", line 1835, in lxml.etree.QName.__init__\n",
      "  File \"src/lxml/apihelpers.pxi\", line 1680, in lxml.etree._tagValidOrRaise\n",
      "ValueError: Invalid tag name '<cyfunction Comment at 0x000001DB73381C80>'\n",
      "Traceback (most recent call last):\n",
      "  File \"<ipython-input-1-d648b050eb9b>\", line 152, in tojson\n",
      "    tag = etree.QName(elem.tag)\n",
      "  File \"src/lxml/etree.pyx\", line 1835, in lxml.etree.QName.__init__\n",
      "  File \"src/lxml/apihelpers.pxi\", line 1680, in lxml.etree._tagValidOrRaise\n",
      "ValueError: Invalid tag name '<cyfunction Comment at 0x000001DB73381C80>'\n",
      "Traceback (most recent call last):\n",
      "  File \"<ipython-input-1-d648b050eb9b>\", line 152, in tojson\n",
      "    tag = etree.QName(elem.tag)\n",
      "  File \"src/lxml/etree.pyx\", line 1835, in lxml.etree.QName.__init__\n",
      "  File \"src/lxml/apihelpers.pxi\", line 1680, in lxml.etree._tagValidOrRaise\n",
      "ValueError: Invalid tag name '<cyfunction Comment at 0x000001DB73381C80>'\n",
      "Traceback (most recent call last):\n",
      "  File \"<ipython-input-1-d648b050eb9b>\", line 152, in tojson\n",
      "    tag = etree.QName(elem.tag)\n",
      "  File \"src/lxml/etree.pyx\", line 1835, in lxml.etree.QName.__init__\n",
      "  File \"src/lxml/apihelpers.pxi\", line 1680, in lxml.etree._tagValidOrRaise\n",
      "ValueError: Invalid tag name '<cyfunction Comment at 0x000001DB73381C80>'\n",
      "Traceback (most recent call last):\n",
      "  File \"<ipython-input-1-d648b050eb9b>\", line 152, in tojson\n",
      "    tag = etree.QName(elem.tag)\n",
      "  File \"src/lxml/etree.pyx\", line 1835, in lxml.etree.QName.__init__\n",
      "  File \"src/lxml/apihelpers.pxi\", line 1680, in lxml.etree._tagValidOrRaise\n",
      "ValueError: Invalid tag name '<cyfunction Comment at 0x000001DB73381C80>'\n",
      "Traceback (most recent call last):\n",
      "  File \"<ipython-input-1-d648b050eb9b>\", line 152, in tojson\n",
      "    tag = etree.QName(elem.tag)\n",
      "  File \"src/lxml/etree.pyx\", line 1835, in lxml.etree.QName.__init__\n",
      "  File \"src/lxml/apihelpers.pxi\", line 1680, in lxml.etree._tagValidOrRaise\n",
      "ValueError: Invalid tag name '<cyfunction Comment at 0x000001DB73381C80>'\n",
      "Traceback (most recent call last):\n",
      "  File \"<ipython-input-1-d648b050eb9b>\", line 152, in tojson\n",
      "    tag = etree.QName(elem.tag)\n",
      "  File \"src/lxml/etree.pyx\", line 1835, in lxml.etree.QName.__init__\n",
      "  File \"src/lxml/apihelpers.pxi\", line 1680, in lxml.etree._tagValidOrRaise\n",
      "ValueError: Invalid tag name '<cyfunction Comment at 0x000001DB73381C80>'\n",
      "Traceback (most recent call last):\n",
      "  File \"<ipython-input-1-d648b050eb9b>\", line 152, in tojson\n",
      "    tag = etree.QName(elem.tag)\n",
      "  File \"src/lxml/etree.pyx\", line 1835, in lxml.etree.QName.__init__\n",
      "  File \"src/lxml/apihelpers.pxi\", line 1680, in lxml.etree._tagValidOrRaise\n",
      "ValueError: Invalid tag name '<cyfunction Comment at 0x000001DB73381C80>'\n",
      "Traceback (most recent call last):\n",
      "  File \"<ipython-input-1-d648b050eb9b>\", line 152, in tojson\n",
      "    tag = etree.QName(elem.tag)\n",
      "  File \"src/lxml/etree.pyx\", line 1835, in lxml.etree.QName.__init__\n",
      "  File \"src/lxml/apihelpers.pxi\", line 1680, in lxml.etree._tagValidOrRaise\n",
      "ValueError: Invalid tag name '<cyfunction Comment at 0x000001DB73381C80>'\n",
      "Traceback (most recent call last):\n",
      "  File \"<ipython-input-1-d648b050eb9b>\", line 152, in tojson\n",
      "    tag = etree.QName(elem.tag)\n",
      "  File \"src/lxml/etree.pyx\", line 1835, in lxml.etree.QName.__init__\n",
      "  File \"src/lxml/apihelpers.pxi\", line 1680, in lxml.etree._tagValidOrRaise\n",
      "ValueError: Invalid tag name '<cyfunction Comment at 0x000001DB73381C80>'\n",
      "Traceback (most recent call last):\n",
      "  File \"<ipython-input-1-d648b050eb9b>\", line 152, in tojson\n",
      "    tag = etree.QName(elem.tag)\n",
      "  File \"src/lxml/etree.pyx\", line 1835, in lxml.etree.QName.__init__\n",
      "  File \"src/lxml/apihelpers.pxi\", line 1680, in lxml.etree._tagValidOrRaise\n",
      "ValueError: Invalid tag name '<cyfunction Comment at 0x000001DB73381C80>'\n",
      "Traceback (most recent call last):\n",
      "  File \"<ipython-input-1-d648b050eb9b>\", line 152, in tojson\n",
      "    tag = etree.QName(elem.tag)\n",
      "  File \"src/lxml/etree.pyx\", line 1835, in lxml.etree.QName.__init__\n",
      "  File \"src/lxml/apihelpers.pxi\", line 1680, in lxml.etree._tagValidOrRaise\n",
      "ValueError: Invalid tag name '<cyfunction Comment at 0x000001DB73381C80>'\n",
      "Traceback (most recent call last):\n",
      "  File \"<ipython-input-1-d648b050eb9b>\", line 152, in tojson\n",
      "    tag = etree.QName(elem.tag)\n",
      "  File \"src/lxml/etree.pyx\", line 1835, in lxml.etree.QName.__init__\n",
      "  File \"src/lxml/apihelpers.pxi\", line 1680, in lxml.etree._tagValidOrRaise\n",
      "ValueError: Invalid tag name '<cyfunction Comment at 0x000001DB73381C80>'\n",
      "Traceback (most recent call last):\n",
      "  File \"<ipython-input-1-d648b050eb9b>\", line 152, in tojson\n",
      "    tag = etree.QName(elem.tag)\n",
      "  File \"src/lxml/etree.pyx\", line 1835, in lxml.etree.QName.__init__\n",
      "  File \"src/lxml/apihelpers.pxi\", line 1680, in lxml.etree._tagValidOrRaise\n"
     ]
    },
    {
     "name": "stderr",
     "output_type": "stream",
     "text": [
      "ValueError: Invalid tag name '<cyfunction Comment at 0x000001DB73381C80>'\n",
      "Traceback (most recent call last):\n",
      "  File \"<ipython-input-1-d648b050eb9b>\", line 152, in tojson\n",
      "    tag = etree.QName(elem.tag)\n",
      "  File \"src/lxml/etree.pyx\", line 1835, in lxml.etree.QName.__init__\n",
      "  File \"src/lxml/apihelpers.pxi\", line 1680, in lxml.etree._tagValidOrRaise\n",
      "ValueError: Invalid tag name '<cyfunction Comment at 0x000001DB73381C80>'\n",
      "Traceback (most recent call last):\n",
      "  File \"<ipython-input-1-d648b050eb9b>\", line 152, in tojson\n",
      "    tag = etree.QName(elem.tag)\n",
      "  File \"src/lxml/etree.pyx\", line 1835, in lxml.etree.QName.__init__\n",
      "  File \"src/lxml/apihelpers.pxi\", line 1680, in lxml.etree._tagValidOrRaise\n",
      "ValueError: Invalid tag name '<cyfunction Comment at 0x000001DB73381C80>'\n",
      "Traceback (most recent call last):\n",
      "  File \"<ipython-input-1-d648b050eb9b>\", line 152, in tojson\n",
      "    tag = etree.QName(elem.tag)\n",
      "  File \"src/lxml/etree.pyx\", line 1835, in lxml.etree.QName.__init__\n",
      "  File \"src/lxml/apihelpers.pxi\", line 1680, in lxml.etree._tagValidOrRaise\n",
      "ValueError: Invalid tag name '<cyfunction Comment at 0x000001DB73381C80>'\n",
      "Traceback (most recent call last):\n",
      "  File \"<ipython-input-1-d648b050eb9b>\", line 152, in tojson\n",
      "    tag = etree.QName(elem.tag)\n",
      "  File \"src/lxml/etree.pyx\", line 1835, in lxml.etree.QName.__init__\n",
      "  File \"src/lxml/apihelpers.pxi\", line 1680, in lxml.etree._tagValidOrRaise\n",
      "ValueError: Invalid tag name '<cyfunction Comment at 0x000001DB73381C80>'\n",
      "Traceback (most recent call last):\n",
      "  File \"<ipython-input-1-d648b050eb9b>\", line 152, in tojson\n",
      "    tag = etree.QName(elem.tag)\n",
      "  File \"src/lxml/etree.pyx\", line 1835, in lxml.etree.QName.__init__\n",
      "  File \"src/lxml/apihelpers.pxi\", line 1680, in lxml.etree._tagValidOrRaise\n",
      "ValueError: Invalid tag name '<cyfunction Comment at 0x000001DB73381C80>'\n",
      "Traceback (most recent call last):\n",
      "  File \"<ipython-input-1-d648b050eb9b>\", line 152, in tojson\n",
      "    tag = etree.QName(elem.tag)\n",
      "  File \"src/lxml/etree.pyx\", line 1835, in lxml.etree.QName.__init__\n",
      "  File \"src/lxml/apihelpers.pxi\", line 1680, in lxml.etree._tagValidOrRaise\n",
      "ValueError: Invalid tag name '<cyfunction Comment at 0x000001DB73381C80>'\n",
      "Traceback (most recent call last):\n",
      "  File \"<ipython-input-1-d648b050eb9b>\", line 152, in tojson\n",
      "    tag = etree.QName(elem.tag)\n",
      "  File \"src/lxml/etree.pyx\", line 1835, in lxml.etree.QName.__init__\n",
      "  File \"src/lxml/apihelpers.pxi\", line 1680, in lxml.etree._tagValidOrRaise\n",
      "ValueError: Invalid tag name '<cyfunction Comment at 0x000001DB73381C80>'\n",
      "Traceback (most recent call last):\n",
      "  File \"<ipython-input-1-d648b050eb9b>\", line 152, in tojson\n",
      "    tag = etree.QName(elem.tag)\n",
      "  File \"src/lxml/etree.pyx\", line 1835, in lxml.etree.QName.__init__\n",
      "  File \"src/lxml/apihelpers.pxi\", line 1680, in lxml.etree._tagValidOrRaise\n",
      "ValueError: Invalid tag name '<cyfunction Comment at 0x000001DB73381C80>'\n",
      "Traceback (most recent call last):\n",
      "  File \"<ipython-input-1-d648b050eb9b>\", line 152, in tojson\n",
      "    tag = etree.QName(elem.tag)\n",
      "  File \"src/lxml/etree.pyx\", line 1835, in lxml.etree.QName.__init__\n",
      "  File \"src/lxml/apihelpers.pxi\", line 1680, in lxml.etree._tagValidOrRaise\n",
      "ValueError: Invalid tag name '<cyfunction Comment at 0x000001DB73381C80>'\n",
      "Traceback (most recent call last):\n",
      "  File \"<ipython-input-1-d648b050eb9b>\", line 152, in tojson\n",
      "    tag = etree.QName(elem.tag)\n",
      "  File \"src/lxml/etree.pyx\", line 1835, in lxml.etree.QName.__init__\n",
      "  File \"src/lxml/apihelpers.pxi\", line 1680, in lxml.etree._tagValidOrRaise\n",
      "ValueError: Invalid tag name '<cyfunction Comment at 0x000001DB73381C80>'\n",
      "Traceback (most recent call last):\n",
      "  File \"<ipython-input-1-d648b050eb9b>\", line 152, in tojson\n",
      "    tag = etree.QName(elem.tag)\n",
      "  File \"src/lxml/etree.pyx\", line 1835, in lxml.etree.QName.__init__\n",
      "  File \"src/lxml/apihelpers.pxi\", line 1680, in lxml.etree._tagValidOrRaise\n",
      "ValueError: Invalid tag name '<cyfunction Comment at 0x000001DB73381C80>'\n",
      "Traceback (most recent call last):\n",
      "  File \"<ipython-input-1-d648b050eb9b>\", line 152, in tojson\n",
      "    tag = etree.QName(elem.tag)\n",
      "  File \"src/lxml/etree.pyx\", line 1835, in lxml.etree.QName.__init__\n",
      "  File \"src/lxml/apihelpers.pxi\", line 1680, in lxml.etree._tagValidOrRaise\n",
      "ValueError: Invalid tag name '<cyfunction Comment at 0x000001DB73381C80>'\n",
      "Traceback (most recent call last):\n",
      "  File \"<ipython-input-1-d648b050eb9b>\", line 152, in tojson\n",
      "    tag = etree.QName(elem.tag)\n",
      "  File \"src/lxml/etree.pyx\", line 1835, in lxml.etree.QName.__init__\n",
      "  File \"src/lxml/apihelpers.pxi\", line 1680, in lxml.etree._tagValidOrRaise\n",
      "ValueError: Invalid tag name '<cyfunction Comment at 0x000001DB73381C80>'\n",
      "Traceback (most recent call last):\n",
      "  File \"<ipython-input-1-d648b050eb9b>\", line 152, in tojson\n",
      "    tag = etree.QName(elem.tag)\n",
      "  File \"src/lxml/etree.pyx\", line 1835, in lxml.etree.QName.__init__\n",
      "  File \"src/lxml/apihelpers.pxi\", line 1680, in lxml.etree._tagValidOrRaise\n",
      "ValueError: Invalid tag name '<cyfunction Comment at 0x000001DB73381C80>'\n",
      "Traceback (most recent call last):\n",
      "  File \"<ipython-input-1-d648b050eb9b>\", line 152, in tojson\n",
      "    tag = etree.QName(elem.tag)\n",
      "  File \"src/lxml/etree.pyx\", line 1835, in lxml.etree.QName.__init__\n",
      "  File \"src/lxml/apihelpers.pxi\", line 1680, in lxml.etree._tagValidOrRaise\n",
      "ValueError: Invalid tag name '<cyfunction Comment at 0x000001DB73381C80>'\n",
      "Traceback (most recent call last):\n",
      "  File \"<ipython-input-1-d648b050eb9b>\", line 152, in tojson\n",
      "    tag = etree.QName(elem.tag)\n",
      "  File \"src/lxml/etree.pyx\", line 1835, in lxml.etree.QName.__init__\n",
      "  File \"src/lxml/apihelpers.pxi\", line 1680, in lxml.etree._tagValidOrRaise\n",
      "ValueError: Invalid tag name '<cyfunction Comment at 0x000001DB73381C80>'\n",
      "Traceback (most recent call last):\n",
      "  File \"<ipython-input-1-d648b050eb9b>\", line 152, in tojson\n",
      "    tag = etree.QName(elem.tag)\n",
      "  File \"src/lxml/etree.pyx\", line 1835, in lxml.etree.QName.__init__\n",
      "  File \"src/lxml/apihelpers.pxi\", line 1680, in lxml.etree._tagValidOrRaise\n",
      "ValueError: Invalid tag name '<cyfunction Comment at 0x000001DB73381C80>'\n",
      "Traceback (most recent call last):\n",
      "  File \"<ipython-input-1-d648b050eb9b>\", line 152, in tojson\n",
      "    tag = etree.QName(elem.tag)\n",
      "  File \"src/lxml/etree.pyx\", line 1835, in lxml.etree.QName.__init__\n",
      "  File \"src/lxml/apihelpers.pxi\", line 1680, in lxml.etree._tagValidOrRaise\n",
      "ValueError: Invalid tag name '<cyfunction Comment at 0x000001DB73381C80>'\n",
      "Traceback (most recent call last):\n",
      "  File \"<ipython-input-1-d648b050eb9b>\", line 152, in tojson\n",
      "    tag = etree.QName(elem.tag)\n",
      "  File \"src/lxml/etree.pyx\", line 1835, in lxml.etree.QName.__init__\n",
      "  File \"src/lxml/apihelpers.pxi\", line 1680, in lxml.etree._tagValidOrRaise\n",
      "ValueError: Invalid tag name '<cyfunction Comment at 0x000001DB73381C80>'\n",
      "Traceback (most recent call last):\n",
      "  File \"<ipython-input-1-d648b050eb9b>\", line 152, in tojson\n",
      "    tag = etree.QName(elem.tag)\n",
      "  File \"src/lxml/etree.pyx\", line 1835, in lxml.etree.QName.__init__\n",
      "  File \"src/lxml/apihelpers.pxi\", line 1680, in lxml.etree._tagValidOrRaise\n",
      "ValueError: Invalid tag name '<cyfunction Comment at 0x000001DB73381C80>'\n",
      "Traceback (most recent call last):\n",
      "  File \"<ipython-input-1-d648b050eb9b>\", line 152, in tojson\n",
      "    tag = etree.QName(elem.tag)\n",
      "  File \"src/lxml/etree.pyx\", line 1835, in lxml.etree.QName.__init__\n",
      "  File \"src/lxml/apihelpers.pxi\", line 1680, in lxml.etree._tagValidOrRaise\n",
      "ValueError: Invalid tag name '<cyfunction Comment at 0x000001DB73381C80>'\n",
      "Traceback (most recent call last):\n",
      "  File \"<ipython-input-1-d648b050eb9b>\", line 152, in tojson\n",
      "    tag = etree.QName(elem.tag)\n",
      "  File \"src/lxml/etree.pyx\", line 1835, in lxml.etree.QName.__init__\n",
      "  File \"src/lxml/apihelpers.pxi\", line 1680, in lxml.etree._tagValidOrRaise\n",
      "ValueError: Invalid tag name '<cyfunction Comment at 0x000001DB73381C80>'\n",
      "Traceback (most recent call last):\n",
      "  File \"<ipython-input-1-d648b050eb9b>\", line 152, in tojson\n",
      "    tag = etree.QName(elem.tag)\n",
      "  File \"src/lxml/etree.pyx\", line 1835, in lxml.etree.QName.__init__\n",
      "  File \"src/lxml/apihelpers.pxi\", line 1680, in lxml.etree._tagValidOrRaise\n",
      "ValueError: Invalid tag name '<cyfunction Comment at 0x000001DB73381C80>'\n",
      "Traceback (most recent call last):\n",
      "  File \"<ipython-input-1-d648b050eb9b>\", line 152, in tojson\n",
      "    tag = etree.QName(elem.tag)\n",
      "  File \"src/lxml/etree.pyx\", line 1835, in lxml.etree.QName.__init__\n"
     ]
    },
    {
     "name": "stderr",
     "output_type": "stream",
     "text": [
      "  File \"src/lxml/apihelpers.pxi\", line 1680, in lxml.etree._tagValidOrRaise\n",
      "ValueError: Invalid tag name '<cyfunction Comment at 0x000001DB73381C80>'\n",
      "Traceback (most recent call last):\n",
      "  File \"<ipython-input-1-d648b050eb9b>\", line 152, in tojson\n",
      "    tag = etree.QName(elem.tag)\n",
      "  File \"src/lxml/etree.pyx\", line 1835, in lxml.etree.QName.__init__\n",
      "  File \"src/lxml/apihelpers.pxi\", line 1680, in lxml.etree._tagValidOrRaise\n",
      "ValueError: Invalid tag name '<cyfunction Comment at 0x000001DB73381C80>'\n",
      "Traceback (most recent call last):\n",
      "  File \"<ipython-input-1-d648b050eb9b>\", line 152, in tojson\n",
      "    tag = etree.QName(elem.tag)\n",
      "  File \"src/lxml/etree.pyx\", line 1835, in lxml.etree.QName.__init__\n",
      "  File \"src/lxml/apihelpers.pxi\", line 1680, in lxml.etree._tagValidOrRaise\n",
      "ValueError: Invalid tag name '<cyfunction Comment at 0x000001DB73381C80>'\n",
      "Traceback (most recent call last):\n",
      "  File \"<ipython-input-1-d648b050eb9b>\", line 152, in tojson\n",
      "    tag = etree.QName(elem.tag)\n",
      "  File \"src/lxml/etree.pyx\", line 1835, in lxml.etree.QName.__init__\n",
      "  File \"src/lxml/apihelpers.pxi\", line 1680, in lxml.etree._tagValidOrRaise\n",
      "ValueError: Invalid tag name '<cyfunction Comment at 0x000001DB73381C80>'\n",
      "Traceback (most recent call last):\n",
      "  File \"<ipython-input-1-d648b050eb9b>\", line 152, in tojson\n",
      "    tag = etree.QName(elem.tag)\n",
      "  File \"src/lxml/etree.pyx\", line 1835, in lxml.etree.QName.__init__\n",
      "  File \"src/lxml/apihelpers.pxi\", line 1680, in lxml.etree._tagValidOrRaise\n",
      "ValueError: Invalid tag name '<cyfunction Comment at 0x000001DB73381C80>'\n",
      "Traceback (most recent call last):\n",
      "  File \"<ipython-input-1-d648b050eb9b>\", line 152, in tojson\n",
      "    tag = etree.QName(elem.tag)\n",
      "  File \"src/lxml/etree.pyx\", line 1835, in lxml.etree.QName.__init__\n",
      "  File \"src/lxml/apihelpers.pxi\", line 1680, in lxml.etree._tagValidOrRaise\n",
      "ValueError: Invalid tag name '<cyfunction Comment at 0x000001DB73381C80>'\n",
      "Traceback (most recent call last):\n",
      "  File \"<ipython-input-1-d648b050eb9b>\", line 152, in tojson\n",
      "    tag = etree.QName(elem.tag)\n",
      "  File \"src/lxml/etree.pyx\", line 1835, in lxml.etree.QName.__init__\n",
      "  File \"src/lxml/apihelpers.pxi\", line 1680, in lxml.etree._tagValidOrRaise\n",
      "ValueError: Invalid tag name '<cyfunction Comment at 0x000001DB73381C80>'\n",
      "Traceback (most recent call last):\n",
      "  File \"<ipython-input-1-d648b050eb9b>\", line 152, in tojson\n",
      "    tag = etree.QName(elem.tag)\n",
      "  File \"src/lxml/etree.pyx\", line 1835, in lxml.etree.QName.__init__\n",
      "  File \"src/lxml/apihelpers.pxi\", line 1680, in lxml.etree._tagValidOrRaise\n",
      "ValueError: Invalid tag name '<cyfunction Comment at 0x000001DB73381C80>'\n",
      "Traceback (most recent call last):\n",
      "  File \"<ipython-input-1-d648b050eb9b>\", line 152, in tojson\n",
      "    tag = etree.QName(elem.tag)\n",
      "  File \"src/lxml/etree.pyx\", line 1835, in lxml.etree.QName.__init__\n",
      "  File \"src/lxml/apihelpers.pxi\", line 1680, in lxml.etree._tagValidOrRaise\n",
      "ValueError: Invalid tag name '<cyfunction Comment at 0x000001DB73381C80>'\n",
      "Traceback (most recent call last):\n",
      "  File \"<ipython-input-1-d648b050eb9b>\", line 152, in tojson\n",
      "    tag = etree.QName(elem.tag)\n",
      "  File \"src/lxml/etree.pyx\", line 1835, in lxml.etree.QName.__init__\n",
      "  File \"src/lxml/apihelpers.pxi\", line 1680, in lxml.etree._tagValidOrRaise\n",
      "ValueError: Invalid tag name '<cyfunction Comment at 0x000001DB73381C80>'\n",
      "Traceback (most recent call last):\n",
      "  File \"<ipython-input-1-d648b050eb9b>\", line 152, in tojson\n",
      "    tag = etree.QName(elem.tag)\n",
      "  File \"src/lxml/etree.pyx\", line 1835, in lxml.etree.QName.__init__\n",
      "  File \"src/lxml/apihelpers.pxi\", line 1680, in lxml.etree._tagValidOrRaise\n",
      "ValueError: Invalid tag name '<cyfunction Comment at 0x000001DB73381C80>'\n",
      "Traceback (most recent call last):\n",
      "  File \"<ipython-input-1-d648b050eb9b>\", line 152, in tojson\n",
      "    tag = etree.QName(elem.tag)\n",
      "  File \"src/lxml/etree.pyx\", line 1835, in lxml.etree.QName.__init__\n",
      "  File \"src/lxml/apihelpers.pxi\", line 1680, in lxml.etree._tagValidOrRaise\n",
      "ValueError: Invalid tag name '<cyfunction Comment at 0x000001DB73381C80>'\n",
      "Traceback (most recent call last):\n",
      "  File \"<ipython-input-1-d648b050eb9b>\", line 152, in tojson\n",
      "    tag = etree.QName(elem.tag)\n",
      "  File \"src/lxml/etree.pyx\", line 1835, in lxml.etree.QName.__init__\n",
      "  File \"src/lxml/apihelpers.pxi\", line 1680, in lxml.etree._tagValidOrRaise\n",
      "ValueError: Invalid tag name '<cyfunction Comment at 0x000001DB73381C80>'\n",
      "Traceback (most recent call last):\n",
      "  File \"<ipython-input-1-d648b050eb9b>\", line 152, in tojson\n",
      "    tag = etree.QName(elem.tag)\n",
      "  File \"src/lxml/etree.pyx\", line 1835, in lxml.etree.QName.__init__\n",
      "  File \"src/lxml/apihelpers.pxi\", line 1680, in lxml.etree._tagValidOrRaise\n",
      "ValueError: Invalid tag name '<cyfunction Comment at 0x000001DB73381C80>'\n",
      "Traceback (most recent call last):\n",
      "  File \"<ipython-input-1-d648b050eb9b>\", line 152, in tojson\n",
      "    tag = etree.QName(elem.tag)\n",
      "  File \"src/lxml/etree.pyx\", line 1835, in lxml.etree.QName.__init__\n",
      "  File \"src/lxml/apihelpers.pxi\", line 1680, in lxml.etree._tagValidOrRaise\n",
      "ValueError: Invalid tag name '<cyfunction Comment at 0x000001DB73381C80>'\n",
      "Traceback (most recent call last):\n",
      "  File \"<ipython-input-1-d648b050eb9b>\", line 152, in tojson\n",
      "    tag = etree.QName(elem.tag)\n",
      "  File \"src/lxml/etree.pyx\", line 1835, in lxml.etree.QName.__init__\n",
      "  File \"src/lxml/apihelpers.pxi\", line 1680, in lxml.etree._tagValidOrRaise\n",
      "ValueError: Invalid tag name '<cyfunction Comment at 0x000001DB73381C80>'\n",
      "Traceback (most recent call last):\n",
      "  File \"<ipython-input-1-d648b050eb9b>\", line 152, in tojson\n",
      "    tag = etree.QName(elem.tag)\n",
      "  File \"src/lxml/etree.pyx\", line 1835, in lxml.etree.QName.__init__\n",
      "  File \"src/lxml/apihelpers.pxi\", line 1680, in lxml.etree._tagValidOrRaise\n",
      "ValueError: Invalid tag name '<cyfunction Comment at 0x000001DB73381C80>'\n",
      "Traceback (most recent call last):\n",
      "  File \"<ipython-input-1-d648b050eb9b>\", line 152, in tojson\n",
      "    tag = etree.QName(elem.tag)\n",
      "  File \"src/lxml/etree.pyx\", line 1835, in lxml.etree.QName.__init__\n",
      "  File \"src/lxml/apihelpers.pxi\", line 1680, in lxml.etree._tagValidOrRaise\n",
      "ValueError: Invalid tag name '<cyfunction Comment at 0x000001DB73381C80>'\n",
      "Traceback (most recent call last):\n",
      "  File \"<ipython-input-1-d648b050eb9b>\", line 152, in tojson\n",
      "    tag = etree.QName(elem.tag)\n",
      "  File \"src/lxml/etree.pyx\", line 1835, in lxml.etree.QName.__init__\n",
      "  File \"src/lxml/apihelpers.pxi\", line 1680, in lxml.etree._tagValidOrRaise\n",
      "ValueError: Invalid tag name '<cyfunction Comment at 0x000001DB73381C80>'\n",
      "Traceback (most recent call last):\n",
      "  File \"<ipython-input-1-d648b050eb9b>\", line 152, in tojson\n",
      "    tag = etree.QName(elem.tag)\n",
      "  File \"src/lxml/etree.pyx\", line 1835, in lxml.etree.QName.__init__\n",
      "  File \"src/lxml/apihelpers.pxi\", line 1680, in lxml.etree._tagValidOrRaise\n",
      "ValueError: Invalid tag name '<cyfunction Comment at 0x000001DB73381C80>'\n",
      "Traceback (most recent call last):\n",
      "  File \"<ipython-input-1-d648b050eb9b>\", line 152, in tojson\n",
      "    tag = etree.QName(elem.tag)\n",
      "  File \"src/lxml/etree.pyx\", line 1835, in lxml.etree.QName.__init__\n",
      "  File \"src/lxml/apihelpers.pxi\", line 1680, in lxml.etree._tagValidOrRaise\n",
      "ValueError: Invalid tag name '<cyfunction Comment at 0x000001DB73381C80>'\n",
      "Traceback (most recent call last):\n",
      "  File \"<ipython-input-1-d648b050eb9b>\", line 152, in tojson\n",
      "    tag = etree.QName(elem.tag)\n",
      "  File \"src/lxml/etree.pyx\", line 1835, in lxml.etree.QName.__init__\n",
      "  File \"src/lxml/apihelpers.pxi\", line 1680, in lxml.etree._tagValidOrRaise\n",
      "ValueError: Invalid tag name '<cyfunction Comment at 0x000001DB73381C80>'\n",
      "Traceback (most recent call last):\n",
      "  File \"<ipython-input-1-d648b050eb9b>\", line 152, in tojson\n",
      "    tag = etree.QName(elem.tag)\n",
      "  File \"src/lxml/etree.pyx\", line 1835, in lxml.etree.QName.__init__\n",
      "  File \"src/lxml/apihelpers.pxi\", line 1680, in lxml.etree._tagValidOrRaise\n",
      "ValueError: Invalid tag name '<cyfunction Comment at 0x000001DB73381C80>'\n",
      "Traceback (most recent call last):\n",
      "  File \"<ipython-input-1-d648b050eb9b>\", line 152, in tojson\n",
      "    tag = etree.QName(elem.tag)\n",
      "  File \"src/lxml/etree.pyx\", line 1835, in lxml.etree.QName.__init__\n",
      "  File \"src/lxml/apihelpers.pxi\", line 1680, in lxml.etree._tagValidOrRaise\n",
      "ValueError: Invalid tag name '<cyfunction Comment at 0x000001DB73381C80>'\n",
      "Traceback (most recent call last):\n",
      "  File \"<ipython-input-1-d648b050eb9b>\", line 152, in tojson\n",
      "    tag = etree.QName(elem.tag)\n"
     ]
    },
    {
     "name": "stderr",
     "output_type": "stream",
     "text": [
      "  File \"src/lxml/etree.pyx\", line 1835, in lxml.etree.QName.__init__\n",
      "  File \"src/lxml/apihelpers.pxi\", line 1680, in lxml.etree._tagValidOrRaise\n",
      "ValueError: Invalid tag name '<cyfunction Comment at 0x000001DB73381C80>'\n",
      "Traceback (most recent call last):\n",
      "  File \"<ipython-input-1-d648b050eb9b>\", line 152, in tojson\n",
      "    tag = etree.QName(elem.tag)\n",
      "  File \"src/lxml/etree.pyx\", line 1835, in lxml.etree.QName.__init__\n",
      "  File \"src/lxml/apihelpers.pxi\", line 1680, in lxml.etree._tagValidOrRaise\n",
      "ValueError: Invalid tag name '<cyfunction Comment at 0x000001DB73381C80>'\n",
      "Traceback (most recent call last):\n",
      "  File \"<ipython-input-1-d648b050eb9b>\", line 152, in tojson\n",
      "    tag = etree.QName(elem.tag)\n",
      "  File \"src/lxml/etree.pyx\", line 1835, in lxml.etree.QName.__init__\n",
      "  File \"src/lxml/apihelpers.pxi\", line 1680, in lxml.etree._tagValidOrRaise\n",
      "ValueError: Invalid tag name '<cyfunction Comment at 0x000001DB73381C80>'\n",
      "Traceback (most recent call last):\n",
      "  File \"<ipython-input-1-d648b050eb9b>\", line 152, in tojson\n",
      "    tag = etree.QName(elem.tag)\n",
      "  File \"src/lxml/etree.pyx\", line 1835, in lxml.etree.QName.__init__\n",
      "  File \"src/lxml/apihelpers.pxi\", line 1680, in lxml.etree._tagValidOrRaise\n",
      "ValueError: Invalid tag name '<cyfunction Comment at 0x000001DB73381C80>'\n",
      "Traceback (most recent call last):\n",
      "  File \"<ipython-input-1-d648b050eb9b>\", line 152, in tojson\n",
      "    tag = etree.QName(elem.tag)\n",
      "  File \"src/lxml/etree.pyx\", line 1835, in lxml.etree.QName.__init__\n",
      "  File \"src/lxml/apihelpers.pxi\", line 1680, in lxml.etree._tagValidOrRaise\n",
      "ValueError: Invalid tag name '<cyfunction Comment at 0x000001DB73381C80>'\n",
      "Traceback (most recent call last):\n",
      "  File \"<ipython-input-1-d648b050eb9b>\", line 152, in tojson\n",
      "    tag = etree.QName(elem.tag)\n",
      "  File \"src/lxml/etree.pyx\", line 1835, in lxml.etree.QName.__init__\n",
      "  File \"src/lxml/apihelpers.pxi\", line 1680, in lxml.etree._tagValidOrRaise\n",
      "ValueError: Invalid tag name '<cyfunction Comment at 0x000001DB73381C80>'\n",
      "Traceback (most recent call last):\n",
      "  File \"<ipython-input-1-d648b050eb9b>\", line 152, in tojson\n",
      "    tag = etree.QName(elem.tag)\n",
      "  File \"src/lxml/etree.pyx\", line 1835, in lxml.etree.QName.__init__\n",
      "  File \"src/lxml/apihelpers.pxi\", line 1680, in lxml.etree._tagValidOrRaise\n",
      "ValueError: Invalid tag name '<cyfunction Comment at 0x000001DB73381C80>'\n",
      "Traceback (most recent call last):\n",
      "  File \"<ipython-input-1-d648b050eb9b>\", line 152, in tojson\n",
      "    tag = etree.QName(elem.tag)\n",
      "  File \"src/lxml/etree.pyx\", line 1835, in lxml.etree.QName.__init__\n",
      "  File \"src/lxml/apihelpers.pxi\", line 1680, in lxml.etree._tagValidOrRaise\n",
      "ValueError: Invalid tag name '<cyfunction Comment at 0x000001DB73381C80>'\n",
      "Traceback (most recent call last):\n",
      "  File \"<ipython-input-1-d648b050eb9b>\", line 152, in tojson\n",
      "    tag = etree.QName(elem.tag)\n",
      "  File \"src/lxml/etree.pyx\", line 1835, in lxml.etree.QName.__init__\n",
      "  File \"src/lxml/apihelpers.pxi\", line 1680, in lxml.etree._tagValidOrRaise\n",
      "ValueError: Invalid tag name '<cyfunction Comment at 0x000001DB73381C80>'\n",
      "Traceback (most recent call last):\n",
      "  File \"<ipython-input-1-d648b050eb9b>\", line 152, in tojson\n",
      "    tag = etree.QName(elem.tag)\n",
      "  File \"src/lxml/etree.pyx\", line 1835, in lxml.etree.QName.__init__\n",
      "  File \"src/lxml/apihelpers.pxi\", line 1680, in lxml.etree._tagValidOrRaise\n",
      "ValueError: Invalid tag name '<cyfunction Comment at 0x000001DB73381C80>'\n",
      "Traceback (most recent call last):\n",
      "  File \"<ipython-input-1-d648b050eb9b>\", line 152, in tojson\n",
      "    tag = etree.QName(elem.tag)\n",
      "  File \"src/lxml/etree.pyx\", line 1835, in lxml.etree.QName.__init__\n",
      "  File \"src/lxml/apihelpers.pxi\", line 1680, in lxml.etree._tagValidOrRaise\n",
      "ValueError: Invalid tag name '<cyfunction Comment at 0x000001DB73381C80>'\n",
      "Traceback (most recent call last):\n",
      "  File \"<ipython-input-1-d648b050eb9b>\", line 152, in tojson\n",
      "    tag = etree.QName(elem.tag)\n",
      "  File \"src/lxml/etree.pyx\", line 1835, in lxml.etree.QName.__init__\n",
      "  File \"src/lxml/apihelpers.pxi\", line 1680, in lxml.etree._tagValidOrRaise\n",
      "ValueError: Invalid tag name '<cyfunction Comment at 0x000001DB73381C80>'\n",
      "Traceback (most recent call last):\n",
      "  File \"<ipython-input-1-d648b050eb9b>\", line 152, in tojson\n",
      "    tag = etree.QName(elem.tag)\n",
      "  File \"src/lxml/etree.pyx\", line 1835, in lxml.etree.QName.__init__\n",
      "  File \"src/lxml/apihelpers.pxi\", line 1680, in lxml.etree._tagValidOrRaise\n",
      "ValueError: Invalid tag name '<cyfunction Comment at 0x000001DB73381C80>'\n",
      "Traceback (most recent call last):\n",
      "  File \"<ipython-input-1-d648b050eb9b>\", line 152, in tojson\n",
      "    tag = etree.QName(elem.tag)\n",
      "  File \"src/lxml/etree.pyx\", line 1835, in lxml.etree.QName.__init__\n",
      "  File \"src/lxml/apihelpers.pxi\", line 1680, in lxml.etree._tagValidOrRaise\n",
      "ValueError: Invalid tag name '<cyfunction Comment at 0x000001DB73381C80>'\n",
      "Traceback (most recent call last):\n",
      "  File \"<ipython-input-1-d648b050eb9b>\", line 152, in tojson\n",
      "    tag = etree.QName(elem.tag)\n",
      "  File \"src/lxml/etree.pyx\", line 1835, in lxml.etree.QName.__init__\n",
      "  File \"src/lxml/apihelpers.pxi\", line 1680, in lxml.etree._tagValidOrRaise\n",
      "ValueError: Invalid tag name '<cyfunction Comment at 0x000001DB73381C80>'\n",
      "Traceback (most recent call last):\n",
      "  File \"<ipython-input-1-d648b050eb9b>\", line 152, in tojson\n",
      "    tag = etree.QName(elem.tag)\n",
      "  File \"src/lxml/etree.pyx\", line 1835, in lxml.etree.QName.__init__\n",
      "  File \"src/lxml/apihelpers.pxi\", line 1680, in lxml.etree._tagValidOrRaise\n",
      "ValueError: Invalid tag name '<cyfunction Comment at 0x000001DB73381C80>'\n",
      "Traceback (most recent call last):\n",
      "  File \"<ipython-input-1-d648b050eb9b>\", line 152, in tojson\n",
      "    tag = etree.QName(elem.tag)\n",
      "  File \"src/lxml/etree.pyx\", line 1835, in lxml.etree.QName.__init__\n",
      "  File \"src/lxml/apihelpers.pxi\", line 1680, in lxml.etree._tagValidOrRaise\n",
      "ValueError: Invalid tag name '<cyfunction Comment at 0x000001DB73381C80>'\n",
      "Traceback (most recent call last):\n",
      "  File \"<ipython-input-1-d648b050eb9b>\", line 152, in tojson\n",
      "    tag = etree.QName(elem.tag)\n",
      "  File \"src/lxml/etree.pyx\", line 1835, in lxml.etree.QName.__init__\n",
      "  File \"src/lxml/apihelpers.pxi\", line 1680, in lxml.etree._tagValidOrRaise\n",
      "ValueError: Invalid tag name '<cyfunction Comment at 0x000001DB73381C80>'\n",
      "Traceback (most recent call last):\n",
      "  File \"<ipython-input-1-d648b050eb9b>\", line 152, in tojson\n",
      "    tag = etree.QName(elem.tag)\n",
      "  File \"src/lxml/etree.pyx\", line 1835, in lxml.etree.QName.__init__\n",
      "  File \"src/lxml/apihelpers.pxi\", line 1680, in lxml.etree._tagValidOrRaise\n",
      "ValueError: Invalid tag name '<cyfunction Comment at 0x000001DB73381C80>'\n",
      "Traceback (most recent call last):\n",
      "  File \"<ipython-input-1-d648b050eb9b>\", line 152, in tojson\n",
      "    tag = etree.QName(elem.tag)\n",
      "  File \"src/lxml/etree.pyx\", line 1835, in lxml.etree.QName.__init__\n",
      "  File \"src/lxml/apihelpers.pxi\", line 1680, in lxml.etree._tagValidOrRaise\n",
      "ValueError: Invalid tag name '<cyfunction Comment at 0x000001DB73381C80>'\n",
      "Traceback (most recent call last):\n",
      "  File \"<ipython-input-1-d648b050eb9b>\", line 152, in tojson\n",
      "    tag = etree.QName(elem.tag)\n",
      "  File \"src/lxml/etree.pyx\", line 1835, in lxml.etree.QName.__init__\n",
      "  File \"src/lxml/apihelpers.pxi\", line 1680, in lxml.etree._tagValidOrRaise\n",
      "ValueError: Invalid tag name '<cyfunction Comment at 0x000001DB73381C80>'\n",
      "Traceback (most recent call last):\n",
      "  File \"<ipython-input-1-d648b050eb9b>\", line 152, in tojson\n",
      "    tag = etree.QName(elem.tag)\n",
      "  File \"src/lxml/etree.pyx\", line 1835, in lxml.etree.QName.__init__\n",
      "  File \"src/lxml/apihelpers.pxi\", line 1680, in lxml.etree._tagValidOrRaise\n",
      "ValueError: Invalid tag name '<cyfunction Comment at 0x000001DB73381C80>'\n",
      "Traceback (most recent call last):\n",
      "  File \"<ipython-input-1-d648b050eb9b>\", line 152, in tojson\n",
      "    tag = etree.QName(elem.tag)\n",
      "  File \"src/lxml/etree.pyx\", line 1835, in lxml.etree.QName.__init__\n",
      "  File \"src/lxml/apihelpers.pxi\", line 1680, in lxml.etree._tagValidOrRaise\n",
      "ValueError: Invalid tag name '<cyfunction Comment at 0x000001DB73381C80>'\n",
      "Traceback (most recent call last):\n",
      "  File \"<ipython-input-1-d648b050eb9b>\", line 152, in tojson\n",
      "    tag = etree.QName(elem.tag)\n",
      "  File \"src/lxml/etree.pyx\", line 1835, in lxml.etree.QName.__init__\n",
      "  File \"src/lxml/apihelpers.pxi\", line 1680, in lxml.etree._tagValidOrRaise\n",
      "ValueError: Invalid tag name '<cyfunction Comment at 0x000001DB73381C80>'\n"
     ]
    },
    {
     "name": "stderr",
     "output_type": "stream",
     "text": [
      "Traceback (most recent call last):\n",
      "  File \"<ipython-input-1-d648b050eb9b>\", line 152, in tojson\n",
      "    tag = etree.QName(elem.tag)\n",
      "  File \"src/lxml/etree.pyx\", line 1835, in lxml.etree.QName.__init__\n",
      "  File \"src/lxml/apihelpers.pxi\", line 1680, in lxml.etree._tagValidOrRaise\n",
      "ValueError: Invalid tag name '<cyfunction Comment at 0x000001DB73381C80>'\n",
      "Traceback (most recent call last):\n",
      "  File \"<ipython-input-1-d648b050eb9b>\", line 152, in tojson\n",
      "    tag = etree.QName(elem.tag)\n",
      "  File \"src/lxml/etree.pyx\", line 1835, in lxml.etree.QName.__init__\n",
      "  File \"src/lxml/apihelpers.pxi\", line 1680, in lxml.etree._tagValidOrRaise\n",
      "ValueError: Invalid tag name '<cyfunction Comment at 0x000001DB73381C80>'\n",
      "Traceback (most recent call last):\n",
      "  File \"<ipython-input-1-d648b050eb9b>\", line 152, in tojson\n",
      "    tag = etree.QName(elem.tag)\n",
      "  File \"src/lxml/etree.pyx\", line 1835, in lxml.etree.QName.__init__\n",
      "  File \"src/lxml/apihelpers.pxi\", line 1680, in lxml.etree._tagValidOrRaise\n",
      "ValueError: Invalid tag name '<cyfunction Comment at 0x000001DB73381C80>'\n",
      "Traceback (most recent call last):\n",
      "  File \"<ipython-input-1-d648b050eb9b>\", line 152, in tojson\n",
      "    tag = etree.QName(elem.tag)\n",
      "  File \"src/lxml/etree.pyx\", line 1835, in lxml.etree.QName.__init__\n",
      "  File \"src/lxml/apihelpers.pxi\", line 1680, in lxml.etree._tagValidOrRaise\n",
      "ValueError: Invalid tag name '<cyfunction Comment at 0x000001DB73381C80>'\n",
      "Traceback (most recent call last):\n",
      "  File \"<ipython-input-1-d648b050eb9b>\", line 152, in tojson\n",
      "    tag = etree.QName(elem.tag)\n",
      "  File \"src/lxml/etree.pyx\", line 1835, in lxml.etree.QName.__init__\n",
      "  File \"src/lxml/apihelpers.pxi\", line 1680, in lxml.etree._tagValidOrRaise\n",
      "ValueError: Invalid tag name '<cyfunction Comment at 0x000001DB73381C80>'\n",
      "Traceback (most recent call last):\n",
      "  File \"<ipython-input-1-d648b050eb9b>\", line 152, in tojson\n",
      "    tag = etree.QName(elem.tag)\n",
      "  File \"src/lxml/etree.pyx\", line 1835, in lxml.etree.QName.__init__\n",
      "  File \"src/lxml/apihelpers.pxi\", line 1680, in lxml.etree._tagValidOrRaise\n",
      "ValueError: Invalid tag name '<cyfunction Comment at 0x000001DB73381C80>'\n",
      "Traceback (most recent call last):\n",
      "  File \"<ipython-input-1-d648b050eb9b>\", line 152, in tojson\n",
      "    tag = etree.QName(elem.tag)\n",
      "  File \"src/lxml/etree.pyx\", line 1835, in lxml.etree.QName.__init__\n",
      "  File \"src/lxml/apihelpers.pxi\", line 1680, in lxml.etree._tagValidOrRaise\n",
      "ValueError: Invalid tag name '<cyfunction Comment at 0x000001DB73381C80>'\n",
      "Traceback (most recent call last):\n",
      "  File \"<ipython-input-1-d648b050eb9b>\", line 152, in tojson\n",
      "    tag = etree.QName(elem.tag)\n",
      "  File \"src/lxml/etree.pyx\", line 1835, in lxml.etree.QName.__init__\n",
      "  File \"src/lxml/apihelpers.pxi\", line 1680, in lxml.etree._tagValidOrRaise\n",
      "ValueError: Invalid tag name '<cyfunction Comment at 0x000001DB73381C80>'\n",
      "Traceback (most recent call last):\n",
      "  File \"<ipython-input-1-d648b050eb9b>\", line 152, in tojson\n",
      "    tag = etree.QName(elem.tag)\n",
      "  File \"src/lxml/etree.pyx\", line 1835, in lxml.etree.QName.__init__\n",
      "  File \"src/lxml/apihelpers.pxi\", line 1680, in lxml.etree._tagValidOrRaise\n",
      "ValueError: Invalid tag name '<cyfunction Comment at 0x000001DB73381C80>'\n",
      "Traceback (most recent call last):\n",
      "  File \"<ipython-input-1-d648b050eb9b>\", line 152, in tojson\n",
      "    tag = etree.QName(elem.tag)\n",
      "  File \"src/lxml/etree.pyx\", line 1835, in lxml.etree.QName.__init__\n",
      "  File \"src/lxml/apihelpers.pxi\", line 1680, in lxml.etree._tagValidOrRaise\n",
      "ValueError: Invalid tag name '<cyfunction Comment at 0x000001DB73381C80>'\n",
      "Traceback (most recent call last):\n",
      "  File \"<ipython-input-1-d648b050eb9b>\", line 152, in tojson\n",
      "    tag = etree.QName(elem.tag)\n",
      "  File \"src/lxml/etree.pyx\", line 1835, in lxml.etree.QName.__init__\n",
      "  File \"src/lxml/apihelpers.pxi\", line 1680, in lxml.etree._tagValidOrRaise\n",
      "ValueError: Invalid tag name '<cyfunction Comment at 0x000001DB73381C80>'\n",
      "Traceback (most recent call last):\n",
      "  File \"<ipython-input-1-d648b050eb9b>\", line 152, in tojson\n",
      "    tag = etree.QName(elem.tag)\n",
      "  File \"src/lxml/etree.pyx\", line 1835, in lxml.etree.QName.__init__\n",
      "  File \"src/lxml/apihelpers.pxi\", line 1680, in lxml.etree._tagValidOrRaise\n",
      "ValueError: Invalid tag name '<cyfunction Comment at 0x000001DB73381C80>'\n",
      "Traceback (most recent call last):\n",
      "  File \"<ipython-input-1-d648b050eb9b>\", line 152, in tojson\n",
      "    tag = etree.QName(elem.tag)\n",
      "  File \"src/lxml/etree.pyx\", line 1835, in lxml.etree.QName.__init__\n",
      "  File \"src/lxml/apihelpers.pxi\", line 1680, in lxml.etree._tagValidOrRaise\n",
      "ValueError: Invalid tag name '<cyfunction Comment at 0x000001DB73381C80>'\n",
      "Traceback (most recent call last):\n",
      "  File \"<ipython-input-1-d648b050eb9b>\", line 152, in tojson\n",
      "    tag = etree.QName(elem.tag)\n",
      "  File \"src/lxml/etree.pyx\", line 1835, in lxml.etree.QName.__init__\n",
      "  File \"src/lxml/apihelpers.pxi\", line 1680, in lxml.etree._tagValidOrRaise\n",
      "ValueError: Invalid tag name '<cyfunction Comment at 0x000001DB73381C80>'\n",
      "Traceback (most recent call last):\n",
      "  File \"<ipython-input-1-d648b050eb9b>\", line 152, in tojson\n",
      "    tag = etree.QName(elem.tag)\n",
      "  File \"src/lxml/etree.pyx\", line 1835, in lxml.etree.QName.__init__\n",
      "  File \"src/lxml/apihelpers.pxi\", line 1680, in lxml.etree._tagValidOrRaise\n",
      "ValueError: Invalid tag name '<cyfunction Comment at 0x000001DB73381C80>'\n",
      "Traceback (most recent call last):\n",
      "  File \"<ipython-input-1-d648b050eb9b>\", line 152, in tojson\n",
      "    tag = etree.QName(elem.tag)\n",
      "  File \"src/lxml/etree.pyx\", line 1835, in lxml.etree.QName.__init__\n",
      "  File \"src/lxml/apihelpers.pxi\", line 1680, in lxml.etree._tagValidOrRaise\n",
      "ValueError: Invalid tag name '<cyfunction Comment at 0x000001DB73381C80>'\n",
      "Traceback (most recent call last):\n",
      "  File \"<ipython-input-1-d648b050eb9b>\", line 152, in tojson\n",
      "    tag = etree.QName(elem.tag)\n",
      "  File \"src/lxml/etree.pyx\", line 1835, in lxml.etree.QName.__init__\n",
      "  File \"src/lxml/apihelpers.pxi\", line 1680, in lxml.etree._tagValidOrRaise\n",
      "ValueError: Invalid tag name '<cyfunction Comment at 0x000001DB73381C80>'\n",
      "Traceback (most recent call last):\n",
      "  File \"<ipython-input-1-d648b050eb9b>\", line 152, in tojson\n",
      "    tag = etree.QName(elem.tag)\n",
      "  File \"src/lxml/etree.pyx\", line 1835, in lxml.etree.QName.__init__\n",
      "  File \"src/lxml/apihelpers.pxi\", line 1680, in lxml.etree._tagValidOrRaise\n",
      "ValueError: Invalid tag name '<cyfunction Comment at 0x000001DB73381C80>'\n",
      "Traceback (most recent call last):\n",
      "  File \"<ipython-input-1-d648b050eb9b>\", line 152, in tojson\n",
      "    tag = etree.QName(elem.tag)\n",
      "  File \"src/lxml/etree.pyx\", line 1835, in lxml.etree.QName.__init__\n",
      "  File \"src/lxml/apihelpers.pxi\", line 1680, in lxml.etree._tagValidOrRaise\n",
      "ValueError: Invalid tag name '<cyfunction Comment at 0x000001DB73381C80>'\n",
      "Traceback (most recent call last):\n",
      "  File \"<ipython-input-1-d648b050eb9b>\", line 152, in tojson\n",
      "    tag = etree.QName(elem.tag)\n",
      "  File \"src/lxml/etree.pyx\", line 1835, in lxml.etree.QName.__init__\n",
      "  File \"src/lxml/apihelpers.pxi\", line 1680, in lxml.etree._tagValidOrRaise\n",
      "ValueError: Invalid tag name '<cyfunction Comment at 0x000001DB73381C80>'\n",
      "Traceback (most recent call last):\n",
      "  File \"<ipython-input-1-d648b050eb9b>\", line 152, in tojson\n",
      "    tag = etree.QName(elem.tag)\n",
      "  File \"src/lxml/etree.pyx\", line 1835, in lxml.etree.QName.__init__\n",
      "  File \"src/lxml/apihelpers.pxi\", line 1680, in lxml.etree._tagValidOrRaise\n",
      "ValueError: Invalid tag name '<cyfunction Comment at 0x000001DB73381C80>'\n",
      "Traceback (most recent call last):\n",
      "  File \"<ipython-input-1-d648b050eb9b>\", line 152, in tojson\n",
      "    tag = etree.QName(elem.tag)\n",
      "  File \"src/lxml/etree.pyx\", line 1835, in lxml.etree.QName.__init__\n",
      "  File \"src/lxml/apihelpers.pxi\", line 1680, in lxml.etree._tagValidOrRaise\n",
      "ValueError: Invalid tag name '<cyfunction Comment at 0x000001DB73381C80>'\n",
      "Traceback (most recent call last):\n",
      "  File \"<ipython-input-1-d648b050eb9b>\", line 152, in tojson\n",
      "    tag = etree.QName(elem.tag)\n",
      "  File \"src/lxml/etree.pyx\", line 1835, in lxml.etree.QName.__init__\n",
      "  File \"src/lxml/apihelpers.pxi\", line 1680, in lxml.etree._tagValidOrRaise\n",
      "ValueError: Invalid tag name '<cyfunction Comment at 0x000001DB73381C80>'\n",
      "Traceback (most recent call last):\n",
      "  File \"<ipython-input-1-d648b050eb9b>\", line 152, in tojson\n",
      "    tag = etree.QName(elem.tag)\n",
      "  File \"src/lxml/etree.pyx\", line 1835, in lxml.etree.QName.__init__\n",
      "  File \"src/lxml/apihelpers.pxi\", line 1680, in lxml.etree._tagValidOrRaise\n"
     ]
    },
    {
     "name": "stderr",
     "output_type": "stream",
     "text": [
      "ValueError: Invalid tag name '<cyfunction Comment at 0x000001DB73381C80>'\n",
      "Traceback (most recent call last):\n",
      "  File \"<ipython-input-1-d648b050eb9b>\", line 152, in tojson\n",
      "    tag = etree.QName(elem.tag)\n",
      "  File \"src/lxml/etree.pyx\", line 1835, in lxml.etree.QName.__init__\n",
      "  File \"src/lxml/apihelpers.pxi\", line 1680, in lxml.etree._tagValidOrRaise\n",
      "ValueError: Invalid tag name '<cyfunction Comment at 0x000001DB73381C80>'\n",
      "Traceback (most recent call last):\n",
      "  File \"<ipython-input-1-d648b050eb9b>\", line 152, in tojson\n",
      "    tag = etree.QName(elem.tag)\n",
      "  File \"src/lxml/etree.pyx\", line 1835, in lxml.etree.QName.__init__\n",
      "  File \"src/lxml/apihelpers.pxi\", line 1680, in lxml.etree._tagValidOrRaise\n",
      "ValueError: Invalid tag name '<cyfunction Comment at 0x000001DB73381C80>'\n",
      "Traceback (most recent call last):\n",
      "  File \"<ipython-input-1-d648b050eb9b>\", line 152, in tojson\n",
      "    tag = etree.QName(elem.tag)\n",
      "  File \"src/lxml/etree.pyx\", line 1835, in lxml.etree.QName.__init__\n",
      "  File \"src/lxml/apihelpers.pxi\", line 1680, in lxml.etree._tagValidOrRaise\n",
      "ValueError: Invalid tag name '<cyfunction Comment at 0x000001DB73381C80>'\n",
      "Traceback (most recent call last):\n",
      "  File \"<ipython-input-1-d648b050eb9b>\", line 152, in tojson\n",
      "    tag = etree.QName(elem.tag)\n",
      "  File \"src/lxml/etree.pyx\", line 1835, in lxml.etree.QName.__init__\n",
      "  File \"src/lxml/apihelpers.pxi\", line 1680, in lxml.etree._tagValidOrRaise\n",
      "ValueError: Invalid tag name '<cyfunction Comment at 0x000001DB73381C80>'\n",
      "Traceback (most recent call last):\n",
      "  File \"<ipython-input-1-d648b050eb9b>\", line 152, in tojson\n",
      "    tag = etree.QName(elem.tag)\n",
      "  File \"src/lxml/etree.pyx\", line 1835, in lxml.etree.QName.__init__\n",
      "  File \"src/lxml/apihelpers.pxi\", line 1680, in lxml.etree._tagValidOrRaise\n",
      "ValueError: Invalid tag name '<cyfunction Comment at 0x000001DB73381C80>'\n",
      "Traceback (most recent call last):\n",
      "  File \"<ipython-input-1-d648b050eb9b>\", line 152, in tojson\n",
      "    tag = etree.QName(elem.tag)\n",
      "  File \"src/lxml/etree.pyx\", line 1835, in lxml.etree.QName.__init__\n",
      "  File \"src/lxml/apihelpers.pxi\", line 1680, in lxml.etree._tagValidOrRaise\n",
      "ValueError: Invalid tag name '<cyfunction Comment at 0x000001DB73381C80>'\n",
      "Traceback (most recent call last):\n",
      "  File \"<ipython-input-1-d648b050eb9b>\", line 152, in tojson\n",
      "    tag = etree.QName(elem.tag)\n",
      "  File \"src/lxml/etree.pyx\", line 1835, in lxml.etree.QName.__init__\n",
      "  File \"src/lxml/apihelpers.pxi\", line 1680, in lxml.etree._tagValidOrRaise\n",
      "ValueError: Invalid tag name '<cyfunction Comment at 0x000001DB73381C80>'\n",
      "Traceback (most recent call last):\n",
      "  File \"<ipython-input-1-d648b050eb9b>\", line 152, in tojson\n",
      "    tag = etree.QName(elem.tag)\n",
      "  File \"src/lxml/etree.pyx\", line 1835, in lxml.etree.QName.__init__\n",
      "  File \"src/lxml/apihelpers.pxi\", line 1680, in lxml.etree._tagValidOrRaise\n",
      "ValueError: Invalid tag name '<cyfunction Comment at 0x000001DB73381C80>'\n",
      "Traceback (most recent call last):\n",
      "  File \"<ipython-input-1-d648b050eb9b>\", line 152, in tojson\n",
      "    tag = etree.QName(elem.tag)\n",
      "  File \"src/lxml/etree.pyx\", line 1835, in lxml.etree.QName.__init__\n",
      "  File \"src/lxml/apihelpers.pxi\", line 1680, in lxml.etree._tagValidOrRaise\n",
      "ValueError: Invalid tag name '<cyfunction Comment at 0x000001DB73381C80>'\n",
      "Traceback (most recent call last):\n",
      "  File \"<ipython-input-1-d648b050eb9b>\", line 152, in tojson\n",
      "    tag = etree.QName(elem.tag)\n",
      "  File \"src/lxml/etree.pyx\", line 1835, in lxml.etree.QName.__init__\n",
      "  File \"src/lxml/apihelpers.pxi\", line 1680, in lxml.etree._tagValidOrRaise\n",
      "ValueError: Invalid tag name '<cyfunction Comment at 0x000001DB73381C80>'\n",
      "Traceback (most recent call last):\n",
      "  File \"<ipython-input-1-d648b050eb9b>\", line 152, in tojson\n",
      "    tag = etree.QName(elem.tag)\n",
      "  File \"src/lxml/etree.pyx\", line 1835, in lxml.etree.QName.__init__\n",
      "  File \"src/lxml/apihelpers.pxi\", line 1680, in lxml.etree._tagValidOrRaise\n",
      "ValueError: Invalid tag name '<cyfunction Comment at 0x000001DB73381C80>'\n",
      "Traceback (most recent call last):\n",
      "  File \"<ipython-input-1-d648b050eb9b>\", line 152, in tojson\n",
      "    tag = etree.QName(elem.tag)\n",
      "  File \"src/lxml/etree.pyx\", line 1835, in lxml.etree.QName.__init__\n",
      "  File \"src/lxml/apihelpers.pxi\", line 1680, in lxml.etree._tagValidOrRaise\n",
      "ValueError: Invalid tag name '<cyfunction Comment at 0x000001DB73381C80>'\n",
      "Traceback (most recent call last):\n",
      "  File \"<ipython-input-1-d648b050eb9b>\", line 152, in tojson\n",
      "    tag = etree.QName(elem.tag)\n",
      "  File \"src/lxml/etree.pyx\", line 1835, in lxml.etree.QName.__init__\n",
      "  File \"src/lxml/apihelpers.pxi\", line 1680, in lxml.etree._tagValidOrRaise\n",
      "ValueError: Invalid tag name '<cyfunction Comment at 0x000001DB73381C80>'\n",
      "Traceback (most recent call last):\n",
      "  File \"<ipython-input-1-d648b050eb9b>\", line 152, in tojson\n",
      "    tag = etree.QName(elem.tag)\n",
      "  File \"src/lxml/etree.pyx\", line 1835, in lxml.etree.QName.__init__\n",
      "  File \"src/lxml/apihelpers.pxi\", line 1680, in lxml.etree._tagValidOrRaise\n",
      "ValueError: Invalid tag name '<cyfunction Comment at 0x000001DB73381C80>'\n",
      "Traceback (most recent call last):\n",
      "  File \"<ipython-input-1-d648b050eb9b>\", line 152, in tojson\n",
      "    tag = etree.QName(elem.tag)\n",
      "  File \"src/lxml/etree.pyx\", line 1835, in lxml.etree.QName.__init__\n",
      "  File \"src/lxml/apihelpers.pxi\", line 1680, in lxml.etree._tagValidOrRaise\n",
      "ValueError: Invalid tag name '<cyfunction Comment at 0x000001DB73381C80>'\n",
      "Traceback (most recent call last):\n",
      "  File \"<ipython-input-1-d648b050eb9b>\", line 152, in tojson\n",
      "    tag = etree.QName(elem.tag)\n",
      "  File \"src/lxml/etree.pyx\", line 1835, in lxml.etree.QName.__init__\n",
      "  File \"src/lxml/apihelpers.pxi\", line 1680, in lxml.etree._tagValidOrRaise\n",
      "ValueError: Invalid tag name '<cyfunction Comment at 0x000001DB73381C80>'\n",
      "Traceback (most recent call last):\n",
      "  File \"<ipython-input-1-d648b050eb9b>\", line 152, in tojson\n",
      "    tag = etree.QName(elem.tag)\n",
      "  File \"src/lxml/etree.pyx\", line 1835, in lxml.etree.QName.__init__\n",
      "  File \"src/lxml/apihelpers.pxi\", line 1680, in lxml.etree._tagValidOrRaise\n",
      "ValueError: Invalid tag name '<cyfunction Comment at 0x000001DB73381C80>'\n",
      "Traceback (most recent call last):\n",
      "  File \"<ipython-input-1-d648b050eb9b>\", line 152, in tojson\n",
      "    tag = etree.QName(elem.tag)\n",
      "  File \"src/lxml/etree.pyx\", line 1835, in lxml.etree.QName.__init__\n",
      "  File \"src/lxml/apihelpers.pxi\", line 1680, in lxml.etree._tagValidOrRaise\n",
      "ValueError: Invalid tag name '<cyfunction Comment at 0x000001DB73381C80>'\n",
      "Traceback (most recent call last):\n",
      "  File \"<ipython-input-1-d648b050eb9b>\", line 152, in tojson\n",
      "    tag = etree.QName(elem.tag)\n",
      "  File \"src/lxml/etree.pyx\", line 1835, in lxml.etree.QName.__init__\n",
      "  File \"src/lxml/apihelpers.pxi\", line 1680, in lxml.etree._tagValidOrRaise\n",
      "ValueError: Invalid tag name '<cyfunction Comment at 0x000001DB73381C80>'\n",
      "Traceback (most recent call last):\n",
      "  File \"<ipython-input-1-d648b050eb9b>\", line 152, in tojson\n",
      "    tag = etree.QName(elem.tag)\n",
      "  File \"src/lxml/etree.pyx\", line 1835, in lxml.etree.QName.__init__\n",
      "  File \"src/lxml/apihelpers.pxi\", line 1680, in lxml.etree._tagValidOrRaise\n",
      "ValueError: Invalid tag name '<cyfunction Comment at 0x000001DB73381C80>'\n",
      "Traceback (most recent call last):\n",
      "  File \"<ipython-input-1-d648b050eb9b>\", line 152, in tojson\n",
      "    tag = etree.QName(elem.tag)\n",
      "  File \"src/lxml/etree.pyx\", line 1835, in lxml.etree.QName.__init__\n",
      "  File \"src/lxml/apihelpers.pxi\", line 1680, in lxml.etree._tagValidOrRaise\n",
      "ValueError: Invalid tag name '<cyfunction Comment at 0x000001DB73381C80>'\n",
      "Traceback (most recent call last):\n",
      "  File \"<ipython-input-1-d648b050eb9b>\", line 152, in tojson\n",
      "    tag = etree.QName(elem.tag)\n",
      "  File \"src/lxml/etree.pyx\", line 1835, in lxml.etree.QName.__init__\n",
      "  File \"src/lxml/apihelpers.pxi\", line 1680, in lxml.etree._tagValidOrRaise\n",
      "ValueError: Invalid tag name '<cyfunction Comment at 0x000001DB73381C80>'\n",
      "Traceback (most recent call last):\n",
      "  File \"<ipython-input-1-d648b050eb9b>\", line 152, in tojson\n",
      "    tag = etree.QName(elem.tag)\n",
      "  File \"src/lxml/etree.pyx\", line 1835, in lxml.etree.QName.__init__\n",
      "  File \"src/lxml/apihelpers.pxi\", line 1680, in lxml.etree._tagValidOrRaise\n",
      "ValueError: Invalid tag name '<cyfunction Comment at 0x000001DB73381C80>'\n",
      "Traceback (most recent call last):\n",
      "  File \"<ipython-input-1-d648b050eb9b>\", line 152, in tojson\n",
      "    tag = etree.QName(elem.tag)\n",
      "  File \"src/lxml/etree.pyx\", line 1835, in lxml.etree.QName.__init__\n"
     ]
    },
    {
     "name": "stderr",
     "output_type": "stream",
     "text": [
      "  File \"src/lxml/apihelpers.pxi\", line 1680, in lxml.etree._tagValidOrRaise\n",
      "ValueError: Invalid tag name '<cyfunction Comment at 0x000001DB73381C80>'\n",
      "Traceback (most recent call last):\n",
      "  File \"<ipython-input-1-d648b050eb9b>\", line 152, in tojson\n",
      "    tag = etree.QName(elem.tag)\n",
      "  File \"src/lxml/etree.pyx\", line 1835, in lxml.etree.QName.__init__\n",
      "  File \"src/lxml/apihelpers.pxi\", line 1680, in lxml.etree._tagValidOrRaise\n",
      "ValueError: Invalid tag name '<cyfunction Comment at 0x000001DB73381C80>'\n",
      "Traceback (most recent call last):\n",
      "  File \"<ipython-input-1-d648b050eb9b>\", line 152, in tojson\n",
      "    tag = etree.QName(elem.tag)\n",
      "  File \"src/lxml/etree.pyx\", line 1835, in lxml.etree.QName.__init__\n",
      "  File \"src/lxml/apihelpers.pxi\", line 1680, in lxml.etree._tagValidOrRaise\n",
      "ValueError: Invalid tag name '<cyfunction Comment at 0x000001DB73381C80>'\n",
      "Traceback (most recent call last):\n",
      "  File \"<ipython-input-1-d648b050eb9b>\", line 152, in tojson\n",
      "    tag = etree.QName(elem.tag)\n",
      "  File \"src/lxml/etree.pyx\", line 1835, in lxml.etree.QName.__init__\n",
      "  File \"src/lxml/apihelpers.pxi\", line 1680, in lxml.etree._tagValidOrRaise\n",
      "ValueError: Invalid tag name '<cyfunction Comment at 0x000001DB73381C80>'\n",
      "Traceback (most recent call last):\n",
      "  File \"<ipython-input-1-d648b050eb9b>\", line 152, in tojson\n",
      "    tag = etree.QName(elem.tag)\n",
      "  File \"src/lxml/etree.pyx\", line 1835, in lxml.etree.QName.__init__\n",
      "  File \"src/lxml/apihelpers.pxi\", line 1680, in lxml.etree._tagValidOrRaise\n",
      "ValueError: Invalid tag name '<cyfunction Comment at 0x000001DB73381C80>'\n",
      "Traceback (most recent call last):\n",
      "  File \"<ipython-input-1-d648b050eb9b>\", line 152, in tojson\n",
      "    tag = etree.QName(elem.tag)\n",
      "  File \"src/lxml/etree.pyx\", line 1835, in lxml.etree.QName.__init__\n",
      "  File \"src/lxml/apihelpers.pxi\", line 1680, in lxml.etree._tagValidOrRaise\n",
      "ValueError: Invalid tag name '<cyfunction Comment at 0x000001DB73381C80>'\n",
      "Traceback (most recent call last):\n",
      "  File \"<ipython-input-1-d648b050eb9b>\", line 152, in tojson\n",
      "    tag = etree.QName(elem.tag)\n",
      "  File \"src/lxml/etree.pyx\", line 1835, in lxml.etree.QName.__init__\n",
      "  File \"src/lxml/apihelpers.pxi\", line 1680, in lxml.etree._tagValidOrRaise\n",
      "ValueError: Invalid tag name '<cyfunction Comment at 0x000001DB73381C80>'\n",
      "Traceback (most recent call last):\n",
      "  File \"<ipython-input-1-d648b050eb9b>\", line 152, in tojson\n",
      "    tag = etree.QName(elem.tag)\n",
      "  File \"src/lxml/etree.pyx\", line 1835, in lxml.etree.QName.__init__\n",
      "  File \"src/lxml/apihelpers.pxi\", line 1680, in lxml.etree._tagValidOrRaise\n",
      "ValueError: Invalid tag name '<cyfunction Comment at 0x000001DB73381C80>'\n",
      "Traceback (most recent call last):\n",
      "  File \"<ipython-input-1-d648b050eb9b>\", line 152, in tojson\n",
      "    tag = etree.QName(elem.tag)\n",
      "  File \"src/lxml/etree.pyx\", line 1835, in lxml.etree.QName.__init__\n",
      "  File \"src/lxml/apihelpers.pxi\", line 1680, in lxml.etree._tagValidOrRaise\n",
      "ValueError: Invalid tag name '<cyfunction Comment at 0x000001DB73381C80>'\n",
      "Traceback (most recent call last):\n",
      "  File \"<ipython-input-1-d648b050eb9b>\", line 152, in tojson\n",
      "    tag = etree.QName(elem.tag)\n",
      "  File \"src/lxml/etree.pyx\", line 1835, in lxml.etree.QName.__init__\n",
      "  File \"src/lxml/apihelpers.pxi\", line 1680, in lxml.etree._tagValidOrRaise\n",
      "ValueError: Invalid tag name '<cyfunction Comment at 0x000001DB73381C80>'\n"
     ]
    },
    {
     "name": "stdout",
     "output_type": "stream",
     "text": [
      "\n"
     ]
    }
   ],
   "source": [
    "start_date = '20190101'\n",
    "end_date = '20190101'\n",
    "common_attr = find_common_attributes(start_date, end_date)"
   ]
  },
  {
   "cell_type": "code",
   "execution_count": 10,
   "metadata": {},
   "outputs": [
    {
     "name": "stdout",
     "output_type": "stream",
     "text": [
      "{'offentliggoerelsestype', 'NameOfReportingEntity', 'regnskabsperiode_slutDato', 'TypeOfAuditorAssistance', 'offentliggoerelsesTidspunkt', 'AARSRAPPORT_pdf', 'sidstOpdateret', 'cvrNummer', 'LiabilitiesAndEquity', '_index', 'context', 'indlaesningsTidspunkt', 'ProfitLoss', 'indlaesningsId', 'entity', 'regNummer', 'end_date', '_id', 'ClassOfReportingEntity', 'AddressOfSubmittingEnterpriseStreetAndNumber', 'AARSRAPPORT_xml', 'sagsNummer', 'omgoerelse', 'ReportingPeriodEndDate', 'InformationOnTypeOfSubmittedReport', 'AddressOfSubmittingEnterprisePostcodeAndTown', 'ReportingPeriodStartDate', '_score', 'start_date', 'Equity', 'IdentificationNumberCvrOfReportingEntity', 'AARSRAPPORT_html', 'regnskabsperiode_startDato', 'NameAndSurnameOfChairmanOfGeneralMeeting', 'Assets'}\n"
     ]
    },
    {
     "data": {
      "text/plain": [
       "35"
      ]
     },
     "execution_count": 10,
     "metadata": {},
     "output_type": "execute_result"
    }
   ],
   "source": [
    "print(common_attr)\n",
    "len(common_attr)"
   ]
  },
  {
   "cell_type": "code",
   "execution_count": 9,
   "metadata": {},
   "outputs": [
    {
     "data": {
      "application/vnd.jupyter.widget-view+json": {
       "model_id": "a4ebc204b20540eab35684a8e54c56f0",
       "version_major": 2,
       "version_minor": 0
      },
      "text/plain": [
       "HBox(children=(IntProgress(value=0, max=1), HTML(value='')))"
      ]
     },
     "metadata": {},
     "output_type": "display_data"
    },
    {
     "name": "stdout",
     "output_type": "stream",
     "text": [
      "Number of cvr numbers in current iteration: 159\n"
     ]
    },
    {
     "data": {
      "application/vnd.jupyter.widget-view+json": {
       "model_id": "7acc15ef79ee47bbb7a175c59f61bdbe",
       "version_major": 2,
       "version_minor": 0
      },
      "text/plain": [
       "HBox(children=(IntProgress(value=0, max=159), HTML(value='')))"
      ]
     },
     "metadata": {},
     "output_type": "display_data"
    },
    {
     "name": "stderr",
     "output_type": "stream",
     "text": [
      "Traceback (most recent call last):\n",
      "  File \"<ipython-input-1-d648b050eb9b>\", line 152, in tojson\n",
      "    tag = etree.QName(elem.tag)\n",
      "  File \"src/lxml/etree.pyx\", line 1835, in lxml.etree.QName.__init__\n",
      "  File \"src/lxml/apihelpers.pxi\", line 1680, in lxml.etree._tagValidOrRaise\n",
      "ValueError: Invalid tag name '<cyfunction Comment at 0x000001DB73381C80>'\n",
      "Traceback (most recent call last):\n",
      "  File \"<ipython-input-1-d648b050eb9b>\", line 152, in tojson\n",
      "    tag = etree.QName(elem.tag)\n",
      "  File \"src/lxml/etree.pyx\", line 1835, in lxml.etree.QName.__init__\n",
      "  File \"src/lxml/apihelpers.pxi\", line 1680, in lxml.etree._tagValidOrRaise\n",
      "ValueError: Invalid tag name '<cyfunction Comment at 0x000001DB73381C80>'\n",
      "Traceback (most recent call last):\n",
      "  File \"<ipython-input-1-d648b050eb9b>\", line 152, in tojson\n",
      "    tag = etree.QName(elem.tag)\n",
      "  File \"src/lxml/etree.pyx\", line 1835, in lxml.etree.QName.__init__\n",
      "  File \"src/lxml/apihelpers.pxi\", line 1680, in lxml.etree._tagValidOrRaise\n",
      "ValueError: Invalid tag name '<cyfunction Comment at 0x000001DB73381C80>'\n",
      "Traceback (most recent call last):\n",
      "  File \"<ipython-input-1-d648b050eb9b>\", line 152, in tojson\n",
      "    tag = etree.QName(elem.tag)\n",
      "  File \"src/lxml/etree.pyx\", line 1835, in lxml.etree.QName.__init__\n",
      "  File \"src/lxml/apihelpers.pxi\", line 1680, in lxml.etree._tagValidOrRaise\n",
      "ValueError: Invalid tag name '<cyfunction Comment at 0x000001DB73381C80>'\n",
      "Traceback (most recent call last):\n",
      "  File \"<ipython-input-1-d648b050eb9b>\", line 152, in tojson\n",
      "    tag = etree.QName(elem.tag)\n",
      "  File \"src/lxml/etree.pyx\", line 1835, in lxml.etree.QName.__init__\n",
      "  File \"src/lxml/apihelpers.pxi\", line 1680, in lxml.etree._tagValidOrRaise\n",
      "ValueError: Invalid tag name '<cyfunction Comment at 0x000001DB73381C80>'\n",
      "Traceback (most recent call last):\n",
      "  File \"<ipython-input-1-d648b050eb9b>\", line 152, in tojson\n",
      "    tag = etree.QName(elem.tag)\n",
      "  File \"src/lxml/etree.pyx\", line 1835, in lxml.etree.QName.__init__\n",
      "  File \"src/lxml/apihelpers.pxi\", line 1680, in lxml.etree._tagValidOrRaise\n",
      "ValueError: Invalid tag name '<cyfunction Comment at 0x000001DB73381C80>'\n",
      "Traceback (most recent call last):\n",
      "  File \"<ipython-input-1-d648b050eb9b>\", line 152, in tojson\n",
      "    tag = etree.QName(elem.tag)\n",
      "  File \"src/lxml/etree.pyx\", line 1835, in lxml.etree.QName.__init__\n",
      "  File \"src/lxml/apihelpers.pxi\", line 1680, in lxml.etree._tagValidOrRaise\n",
      "ValueError: Invalid tag name '<cyfunction Comment at 0x000001DB73381C80>'\n",
      "Traceback (most recent call last):\n",
      "  File \"<ipython-input-1-d648b050eb9b>\", line 152, in tojson\n",
      "    tag = etree.QName(elem.tag)\n",
      "  File \"src/lxml/etree.pyx\", line 1835, in lxml.etree.QName.__init__\n",
      "  File \"src/lxml/apihelpers.pxi\", line 1680, in lxml.etree._tagValidOrRaise\n",
      "ValueError: Invalid tag name '<cyfunction Comment at 0x000001DB73381C80>'\n",
      "Traceback (most recent call last):\n",
      "  File \"<ipython-input-1-d648b050eb9b>\", line 152, in tojson\n",
      "    tag = etree.QName(elem.tag)\n",
      "  File \"src/lxml/etree.pyx\", line 1835, in lxml.etree.QName.__init__\n",
      "  File \"src/lxml/apihelpers.pxi\", line 1680, in lxml.etree._tagValidOrRaise\n",
      "ValueError: Invalid tag name '<cyfunction Comment at 0x000001DB73381C80>'\n",
      "Traceback (most recent call last):\n",
      "  File \"<ipython-input-1-d648b050eb9b>\", line 152, in tojson\n",
      "    tag = etree.QName(elem.tag)\n",
      "  File \"src/lxml/etree.pyx\", line 1835, in lxml.etree.QName.__init__\n",
      "  File \"src/lxml/apihelpers.pxi\", line 1680, in lxml.etree._tagValidOrRaise\n",
      "ValueError: Invalid tag name '<cyfunction Comment at 0x000001DB73381C80>'\n",
      "Traceback (most recent call last):\n",
      "  File \"<ipython-input-1-d648b050eb9b>\", line 152, in tojson\n",
      "    tag = etree.QName(elem.tag)\n",
      "  File \"src/lxml/etree.pyx\", line 1835, in lxml.etree.QName.__init__\n",
      "  File \"src/lxml/apihelpers.pxi\", line 1680, in lxml.etree._tagValidOrRaise\n",
      "ValueError: Invalid tag name '<cyfunction Comment at 0x000001DB73381C80>'\n",
      "Traceback (most recent call last):\n",
      "  File \"<ipython-input-1-d648b050eb9b>\", line 152, in tojson\n",
      "    tag = etree.QName(elem.tag)\n",
      "  File \"src/lxml/etree.pyx\", line 1835, in lxml.etree.QName.__init__\n",
      "  File \"src/lxml/apihelpers.pxi\", line 1680, in lxml.etree._tagValidOrRaise\n",
      "ValueError: Invalid tag name '<cyfunction Comment at 0x000001DB73381C80>'\n",
      "Traceback (most recent call last):\n",
      "  File \"<ipython-input-1-d648b050eb9b>\", line 152, in tojson\n",
      "    tag = etree.QName(elem.tag)\n",
      "  File \"src/lxml/etree.pyx\", line 1835, in lxml.etree.QName.__init__\n",
      "  File \"src/lxml/apihelpers.pxi\", line 1680, in lxml.etree._tagValidOrRaise\n",
      "ValueError: Invalid tag name '<cyfunction Comment at 0x000001DB73381C80>'\n",
      "Traceback (most recent call last):\n",
      "  File \"<ipython-input-1-d648b050eb9b>\", line 152, in tojson\n",
      "    tag = etree.QName(elem.tag)\n",
      "  File \"src/lxml/etree.pyx\", line 1835, in lxml.etree.QName.__init__\n",
      "  File \"src/lxml/apihelpers.pxi\", line 1680, in lxml.etree._tagValidOrRaise\n",
      "ValueError: Invalid tag name '<cyfunction Comment at 0x000001DB73381C80>'\n",
      "Traceback (most recent call last):\n",
      "  File \"<ipython-input-1-d648b050eb9b>\", line 152, in tojson\n",
      "    tag = etree.QName(elem.tag)\n",
      "  File \"src/lxml/etree.pyx\", line 1835, in lxml.etree.QName.__init__\n",
      "  File \"src/lxml/apihelpers.pxi\", line 1680, in lxml.etree._tagValidOrRaise\n",
      "ValueError: Invalid tag name '<cyfunction Comment at 0x000001DB73381C80>'\n",
      "Traceback (most recent call last):\n",
      "  File \"<ipython-input-1-d648b050eb9b>\", line 152, in tojson\n",
      "    tag = etree.QName(elem.tag)\n",
      "  File \"src/lxml/etree.pyx\", line 1835, in lxml.etree.QName.__init__\n",
      "  File \"src/lxml/apihelpers.pxi\", line 1680, in lxml.etree._tagValidOrRaise\n",
      "ValueError: Invalid tag name '<cyfunction Comment at 0x000001DB73381C80>'\n",
      "Traceback (most recent call last):\n",
      "  File \"<ipython-input-1-d648b050eb9b>\", line 152, in tojson\n",
      "    tag = etree.QName(elem.tag)\n",
      "  File \"src/lxml/etree.pyx\", line 1835, in lxml.etree.QName.__init__\n",
      "  File \"src/lxml/apihelpers.pxi\", line 1680, in lxml.etree._tagValidOrRaise\n",
      "ValueError: Invalid tag name '<cyfunction Comment at 0x000001DB73381C80>'\n",
      "Traceback (most recent call last):\n",
      "  File \"<ipython-input-1-d648b050eb9b>\", line 152, in tojson\n",
      "    tag = etree.QName(elem.tag)\n",
      "  File \"src/lxml/etree.pyx\", line 1835, in lxml.etree.QName.__init__\n",
      "  File \"src/lxml/apihelpers.pxi\", line 1680, in lxml.etree._tagValidOrRaise\n",
      "ValueError: Invalid tag name '<cyfunction Comment at 0x000001DB73381C80>'\n",
      "Traceback (most recent call last):\n",
      "  File \"<ipython-input-1-d648b050eb9b>\", line 152, in tojson\n",
      "    tag = etree.QName(elem.tag)\n",
      "  File \"src/lxml/etree.pyx\", line 1835, in lxml.etree.QName.__init__\n",
      "  File \"src/lxml/apihelpers.pxi\", line 1680, in lxml.etree._tagValidOrRaise\n",
      "ValueError: Invalid tag name '<cyfunction Comment at 0x000001DB73381C80>'\n",
      "Traceback (most recent call last):\n",
      "  File \"<ipython-input-1-d648b050eb9b>\", line 152, in tojson\n",
      "    tag = etree.QName(elem.tag)\n",
      "  File \"src/lxml/etree.pyx\", line 1835, in lxml.etree.QName.__init__\n",
      "  File \"src/lxml/apihelpers.pxi\", line 1680, in lxml.etree._tagValidOrRaise\n",
      "ValueError: Invalid tag name '<cyfunction Comment at 0x000001DB73381C80>'\n",
      "Traceback (most recent call last):\n",
      "  File \"<ipython-input-1-d648b050eb9b>\", line 152, in tojson\n",
      "    tag = etree.QName(elem.tag)\n",
      "  File \"src/lxml/etree.pyx\", line 1835, in lxml.etree.QName.__init__\n",
      "  File \"src/lxml/apihelpers.pxi\", line 1680, in lxml.etree._tagValidOrRaise\n",
      "ValueError: Invalid tag name '<cyfunction Comment at 0x000001DB73381C80>'\n",
      "Traceback (most recent call last):\n",
      "  File \"<ipython-input-1-d648b050eb9b>\", line 152, in tojson\n",
      "    tag = etree.QName(elem.tag)\n",
      "  File \"src/lxml/etree.pyx\", line 1835, in lxml.etree.QName.__init__\n",
      "  File \"src/lxml/apihelpers.pxi\", line 1680, in lxml.etree._tagValidOrRaise\n",
      "ValueError: Invalid tag name '<cyfunction Comment at 0x000001DB73381C80>'\n",
      "Traceback (most recent call last):\n",
      "  File \"<ipython-input-1-d648b050eb9b>\", line 152, in tojson\n",
      "    tag = etree.QName(elem.tag)\n",
      "  File \"src/lxml/etree.pyx\", line 1835, in lxml.etree.QName.__init__\n",
      "  File \"src/lxml/apihelpers.pxi\", line 1680, in lxml.etree._tagValidOrRaise\n",
      "ValueError: Invalid tag name '<cyfunction Comment at 0x000001DB73381C80>'\n",
      "Traceback (most recent call last):\n",
      "  File \"<ipython-input-1-d648b050eb9b>\", line 152, in tojson\n",
      "    tag = etree.QName(elem.tag)\n",
      "  File \"src/lxml/etree.pyx\", line 1835, in lxml.etree.QName.__init__\n",
      "  File \"src/lxml/apihelpers.pxi\", line 1680, in lxml.etree._tagValidOrRaise\n"
     ]
    },
    {
     "name": "stderr",
     "output_type": "stream",
     "text": [
      "ValueError: Invalid tag name '<cyfunction Comment at 0x000001DB73381C80>'\n",
      "Traceback (most recent call last):\n",
      "  File \"<ipython-input-1-d648b050eb9b>\", line 152, in tojson\n",
      "    tag = etree.QName(elem.tag)\n",
      "  File \"src/lxml/etree.pyx\", line 1835, in lxml.etree.QName.__init__\n",
      "  File \"src/lxml/apihelpers.pxi\", line 1680, in lxml.etree._tagValidOrRaise\n",
      "ValueError: Invalid tag name '<cyfunction Comment at 0x000001DB73381C80>'\n",
      "Traceback (most recent call last):\n",
      "  File \"<ipython-input-1-d648b050eb9b>\", line 152, in tojson\n",
      "    tag = etree.QName(elem.tag)\n",
      "  File \"src/lxml/etree.pyx\", line 1835, in lxml.etree.QName.__init__\n",
      "  File \"src/lxml/apihelpers.pxi\", line 1680, in lxml.etree._tagValidOrRaise\n",
      "ValueError: Invalid tag name '<cyfunction Comment at 0x000001DB73381C80>'\n",
      "Traceback (most recent call last):\n",
      "  File \"<ipython-input-1-d648b050eb9b>\", line 152, in tojson\n",
      "    tag = etree.QName(elem.tag)\n",
      "  File \"src/lxml/etree.pyx\", line 1835, in lxml.etree.QName.__init__\n",
      "  File \"src/lxml/apihelpers.pxi\", line 1680, in lxml.etree._tagValidOrRaise\n",
      "ValueError: Invalid tag name '<cyfunction Comment at 0x000001DB73381C80>'\n",
      "Traceback (most recent call last):\n",
      "  File \"<ipython-input-1-d648b050eb9b>\", line 152, in tojson\n",
      "    tag = etree.QName(elem.tag)\n",
      "  File \"src/lxml/etree.pyx\", line 1835, in lxml.etree.QName.__init__\n",
      "  File \"src/lxml/apihelpers.pxi\", line 1680, in lxml.etree._tagValidOrRaise\n",
      "ValueError: Invalid tag name '<cyfunction Comment at 0x000001DB73381C80>'\n",
      "Traceback (most recent call last):\n",
      "  File \"<ipython-input-1-d648b050eb9b>\", line 152, in tojson\n",
      "    tag = etree.QName(elem.tag)\n",
      "  File \"src/lxml/etree.pyx\", line 1835, in lxml.etree.QName.__init__\n",
      "  File \"src/lxml/apihelpers.pxi\", line 1680, in lxml.etree._tagValidOrRaise\n",
      "ValueError: Invalid tag name '<cyfunction Comment at 0x000001DB73381C80>'\n",
      "Traceback (most recent call last):\n",
      "  File \"<ipython-input-1-d648b050eb9b>\", line 152, in tojson\n",
      "    tag = etree.QName(elem.tag)\n",
      "  File \"src/lxml/etree.pyx\", line 1835, in lxml.etree.QName.__init__\n",
      "  File \"src/lxml/apihelpers.pxi\", line 1680, in lxml.etree._tagValidOrRaise\n",
      "ValueError: Invalid tag name '<cyfunction Comment at 0x000001DB73381C80>'\n",
      "Traceback (most recent call last):\n",
      "  File \"<ipython-input-1-d648b050eb9b>\", line 152, in tojson\n",
      "    tag = etree.QName(elem.tag)\n",
      "  File \"src/lxml/etree.pyx\", line 1835, in lxml.etree.QName.__init__\n",
      "  File \"src/lxml/apihelpers.pxi\", line 1680, in lxml.etree._tagValidOrRaise\n",
      "ValueError: Invalid tag name '<cyfunction Comment at 0x000001DB73381C80>'\n",
      "Traceback (most recent call last):\n",
      "  File \"<ipython-input-1-d648b050eb9b>\", line 152, in tojson\n",
      "    tag = etree.QName(elem.tag)\n",
      "  File \"src/lxml/etree.pyx\", line 1835, in lxml.etree.QName.__init__\n",
      "  File \"src/lxml/apihelpers.pxi\", line 1680, in lxml.etree._tagValidOrRaise\n",
      "ValueError: Invalid tag name '<cyfunction Comment at 0x000001DB73381C80>'\n",
      "Traceback (most recent call last):\n",
      "  File \"<ipython-input-1-d648b050eb9b>\", line 152, in tojson\n",
      "    tag = etree.QName(elem.tag)\n",
      "  File \"src/lxml/etree.pyx\", line 1835, in lxml.etree.QName.__init__\n",
      "  File \"src/lxml/apihelpers.pxi\", line 1680, in lxml.etree._tagValidOrRaise\n",
      "ValueError: Invalid tag name '<cyfunction Comment at 0x000001DB73381C80>'\n",
      "Traceback (most recent call last):\n",
      "  File \"<ipython-input-1-d648b050eb9b>\", line 152, in tojson\n",
      "    tag = etree.QName(elem.tag)\n",
      "  File \"src/lxml/etree.pyx\", line 1835, in lxml.etree.QName.__init__\n",
      "  File \"src/lxml/apihelpers.pxi\", line 1680, in lxml.etree._tagValidOrRaise\n",
      "ValueError: Invalid tag name '<cyfunction Comment at 0x000001DB73381C80>'\n",
      "Traceback (most recent call last):\n",
      "  File \"<ipython-input-1-d648b050eb9b>\", line 152, in tojson\n",
      "    tag = etree.QName(elem.tag)\n",
      "  File \"src/lxml/etree.pyx\", line 1835, in lxml.etree.QName.__init__\n",
      "  File \"src/lxml/apihelpers.pxi\", line 1680, in lxml.etree._tagValidOrRaise\n",
      "ValueError: Invalid tag name '<cyfunction Comment at 0x000001DB73381C80>'\n",
      "Traceback (most recent call last):\n",
      "  File \"<ipython-input-1-d648b050eb9b>\", line 152, in tojson\n",
      "    tag = etree.QName(elem.tag)\n",
      "  File \"src/lxml/etree.pyx\", line 1835, in lxml.etree.QName.__init__\n",
      "  File \"src/lxml/apihelpers.pxi\", line 1680, in lxml.etree._tagValidOrRaise\n",
      "ValueError: Invalid tag name '<cyfunction Comment at 0x000001DB73381C80>'\n",
      "Traceback (most recent call last):\n",
      "  File \"<ipython-input-1-d648b050eb9b>\", line 152, in tojson\n",
      "    tag = etree.QName(elem.tag)\n",
      "  File \"src/lxml/etree.pyx\", line 1835, in lxml.etree.QName.__init__\n",
      "  File \"src/lxml/apihelpers.pxi\", line 1680, in lxml.etree._tagValidOrRaise\n",
      "ValueError: Invalid tag name '<cyfunction Comment at 0x000001DB73381C80>'\n",
      "Traceback (most recent call last):\n",
      "  File \"<ipython-input-1-d648b050eb9b>\", line 152, in tojson\n",
      "    tag = etree.QName(elem.tag)\n",
      "  File \"src/lxml/etree.pyx\", line 1835, in lxml.etree.QName.__init__\n",
      "  File \"src/lxml/apihelpers.pxi\", line 1680, in lxml.etree._tagValidOrRaise\n",
      "ValueError: Invalid tag name '<cyfunction Comment at 0x000001DB73381C80>'\n",
      "Traceback (most recent call last):\n",
      "  File \"<ipython-input-1-d648b050eb9b>\", line 152, in tojson\n",
      "    tag = etree.QName(elem.tag)\n",
      "  File \"src/lxml/etree.pyx\", line 1835, in lxml.etree.QName.__init__\n",
      "  File \"src/lxml/apihelpers.pxi\", line 1680, in lxml.etree._tagValidOrRaise\n",
      "ValueError: Invalid tag name '<cyfunction Comment at 0x000001DB73381C80>'\n",
      "Traceback (most recent call last):\n",
      "  File \"<ipython-input-1-d648b050eb9b>\", line 152, in tojson\n",
      "    tag = etree.QName(elem.tag)\n",
      "  File \"src/lxml/etree.pyx\", line 1835, in lxml.etree.QName.__init__\n",
      "  File \"src/lxml/apihelpers.pxi\", line 1680, in lxml.etree._tagValidOrRaise\n",
      "ValueError: Invalid tag name '<cyfunction Comment at 0x000001DB73381C80>'\n",
      "Traceback (most recent call last):\n",
      "  File \"<ipython-input-1-d648b050eb9b>\", line 152, in tojson\n",
      "    tag = etree.QName(elem.tag)\n",
      "  File \"src/lxml/etree.pyx\", line 1835, in lxml.etree.QName.__init__\n",
      "  File \"src/lxml/apihelpers.pxi\", line 1680, in lxml.etree._tagValidOrRaise\n",
      "ValueError: Invalid tag name '<cyfunction Comment at 0x000001DB73381C80>'\n",
      "Traceback (most recent call last):\n",
      "  File \"<ipython-input-1-d648b050eb9b>\", line 152, in tojson\n",
      "    tag = etree.QName(elem.tag)\n",
      "  File \"src/lxml/etree.pyx\", line 1835, in lxml.etree.QName.__init__\n",
      "  File \"src/lxml/apihelpers.pxi\", line 1680, in lxml.etree._tagValidOrRaise\n",
      "ValueError: Invalid tag name '<cyfunction Comment at 0x000001DB73381C80>'\n",
      "Traceback (most recent call last):\n",
      "  File \"<ipython-input-1-d648b050eb9b>\", line 152, in tojson\n",
      "    tag = etree.QName(elem.tag)\n",
      "  File \"src/lxml/etree.pyx\", line 1835, in lxml.etree.QName.__init__\n",
      "  File \"src/lxml/apihelpers.pxi\", line 1680, in lxml.etree._tagValidOrRaise\n",
      "ValueError: Invalid tag name '<cyfunction Comment at 0x000001DB73381C80>'\n",
      "Traceback (most recent call last):\n",
      "  File \"<ipython-input-1-d648b050eb9b>\", line 152, in tojson\n",
      "    tag = etree.QName(elem.tag)\n",
      "  File \"src/lxml/etree.pyx\", line 1835, in lxml.etree.QName.__init__\n",
      "  File \"src/lxml/apihelpers.pxi\", line 1680, in lxml.etree._tagValidOrRaise\n",
      "ValueError: Invalid tag name '<cyfunction Comment at 0x000001DB73381C80>'\n",
      "Traceback (most recent call last):\n",
      "  File \"<ipython-input-1-d648b050eb9b>\", line 152, in tojson\n",
      "    tag = etree.QName(elem.tag)\n",
      "  File \"src/lxml/etree.pyx\", line 1835, in lxml.etree.QName.__init__\n",
      "  File \"src/lxml/apihelpers.pxi\", line 1680, in lxml.etree._tagValidOrRaise\n",
      "ValueError: Invalid tag name '<cyfunction Comment at 0x000001DB73381C80>'\n",
      "Traceback (most recent call last):\n",
      "  File \"<ipython-input-1-d648b050eb9b>\", line 152, in tojson\n",
      "    tag = etree.QName(elem.tag)\n",
      "  File \"src/lxml/etree.pyx\", line 1835, in lxml.etree.QName.__init__\n",
      "  File \"src/lxml/apihelpers.pxi\", line 1680, in lxml.etree._tagValidOrRaise\n",
      "ValueError: Invalid tag name '<cyfunction Comment at 0x000001DB73381C80>'\n",
      "Traceback (most recent call last):\n",
      "  File \"<ipython-input-1-d648b050eb9b>\", line 152, in tojson\n",
      "    tag = etree.QName(elem.tag)\n",
      "  File \"src/lxml/etree.pyx\", line 1835, in lxml.etree.QName.__init__\n",
      "  File \"src/lxml/apihelpers.pxi\", line 1680, in lxml.etree._tagValidOrRaise\n",
      "ValueError: Invalid tag name '<cyfunction Comment at 0x000001DB73381C80>'\n",
      "Traceback (most recent call last):\n",
      "  File \"<ipython-input-1-d648b050eb9b>\", line 152, in tojson\n",
      "    tag = etree.QName(elem.tag)\n",
      "  File \"src/lxml/etree.pyx\", line 1835, in lxml.etree.QName.__init__\n"
     ]
    },
    {
     "name": "stderr",
     "output_type": "stream",
     "text": [
      "  File \"src/lxml/apihelpers.pxi\", line 1680, in lxml.etree._tagValidOrRaise\n",
      "ValueError: Invalid tag name '<cyfunction Comment at 0x000001DB73381C80>'\n",
      "Traceback (most recent call last):\n",
      "  File \"<ipython-input-1-d648b050eb9b>\", line 152, in tojson\n",
      "    tag = etree.QName(elem.tag)\n",
      "  File \"src/lxml/etree.pyx\", line 1835, in lxml.etree.QName.__init__\n",
      "  File \"src/lxml/apihelpers.pxi\", line 1680, in lxml.etree._tagValidOrRaise\n",
      "ValueError: Invalid tag name '<cyfunction Comment at 0x000001DB73381C80>'\n",
      "Traceback (most recent call last):\n",
      "  File \"<ipython-input-1-d648b050eb9b>\", line 152, in tojson\n",
      "    tag = etree.QName(elem.tag)\n",
      "  File \"src/lxml/etree.pyx\", line 1835, in lxml.etree.QName.__init__\n",
      "  File \"src/lxml/apihelpers.pxi\", line 1680, in lxml.etree._tagValidOrRaise\n",
      "ValueError: Invalid tag name '<cyfunction Comment at 0x000001DB73381C80>'\n",
      "Traceback (most recent call last):\n",
      "  File \"<ipython-input-1-d648b050eb9b>\", line 152, in tojson\n",
      "    tag = etree.QName(elem.tag)\n",
      "  File \"src/lxml/etree.pyx\", line 1835, in lxml.etree.QName.__init__\n",
      "  File \"src/lxml/apihelpers.pxi\", line 1680, in lxml.etree._tagValidOrRaise\n",
      "ValueError: Invalid tag name '<cyfunction Comment at 0x000001DB73381C80>'\n",
      "Traceback (most recent call last):\n",
      "  File \"<ipython-input-1-d648b050eb9b>\", line 152, in tojson\n",
      "    tag = etree.QName(elem.tag)\n",
      "  File \"src/lxml/etree.pyx\", line 1835, in lxml.etree.QName.__init__\n",
      "  File \"src/lxml/apihelpers.pxi\", line 1680, in lxml.etree._tagValidOrRaise\n",
      "ValueError: Invalid tag name '<cyfunction Comment at 0x000001DB73381C80>'\n",
      "Traceback (most recent call last):\n",
      "  File \"<ipython-input-1-d648b050eb9b>\", line 152, in tojson\n",
      "    tag = etree.QName(elem.tag)\n",
      "  File \"src/lxml/etree.pyx\", line 1835, in lxml.etree.QName.__init__\n",
      "  File \"src/lxml/apihelpers.pxi\", line 1680, in lxml.etree._tagValidOrRaise\n",
      "ValueError: Invalid tag name '<cyfunction Comment at 0x000001DB73381C80>'\n",
      "Traceback (most recent call last):\n",
      "  File \"<ipython-input-1-d648b050eb9b>\", line 152, in tojson\n",
      "    tag = etree.QName(elem.tag)\n",
      "  File \"src/lxml/etree.pyx\", line 1835, in lxml.etree.QName.__init__\n",
      "  File \"src/lxml/apihelpers.pxi\", line 1680, in lxml.etree._tagValidOrRaise\n",
      "ValueError: Invalid tag name '<cyfunction Comment at 0x000001DB73381C80>'\n",
      "Traceback (most recent call last):\n",
      "  File \"<ipython-input-1-d648b050eb9b>\", line 152, in tojson\n",
      "    tag = etree.QName(elem.tag)\n",
      "  File \"src/lxml/etree.pyx\", line 1835, in lxml.etree.QName.__init__\n",
      "  File \"src/lxml/apihelpers.pxi\", line 1680, in lxml.etree._tagValidOrRaise\n",
      "ValueError: Invalid tag name '<cyfunction Comment at 0x000001DB73381C80>'\n",
      "Traceback (most recent call last):\n",
      "  File \"<ipython-input-1-d648b050eb9b>\", line 152, in tojson\n",
      "    tag = etree.QName(elem.tag)\n",
      "  File \"src/lxml/etree.pyx\", line 1835, in lxml.etree.QName.__init__\n",
      "  File \"src/lxml/apihelpers.pxi\", line 1680, in lxml.etree._tagValidOrRaise\n",
      "ValueError: Invalid tag name '<cyfunction Comment at 0x000001DB73381C80>'\n",
      "Traceback (most recent call last):\n",
      "  File \"<ipython-input-1-d648b050eb9b>\", line 152, in tojson\n",
      "    tag = etree.QName(elem.tag)\n",
      "  File \"src/lxml/etree.pyx\", line 1835, in lxml.etree.QName.__init__\n",
      "  File \"src/lxml/apihelpers.pxi\", line 1680, in lxml.etree._tagValidOrRaise\n",
      "ValueError: Invalid tag name '<cyfunction Comment at 0x000001DB73381C80>'\n",
      "Traceback (most recent call last):\n",
      "  File \"<ipython-input-1-d648b050eb9b>\", line 152, in tojson\n",
      "    tag = etree.QName(elem.tag)\n",
      "  File \"src/lxml/etree.pyx\", line 1835, in lxml.etree.QName.__init__\n",
      "  File \"src/lxml/apihelpers.pxi\", line 1680, in lxml.etree._tagValidOrRaise\n",
      "ValueError: Invalid tag name '<cyfunction Comment at 0x000001DB73381C80>'\n",
      "Traceback (most recent call last):\n",
      "  File \"<ipython-input-1-d648b050eb9b>\", line 152, in tojson\n",
      "    tag = etree.QName(elem.tag)\n",
      "  File \"src/lxml/etree.pyx\", line 1835, in lxml.etree.QName.__init__\n",
      "  File \"src/lxml/apihelpers.pxi\", line 1680, in lxml.etree._tagValidOrRaise\n",
      "ValueError: Invalid tag name '<cyfunction Comment at 0x000001DB73381C80>'\n",
      "Traceback (most recent call last):\n",
      "  File \"<ipython-input-1-d648b050eb9b>\", line 152, in tojson\n",
      "    tag = etree.QName(elem.tag)\n",
      "  File \"src/lxml/etree.pyx\", line 1835, in lxml.etree.QName.__init__\n",
      "  File \"src/lxml/apihelpers.pxi\", line 1680, in lxml.etree._tagValidOrRaise\n",
      "ValueError: Invalid tag name '<cyfunction Comment at 0x000001DB73381C80>'\n",
      "Traceback (most recent call last):\n",
      "  File \"<ipython-input-1-d648b050eb9b>\", line 152, in tojson\n",
      "    tag = etree.QName(elem.tag)\n",
      "  File \"src/lxml/etree.pyx\", line 1835, in lxml.etree.QName.__init__\n",
      "  File \"src/lxml/apihelpers.pxi\", line 1680, in lxml.etree._tagValidOrRaise\n",
      "ValueError: Invalid tag name '<cyfunction Comment at 0x000001DB73381C80>'\n",
      "Traceback (most recent call last):\n",
      "  File \"<ipython-input-1-d648b050eb9b>\", line 152, in tojson\n",
      "    tag = etree.QName(elem.tag)\n",
      "  File \"src/lxml/etree.pyx\", line 1835, in lxml.etree.QName.__init__\n",
      "  File \"src/lxml/apihelpers.pxi\", line 1680, in lxml.etree._tagValidOrRaise\n",
      "ValueError: Invalid tag name '<cyfunction Comment at 0x000001DB73381C80>'\n",
      "Traceback (most recent call last):\n",
      "  File \"<ipython-input-1-d648b050eb9b>\", line 152, in tojson\n",
      "    tag = etree.QName(elem.tag)\n",
      "  File \"src/lxml/etree.pyx\", line 1835, in lxml.etree.QName.__init__\n",
      "  File \"src/lxml/apihelpers.pxi\", line 1680, in lxml.etree._tagValidOrRaise\n",
      "ValueError: Invalid tag name '<cyfunction Comment at 0x000001DB73381C80>'\n",
      "Traceback (most recent call last):\n",
      "  File \"<ipython-input-1-d648b050eb9b>\", line 152, in tojson\n",
      "    tag = etree.QName(elem.tag)\n",
      "  File \"src/lxml/etree.pyx\", line 1835, in lxml.etree.QName.__init__\n",
      "  File \"src/lxml/apihelpers.pxi\", line 1680, in lxml.etree._tagValidOrRaise\n",
      "ValueError: Invalid tag name '<cyfunction Comment at 0x000001DB73381C80>'\n",
      "Traceback (most recent call last):\n",
      "  File \"<ipython-input-1-d648b050eb9b>\", line 152, in tojson\n",
      "    tag = etree.QName(elem.tag)\n",
      "  File \"src/lxml/etree.pyx\", line 1835, in lxml.etree.QName.__init__\n",
      "  File \"src/lxml/apihelpers.pxi\", line 1680, in lxml.etree._tagValidOrRaise\n",
      "ValueError: Invalid tag name '<cyfunction Comment at 0x000001DB73381C80>'\n",
      "Traceback (most recent call last):\n",
      "  File \"<ipython-input-1-d648b050eb9b>\", line 152, in tojson\n",
      "    tag = etree.QName(elem.tag)\n",
      "  File \"src/lxml/etree.pyx\", line 1835, in lxml.etree.QName.__init__\n",
      "  File \"src/lxml/apihelpers.pxi\", line 1680, in lxml.etree._tagValidOrRaise\n",
      "ValueError: Invalid tag name '<cyfunction Comment at 0x000001DB73381C80>'\n",
      "Traceback (most recent call last):\n",
      "  File \"<ipython-input-1-d648b050eb9b>\", line 152, in tojson\n",
      "    tag = etree.QName(elem.tag)\n",
      "  File \"src/lxml/etree.pyx\", line 1835, in lxml.etree.QName.__init__\n",
      "  File \"src/lxml/apihelpers.pxi\", line 1680, in lxml.etree._tagValidOrRaise\n",
      "ValueError: Invalid tag name '<cyfunction Comment at 0x000001DB73381C80>'\n",
      "Traceback (most recent call last):\n",
      "  File \"<ipython-input-1-d648b050eb9b>\", line 152, in tojson\n",
      "    tag = etree.QName(elem.tag)\n",
      "  File \"src/lxml/etree.pyx\", line 1835, in lxml.etree.QName.__init__\n",
      "  File \"src/lxml/apihelpers.pxi\", line 1680, in lxml.etree._tagValidOrRaise\n",
      "ValueError: Invalid tag name '<cyfunction Comment at 0x000001DB73381C80>'\n",
      "Traceback (most recent call last):\n",
      "  File \"<ipython-input-1-d648b050eb9b>\", line 152, in tojson\n",
      "    tag = etree.QName(elem.tag)\n",
      "  File \"src/lxml/etree.pyx\", line 1835, in lxml.etree.QName.__init__\n",
      "  File \"src/lxml/apihelpers.pxi\", line 1680, in lxml.etree._tagValidOrRaise\n",
      "ValueError: Invalid tag name '<cyfunction Comment at 0x000001DB73381C80>'\n",
      "Traceback (most recent call last):\n",
      "  File \"<ipython-input-1-d648b050eb9b>\", line 152, in tojson\n",
      "    tag = etree.QName(elem.tag)\n",
      "  File \"src/lxml/etree.pyx\", line 1835, in lxml.etree.QName.__init__\n",
      "  File \"src/lxml/apihelpers.pxi\", line 1680, in lxml.etree._tagValidOrRaise\n",
      "ValueError: Invalid tag name '<cyfunction Comment at 0x000001DB73381C80>'\n",
      "Traceback (most recent call last):\n",
      "  File \"<ipython-input-1-d648b050eb9b>\", line 152, in tojson\n",
      "    tag = etree.QName(elem.tag)\n",
      "  File \"src/lxml/etree.pyx\", line 1835, in lxml.etree.QName.__init__\n",
      "  File \"src/lxml/apihelpers.pxi\", line 1680, in lxml.etree._tagValidOrRaise\n",
      "ValueError: Invalid tag name '<cyfunction Comment at 0x000001DB73381C80>'\n",
      "Traceback (most recent call last):\n",
      "  File \"<ipython-input-1-d648b050eb9b>\", line 152, in tojson\n",
      "    tag = etree.QName(elem.tag)\n"
     ]
    },
    {
     "name": "stderr",
     "output_type": "stream",
     "text": [
      "  File \"src/lxml/etree.pyx\", line 1835, in lxml.etree.QName.__init__\n",
      "  File \"src/lxml/apihelpers.pxi\", line 1680, in lxml.etree._tagValidOrRaise\n",
      "ValueError: Invalid tag name '<cyfunction Comment at 0x000001DB73381C80>'\n",
      "Traceback (most recent call last):\n",
      "  File \"<ipython-input-1-d648b050eb9b>\", line 152, in tojson\n",
      "    tag = etree.QName(elem.tag)\n",
      "  File \"src/lxml/etree.pyx\", line 1835, in lxml.etree.QName.__init__\n",
      "  File \"src/lxml/apihelpers.pxi\", line 1680, in lxml.etree._tagValidOrRaise\n",
      "ValueError: Invalid tag name '<cyfunction Comment at 0x000001DB73381C80>'\n",
      "Traceback (most recent call last):\n",
      "  File \"<ipython-input-1-d648b050eb9b>\", line 152, in tojson\n",
      "    tag = etree.QName(elem.tag)\n",
      "  File \"src/lxml/etree.pyx\", line 1835, in lxml.etree.QName.__init__\n",
      "  File \"src/lxml/apihelpers.pxi\", line 1680, in lxml.etree._tagValidOrRaise\n",
      "ValueError: Invalid tag name '<cyfunction Comment at 0x000001DB73381C80>'\n",
      "Traceback (most recent call last):\n",
      "  File \"<ipython-input-1-d648b050eb9b>\", line 152, in tojson\n",
      "    tag = etree.QName(elem.tag)\n",
      "  File \"src/lxml/etree.pyx\", line 1835, in lxml.etree.QName.__init__\n",
      "  File \"src/lxml/apihelpers.pxi\", line 1680, in lxml.etree._tagValidOrRaise\n",
      "ValueError: Invalid tag name '<cyfunction Comment at 0x000001DB73381C80>'\n",
      "Traceback (most recent call last):\n",
      "  File \"<ipython-input-1-d648b050eb9b>\", line 152, in tojson\n",
      "    tag = etree.QName(elem.tag)\n",
      "  File \"src/lxml/etree.pyx\", line 1835, in lxml.etree.QName.__init__\n",
      "  File \"src/lxml/apihelpers.pxi\", line 1680, in lxml.etree._tagValidOrRaise\n",
      "ValueError: Invalid tag name '<cyfunction Comment at 0x000001DB73381C80>'\n",
      "Traceback (most recent call last):\n",
      "  File \"<ipython-input-1-d648b050eb9b>\", line 152, in tojson\n",
      "    tag = etree.QName(elem.tag)\n",
      "  File \"src/lxml/etree.pyx\", line 1835, in lxml.etree.QName.__init__\n",
      "  File \"src/lxml/apihelpers.pxi\", line 1680, in lxml.etree._tagValidOrRaise\n",
      "ValueError: Invalid tag name '<cyfunction Comment at 0x000001DB73381C80>'\n",
      "Traceback (most recent call last):\n",
      "  File \"<ipython-input-1-d648b050eb9b>\", line 152, in tojson\n",
      "    tag = etree.QName(elem.tag)\n",
      "  File \"src/lxml/etree.pyx\", line 1835, in lxml.etree.QName.__init__\n",
      "  File \"src/lxml/apihelpers.pxi\", line 1680, in lxml.etree._tagValidOrRaise\n",
      "ValueError: Invalid tag name '<cyfunction Comment at 0x000001DB73381C80>'\n",
      "Traceback (most recent call last):\n",
      "  File \"<ipython-input-1-d648b050eb9b>\", line 152, in tojson\n",
      "    tag = etree.QName(elem.tag)\n",
      "  File \"src/lxml/etree.pyx\", line 1835, in lxml.etree.QName.__init__\n",
      "  File \"src/lxml/apihelpers.pxi\", line 1680, in lxml.etree._tagValidOrRaise\n",
      "ValueError: Invalid tag name '<cyfunction Comment at 0x000001DB73381C80>'\n",
      "Traceback (most recent call last):\n",
      "  File \"<ipython-input-1-d648b050eb9b>\", line 152, in tojson\n",
      "    tag = etree.QName(elem.tag)\n",
      "  File \"src/lxml/etree.pyx\", line 1835, in lxml.etree.QName.__init__\n",
      "  File \"src/lxml/apihelpers.pxi\", line 1680, in lxml.etree._tagValidOrRaise\n",
      "ValueError: Invalid tag name '<cyfunction Comment at 0x000001DB73381C80>'\n",
      "Traceback (most recent call last):\n",
      "  File \"<ipython-input-1-d648b050eb9b>\", line 152, in tojson\n",
      "    tag = etree.QName(elem.tag)\n",
      "  File \"src/lxml/etree.pyx\", line 1835, in lxml.etree.QName.__init__\n",
      "  File \"src/lxml/apihelpers.pxi\", line 1680, in lxml.etree._tagValidOrRaise\n",
      "ValueError: Invalid tag name '<cyfunction Comment at 0x000001DB73381C80>'\n",
      "Traceback (most recent call last):\n",
      "  File \"<ipython-input-1-d648b050eb9b>\", line 152, in tojson\n",
      "    tag = etree.QName(elem.tag)\n",
      "  File \"src/lxml/etree.pyx\", line 1835, in lxml.etree.QName.__init__\n",
      "  File \"src/lxml/apihelpers.pxi\", line 1680, in lxml.etree._tagValidOrRaise\n",
      "ValueError: Invalid tag name '<cyfunction Comment at 0x000001DB73381C80>'\n",
      "Traceback (most recent call last):\n",
      "  File \"<ipython-input-1-d648b050eb9b>\", line 152, in tojson\n",
      "    tag = etree.QName(elem.tag)\n",
      "  File \"src/lxml/etree.pyx\", line 1835, in lxml.etree.QName.__init__\n",
      "  File \"src/lxml/apihelpers.pxi\", line 1680, in lxml.etree._tagValidOrRaise\n",
      "ValueError: Invalid tag name '<cyfunction Comment at 0x000001DB73381C80>'\n",
      "Traceback (most recent call last):\n",
      "  File \"<ipython-input-1-d648b050eb9b>\", line 152, in tojson\n",
      "    tag = etree.QName(elem.tag)\n",
      "  File \"src/lxml/etree.pyx\", line 1835, in lxml.etree.QName.__init__\n",
      "  File \"src/lxml/apihelpers.pxi\", line 1680, in lxml.etree._tagValidOrRaise\n",
      "ValueError: Invalid tag name '<cyfunction Comment at 0x000001DB73381C80>'\n",
      "Traceback (most recent call last):\n",
      "  File \"<ipython-input-1-d648b050eb9b>\", line 152, in tojson\n",
      "    tag = etree.QName(elem.tag)\n",
      "  File \"src/lxml/etree.pyx\", line 1835, in lxml.etree.QName.__init__\n",
      "  File \"src/lxml/apihelpers.pxi\", line 1680, in lxml.etree._tagValidOrRaise\n",
      "ValueError: Invalid tag name '<cyfunction Comment at 0x000001DB73381C80>'\n",
      "Traceback (most recent call last):\n",
      "  File \"<ipython-input-1-d648b050eb9b>\", line 152, in tojson\n",
      "    tag = etree.QName(elem.tag)\n",
      "  File \"src/lxml/etree.pyx\", line 1835, in lxml.etree.QName.__init__\n",
      "  File \"src/lxml/apihelpers.pxi\", line 1680, in lxml.etree._tagValidOrRaise\n",
      "ValueError: Invalid tag name '<cyfunction Comment at 0x000001DB73381C80>'\n",
      "Traceback (most recent call last):\n",
      "  File \"<ipython-input-1-d648b050eb9b>\", line 152, in tojson\n",
      "    tag = etree.QName(elem.tag)\n",
      "  File \"src/lxml/etree.pyx\", line 1835, in lxml.etree.QName.__init__\n",
      "  File \"src/lxml/apihelpers.pxi\", line 1680, in lxml.etree._tagValidOrRaise\n",
      "ValueError: Invalid tag name '<cyfunction Comment at 0x000001DB73381C80>'\n",
      "Traceback (most recent call last):\n",
      "  File \"<ipython-input-1-d648b050eb9b>\", line 152, in tojson\n",
      "    tag = etree.QName(elem.tag)\n",
      "  File \"src/lxml/etree.pyx\", line 1835, in lxml.etree.QName.__init__\n",
      "  File \"src/lxml/apihelpers.pxi\", line 1680, in lxml.etree._tagValidOrRaise\n",
      "ValueError: Invalid tag name '<cyfunction Comment at 0x000001DB73381C80>'\n",
      "Traceback (most recent call last):\n",
      "  File \"<ipython-input-1-d648b050eb9b>\", line 152, in tojson\n",
      "    tag = etree.QName(elem.tag)\n",
      "  File \"src/lxml/etree.pyx\", line 1835, in lxml.etree.QName.__init__\n",
      "  File \"src/lxml/apihelpers.pxi\", line 1680, in lxml.etree._tagValidOrRaise\n",
      "ValueError: Invalid tag name '<cyfunction Comment at 0x000001DB73381C80>'\n",
      "Traceback (most recent call last):\n",
      "  File \"<ipython-input-1-d648b050eb9b>\", line 152, in tojson\n",
      "    tag = etree.QName(elem.tag)\n",
      "  File \"src/lxml/etree.pyx\", line 1835, in lxml.etree.QName.__init__\n",
      "  File \"src/lxml/apihelpers.pxi\", line 1680, in lxml.etree._tagValidOrRaise\n",
      "ValueError: Invalid tag name '<cyfunction Comment at 0x000001DB73381C80>'\n",
      "Traceback (most recent call last):\n",
      "  File \"<ipython-input-1-d648b050eb9b>\", line 152, in tojson\n",
      "    tag = etree.QName(elem.tag)\n",
      "  File \"src/lxml/etree.pyx\", line 1835, in lxml.etree.QName.__init__\n",
      "  File \"src/lxml/apihelpers.pxi\", line 1680, in lxml.etree._tagValidOrRaise\n",
      "ValueError: Invalid tag name '<cyfunction Comment at 0x000001DB73381C80>'\n",
      "Traceback (most recent call last):\n",
      "  File \"<ipython-input-1-d648b050eb9b>\", line 152, in tojson\n",
      "    tag = etree.QName(elem.tag)\n",
      "  File \"src/lxml/etree.pyx\", line 1835, in lxml.etree.QName.__init__\n",
      "  File \"src/lxml/apihelpers.pxi\", line 1680, in lxml.etree._tagValidOrRaise\n",
      "ValueError: Invalid tag name '<cyfunction Comment at 0x000001DB73381C80>'\n",
      "Traceback (most recent call last):\n",
      "  File \"<ipython-input-1-d648b050eb9b>\", line 152, in tojson\n",
      "    tag = etree.QName(elem.tag)\n",
      "  File \"src/lxml/etree.pyx\", line 1835, in lxml.etree.QName.__init__\n",
      "  File \"src/lxml/apihelpers.pxi\", line 1680, in lxml.etree._tagValidOrRaise\n",
      "ValueError: Invalid tag name '<cyfunction Comment at 0x000001DB73381C80>'\n",
      "Traceback (most recent call last):\n",
      "  File \"<ipython-input-1-d648b050eb9b>\", line 152, in tojson\n",
      "    tag = etree.QName(elem.tag)\n",
      "  File \"src/lxml/etree.pyx\", line 1835, in lxml.etree.QName.__init__\n",
      "  File \"src/lxml/apihelpers.pxi\", line 1680, in lxml.etree._tagValidOrRaise\n",
      "ValueError: Invalid tag name '<cyfunction Comment at 0x000001DB73381C80>'\n",
      "Traceback (most recent call last):\n",
      "  File \"<ipython-input-1-d648b050eb9b>\", line 152, in tojson\n",
      "    tag = etree.QName(elem.tag)\n",
      "  File \"src/lxml/etree.pyx\", line 1835, in lxml.etree.QName.__init__\n",
      "  File \"src/lxml/apihelpers.pxi\", line 1680, in lxml.etree._tagValidOrRaise\n",
      "ValueError: Invalid tag name '<cyfunction Comment at 0x000001DB73381C80>'\n"
     ]
    },
    {
     "name": "stderr",
     "output_type": "stream",
     "text": [
      "Traceback (most recent call last):\n",
      "  File \"<ipython-input-1-d648b050eb9b>\", line 152, in tojson\n",
      "    tag = etree.QName(elem.tag)\n",
      "  File \"src/lxml/etree.pyx\", line 1835, in lxml.etree.QName.__init__\n",
      "  File \"src/lxml/apihelpers.pxi\", line 1680, in lxml.etree._tagValidOrRaise\n",
      "ValueError: Invalid tag name '<cyfunction Comment at 0x000001DB73381C80>'\n",
      "Traceback (most recent call last):\n",
      "  File \"<ipython-input-1-d648b050eb9b>\", line 152, in tojson\n",
      "    tag = etree.QName(elem.tag)\n",
      "  File \"src/lxml/etree.pyx\", line 1835, in lxml.etree.QName.__init__\n",
      "  File \"src/lxml/apihelpers.pxi\", line 1680, in lxml.etree._tagValidOrRaise\n",
      "ValueError: Invalid tag name '<cyfunction Comment at 0x000001DB73381C80>'\n",
      "Traceback (most recent call last):\n",
      "  File \"<ipython-input-1-d648b050eb9b>\", line 152, in tojson\n",
      "    tag = etree.QName(elem.tag)\n",
      "  File \"src/lxml/etree.pyx\", line 1835, in lxml.etree.QName.__init__\n",
      "  File \"src/lxml/apihelpers.pxi\", line 1680, in lxml.etree._tagValidOrRaise\n",
      "ValueError: Invalid tag name '<cyfunction Comment at 0x000001DB73381C80>'\n",
      "Traceback (most recent call last):\n",
      "  File \"<ipython-input-1-d648b050eb9b>\", line 152, in tojson\n",
      "    tag = etree.QName(elem.tag)\n",
      "  File \"src/lxml/etree.pyx\", line 1835, in lxml.etree.QName.__init__\n",
      "  File \"src/lxml/apihelpers.pxi\", line 1680, in lxml.etree._tagValidOrRaise\n",
      "ValueError: Invalid tag name '<cyfunction Comment at 0x000001DB73381C80>'\n",
      "Traceback (most recent call last):\n",
      "  File \"<ipython-input-1-d648b050eb9b>\", line 152, in tojson\n",
      "    tag = etree.QName(elem.tag)\n",
      "  File \"src/lxml/etree.pyx\", line 1835, in lxml.etree.QName.__init__\n",
      "  File \"src/lxml/apihelpers.pxi\", line 1680, in lxml.etree._tagValidOrRaise\n",
      "ValueError: Invalid tag name '<cyfunction Comment at 0x000001DB73381C80>'\n",
      "Traceback (most recent call last):\n",
      "  File \"<ipython-input-1-d648b050eb9b>\", line 152, in tojson\n",
      "    tag = etree.QName(elem.tag)\n",
      "  File \"src/lxml/etree.pyx\", line 1835, in lxml.etree.QName.__init__\n",
      "  File \"src/lxml/apihelpers.pxi\", line 1680, in lxml.etree._tagValidOrRaise\n",
      "ValueError: Invalid tag name '<cyfunction Comment at 0x000001DB73381C80>'\n",
      "Traceback (most recent call last):\n",
      "  File \"<ipython-input-1-d648b050eb9b>\", line 152, in tojson\n",
      "    tag = etree.QName(elem.tag)\n",
      "  File \"src/lxml/etree.pyx\", line 1835, in lxml.etree.QName.__init__\n",
      "  File \"src/lxml/apihelpers.pxi\", line 1680, in lxml.etree._tagValidOrRaise\n",
      "ValueError: Invalid tag name '<cyfunction Comment at 0x000001DB73381C80>'\n",
      "Traceback (most recent call last):\n",
      "  File \"<ipython-input-1-d648b050eb9b>\", line 152, in tojson\n",
      "    tag = etree.QName(elem.tag)\n",
      "  File \"src/lxml/etree.pyx\", line 1835, in lxml.etree.QName.__init__\n",
      "  File \"src/lxml/apihelpers.pxi\", line 1680, in lxml.etree._tagValidOrRaise\n",
      "ValueError: Invalid tag name '<cyfunction Comment at 0x000001DB73381C80>'\n",
      "Traceback (most recent call last):\n",
      "  File \"<ipython-input-1-d648b050eb9b>\", line 152, in tojson\n",
      "    tag = etree.QName(elem.tag)\n",
      "  File \"src/lxml/etree.pyx\", line 1835, in lxml.etree.QName.__init__\n",
      "  File \"src/lxml/apihelpers.pxi\", line 1680, in lxml.etree._tagValidOrRaise\n",
      "ValueError: Invalid tag name '<cyfunction Comment at 0x000001DB73381C80>'\n",
      "Traceback (most recent call last):\n",
      "  File \"<ipython-input-1-d648b050eb9b>\", line 152, in tojson\n",
      "    tag = etree.QName(elem.tag)\n",
      "  File \"src/lxml/etree.pyx\", line 1835, in lxml.etree.QName.__init__\n",
      "  File \"src/lxml/apihelpers.pxi\", line 1680, in lxml.etree._tagValidOrRaise\n",
      "ValueError: Invalid tag name '<cyfunction Comment at 0x000001DB73381C80>'\n",
      "Traceback (most recent call last):\n",
      "  File \"<ipython-input-1-d648b050eb9b>\", line 152, in tojson\n",
      "    tag = etree.QName(elem.tag)\n",
      "  File \"src/lxml/etree.pyx\", line 1835, in lxml.etree.QName.__init__\n",
      "  File \"src/lxml/apihelpers.pxi\", line 1680, in lxml.etree._tagValidOrRaise\n",
      "ValueError: Invalid tag name '<cyfunction Comment at 0x000001DB73381C80>'\n",
      "Traceback (most recent call last):\n",
      "  File \"<ipython-input-1-d648b050eb9b>\", line 152, in tojson\n",
      "    tag = etree.QName(elem.tag)\n",
      "  File \"src/lxml/etree.pyx\", line 1835, in lxml.etree.QName.__init__\n",
      "  File \"src/lxml/apihelpers.pxi\", line 1680, in lxml.etree._tagValidOrRaise\n",
      "ValueError: Invalid tag name '<cyfunction Comment at 0x000001DB73381C80>'\n",
      "Traceback (most recent call last):\n",
      "  File \"<ipython-input-1-d648b050eb9b>\", line 152, in tojson\n",
      "    tag = etree.QName(elem.tag)\n",
      "  File \"src/lxml/etree.pyx\", line 1835, in lxml.etree.QName.__init__\n",
      "  File \"src/lxml/apihelpers.pxi\", line 1680, in lxml.etree._tagValidOrRaise\n",
      "ValueError: Invalid tag name '<cyfunction Comment at 0x000001DB73381C80>'\n",
      "Traceback (most recent call last):\n",
      "  File \"<ipython-input-1-d648b050eb9b>\", line 152, in tojson\n",
      "    tag = etree.QName(elem.tag)\n",
      "  File \"src/lxml/etree.pyx\", line 1835, in lxml.etree.QName.__init__\n",
      "  File \"src/lxml/apihelpers.pxi\", line 1680, in lxml.etree._tagValidOrRaise\n",
      "ValueError: Invalid tag name '<cyfunction Comment at 0x000001DB73381C80>'\n",
      "Traceback (most recent call last):\n",
      "  File \"<ipython-input-1-d648b050eb9b>\", line 152, in tojson\n",
      "    tag = etree.QName(elem.tag)\n",
      "  File \"src/lxml/etree.pyx\", line 1835, in lxml.etree.QName.__init__\n",
      "  File \"src/lxml/apihelpers.pxi\", line 1680, in lxml.etree._tagValidOrRaise\n",
      "ValueError: Invalid tag name '<cyfunction Comment at 0x000001DB73381C80>'\n",
      "Traceback (most recent call last):\n",
      "  File \"<ipython-input-1-d648b050eb9b>\", line 152, in tojson\n",
      "    tag = etree.QName(elem.tag)\n",
      "  File \"src/lxml/etree.pyx\", line 1835, in lxml.etree.QName.__init__\n",
      "  File \"src/lxml/apihelpers.pxi\", line 1680, in lxml.etree._tagValidOrRaise\n",
      "ValueError: Invalid tag name '<cyfunction Comment at 0x000001DB73381C80>'\n",
      "Traceback (most recent call last):\n",
      "  File \"<ipython-input-1-d648b050eb9b>\", line 152, in tojson\n",
      "    tag = etree.QName(elem.tag)\n",
      "  File \"src/lxml/etree.pyx\", line 1835, in lxml.etree.QName.__init__\n",
      "  File \"src/lxml/apihelpers.pxi\", line 1680, in lxml.etree._tagValidOrRaise\n",
      "ValueError: Invalid tag name '<cyfunction Comment at 0x000001DB73381C80>'\n",
      "Traceback (most recent call last):\n",
      "  File \"<ipython-input-1-d648b050eb9b>\", line 152, in tojson\n",
      "    tag = etree.QName(elem.tag)\n",
      "  File \"src/lxml/etree.pyx\", line 1835, in lxml.etree.QName.__init__\n",
      "  File \"src/lxml/apihelpers.pxi\", line 1680, in lxml.etree._tagValidOrRaise\n",
      "ValueError: Invalid tag name '<cyfunction Comment at 0x000001DB73381C80>'\n",
      "Traceback (most recent call last):\n",
      "  File \"<ipython-input-1-d648b050eb9b>\", line 152, in tojson\n",
      "    tag = etree.QName(elem.tag)\n",
      "  File \"src/lxml/etree.pyx\", line 1835, in lxml.etree.QName.__init__\n",
      "  File \"src/lxml/apihelpers.pxi\", line 1680, in lxml.etree._tagValidOrRaise\n",
      "ValueError: Invalid tag name '<cyfunction Comment at 0x000001DB73381C80>'\n",
      "Traceback (most recent call last):\n",
      "  File \"<ipython-input-1-d648b050eb9b>\", line 152, in tojson\n",
      "    tag = etree.QName(elem.tag)\n",
      "  File \"src/lxml/etree.pyx\", line 1835, in lxml.etree.QName.__init__\n",
      "  File \"src/lxml/apihelpers.pxi\", line 1680, in lxml.etree._tagValidOrRaise\n",
      "ValueError: Invalid tag name '<cyfunction Comment at 0x000001DB73381C80>'\n",
      "Traceback (most recent call last):\n",
      "  File \"<ipython-input-1-d648b050eb9b>\", line 152, in tojson\n",
      "    tag = etree.QName(elem.tag)\n",
      "  File \"src/lxml/etree.pyx\", line 1835, in lxml.etree.QName.__init__\n",
      "  File \"src/lxml/apihelpers.pxi\", line 1680, in lxml.etree._tagValidOrRaise\n",
      "ValueError: Invalid tag name '<cyfunction Comment at 0x000001DB73381C80>'\n",
      "Traceback (most recent call last):\n",
      "  File \"<ipython-input-1-d648b050eb9b>\", line 152, in tojson\n",
      "    tag = etree.QName(elem.tag)\n",
      "  File \"src/lxml/etree.pyx\", line 1835, in lxml.etree.QName.__init__\n",
      "  File \"src/lxml/apihelpers.pxi\", line 1680, in lxml.etree._tagValidOrRaise\n",
      "ValueError: Invalid tag name '<cyfunction Comment at 0x000001DB73381C80>'\n",
      "Traceback (most recent call last):\n",
      "  File \"<ipython-input-1-d648b050eb9b>\", line 152, in tojson\n",
      "    tag = etree.QName(elem.tag)\n",
      "  File \"src/lxml/etree.pyx\", line 1835, in lxml.etree.QName.__init__\n",
      "  File \"src/lxml/apihelpers.pxi\", line 1680, in lxml.etree._tagValidOrRaise\n",
      "ValueError: Invalid tag name '<cyfunction Comment at 0x000001DB73381C80>'\n",
      "Traceback (most recent call last):\n",
      "  File \"<ipython-input-1-d648b050eb9b>\", line 152, in tojson\n",
      "    tag = etree.QName(elem.tag)\n",
      "  File \"src/lxml/etree.pyx\", line 1835, in lxml.etree.QName.__init__\n",
      "  File \"src/lxml/apihelpers.pxi\", line 1680, in lxml.etree._tagValidOrRaise\n"
     ]
    },
    {
     "name": "stderr",
     "output_type": "stream",
     "text": [
      "ValueError: Invalid tag name '<cyfunction Comment at 0x000001DB73381C80>'\n",
      "Traceback (most recent call last):\n",
      "  File \"<ipython-input-1-d648b050eb9b>\", line 152, in tojson\n",
      "    tag = etree.QName(elem.tag)\n",
      "  File \"src/lxml/etree.pyx\", line 1835, in lxml.etree.QName.__init__\n",
      "  File \"src/lxml/apihelpers.pxi\", line 1680, in lxml.etree._tagValidOrRaise\n",
      "ValueError: Invalid tag name '<cyfunction Comment at 0x000001DB73381C80>'\n",
      "Traceback (most recent call last):\n",
      "  File \"<ipython-input-1-d648b050eb9b>\", line 152, in tojson\n",
      "    tag = etree.QName(elem.tag)\n",
      "  File \"src/lxml/etree.pyx\", line 1835, in lxml.etree.QName.__init__\n",
      "  File \"src/lxml/apihelpers.pxi\", line 1680, in lxml.etree._tagValidOrRaise\n",
      "ValueError: Invalid tag name '<cyfunction Comment at 0x000001DB73381C80>'\n",
      "Traceback (most recent call last):\n",
      "  File \"<ipython-input-1-d648b050eb9b>\", line 152, in tojson\n",
      "    tag = etree.QName(elem.tag)\n",
      "  File \"src/lxml/etree.pyx\", line 1835, in lxml.etree.QName.__init__\n",
      "  File \"src/lxml/apihelpers.pxi\", line 1680, in lxml.etree._tagValidOrRaise\n",
      "ValueError: Invalid tag name '<cyfunction Comment at 0x000001DB73381C80>'\n",
      "Traceback (most recent call last):\n",
      "  File \"<ipython-input-1-d648b050eb9b>\", line 152, in tojson\n",
      "    tag = etree.QName(elem.tag)\n",
      "  File \"src/lxml/etree.pyx\", line 1835, in lxml.etree.QName.__init__\n",
      "  File \"src/lxml/apihelpers.pxi\", line 1680, in lxml.etree._tagValidOrRaise\n",
      "ValueError: Invalid tag name '<cyfunction Comment at 0x000001DB73381C80>'\n",
      "Traceback (most recent call last):\n",
      "  File \"<ipython-input-1-d648b050eb9b>\", line 152, in tojson\n",
      "    tag = etree.QName(elem.tag)\n",
      "  File \"src/lxml/etree.pyx\", line 1835, in lxml.etree.QName.__init__\n",
      "  File \"src/lxml/apihelpers.pxi\", line 1680, in lxml.etree._tagValidOrRaise\n",
      "ValueError: Invalid tag name '<cyfunction Comment at 0x000001DB73381C80>'\n",
      "Traceback (most recent call last):\n",
      "  File \"<ipython-input-1-d648b050eb9b>\", line 152, in tojson\n",
      "    tag = etree.QName(elem.tag)\n",
      "  File \"src/lxml/etree.pyx\", line 1835, in lxml.etree.QName.__init__\n",
      "  File \"src/lxml/apihelpers.pxi\", line 1680, in lxml.etree._tagValidOrRaise\n",
      "ValueError: Invalid tag name '<cyfunction Comment at 0x000001DB73381C80>'\n",
      "Traceback (most recent call last):\n",
      "  File \"<ipython-input-1-d648b050eb9b>\", line 152, in tojson\n",
      "    tag = etree.QName(elem.tag)\n",
      "  File \"src/lxml/etree.pyx\", line 1835, in lxml.etree.QName.__init__\n",
      "  File \"src/lxml/apihelpers.pxi\", line 1680, in lxml.etree._tagValidOrRaise\n",
      "ValueError: Invalid tag name '<cyfunction Comment at 0x000001DB73381C80>'\n",
      "Traceback (most recent call last):\n",
      "  File \"<ipython-input-1-d648b050eb9b>\", line 152, in tojson\n",
      "    tag = etree.QName(elem.tag)\n",
      "  File \"src/lxml/etree.pyx\", line 1835, in lxml.etree.QName.__init__\n",
      "  File \"src/lxml/apihelpers.pxi\", line 1680, in lxml.etree._tagValidOrRaise\n",
      "ValueError: Invalid tag name '<cyfunction Comment at 0x000001DB73381C80>'\n",
      "Traceback (most recent call last):\n",
      "  File \"<ipython-input-1-d648b050eb9b>\", line 152, in tojson\n",
      "    tag = etree.QName(elem.tag)\n",
      "  File \"src/lxml/etree.pyx\", line 1835, in lxml.etree.QName.__init__\n",
      "  File \"src/lxml/apihelpers.pxi\", line 1680, in lxml.etree._tagValidOrRaise\n",
      "ValueError: Invalid tag name '<cyfunction Comment at 0x000001DB73381C80>'\n",
      "Traceback (most recent call last):\n",
      "  File \"<ipython-input-1-d648b050eb9b>\", line 152, in tojson\n",
      "    tag = etree.QName(elem.tag)\n",
      "  File \"src/lxml/etree.pyx\", line 1835, in lxml.etree.QName.__init__\n",
      "  File \"src/lxml/apihelpers.pxi\", line 1680, in lxml.etree._tagValidOrRaise\n",
      "ValueError: Invalid tag name '<cyfunction Comment at 0x000001DB73381C80>'\n",
      "Traceback (most recent call last):\n",
      "  File \"<ipython-input-1-d648b050eb9b>\", line 152, in tojson\n",
      "    tag = etree.QName(elem.tag)\n",
      "  File \"src/lxml/etree.pyx\", line 1835, in lxml.etree.QName.__init__\n",
      "  File \"src/lxml/apihelpers.pxi\", line 1680, in lxml.etree._tagValidOrRaise\n",
      "ValueError: Invalid tag name '<cyfunction Comment at 0x000001DB73381C80>'\n",
      "Traceback (most recent call last):\n",
      "  File \"<ipython-input-1-d648b050eb9b>\", line 152, in tojson\n",
      "    tag = etree.QName(elem.tag)\n",
      "  File \"src/lxml/etree.pyx\", line 1835, in lxml.etree.QName.__init__\n",
      "  File \"src/lxml/apihelpers.pxi\", line 1680, in lxml.etree._tagValidOrRaise\n",
      "ValueError: Invalid tag name '<cyfunction Comment at 0x000001DB73381C80>'\n",
      "Traceback (most recent call last):\n",
      "  File \"<ipython-input-1-d648b050eb9b>\", line 152, in tojson\n",
      "    tag = etree.QName(elem.tag)\n",
      "  File \"src/lxml/etree.pyx\", line 1835, in lxml.etree.QName.__init__\n",
      "  File \"src/lxml/apihelpers.pxi\", line 1680, in lxml.etree._tagValidOrRaise\n",
      "ValueError: Invalid tag name '<cyfunction Comment at 0x000001DB73381C80>'\n",
      "Traceback (most recent call last):\n",
      "  File \"<ipython-input-1-d648b050eb9b>\", line 152, in tojson\n",
      "    tag = etree.QName(elem.tag)\n",
      "  File \"src/lxml/etree.pyx\", line 1835, in lxml.etree.QName.__init__\n",
      "  File \"src/lxml/apihelpers.pxi\", line 1680, in lxml.etree._tagValidOrRaise\n",
      "ValueError: Invalid tag name '<cyfunction Comment at 0x000001DB73381C80>'\n",
      "Traceback (most recent call last):\n",
      "  File \"<ipython-input-1-d648b050eb9b>\", line 152, in tojson\n",
      "    tag = etree.QName(elem.tag)\n",
      "  File \"src/lxml/etree.pyx\", line 1835, in lxml.etree.QName.__init__\n",
      "  File \"src/lxml/apihelpers.pxi\", line 1680, in lxml.etree._tagValidOrRaise\n",
      "ValueError: Invalid tag name '<cyfunction Comment at 0x000001DB73381C80>'\n",
      "Traceback (most recent call last):\n",
      "  File \"<ipython-input-1-d648b050eb9b>\", line 152, in tojson\n",
      "    tag = etree.QName(elem.tag)\n",
      "  File \"src/lxml/etree.pyx\", line 1835, in lxml.etree.QName.__init__\n",
      "  File \"src/lxml/apihelpers.pxi\", line 1680, in lxml.etree._tagValidOrRaise\n",
      "ValueError: Invalid tag name '<cyfunction Comment at 0x000001DB73381C80>'\n",
      "Traceback (most recent call last):\n",
      "  File \"<ipython-input-1-d648b050eb9b>\", line 152, in tojson\n",
      "    tag = etree.QName(elem.tag)\n",
      "  File \"src/lxml/etree.pyx\", line 1835, in lxml.etree.QName.__init__\n",
      "  File \"src/lxml/apihelpers.pxi\", line 1680, in lxml.etree._tagValidOrRaise\n",
      "ValueError: Invalid tag name '<cyfunction Comment at 0x000001DB73381C80>'\n",
      "Traceback (most recent call last):\n",
      "  File \"<ipython-input-1-d648b050eb9b>\", line 152, in tojson\n",
      "    tag = etree.QName(elem.tag)\n",
      "  File \"src/lxml/etree.pyx\", line 1835, in lxml.etree.QName.__init__\n",
      "  File \"src/lxml/apihelpers.pxi\", line 1680, in lxml.etree._tagValidOrRaise\n",
      "ValueError: Invalid tag name '<cyfunction Comment at 0x000001DB73381C80>'\n",
      "Traceback (most recent call last):\n",
      "  File \"<ipython-input-1-d648b050eb9b>\", line 152, in tojson\n",
      "    tag = etree.QName(elem.tag)\n",
      "  File \"src/lxml/etree.pyx\", line 1835, in lxml.etree.QName.__init__\n",
      "  File \"src/lxml/apihelpers.pxi\", line 1680, in lxml.etree._tagValidOrRaise\n",
      "ValueError: Invalid tag name '<cyfunction Comment at 0x000001DB73381C80>'\n",
      "Traceback (most recent call last):\n",
      "  File \"<ipython-input-1-d648b050eb9b>\", line 152, in tojson\n",
      "    tag = etree.QName(elem.tag)\n",
      "  File \"src/lxml/etree.pyx\", line 1835, in lxml.etree.QName.__init__\n",
      "  File \"src/lxml/apihelpers.pxi\", line 1680, in lxml.etree._tagValidOrRaise\n",
      "ValueError: Invalid tag name '<cyfunction Comment at 0x000001DB73381C80>'\n",
      "Traceback (most recent call last):\n",
      "  File \"<ipython-input-1-d648b050eb9b>\", line 152, in tojson\n",
      "    tag = etree.QName(elem.tag)\n",
      "  File \"src/lxml/etree.pyx\", line 1835, in lxml.etree.QName.__init__\n",
      "  File \"src/lxml/apihelpers.pxi\", line 1680, in lxml.etree._tagValidOrRaise\n",
      "ValueError: Invalid tag name '<cyfunction Comment at 0x000001DB73381C80>'\n",
      "Traceback (most recent call last):\n",
      "  File \"<ipython-input-1-d648b050eb9b>\", line 152, in tojson\n",
      "    tag = etree.QName(elem.tag)\n",
      "  File \"src/lxml/etree.pyx\", line 1835, in lxml.etree.QName.__init__\n",
      "  File \"src/lxml/apihelpers.pxi\", line 1680, in lxml.etree._tagValidOrRaise\n",
      "ValueError: Invalid tag name '<cyfunction Comment at 0x000001DB73381C80>'\n",
      "Traceback (most recent call last):\n",
      "  File \"<ipython-input-1-d648b050eb9b>\", line 152, in tojson\n",
      "    tag = etree.QName(elem.tag)\n",
      "  File \"src/lxml/etree.pyx\", line 1835, in lxml.etree.QName.__init__\n",
      "  File \"src/lxml/apihelpers.pxi\", line 1680, in lxml.etree._tagValidOrRaise\n",
      "ValueError: Invalid tag name '<cyfunction Comment at 0x000001DB73381C80>'\n",
      "Traceback (most recent call last):\n",
      "  File \"<ipython-input-1-d648b050eb9b>\", line 152, in tojson\n",
      "    tag = etree.QName(elem.tag)\n",
      "  File \"src/lxml/etree.pyx\", line 1835, in lxml.etree.QName.__init__\n"
     ]
    },
    {
     "name": "stderr",
     "output_type": "stream",
     "text": [
      "  File \"src/lxml/apihelpers.pxi\", line 1680, in lxml.etree._tagValidOrRaise\n",
      "ValueError: Invalid tag name '<cyfunction Comment at 0x000001DB73381C80>'\n",
      "Traceback (most recent call last):\n",
      "  File \"<ipython-input-1-d648b050eb9b>\", line 152, in tojson\n",
      "    tag = etree.QName(elem.tag)\n",
      "  File \"src/lxml/etree.pyx\", line 1835, in lxml.etree.QName.__init__\n",
      "  File \"src/lxml/apihelpers.pxi\", line 1680, in lxml.etree._tagValidOrRaise\n",
      "ValueError: Invalid tag name '<cyfunction Comment at 0x000001DB73381C80>'\n",
      "Traceback (most recent call last):\n",
      "  File \"<ipython-input-1-d648b050eb9b>\", line 152, in tojson\n",
      "    tag = etree.QName(elem.tag)\n",
      "  File \"src/lxml/etree.pyx\", line 1835, in lxml.etree.QName.__init__\n",
      "  File \"src/lxml/apihelpers.pxi\", line 1680, in lxml.etree._tagValidOrRaise\n",
      "ValueError: Invalid tag name '<cyfunction Comment at 0x000001DB73381C80>'\n",
      "Traceback (most recent call last):\n",
      "  File \"<ipython-input-1-d648b050eb9b>\", line 152, in tojson\n",
      "    tag = etree.QName(elem.tag)\n",
      "  File \"src/lxml/etree.pyx\", line 1835, in lxml.etree.QName.__init__\n",
      "  File \"src/lxml/apihelpers.pxi\", line 1680, in lxml.etree._tagValidOrRaise\n",
      "ValueError: Invalid tag name '<cyfunction Comment at 0x000001DB73381C80>'\n",
      "Traceback (most recent call last):\n",
      "  File \"<ipython-input-1-d648b050eb9b>\", line 152, in tojson\n",
      "    tag = etree.QName(elem.tag)\n",
      "  File \"src/lxml/etree.pyx\", line 1835, in lxml.etree.QName.__init__\n",
      "  File \"src/lxml/apihelpers.pxi\", line 1680, in lxml.etree._tagValidOrRaise\n",
      "ValueError: Invalid tag name '<cyfunction Comment at 0x000001DB73381C80>'\n",
      "Traceback (most recent call last):\n",
      "  File \"<ipython-input-1-d648b050eb9b>\", line 152, in tojson\n",
      "    tag = etree.QName(elem.tag)\n",
      "  File \"src/lxml/etree.pyx\", line 1835, in lxml.etree.QName.__init__\n",
      "  File \"src/lxml/apihelpers.pxi\", line 1680, in lxml.etree._tagValidOrRaise\n",
      "ValueError: Invalid tag name '<cyfunction Comment at 0x000001DB73381C80>'\n",
      "Traceback (most recent call last):\n",
      "  File \"<ipython-input-1-d648b050eb9b>\", line 152, in tojson\n",
      "    tag = etree.QName(elem.tag)\n",
      "  File \"src/lxml/etree.pyx\", line 1835, in lxml.etree.QName.__init__\n",
      "  File \"src/lxml/apihelpers.pxi\", line 1680, in lxml.etree._tagValidOrRaise\n",
      "ValueError: Invalid tag name '<cyfunction Comment at 0x000001DB73381C80>'\n",
      "Traceback (most recent call last):\n",
      "  File \"<ipython-input-1-d648b050eb9b>\", line 152, in tojson\n",
      "    tag = etree.QName(elem.tag)\n",
      "  File \"src/lxml/etree.pyx\", line 1835, in lxml.etree.QName.__init__\n",
      "  File \"src/lxml/apihelpers.pxi\", line 1680, in lxml.etree._tagValidOrRaise\n",
      "ValueError: Invalid tag name '<cyfunction Comment at 0x000001DB73381C80>'\n",
      "Traceback (most recent call last):\n",
      "  File \"<ipython-input-1-d648b050eb9b>\", line 152, in tojson\n",
      "    tag = etree.QName(elem.tag)\n",
      "  File \"src/lxml/etree.pyx\", line 1835, in lxml.etree.QName.__init__\n",
      "  File \"src/lxml/apihelpers.pxi\", line 1680, in lxml.etree._tagValidOrRaise\n",
      "ValueError: Invalid tag name '<cyfunction Comment at 0x000001DB73381C80>'\n",
      "Traceback (most recent call last):\n",
      "  File \"<ipython-input-1-d648b050eb9b>\", line 152, in tojson\n",
      "    tag = etree.QName(elem.tag)\n",
      "  File \"src/lxml/etree.pyx\", line 1835, in lxml.etree.QName.__init__\n",
      "  File \"src/lxml/apihelpers.pxi\", line 1680, in lxml.etree._tagValidOrRaise\n",
      "ValueError: Invalid tag name '<cyfunction Comment at 0x000001DB73381C80>'\n",
      "Traceback (most recent call last):\n",
      "  File \"<ipython-input-1-d648b050eb9b>\", line 152, in tojson\n",
      "    tag = etree.QName(elem.tag)\n",
      "  File \"src/lxml/etree.pyx\", line 1835, in lxml.etree.QName.__init__\n",
      "  File \"src/lxml/apihelpers.pxi\", line 1680, in lxml.etree._tagValidOrRaise\n",
      "ValueError: Invalid tag name '<cyfunction Comment at 0x000001DB73381C80>'\n",
      "Traceback (most recent call last):\n",
      "  File \"<ipython-input-1-d648b050eb9b>\", line 152, in tojson\n",
      "    tag = etree.QName(elem.tag)\n",
      "  File \"src/lxml/etree.pyx\", line 1835, in lxml.etree.QName.__init__\n",
      "  File \"src/lxml/apihelpers.pxi\", line 1680, in lxml.etree._tagValidOrRaise\n",
      "ValueError: Invalid tag name '<cyfunction Comment at 0x000001DB73381C80>'\n",
      "Traceback (most recent call last):\n",
      "  File \"<ipython-input-1-d648b050eb9b>\", line 152, in tojson\n",
      "    tag = etree.QName(elem.tag)\n",
      "  File \"src/lxml/etree.pyx\", line 1835, in lxml.etree.QName.__init__\n",
      "  File \"src/lxml/apihelpers.pxi\", line 1680, in lxml.etree._tagValidOrRaise\n",
      "ValueError: Invalid tag name '<cyfunction Comment at 0x000001DB73381C80>'\n",
      "Traceback (most recent call last):\n",
      "  File \"<ipython-input-1-d648b050eb9b>\", line 152, in tojson\n",
      "    tag = etree.QName(elem.tag)\n",
      "  File \"src/lxml/etree.pyx\", line 1835, in lxml.etree.QName.__init__\n",
      "  File \"src/lxml/apihelpers.pxi\", line 1680, in lxml.etree._tagValidOrRaise\n",
      "ValueError: Invalid tag name '<cyfunction Comment at 0x000001DB73381C80>'\n",
      "Traceback (most recent call last):\n",
      "  File \"<ipython-input-1-d648b050eb9b>\", line 152, in tojson\n",
      "    tag = etree.QName(elem.tag)\n",
      "  File \"src/lxml/etree.pyx\", line 1835, in lxml.etree.QName.__init__\n",
      "  File \"src/lxml/apihelpers.pxi\", line 1680, in lxml.etree._tagValidOrRaise\n",
      "ValueError: Invalid tag name '<cyfunction Comment at 0x000001DB73381C80>'\n",
      "Traceback (most recent call last):\n",
      "  File \"<ipython-input-1-d648b050eb9b>\", line 152, in tojson\n",
      "    tag = etree.QName(elem.tag)\n",
      "  File \"src/lxml/etree.pyx\", line 1835, in lxml.etree.QName.__init__\n",
      "  File \"src/lxml/apihelpers.pxi\", line 1680, in lxml.etree._tagValidOrRaise\n",
      "ValueError: Invalid tag name '<cyfunction Comment at 0x000001DB73381C80>'\n",
      "Traceback (most recent call last):\n",
      "  File \"<ipython-input-1-d648b050eb9b>\", line 152, in tojson\n",
      "    tag = etree.QName(elem.tag)\n",
      "  File \"src/lxml/etree.pyx\", line 1835, in lxml.etree.QName.__init__\n",
      "  File \"src/lxml/apihelpers.pxi\", line 1680, in lxml.etree._tagValidOrRaise\n",
      "ValueError: Invalid tag name '<cyfunction Comment at 0x000001DB73381C80>'\n",
      "Traceback (most recent call last):\n",
      "  File \"<ipython-input-1-d648b050eb9b>\", line 152, in tojson\n",
      "    tag = etree.QName(elem.tag)\n",
      "  File \"src/lxml/etree.pyx\", line 1835, in lxml.etree.QName.__init__\n",
      "  File \"src/lxml/apihelpers.pxi\", line 1680, in lxml.etree._tagValidOrRaise\n",
      "ValueError: Invalid tag name '<cyfunction Comment at 0x000001DB73381C80>'\n",
      "Traceback (most recent call last):\n",
      "  File \"<ipython-input-1-d648b050eb9b>\", line 152, in tojson\n",
      "    tag = etree.QName(elem.tag)\n",
      "  File \"src/lxml/etree.pyx\", line 1835, in lxml.etree.QName.__init__\n",
      "  File \"src/lxml/apihelpers.pxi\", line 1680, in lxml.etree._tagValidOrRaise\n",
      "ValueError: Invalid tag name '<cyfunction Comment at 0x000001DB73381C80>'\n",
      "Traceback (most recent call last):\n",
      "  File \"<ipython-input-1-d648b050eb9b>\", line 152, in tojson\n",
      "    tag = etree.QName(elem.tag)\n",
      "  File \"src/lxml/etree.pyx\", line 1835, in lxml.etree.QName.__init__\n",
      "  File \"src/lxml/apihelpers.pxi\", line 1680, in lxml.etree._tagValidOrRaise\n",
      "ValueError: Invalid tag name '<cyfunction Comment at 0x000001DB73381C80>'\n",
      "Traceback (most recent call last):\n",
      "  File \"<ipython-input-1-d648b050eb9b>\", line 152, in tojson\n",
      "    tag = etree.QName(elem.tag)\n",
      "  File \"src/lxml/etree.pyx\", line 1835, in lxml.etree.QName.__init__\n",
      "  File \"src/lxml/apihelpers.pxi\", line 1680, in lxml.etree._tagValidOrRaise\n",
      "ValueError: Invalid tag name '<cyfunction Comment at 0x000001DB73381C80>'\n",
      "Traceback (most recent call last):\n",
      "  File \"<ipython-input-1-d648b050eb9b>\", line 152, in tojson\n",
      "    tag = etree.QName(elem.tag)\n",
      "  File \"src/lxml/etree.pyx\", line 1835, in lxml.etree.QName.__init__\n",
      "  File \"src/lxml/apihelpers.pxi\", line 1680, in lxml.etree._tagValidOrRaise\n",
      "ValueError: Invalid tag name '<cyfunction Comment at 0x000001DB73381C80>'\n",
      "Traceback (most recent call last):\n",
      "  File \"<ipython-input-1-d648b050eb9b>\", line 152, in tojson\n",
      "    tag = etree.QName(elem.tag)\n",
      "  File \"src/lxml/etree.pyx\", line 1835, in lxml.etree.QName.__init__\n",
      "  File \"src/lxml/apihelpers.pxi\", line 1680, in lxml.etree._tagValidOrRaise\n",
      "ValueError: Invalid tag name '<cyfunction Comment at 0x000001DB73381C80>'\n",
      "Traceback (most recent call last):\n",
      "  File \"<ipython-input-1-d648b050eb9b>\", line 152, in tojson\n",
      "    tag = etree.QName(elem.tag)\n",
      "  File \"src/lxml/etree.pyx\", line 1835, in lxml.etree.QName.__init__\n",
      "  File \"src/lxml/apihelpers.pxi\", line 1680, in lxml.etree._tagValidOrRaise\n",
      "ValueError: Invalid tag name '<cyfunction Comment at 0x000001DB73381C80>'\n",
      "Traceback (most recent call last):\n",
      "  File \"<ipython-input-1-d648b050eb9b>\", line 152, in tojson\n",
      "    tag = etree.QName(elem.tag)\n"
     ]
    },
    {
     "name": "stderr",
     "output_type": "stream",
     "text": [
      "  File \"src/lxml/etree.pyx\", line 1835, in lxml.etree.QName.__init__\n",
      "  File \"src/lxml/apihelpers.pxi\", line 1680, in lxml.etree._tagValidOrRaise\n",
      "ValueError: Invalid tag name '<cyfunction Comment at 0x000001DB73381C80>'\n",
      "Traceback (most recent call last):\n",
      "  File \"<ipython-input-1-d648b050eb9b>\", line 152, in tojson\n",
      "    tag = etree.QName(elem.tag)\n",
      "  File \"src/lxml/etree.pyx\", line 1835, in lxml.etree.QName.__init__\n",
      "  File \"src/lxml/apihelpers.pxi\", line 1680, in lxml.etree._tagValidOrRaise\n",
      "ValueError: Invalid tag name '<cyfunction Comment at 0x000001DB73381C80>'\n",
      "Traceback (most recent call last):\n",
      "  File \"<ipython-input-1-d648b050eb9b>\", line 152, in tojson\n",
      "    tag = etree.QName(elem.tag)\n",
      "  File \"src/lxml/etree.pyx\", line 1835, in lxml.etree.QName.__init__\n",
      "  File \"src/lxml/apihelpers.pxi\", line 1680, in lxml.etree._tagValidOrRaise\n",
      "ValueError: Invalid tag name '<cyfunction Comment at 0x000001DB73381C80>'\n",
      "Traceback (most recent call last):\n",
      "  File \"<ipython-input-1-d648b050eb9b>\", line 152, in tojson\n",
      "    tag = etree.QName(elem.tag)\n",
      "  File \"src/lxml/etree.pyx\", line 1835, in lxml.etree.QName.__init__\n",
      "  File \"src/lxml/apihelpers.pxi\", line 1680, in lxml.etree._tagValidOrRaise\n",
      "ValueError: Invalid tag name '<cyfunction Comment at 0x000001DB73381C80>'\n",
      "Traceback (most recent call last):\n",
      "  File \"<ipython-input-1-d648b050eb9b>\", line 152, in tojson\n",
      "    tag = etree.QName(elem.tag)\n",
      "  File \"src/lxml/etree.pyx\", line 1835, in lxml.etree.QName.__init__\n",
      "  File \"src/lxml/apihelpers.pxi\", line 1680, in lxml.etree._tagValidOrRaise\n",
      "ValueError: Invalid tag name '<cyfunction Comment at 0x000001DB73381C80>'\n",
      "Traceback (most recent call last):\n",
      "  File \"<ipython-input-1-d648b050eb9b>\", line 152, in tojson\n",
      "    tag = etree.QName(elem.tag)\n",
      "  File \"src/lxml/etree.pyx\", line 1835, in lxml.etree.QName.__init__\n",
      "  File \"src/lxml/apihelpers.pxi\", line 1680, in lxml.etree._tagValidOrRaise\n",
      "ValueError: Invalid tag name '<cyfunction Comment at 0x000001DB73381C80>'\n",
      "Traceback (most recent call last):\n",
      "  File \"<ipython-input-1-d648b050eb9b>\", line 152, in tojson\n",
      "    tag = etree.QName(elem.tag)\n",
      "  File \"src/lxml/etree.pyx\", line 1835, in lxml.etree.QName.__init__\n",
      "  File \"src/lxml/apihelpers.pxi\", line 1680, in lxml.etree._tagValidOrRaise\n",
      "ValueError: Invalid tag name '<cyfunction Comment at 0x000001DB73381C80>'\n",
      "Traceback (most recent call last):\n",
      "  File \"<ipython-input-1-d648b050eb9b>\", line 152, in tojson\n",
      "    tag = etree.QName(elem.tag)\n",
      "  File \"src/lxml/etree.pyx\", line 1835, in lxml.etree.QName.__init__\n",
      "  File \"src/lxml/apihelpers.pxi\", line 1680, in lxml.etree._tagValidOrRaise\n",
      "ValueError: Invalid tag name '<cyfunction Comment at 0x000001DB73381C80>'\n",
      "Traceback (most recent call last):\n",
      "  File \"<ipython-input-1-d648b050eb9b>\", line 152, in tojson\n",
      "    tag = etree.QName(elem.tag)\n",
      "  File \"src/lxml/etree.pyx\", line 1835, in lxml.etree.QName.__init__\n",
      "  File \"src/lxml/apihelpers.pxi\", line 1680, in lxml.etree._tagValidOrRaise\n",
      "ValueError: Invalid tag name '<cyfunction Comment at 0x000001DB73381C80>'\n",
      "Traceback (most recent call last):\n",
      "  File \"<ipython-input-1-d648b050eb9b>\", line 152, in tojson\n",
      "    tag = etree.QName(elem.tag)\n",
      "  File \"src/lxml/etree.pyx\", line 1835, in lxml.etree.QName.__init__\n",
      "  File \"src/lxml/apihelpers.pxi\", line 1680, in lxml.etree._tagValidOrRaise\n",
      "ValueError: Invalid tag name '<cyfunction Comment at 0x000001DB73381C80>'\n",
      "Traceback (most recent call last):\n",
      "  File \"<ipython-input-1-d648b050eb9b>\", line 152, in tojson\n",
      "    tag = etree.QName(elem.tag)\n",
      "  File \"src/lxml/etree.pyx\", line 1835, in lxml.etree.QName.__init__\n",
      "  File \"src/lxml/apihelpers.pxi\", line 1680, in lxml.etree._tagValidOrRaise\n",
      "ValueError: Invalid tag name '<cyfunction Comment at 0x000001DB73381C80>'\n",
      "Traceback (most recent call last):\n",
      "  File \"<ipython-input-1-d648b050eb9b>\", line 152, in tojson\n",
      "    tag = etree.QName(elem.tag)\n",
      "  File \"src/lxml/etree.pyx\", line 1835, in lxml.etree.QName.__init__\n",
      "  File \"src/lxml/apihelpers.pxi\", line 1680, in lxml.etree._tagValidOrRaise\n",
      "ValueError: Invalid tag name '<cyfunction Comment at 0x000001DB73381C80>'\n",
      "Traceback (most recent call last):\n",
      "  File \"<ipython-input-1-d648b050eb9b>\", line 152, in tojson\n",
      "    tag = etree.QName(elem.tag)\n",
      "  File \"src/lxml/etree.pyx\", line 1835, in lxml.etree.QName.__init__\n",
      "  File \"src/lxml/apihelpers.pxi\", line 1680, in lxml.etree._tagValidOrRaise\n",
      "ValueError: Invalid tag name '<cyfunction Comment at 0x000001DB73381C80>'\n",
      "Traceback (most recent call last):\n",
      "  File \"<ipython-input-1-d648b050eb9b>\", line 152, in tojson\n",
      "    tag = etree.QName(elem.tag)\n",
      "  File \"src/lxml/etree.pyx\", line 1835, in lxml.etree.QName.__init__\n",
      "  File \"src/lxml/apihelpers.pxi\", line 1680, in lxml.etree._tagValidOrRaise\n",
      "ValueError: Invalid tag name '<cyfunction Comment at 0x000001DB73381C80>'\n",
      "Traceback (most recent call last):\n",
      "  File \"<ipython-input-1-d648b050eb9b>\", line 152, in tojson\n",
      "    tag = etree.QName(elem.tag)\n",
      "  File \"src/lxml/etree.pyx\", line 1835, in lxml.etree.QName.__init__\n",
      "  File \"src/lxml/apihelpers.pxi\", line 1680, in lxml.etree._tagValidOrRaise\n",
      "ValueError: Invalid tag name '<cyfunction Comment at 0x000001DB73381C80>'\n",
      "Traceback (most recent call last):\n",
      "  File \"<ipython-input-1-d648b050eb9b>\", line 152, in tojson\n",
      "    tag = etree.QName(elem.tag)\n",
      "  File \"src/lxml/etree.pyx\", line 1835, in lxml.etree.QName.__init__\n",
      "  File \"src/lxml/apihelpers.pxi\", line 1680, in lxml.etree._tagValidOrRaise\n",
      "ValueError: Invalid tag name '<cyfunction Comment at 0x000001DB73381C80>'\n",
      "Traceback (most recent call last):\n",
      "  File \"<ipython-input-1-d648b050eb9b>\", line 152, in tojson\n",
      "    tag = etree.QName(elem.tag)\n",
      "  File \"src/lxml/etree.pyx\", line 1835, in lxml.etree.QName.__init__\n",
      "  File \"src/lxml/apihelpers.pxi\", line 1680, in lxml.etree._tagValidOrRaise\n",
      "ValueError: Invalid tag name '<cyfunction Comment at 0x000001DB73381C80>'\n",
      "Traceback (most recent call last):\n",
      "  File \"<ipython-input-1-d648b050eb9b>\", line 152, in tojson\n",
      "    tag = etree.QName(elem.tag)\n",
      "  File \"src/lxml/etree.pyx\", line 1835, in lxml.etree.QName.__init__\n",
      "  File \"src/lxml/apihelpers.pxi\", line 1680, in lxml.etree._tagValidOrRaise\n",
      "ValueError: Invalid tag name '<cyfunction Comment at 0x000001DB73381C80>'\n",
      "Traceback (most recent call last):\n",
      "  File \"<ipython-input-1-d648b050eb9b>\", line 152, in tojson\n",
      "    tag = etree.QName(elem.tag)\n",
      "  File \"src/lxml/etree.pyx\", line 1835, in lxml.etree.QName.__init__\n",
      "  File \"src/lxml/apihelpers.pxi\", line 1680, in lxml.etree._tagValidOrRaise\n",
      "ValueError: Invalid tag name '<cyfunction Comment at 0x000001DB73381C80>'\n",
      "Traceback (most recent call last):\n",
      "  File \"<ipython-input-1-d648b050eb9b>\", line 152, in tojson\n",
      "    tag = etree.QName(elem.tag)\n",
      "  File \"src/lxml/etree.pyx\", line 1835, in lxml.etree.QName.__init__\n",
      "  File \"src/lxml/apihelpers.pxi\", line 1680, in lxml.etree._tagValidOrRaise\n",
      "ValueError: Invalid tag name '<cyfunction Comment at 0x000001DB73381C80>'\n",
      "Traceback (most recent call last):\n",
      "  File \"<ipython-input-1-d648b050eb9b>\", line 152, in tojson\n",
      "    tag = etree.QName(elem.tag)\n",
      "  File \"src/lxml/etree.pyx\", line 1835, in lxml.etree.QName.__init__\n",
      "  File \"src/lxml/apihelpers.pxi\", line 1680, in lxml.etree._tagValidOrRaise\n",
      "ValueError: Invalid tag name '<cyfunction Comment at 0x000001DB73381C80>'\n",
      "Traceback (most recent call last):\n",
      "  File \"<ipython-input-1-d648b050eb9b>\", line 152, in tojson\n",
      "    tag = etree.QName(elem.tag)\n",
      "  File \"src/lxml/etree.pyx\", line 1835, in lxml.etree.QName.__init__\n",
      "  File \"src/lxml/apihelpers.pxi\", line 1680, in lxml.etree._tagValidOrRaise\n",
      "ValueError: Invalid tag name '<cyfunction Comment at 0x000001DB73381C80>'\n",
      "Traceback (most recent call last):\n",
      "  File \"<ipython-input-1-d648b050eb9b>\", line 152, in tojson\n",
      "    tag = etree.QName(elem.tag)\n",
      "  File \"src/lxml/etree.pyx\", line 1835, in lxml.etree.QName.__init__\n",
      "  File \"src/lxml/apihelpers.pxi\", line 1680, in lxml.etree._tagValidOrRaise\n",
      "ValueError: Invalid tag name '<cyfunction Comment at 0x000001DB73381C80>'\n",
      "Traceback (most recent call last):\n",
      "  File \"<ipython-input-1-d648b050eb9b>\", line 152, in tojson\n",
      "    tag = etree.QName(elem.tag)\n",
      "  File \"src/lxml/etree.pyx\", line 1835, in lxml.etree.QName.__init__\n",
      "  File \"src/lxml/apihelpers.pxi\", line 1680, in lxml.etree._tagValidOrRaise\n",
      "ValueError: Invalid tag name '<cyfunction Comment at 0x000001DB73381C80>'\n"
     ]
    },
    {
     "name": "stderr",
     "output_type": "stream",
     "text": [
      "Traceback (most recent call last):\n",
      "  File \"<ipython-input-1-d648b050eb9b>\", line 152, in tojson\n",
      "    tag = etree.QName(elem.tag)\n",
      "  File \"src/lxml/etree.pyx\", line 1835, in lxml.etree.QName.__init__\n",
      "  File \"src/lxml/apihelpers.pxi\", line 1680, in lxml.etree._tagValidOrRaise\n",
      "ValueError: Invalid tag name '<cyfunction Comment at 0x000001DB73381C80>'\n",
      "Traceback (most recent call last):\n",
      "  File \"<ipython-input-1-d648b050eb9b>\", line 152, in tojson\n",
      "    tag = etree.QName(elem.tag)\n",
      "  File \"src/lxml/etree.pyx\", line 1835, in lxml.etree.QName.__init__\n",
      "  File \"src/lxml/apihelpers.pxi\", line 1680, in lxml.etree._tagValidOrRaise\n",
      "ValueError: Invalid tag name '<cyfunction Comment at 0x000001DB73381C80>'\n",
      "Traceback (most recent call last):\n",
      "  File \"<ipython-input-1-d648b050eb9b>\", line 152, in tojson\n",
      "    tag = etree.QName(elem.tag)\n",
      "  File \"src/lxml/etree.pyx\", line 1835, in lxml.etree.QName.__init__\n",
      "  File \"src/lxml/apihelpers.pxi\", line 1680, in lxml.etree._tagValidOrRaise\n",
      "ValueError: Invalid tag name '<cyfunction Comment at 0x000001DB73381C80>'\n",
      "Traceback (most recent call last):\n",
      "  File \"<ipython-input-1-d648b050eb9b>\", line 152, in tojson\n",
      "    tag = etree.QName(elem.tag)\n",
      "  File \"src/lxml/etree.pyx\", line 1835, in lxml.etree.QName.__init__\n",
      "  File \"src/lxml/apihelpers.pxi\", line 1680, in lxml.etree._tagValidOrRaise\n",
      "ValueError: Invalid tag name '<cyfunction Comment at 0x000001DB73381C80>'\n",
      "Traceback (most recent call last):\n",
      "  File \"<ipython-input-1-d648b050eb9b>\", line 152, in tojson\n",
      "    tag = etree.QName(elem.tag)\n",
      "  File \"src/lxml/etree.pyx\", line 1835, in lxml.etree.QName.__init__\n",
      "  File \"src/lxml/apihelpers.pxi\", line 1680, in lxml.etree._tagValidOrRaise\n",
      "ValueError: Invalid tag name '<cyfunction Comment at 0x000001DB73381C80>'\n",
      "Traceback (most recent call last):\n",
      "  File \"<ipython-input-1-d648b050eb9b>\", line 152, in tojson\n",
      "    tag = etree.QName(elem.tag)\n",
      "  File \"src/lxml/etree.pyx\", line 1835, in lxml.etree.QName.__init__\n",
      "  File \"src/lxml/apihelpers.pxi\", line 1680, in lxml.etree._tagValidOrRaise\n",
      "ValueError: Invalid tag name '<cyfunction Comment at 0x000001DB73381C80>'\n",
      "Traceback (most recent call last):\n",
      "  File \"<ipython-input-1-d648b050eb9b>\", line 152, in tojson\n",
      "    tag = etree.QName(elem.tag)\n",
      "  File \"src/lxml/etree.pyx\", line 1835, in lxml.etree.QName.__init__\n",
      "  File \"src/lxml/apihelpers.pxi\", line 1680, in lxml.etree._tagValidOrRaise\n",
      "ValueError: Invalid tag name '<cyfunction Comment at 0x000001DB73381C80>'\n",
      "Traceback (most recent call last):\n",
      "  File \"<ipython-input-1-d648b050eb9b>\", line 152, in tojson\n",
      "    tag = etree.QName(elem.tag)\n",
      "  File \"src/lxml/etree.pyx\", line 1835, in lxml.etree.QName.__init__\n",
      "  File \"src/lxml/apihelpers.pxi\", line 1680, in lxml.etree._tagValidOrRaise\n",
      "ValueError: Invalid tag name '<cyfunction Comment at 0x000001DB73381C80>'\n",
      "Traceback (most recent call last):\n",
      "  File \"<ipython-input-1-d648b050eb9b>\", line 152, in tojson\n",
      "    tag = etree.QName(elem.tag)\n",
      "  File \"src/lxml/etree.pyx\", line 1835, in lxml.etree.QName.__init__\n",
      "  File \"src/lxml/apihelpers.pxi\", line 1680, in lxml.etree._tagValidOrRaise\n",
      "ValueError: Invalid tag name '<cyfunction Comment at 0x000001DB73381C80>'\n",
      "Traceback (most recent call last):\n",
      "  File \"<ipython-input-1-d648b050eb9b>\", line 152, in tojson\n",
      "    tag = etree.QName(elem.tag)\n",
      "  File \"src/lxml/etree.pyx\", line 1835, in lxml.etree.QName.__init__\n",
      "  File \"src/lxml/apihelpers.pxi\", line 1680, in lxml.etree._tagValidOrRaise\n",
      "ValueError: Invalid tag name '<cyfunction Comment at 0x000001DB73381C80>'\n",
      "Traceback (most recent call last):\n",
      "  File \"<ipython-input-1-d648b050eb9b>\", line 152, in tojson\n",
      "    tag = etree.QName(elem.tag)\n",
      "  File \"src/lxml/etree.pyx\", line 1835, in lxml.etree.QName.__init__\n",
      "  File \"src/lxml/apihelpers.pxi\", line 1680, in lxml.etree._tagValidOrRaise\n",
      "ValueError: Invalid tag name '<cyfunction Comment at 0x000001DB73381C80>'\n",
      "Traceback (most recent call last):\n",
      "  File \"<ipython-input-1-d648b050eb9b>\", line 152, in tojson\n",
      "    tag = etree.QName(elem.tag)\n",
      "  File \"src/lxml/etree.pyx\", line 1835, in lxml.etree.QName.__init__\n",
      "  File \"src/lxml/apihelpers.pxi\", line 1680, in lxml.etree._tagValidOrRaise\n",
      "ValueError: Invalid tag name '<cyfunction Comment at 0x000001DB73381C80>'\n",
      "Traceback (most recent call last):\n",
      "  File \"<ipython-input-1-d648b050eb9b>\", line 152, in tojson\n",
      "    tag = etree.QName(elem.tag)\n",
      "  File \"src/lxml/etree.pyx\", line 1835, in lxml.etree.QName.__init__\n",
      "  File \"src/lxml/apihelpers.pxi\", line 1680, in lxml.etree._tagValidOrRaise\n",
      "ValueError: Invalid tag name '<cyfunction Comment at 0x000001DB73381C80>'\n",
      "Traceback (most recent call last):\n",
      "  File \"<ipython-input-1-d648b050eb9b>\", line 152, in tojson\n",
      "    tag = etree.QName(elem.tag)\n",
      "  File \"src/lxml/etree.pyx\", line 1835, in lxml.etree.QName.__init__\n",
      "  File \"src/lxml/apihelpers.pxi\", line 1680, in lxml.etree._tagValidOrRaise\n",
      "ValueError: Invalid tag name '<cyfunction Comment at 0x000001DB73381C80>'\n",
      "Traceback (most recent call last):\n",
      "  File \"<ipython-input-1-d648b050eb9b>\", line 152, in tojson\n",
      "    tag = etree.QName(elem.tag)\n",
      "  File \"src/lxml/etree.pyx\", line 1835, in lxml.etree.QName.__init__\n",
      "  File \"src/lxml/apihelpers.pxi\", line 1680, in lxml.etree._tagValidOrRaise\n",
      "ValueError: Invalid tag name '<cyfunction Comment at 0x000001DB73381C80>'\n",
      "Traceback (most recent call last):\n",
      "  File \"<ipython-input-1-d648b050eb9b>\", line 152, in tojson\n",
      "    tag = etree.QName(elem.tag)\n",
      "  File \"src/lxml/etree.pyx\", line 1835, in lxml.etree.QName.__init__\n",
      "  File \"src/lxml/apihelpers.pxi\", line 1680, in lxml.etree._tagValidOrRaise\n",
      "ValueError: Invalid tag name '<cyfunction Comment at 0x000001DB73381C80>'\n",
      "Traceback (most recent call last):\n",
      "  File \"<ipython-input-1-d648b050eb9b>\", line 152, in tojson\n",
      "    tag = etree.QName(elem.tag)\n",
      "  File \"src/lxml/etree.pyx\", line 1835, in lxml.etree.QName.__init__\n",
      "  File \"src/lxml/apihelpers.pxi\", line 1680, in lxml.etree._tagValidOrRaise\n",
      "ValueError: Invalid tag name '<cyfunction Comment at 0x000001DB73381C80>'\n",
      "Traceback (most recent call last):\n",
      "  File \"<ipython-input-1-d648b050eb9b>\", line 152, in tojson\n",
      "    tag = etree.QName(elem.tag)\n",
      "  File \"src/lxml/etree.pyx\", line 1835, in lxml.etree.QName.__init__\n",
      "  File \"src/lxml/apihelpers.pxi\", line 1680, in lxml.etree._tagValidOrRaise\n",
      "ValueError: Invalid tag name '<cyfunction Comment at 0x000001DB73381C80>'\n",
      "Traceback (most recent call last):\n",
      "  File \"<ipython-input-1-d648b050eb9b>\", line 152, in tojson\n",
      "    tag = etree.QName(elem.tag)\n",
      "  File \"src/lxml/etree.pyx\", line 1835, in lxml.etree.QName.__init__\n",
      "  File \"src/lxml/apihelpers.pxi\", line 1680, in lxml.etree._tagValidOrRaise\n",
      "ValueError: Invalid tag name '<cyfunction Comment at 0x000001DB73381C80>'\n",
      "Traceback (most recent call last):\n",
      "  File \"<ipython-input-1-d648b050eb9b>\", line 152, in tojson\n",
      "    tag = etree.QName(elem.tag)\n",
      "  File \"src/lxml/etree.pyx\", line 1835, in lxml.etree.QName.__init__\n",
      "  File \"src/lxml/apihelpers.pxi\", line 1680, in lxml.etree._tagValidOrRaise\n",
      "ValueError: Invalid tag name '<cyfunction Comment at 0x000001DB73381C80>'\n",
      "Traceback (most recent call last):\n",
      "  File \"<ipython-input-1-d648b050eb9b>\", line 152, in tojson\n",
      "    tag = etree.QName(elem.tag)\n",
      "  File \"src/lxml/etree.pyx\", line 1835, in lxml.etree.QName.__init__\n",
      "  File \"src/lxml/apihelpers.pxi\", line 1680, in lxml.etree._tagValidOrRaise\n",
      "ValueError: Invalid tag name '<cyfunction Comment at 0x000001DB73381C80>'\n",
      "Traceback (most recent call last):\n",
      "  File \"<ipython-input-1-d648b050eb9b>\", line 152, in tojson\n",
      "    tag = etree.QName(elem.tag)\n",
      "  File \"src/lxml/etree.pyx\", line 1835, in lxml.etree.QName.__init__\n",
      "  File \"src/lxml/apihelpers.pxi\", line 1680, in lxml.etree._tagValidOrRaise\n",
      "ValueError: Invalid tag name '<cyfunction Comment at 0x000001DB73381C80>'\n",
      "Traceback (most recent call last):\n",
      "  File \"<ipython-input-1-d648b050eb9b>\", line 152, in tojson\n",
      "    tag = etree.QName(elem.tag)\n",
      "  File \"src/lxml/etree.pyx\", line 1835, in lxml.etree.QName.__init__\n",
      "  File \"src/lxml/apihelpers.pxi\", line 1680, in lxml.etree._tagValidOrRaise\n",
      "ValueError: Invalid tag name '<cyfunction Comment at 0x000001DB73381C80>'\n",
      "Traceback (most recent call last):\n",
      "  File \"<ipython-input-1-d648b050eb9b>\", line 152, in tojson\n",
      "    tag = etree.QName(elem.tag)\n",
      "  File \"src/lxml/etree.pyx\", line 1835, in lxml.etree.QName.__init__\n",
      "  File \"src/lxml/apihelpers.pxi\", line 1680, in lxml.etree._tagValidOrRaise\n"
     ]
    },
    {
     "name": "stderr",
     "output_type": "stream",
     "text": [
      "ValueError: Invalid tag name '<cyfunction Comment at 0x000001DB73381C80>'\n",
      "Traceback (most recent call last):\n",
      "  File \"<ipython-input-1-d648b050eb9b>\", line 152, in tojson\n",
      "    tag = etree.QName(elem.tag)\n",
      "  File \"src/lxml/etree.pyx\", line 1835, in lxml.etree.QName.__init__\n",
      "  File \"src/lxml/apihelpers.pxi\", line 1680, in lxml.etree._tagValidOrRaise\n",
      "ValueError: Invalid tag name '<cyfunction Comment at 0x000001DB73381C80>'\n",
      "Traceback (most recent call last):\n",
      "  File \"<ipython-input-1-d648b050eb9b>\", line 152, in tojson\n",
      "    tag = etree.QName(elem.tag)\n",
      "  File \"src/lxml/etree.pyx\", line 1835, in lxml.etree.QName.__init__\n",
      "  File \"src/lxml/apihelpers.pxi\", line 1680, in lxml.etree._tagValidOrRaise\n",
      "ValueError: Invalid tag name '<cyfunction Comment at 0x000001DB73381C80>'\n",
      "Traceback (most recent call last):\n",
      "  File \"<ipython-input-1-d648b050eb9b>\", line 152, in tojson\n",
      "    tag = etree.QName(elem.tag)\n",
      "  File \"src/lxml/etree.pyx\", line 1835, in lxml.etree.QName.__init__\n",
      "  File \"src/lxml/apihelpers.pxi\", line 1680, in lxml.etree._tagValidOrRaise\n",
      "ValueError: Invalid tag name '<cyfunction Comment at 0x000001DB73381C80>'\n",
      "Traceback (most recent call last):\n",
      "  File \"<ipython-input-1-d648b050eb9b>\", line 152, in tojson\n",
      "    tag = etree.QName(elem.tag)\n",
      "  File \"src/lxml/etree.pyx\", line 1835, in lxml.etree.QName.__init__\n",
      "  File \"src/lxml/apihelpers.pxi\", line 1680, in lxml.etree._tagValidOrRaise\n",
      "ValueError: Invalid tag name '<cyfunction Comment at 0x000001DB73381C80>'\n",
      "Traceback (most recent call last):\n",
      "  File \"<ipython-input-1-d648b050eb9b>\", line 152, in tojson\n",
      "    tag = etree.QName(elem.tag)\n",
      "  File \"src/lxml/etree.pyx\", line 1835, in lxml.etree.QName.__init__\n",
      "  File \"src/lxml/apihelpers.pxi\", line 1680, in lxml.etree._tagValidOrRaise\n",
      "ValueError: Invalid tag name '<cyfunction Comment at 0x000001DB73381C80>'\n",
      "Traceback (most recent call last):\n",
      "  File \"<ipython-input-1-d648b050eb9b>\", line 152, in tojson\n",
      "    tag = etree.QName(elem.tag)\n",
      "  File \"src/lxml/etree.pyx\", line 1835, in lxml.etree.QName.__init__\n",
      "  File \"src/lxml/apihelpers.pxi\", line 1680, in lxml.etree._tagValidOrRaise\n",
      "ValueError: Invalid tag name '<cyfunction Comment at 0x000001DB73381C80>'\n",
      "Traceback (most recent call last):\n",
      "  File \"<ipython-input-1-d648b050eb9b>\", line 152, in tojson\n",
      "    tag = etree.QName(elem.tag)\n",
      "  File \"src/lxml/etree.pyx\", line 1835, in lxml.etree.QName.__init__\n",
      "  File \"src/lxml/apihelpers.pxi\", line 1680, in lxml.etree._tagValidOrRaise\n",
      "ValueError: Invalid tag name '<cyfunction Comment at 0x000001DB73381C80>'\n",
      "Traceback (most recent call last):\n",
      "  File \"<ipython-input-1-d648b050eb9b>\", line 152, in tojson\n",
      "    tag = etree.QName(elem.tag)\n",
      "  File \"src/lxml/etree.pyx\", line 1835, in lxml.etree.QName.__init__\n",
      "  File \"src/lxml/apihelpers.pxi\", line 1680, in lxml.etree._tagValidOrRaise\n",
      "ValueError: Invalid tag name '<cyfunction Comment at 0x000001DB73381C80>'\n",
      "Traceback (most recent call last):\n",
      "  File \"<ipython-input-1-d648b050eb9b>\", line 152, in tojson\n",
      "    tag = etree.QName(elem.tag)\n",
      "  File \"src/lxml/etree.pyx\", line 1835, in lxml.etree.QName.__init__\n",
      "  File \"src/lxml/apihelpers.pxi\", line 1680, in lxml.etree._tagValidOrRaise\n",
      "ValueError: Invalid tag name '<cyfunction Comment at 0x000001DB73381C80>'\n",
      "Traceback (most recent call last):\n",
      "  File \"<ipython-input-1-d648b050eb9b>\", line 152, in tojson\n",
      "    tag = etree.QName(elem.tag)\n",
      "  File \"src/lxml/etree.pyx\", line 1835, in lxml.etree.QName.__init__\n",
      "  File \"src/lxml/apihelpers.pxi\", line 1680, in lxml.etree._tagValidOrRaise\n",
      "ValueError: Invalid tag name '<cyfunction Comment at 0x000001DB73381C80>'\n",
      "Traceback (most recent call last):\n",
      "  File \"<ipython-input-1-d648b050eb9b>\", line 152, in tojson\n",
      "    tag = etree.QName(elem.tag)\n",
      "  File \"src/lxml/etree.pyx\", line 1835, in lxml.etree.QName.__init__\n",
      "  File \"src/lxml/apihelpers.pxi\", line 1680, in lxml.etree._tagValidOrRaise\n",
      "ValueError: Invalid tag name '<cyfunction Comment at 0x000001DB73381C80>'\n",
      "Traceback (most recent call last):\n",
      "  File \"<ipython-input-1-d648b050eb9b>\", line 152, in tojson\n",
      "    tag = etree.QName(elem.tag)\n",
      "  File \"src/lxml/etree.pyx\", line 1835, in lxml.etree.QName.__init__\n",
      "  File \"src/lxml/apihelpers.pxi\", line 1680, in lxml.etree._tagValidOrRaise\n",
      "ValueError: Invalid tag name '<cyfunction Comment at 0x000001DB73381C80>'\n",
      "Traceback (most recent call last):\n",
      "  File \"<ipython-input-1-d648b050eb9b>\", line 152, in tojson\n",
      "    tag = etree.QName(elem.tag)\n",
      "  File \"src/lxml/etree.pyx\", line 1835, in lxml.etree.QName.__init__\n",
      "  File \"src/lxml/apihelpers.pxi\", line 1680, in lxml.etree._tagValidOrRaise\n",
      "ValueError: Invalid tag name '<cyfunction Comment at 0x000001DB73381C80>'\n",
      "Traceback (most recent call last):\n",
      "  File \"<ipython-input-1-d648b050eb9b>\", line 152, in tojson\n",
      "    tag = etree.QName(elem.tag)\n",
      "  File \"src/lxml/etree.pyx\", line 1835, in lxml.etree.QName.__init__\n",
      "  File \"src/lxml/apihelpers.pxi\", line 1680, in lxml.etree._tagValidOrRaise\n",
      "ValueError: Invalid tag name '<cyfunction Comment at 0x000001DB73381C80>'\n",
      "Traceback (most recent call last):\n",
      "  File \"<ipython-input-1-d648b050eb9b>\", line 152, in tojson\n",
      "    tag = etree.QName(elem.tag)\n",
      "  File \"src/lxml/etree.pyx\", line 1835, in lxml.etree.QName.__init__\n",
      "  File \"src/lxml/apihelpers.pxi\", line 1680, in lxml.etree._tagValidOrRaise\n",
      "ValueError: Invalid tag name '<cyfunction Comment at 0x000001DB73381C80>'\n",
      "Traceback (most recent call last):\n",
      "  File \"<ipython-input-1-d648b050eb9b>\", line 152, in tojson\n",
      "    tag = etree.QName(elem.tag)\n",
      "  File \"src/lxml/etree.pyx\", line 1835, in lxml.etree.QName.__init__\n",
      "  File \"src/lxml/apihelpers.pxi\", line 1680, in lxml.etree._tagValidOrRaise\n",
      "ValueError: Invalid tag name '<cyfunction Comment at 0x000001DB73381C80>'\n",
      "Traceback (most recent call last):\n",
      "  File \"<ipython-input-1-d648b050eb9b>\", line 152, in tojson\n",
      "    tag = etree.QName(elem.tag)\n",
      "  File \"src/lxml/etree.pyx\", line 1835, in lxml.etree.QName.__init__\n",
      "  File \"src/lxml/apihelpers.pxi\", line 1680, in lxml.etree._tagValidOrRaise\n",
      "ValueError: Invalid tag name '<cyfunction Comment at 0x000001DB73381C80>'\n",
      "Traceback (most recent call last):\n",
      "  File \"<ipython-input-1-d648b050eb9b>\", line 152, in tojson\n",
      "    tag = etree.QName(elem.tag)\n",
      "  File \"src/lxml/etree.pyx\", line 1835, in lxml.etree.QName.__init__\n",
      "  File \"src/lxml/apihelpers.pxi\", line 1680, in lxml.etree._tagValidOrRaise\n",
      "ValueError: Invalid tag name '<cyfunction Comment at 0x000001DB73381C80>'\n",
      "Traceback (most recent call last):\n",
      "  File \"<ipython-input-1-d648b050eb9b>\", line 152, in tojson\n",
      "    tag = etree.QName(elem.tag)\n",
      "  File \"src/lxml/etree.pyx\", line 1835, in lxml.etree.QName.__init__\n",
      "  File \"src/lxml/apihelpers.pxi\", line 1680, in lxml.etree._tagValidOrRaise\n",
      "ValueError: Invalid tag name '<cyfunction Comment at 0x000001DB73381C80>'\n",
      "Traceback (most recent call last):\n",
      "  File \"<ipython-input-1-d648b050eb9b>\", line 152, in tojson\n",
      "    tag = etree.QName(elem.tag)\n",
      "  File \"src/lxml/etree.pyx\", line 1835, in lxml.etree.QName.__init__\n",
      "  File \"src/lxml/apihelpers.pxi\", line 1680, in lxml.etree._tagValidOrRaise\n",
      "ValueError: Invalid tag name '<cyfunction Comment at 0x000001DB73381C80>'\n",
      "Traceback (most recent call last):\n",
      "  File \"<ipython-input-1-d648b050eb9b>\", line 152, in tojson\n",
      "    tag = etree.QName(elem.tag)\n",
      "  File \"src/lxml/etree.pyx\", line 1835, in lxml.etree.QName.__init__\n",
      "  File \"src/lxml/apihelpers.pxi\", line 1680, in lxml.etree._tagValidOrRaise\n",
      "ValueError: Invalid tag name '<cyfunction Comment at 0x000001DB73381C80>'\n",
      "Traceback (most recent call last):\n",
      "  File \"<ipython-input-1-d648b050eb9b>\", line 152, in tojson\n",
      "    tag = etree.QName(elem.tag)\n",
      "  File \"src/lxml/etree.pyx\", line 1835, in lxml.etree.QName.__init__\n",
      "  File \"src/lxml/apihelpers.pxi\", line 1680, in lxml.etree._tagValidOrRaise\n",
      "ValueError: Invalid tag name '<cyfunction Comment at 0x000001DB73381C80>'\n",
      "Traceback (most recent call last):\n",
      "  File \"<ipython-input-1-d648b050eb9b>\", line 152, in tojson\n",
      "    tag = etree.QName(elem.tag)\n",
      "  File \"src/lxml/etree.pyx\", line 1835, in lxml.etree.QName.__init__\n",
      "  File \"src/lxml/apihelpers.pxi\", line 1680, in lxml.etree._tagValidOrRaise\n",
      "ValueError: Invalid tag name '<cyfunction Comment at 0x000001DB73381C80>'\n",
      "Traceback (most recent call last):\n",
      "  File \"<ipython-input-1-d648b050eb9b>\", line 152, in tojson\n",
      "    tag = etree.QName(elem.tag)\n",
      "  File \"src/lxml/etree.pyx\", line 1835, in lxml.etree.QName.__init__\n"
     ]
    },
    {
     "name": "stderr",
     "output_type": "stream",
     "text": [
      "  File \"src/lxml/apihelpers.pxi\", line 1680, in lxml.etree._tagValidOrRaise\n",
      "ValueError: Invalid tag name '<cyfunction Comment at 0x000001DB73381C80>'\n",
      "Traceback (most recent call last):\n",
      "  File \"<ipython-input-1-d648b050eb9b>\", line 152, in tojson\n",
      "    tag = etree.QName(elem.tag)\n",
      "  File \"src/lxml/etree.pyx\", line 1835, in lxml.etree.QName.__init__\n",
      "  File \"src/lxml/apihelpers.pxi\", line 1680, in lxml.etree._tagValidOrRaise\n",
      "ValueError: Invalid tag name '<cyfunction Comment at 0x000001DB73381C80>'\n",
      "Traceback (most recent call last):\n",
      "  File \"<ipython-input-1-d648b050eb9b>\", line 152, in tojson\n",
      "    tag = etree.QName(elem.tag)\n",
      "  File \"src/lxml/etree.pyx\", line 1835, in lxml.etree.QName.__init__\n",
      "  File \"src/lxml/apihelpers.pxi\", line 1680, in lxml.etree._tagValidOrRaise\n",
      "ValueError: Invalid tag name '<cyfunction Comment at 0x000001DB73381C80>'\n",
      "Traceback (most recent call last):\n",
      "  File \"<ipython-input-1-d648b050eb9b>\", line 152, in tojson\n",
      "    tag = etree.QName(elem.tag)\n",
      "  File \"src/lxml/etree.pyx\", line 1835, in lxml.etree.QName.__init__\n",
      "  File \"src/lxml/apihelpers.pxi\", line 1680, in lxml.etree._tagValidOrRaise\n",
      "ValueError: Invalid tag name '<cyfunction Comment at 0x000001DB73381C80>'\n",
      "Traceback (most recent call last):\n",
      "  File \"<ipython-input-1-d648b050eb9b>\", line 152, in tojson\n",
      "    tag = etree.QName(elem.tag)\n",
      "  File \"src/lxml/etree.pyx\", line 1835, in lxml.etree.QName.__init__\n",
      "  File \"src/lxml/apihelpers.pxi\", line 1680, in lxml.etree._tagValidOrRaise\n",
      "ValueError: Invalid tag name '<cyfunction Comment at 0x000001DB73381C80>'\n",
      "Traceback (most recent call last):\n",
      "  File \"<ipython-input-1-d648b050eb9b>\", line 152, in tojson\n",
      "    tag = etree.QName(elem.tag)\n",
      "  File \"src/lxml/etree.pyx\", line 1835, in lxml.etree.QName.__init__\n",
      "  File \"src/lxml/apihelpers.pxi\", line 1680, in lxml.etree._tagValidOrRaise\n",
      "ValueError: Invalid tag name '<cyfunction Comment at 0x000001DB73381C80>'\n",
      "Traceback (most recent call last):\n",
      "  File \"<ipython-input-1-d648b050eb9b>\", line 152, in tojson\n",
      "    tag = etree.QName(elem.tag)\n",
      "  File \"src/lxml/etree.pyx\", line 1835, in lxml.etree.QName.__init__\n",
      "  File \"src/lxml/apihelpers.pxi\", line 1680, in lxml.etree._tagValidOrRaise\n",
      "ValueError: Invalid tag name '<cyfunction Comment at 0x000001DB73381C80>'\n",
      "Traceback (most recent call last):\n",
      "  File \"<ipython-input-1-d648b050eb9b>\", line 152, in tojson\n",
      "    tag = etree.QName(elem.tag)\n",
      "  File \"src/lxml/etree.pyx\", line 1835, in lxml.etree.QName.__init__\n",
      "  File \"src/lxml/apihelpers.pxi\", line 1680, in lxml.etree._tagValidOrRaise\n",
      "ValueError: Invalid tag name '<cyfunction Comment at 0x000001DB73381C80>'\n",
      "Traceback (most recent call last):\n",
      "  File \"<ipython-input-1-d648b050eb9b>\", line 152, in tojson\n",
      "    tag = etree.QName(elem.tag)\n",
      "  File \"src/lxml/etree.pyx\", line 1835, in lxml.etree.QName.__init__\n",
      "  File \"src/lxml/apihelpers.pxi\", line 1680, in lxml.etree._tagValidOrRaise\n",
      "ValueError: Invalid tag name '<cyfunction Comment at 0x000001DB73381C80>'\n",
      "Traceback (most recent call last):\n",
      "  File \"<ipython-input-1-d648b050eb9b>\", line 152, in tojson\n",
      "    tag = etree.QName(elem.tag)\n",
      "  File \"src/lxml/etree.pyx\", line 1835, in lxml.etree.QName.__init__\n",
      "  File \"src/lxml/apihelpers.pxi\", line 1680, in lxml.etree._tagValidOrRaise\n",
      "ValueError: Invalid tag name '<cyfunction Comment at 0x000001DB73381C80>'\n",
      "Traceback (most recent call last):\n",
      "  File \"<ipython-input-1-d648b050eb9b>\", line 152, in tojson\n",
      "    tag = etree.QName(elem.tag)\n",
      "  File \"src/lxml/etree.pyx\", line 1835, in lxml.etree.QName.__init__\n",
      "  File \"src/lxml/apihelpers.pxi\", line 1680, in lxml.etree._tagValidOrRaise\n",
      "ValueError: Invalid tag name '<cyfunction Comment at 0x000001DB73381C80>'\n",
      "Traceback (most recent call last):\n",
      "  File \"<ipython-input-1-d648b050eb9b>\", line 152, in tojson\n",
      "    tag = etree.QName(elem.tag)\n",
      "  File \"src/lxml/etree.pyx\", line 1835, in lxml.etree.QName.__init__\n",
      "  File \"src/lxml/apihelpers.pxi\", line 1680, in lxml.etree._tagValidOrRaise\n",
      "ValueError: Invalid tag name '<cyfunction Comment at 0x000001DB73381C80>'\n",
      "Traceback (most recent call last):\n",
      "  File \"<ipython-input-1-d648b050eb9b>\", line 152, in tojson\n",
      "    tag = etree.QName(elem.tag)\n",
      "  File \"src/lxml/etree.pyx\", line 1835, in lxml.etree.QName.__init__\n",
      "  File \"src/lxml/apihelpers.pxi\", line 1680, in lxml.etree._tagValidOrRaise\n",
      "ValueError: Invalid tag name '<cyfunction Comment at 0x000001DB73381C80>'\n",
      "Traceback (most recent call last):\n",
      "  File \"<ipython-input-1-d648b050eb9b>\", line 152, in tojson\n",
      "    tag = etree.QName(elem.tag)\n",
      "  File \"src/lxml/etree.pyx\", line 1835, in lxml.etree.QName.__init__\n",
      "  File \"src/lxml/apihelpers.pxi\", line 1680, in lxml.etree._tagValidOrRaise\n",
      "ValueError: Invalid tag name '<cyfunction Comment at 0x000001DB73381C80>'\n",
      "Traceback (most recent call last):\n",
      "  File \"<ipython-input-1-d648b050eb9b>\", line 152, in tojson\n",
      "    tag = etree.QName(elem.tag)\n",
      "  File \"src/lxml/etree.pyx\", line 1835, in lxml.etree.QName.__init__\n",
      "  File \"src/lxml/apihelpers.pxi\", line 1680, in lxml.etree._tagValidOrRaise\n",
      "ValueError: Invalid tag name '<cyfunction Comment at 0x000001DB73381C80>'\n",
      "Traceback (most recent call last):\n",
      "  File \"<ipython-input-1-d648b050eb9b>\", line 152, in tojson\n",
      "    tag = etree.QName(elem.tag)\n",
      "  File \"src/lxml/etree.pyx\", line 1835, in lxml.etree.QName.__init__\n",
      "  File \"src/lxml/apihelpers.pxi\", line 1680, in lxml.etree._tagValidOrRaise\n",
      "ValueError: Invalid tag name '<cyfunction Comment at 0x000001DB73381C80>'\n",
      "Traceback (most recent call last):\n",
      "  File \"<ipython-input-1-d648b050eb9b>\", line 152, in tojson\n",
      "    tag = etree.QName(elem.tag)\n",
      "  File \"src/lxml/etree.pyx\", line 1835, in lxml.etree.QName.__init__\n",
      "  File \"src/lxml/apihelpers.pxi\", line 1680, in lxml.etree._tagValidOrRaise\n",
      "ValueError: Invalid tag name '<cyfunction Comment at 0x000001DB73381C80>'\n",
      "Traceback (most recent call last):\n",
      "  File \"<ipython-input-1-d648b050eb9b>\", line 152, in tojson\n",
      "    tag = etree.QName(elem.tag)\n",
      "  File \"src/lxml/etree.pyx\", line 1835, in lxml.etree.QName.__init__\n",
      "  File \"src/lxml/apihelpers.pxi\", line 1680, in lxml.etree._tagValidOrRaise\n",
      "ValueError: Invalid tag name '<cyfunction Comment at 0x000001DB73381C80>'\n",
      "Traceback (most recent call last):\n",
      "  File \"<ipython-input-1-d648b050eb9b>\", line 152, in tojson\n",
      "    tag = etree.QName(elem.tag)\n",
      "  File \"src/lxml/etree.pyx\", line 1835, in lxml.etree.QName.__init__\n",
      "  File \"src/lxml/apihelpers.pxi\", line 1680, in lxml.etree._tagValidOrRaise\n",
      "ValueError: Invalid tag name '<cyfunction Comment at 0x000001DB73381C80>'\n",
      "Traceback (most recent call last):\n",
      "  File \"<ipython-input-1-d648b050eb9b>\", line 152, in tojson\n",
      "    tag = etree.QName(elem.tag)\n",
      "  File \"src/lxml/etree.pyx\", line 1835, in lxml.etree.QName.__init__\n",
      "  File \"src/lxml/apihelpers.pxi\", line 1680, in lxml.etree._tagValidOrRaise\n",
      "ValueError: Invalid tag name '<cyfunction Comment at 0x000001DB73381C80>'\n",
      "Traceback (most recent call last):\n",
      "  File \"<ipython-input-1-d648b050eb9b>\", line 152, in tojson\n",
      "    tag = etree.QName(elem.tag)\n",
      "  File \"src/lxml/etree.pyx\", line 1835, in lxml.etree.QName.__init__\n",
      "  File \"src/lxml/apihelpers.pxi\", line 1680, in lxml.etree._tagValidOrRaise\n",
      "ValueError: Invalid tag name '<cyfunction Comment at 0x000001DB73381C80>'\n",
      "Traceback (most recent call last):\n",
      "  File \"<ipython-input-1-d648b050eb9b>\", line 152, in tojson\n",
      "    tag = etree.QName(elem.tag)\n",
      "  File \"src/lxml/etree.pyx\", line 1835, in lxml.etree.QName.__init__\n",
      "  File \"src/lxml/apihelpers.pxi\", line 1680, in lxml.etree._tagValidOrRaise\n",
      "ValueError: Invalid tag name '<cyfunction Comment at 0x000001DB73381C80>'\n",
      "Traceback (most recent call last):\n",
      "  File \"<ipython-input-1-d648b050eb9b>\", line 152, in tojson\n",
      "    tag = etree.QName(elem.tag)\n",
      "  File \"src/lxml/etree.pyx\", line 1835, in lxml.etree.QName.__init__\n",
      "  File \"src/lxml/apihelpers.pxi\", line 1680, in lxml.etree._tagValidOrRaise\n",
      "ValueError: Invalid tag name '<cyfunction Comment at 0x000001DB73381C80>'\n",
      "Traceback (most recent call last):\n",
      "  File \"<ipython-input-1-d648b050eb9b>\", line 152, in tojson\n",
      "    tag = etree.QName(elem.tag)\n",
      "  File \"src/lxml/etree.pyx\", line 1835, in lxml.etree.QName.__init__\n",
      "  File \"src/lxml/apihelpers.pxi\", line 1680, in lxml.etree._tagValidOrRaise\n",
      "ValueError: Invalid tag name '<cyfunction Comment at 0x000001DB73381C80>'\n",
      "Traceback (most recent call last):\n",
      "  File \"<ipython-input-1-d648b050eb9b>\", line 152, in tojson\n",
      "    tag = etree.QName(elem.tag)\n"
     ]
    },
    {
     "name": "stderr",
     "output_type": "stream",
     "text": [
      "  File \"src/lxml/etree.pyx\", line 1835, in lxml.etree.QName.__init__\n",
      "  File \"src/lxml/apihelpers.pxi\", line 1680, in lxml.etree._tagValidOrRaise\n",
      "ValueError: Invalid tag name '<cyfunction Comment at 0x000001DB73381C80>'\n",
      "Traceback (most recent call last):\n",
      "  File \"<ipython-input-1-d648b050eb9b>\", line 152, in tojson\n",
      "    tag = etree.QName(elem.tag)\n",
      "  File \"src/lxml/etree.pyx\", line 1835, in lxml.etree.QName.__init__\n",
      "  File \"src/lxml/apihelpers.pxi\", line 1680, in lxml.etree._tagValidOrRaise\n",
      "ValueError: Invalid tag name '<cyfunction Comment at 0x000001DB73381C80>'\n",
      "Traceback (most recent call last):\n",
      "  File \"<ipython-input-1-d648b050eb9b>\", line 152, in tojson\n",
      "    tag = etree.QName(elem.tag)\n",
      "  File \"src/lxml/etree.pyx\", line 1835, in lxml.etree.QName.__init__\n",
      "  File \"src/lxml/apihelpers.pxi\", line 1680, in lxml.etree._tagValidOrRaise\n",
      "ValueError: Invalid tag name '<cyfunction Comment at 0x000001DB73381C80>'\n",
      "Traceback (most recent call last):\n",
      "  File \"<ipython-input-1-d648b050eb9b>\", line 152, in tojson\n",
      "    tag = etree.QName(elem.tag)\n",
      "  File \"src/lxml/etree.pyx\", line 1835, in lxml.etree.QName.__init__\n",
      "  File \"src/lxml/apihelpers.pxi\", line 1680, in lxml.etree._tagValidOrRaise\n",
      "ValueError: Invalid tag name '<cyfunction Comment at 0x000001DB73381C80>'\n",
      "Traceback (most recent call last):\n",
      "  File \"<ipython-input-1-d648b050eb9b>\", line 152, in tojson\n",
      "    tag = etree.QName(elem.tag)\n",
      "  File \"src/lxml/etree.pyx\", line 1835, in lxml.etree.QName.__init__\n",
      "  File \"src/lxml/apihelpers.pxi\", line 1680, in lxml.etree._tagValidOrRaise\n",
      "ValueError: Invalid tag name '<cyfunction Comment at 0x000001DB73381C80>'\n",
      "Traceback (most recent call last):\n",
      "  File \"<ipython-input-1-d648b050eb9b>\", line 152, in tojson\n",
      "    tag = etree.QName(elem.tag)\n",
      "  File \"src/lxml/etree.pyx\", line 1835, in lxml.etree.QName.__init__\n",
      "  File \"src/lxml/apihelpers.pxi\", line 1680, in lxml.etree._tagValidOrRaise\n",
      "ValueError: Invalid tag name '<cyfunction Comment at 0x000001DB73381C80>'\n",
      "Traceback (most recent call last):\n",
      "  File \"<ipython-input-1-d648b050eb9b>\", line 152, in tojson\n",
      "    tag = etree.QName(elem.tag)\n",
      "  File \"src/lxml/etree.pyx\", line 1835, in lxml.etree.QName.__init__\n",
      "  File \"src/lxml/apihelpers.pxi\", line 1680, in lxml.etree._tagValidOrRaise\n",
      "ValueError: Invalid tag name '<cyfunction Comment at 0x000001DB73381C80>'\n",
      "Traceback (most recent call last):\n",
      "  File \"<ipython-input-1-d648b050eb9b>\", line 152, in tojson\n",
      "    tag = etree.QName(elem.tag)\n",
      "  File \"src/lxml/etree.pyx\", line 1835, in lxml.etree.QName.__init__\n",
      "  File \"src/lxml/apihelpers.pxi\", line 1680, in lxml.etree._tagValidOrRaise\n",
      "ValueError: Invalid tag name '<cyfunction Comment at 0x000001DB73381C80>'\n",
      "Traceback (most recent call last):\n",
      "  File \"<ipython-input-1-d648b050eb9b>\", line 152, in tojson\n",
      "    tag = etree.QName(elem.tag)\n",
      "  File \"src/lxml/etree.pyx\", line 1835, in lxml.etree.QName.__init__\n",
      "  File \"src/lxml/apihelpers.pxi\", line 1680, in lxml.etree._tagValidOrRaise\n",
      "ValueError: Invalid tag name '<cyfunction Comment at 0x000001DB73381C80>'\n",
      "Traceback (most recent call last):\n",
      "  File \"<ipython-input-1-d648b050eb9b>\", line 152, in tojson\n",
      "    tag = etree.QName(elem.tag)\n",
      "  File \"src/lxml/etree.pyx\", line 1835, in lxml.etree.QName.__init__\n",
      "  File \"src/lxml/apihelpers.pxi\", line 1680, in lxml.etree._tagValidOrRaise\n",
      "ValueError: Invalid tag name '<cyfunction Comment at 0x000001DB73381C80>'\n",
      "Traceback (most recent call last):\n",
      "  File \"<ipython-input-1-d648b050eb9b>\", line 152, in tojson\n",
      "    tag = etree.QName(elem.tag)\n",
      "  File \"src/lxml/etree.pyx\", line 1835, in lxml.etree.QName.__init__\n",
      "  File \"src/lxml/apihelpers.pxi\", line 1680, in lxml.etree._tagValidOrRaise\n",
      "ValueError: Invalid tag name '<cyfunction Comment at 0x000001DB73381C80>'\n",
      "Traceback (most recent call last):\n",
      "  File \"<ipython-input-1-d648b050eb9b>\", line 152, in tojson\n",
      "    tag = etree.QName(elem.tag)\n",
      "  File \"src/lxml/etree.pyx\", line 1835, in lxml.etree.QName.__init__\n",
      "  File \"src/lxml/apihelpers.pxi\", line 1680, in lxml.etree._tagValidOrRaise\n",
      "ValueError: Invalid tag name '<cyfunction Comment at 0x000001DB73381C80>'\n",
      "Traceback (most recent call last):\n",
      "  File \"<ipython-input-1-d648b050eb9b>\", line 152, in tojson\n",
      "    tag = etree.QName(elem.tag)\n",
      "  File \"src/lxml/etree.pyx\", line 1835, in lxml.etree.QName.__init__\n",
      "  File \"src/lxml/apihelpers.pxi\", line 1680, in lxml.etree._tagValidOrRaise\n",
      "ValueError: Invalid tag name '<cyfunction Comment at 0x000001DB73381C80>'\n",
      "Traceback (most recent call last):\n",
      "  File \"<ipython-input-1-d648b050eb9b>\", line 152, in tojson\n",
      "    tag = etree.QName(elem.tag)\n",
      "  File \"src/lxml/etree.pyx\", line 1835, in lxml.etree.QName.__init__\n",
      "  File \"src/lxml/apihelpers.pxi\", line 1680, in lxml.etree._tagValidOrRaise\n",
      "ValueError: Invalid tag name '<cyfunction Comment at 0x000001DB73381C80>'\n",
      "Traceback (most recent call last):\n",
      "  File \"<ipython-input-1-d648b050eb9b>\", line 152, in tojson\n",
      "    tag = etree.QName(elem.tag)\n",
      "  File \"src/lxml/etree.pyx\", line 1835, in lxml.etree.QName.__init__\n",
      "  File \"src/lxml/apihelpers.pxi\", line 1680, in lxml.etree._tagValidOrRaise\n",
      "ValueError: Invalid tag name '<cyfunction Comment at 0x000001DB73381C80>'\n",
      "Traceback (most recent call last):\n",
      "  File \"<ipython-input-1-d648b050eb9b>\", line 152, in tojson\n",
      "    tag = etree.QName(elem.tag)\n",
      "  File \"src/lxml/etree.pyx\", line 1835, in lxml.etree.QName.__init__\n",
      "  File \"src/lxml/apihelpers.pxi\", line 1680, in lxml.etree._tagValidOrRaise\n",
      "ValueError: Invalid tag name '<cyfunction Comment at 0x000001DB73381C80>'\n",
      "Traceback (most recent call last):\n",
      "  File \"<ipython-input-1-d648b050eb9b>\", line 152, in tojson\n",
      "    tag = etree.QName(elem.tag)\n",
      "  File \"src/lxml/etree.pyx\", line 1835, in lxml.etree.QName.__init__\n",
      "  File \"src/lxml/apihelpers.pxi\", line 1680, in lxml.etree._tagValidOrRaise\n",
      "ValueError: Invalid tag name '<cyfunction Comment at 0x000001DB73381C80>'\n",
      "Traceback (most recent call last):\n",
      "  File \"<ipython-input-1-d648b050eb9b>\", line 152, in tojson\n",
      "    tag = etree.QName(elem.tag)\n",
      "  File \"src/lxml/etree.pyx\", line 1835, in lxml.etree.QName.__init__\n",
      "  File \"src/lxml/apihelpers.pxi\", line 1680, in lxml.etree._tagValidOrRaise\n",
      "ValueError: Invalid tag name '<cyfunction Comment at 0x000001DB73381C80>'\n",
      "Traceback (most recent call last):\n",
      "  File \"<ipython-input-1-d648b050eb9b>\", line 152, in tojson\n",
      "    tag = etree.QName(elem.tag)\n",
      "  File \"src/lxml/etree.pyx\", line 1835, in lxml.etree.QName.__init__\n",
      "  File \"src/lxml/apihelpers.pxi\", line 1680, in lxml.etree._tagValidOrRaise\n",
      "ValueError: Invalid tag name '<cyfunction Comment at 0x000001DB73381C80>'\n",
      "Traceback (most recent call last):\n",
      "  File \"<ipython-input-1-d648b050eb9b>\", line 152, in tojson\n",
      "    tag = etree.QName(elem.tag)\n",
      "  File \"src/lxml/etree.pyx\", line 1835, in lxml.etree.QName.__init__\n",
      "  File \"src/lxml/apihelpers.pxi\", line 1680, in lxml.etree._tagValidOrRaise\n",
      "ValueError: Invalid tag name '<cyfunction Comment at 0x000001DB73381C80>'\n",
      "Traceback (most recent call last):\n",
      "  File \"<ipython-input-1-d648b050eb9b>\", line 152, in tojson\n",
      "    tag = etree.QName(elem.tag)\n",
      "  File \"src/lxml/etree.pyx\", line 1835, in lxml.etree.QName.__init__\n",
      "  File \"src/lxml/apihelpers.pxi\", line 1680, in lxml.etree._tagValidOrRaise\n",
      "ValueError: Invalid tag name '<cyfunction Comment at 0x000001DB73381C80>'\n",
      "Traceback (most recent call last):\n",
      "  File \"<ipython-input-1-d648b050eb9b>\", line 152, in tojson\n",
      "    tag = etree.QName(elem.tag)\n",
      "  File \"src/lxml/etree.pyx\", line 1835, in lxml.etree.QName.__init__\n",
      "  File \"src/lxml/apihelpers.pxi\", line 1680, in lxml.etree._tagValidOrRaise\n",
      "ValueError: Invalid tag name '<cyfunction Comment at 0x000001DB73381C80>'\n",
      "Traceback (most recent call last):\n",
      "  File \"<ipython-input-1-d648b050eb9b>\", line 152, in tojson\n",
      "    tag = etree.QName(elem.tag)\n",
      "  File \"src/lxml/etree.pyx\", line 1835, in lxml.etree.QName.__init__\n",
      "  File \"src/lxml/apihelpers.pxi\", line 1680, in lxml.etree._tagValidOrRaise\n",
      "ValueError: Invalid tag name '<cyfunction Comment at 0x000001DB73381C80>'\n",
      "Traceback (most recent call last):\n",
      "  File \"<ipython-input-1-d648b050eb9b>\", line 152, in tojson\n",
      "    tag = etree.QName(elem.tag)\n",
      "  File \"src/lxml/etree.pyx\", line 1835, in lxml.etree.QName.__init__\n",
      "  File \"src/lxml/apihelpers.pxi\", line 1680, in lxml.etree._tagValidOrRaise\n",
      "ValueError: Invalid tag name '<cyfunction Comment at 0x000001DB73381C80>'\n"
     ]
    },
    {
     "name": "stderr",
     "output_type": "stream",
     "text": [
      "Traceback (most recent call last):\n",
      "  File \"<ipython-input-1-d648b050eb9b>\", line 152, in tojson\n",
      "    tag = etree.QName(elem.tag)\n",
      "  File \"src/lxml/etree.pyx\", line 1835, in lxml.etree.QName.__init__\n",
      "  File \"src/lxml/apihelpers.pxi\", line 1680, in lxml.etree._tagValidOrRaise\n",
      "ValueError: Invalid tag name '<cyfunction Comment at 0x000001DB73381C80>'\n",
      "Traceback (most recent call last):\n",
      "  File \"<ipython-input-1-d648b050eb9b>\", line 152, in tojson\n",
      "    tag = etree.QName(elem.tag)\n",
      "  File \"src/lxml/etree.pyx\", line 1835, in lxml.etree.QName.__init__\n",
      "  File \"src/lxml/apihelpers.pxi\", line 1680, in lxml.etree._tagValidOrRaise\n",
      "ValueError: Invalid tag name '<cyfunction Comment at 0x000001DB73381C80>'\n",
      "Traceback (most recent call last):\n",
      "  File \"<ipython-input-1-d648b050eb9b>\", line 152, in tojson\n",
      "    tag = etree.QName(elem.tag)\n",
      "  File \"src/lxml/etree.pyx\", line 1835, in lxml.etree.QName.__init__\n",
      "  File \"src/lxml/apihelpers.pxi\", line 1680, in lxml.etree._tagValidOrRaise\n",
      "ValueError: Invalid tag name '<cyfunction Comment at 0x000001DB73381C80>'\n",
      "Traceback (most recent call last):\n",
      "  File \"<ipython-input-1-d648b050eb9b>\", line 152, in tojson\n",
      "    tag = etree.QName(elem.tag)\n",
      "  File \"src/lxml/etree.pyx\", line 1835, in lxml.etree.QName.__init__\n",
      "  File \"src/lxml/apihelpers.pxi\", line 1680, in lxml.etree._tagValidOrRaise\n",
      "ValueError: Invalid tag name '<cyfunction Comment at 0x000001DB73381C80>'\n",
      "Traceback (most recent call last):\n",
      "  File \"<ipython-input-1-d648b050eb9b>\", line 152, in tojson\n",
      "    tag = etree.QName(elem.tag)\n",
      "  File \"src/lxml/etree.pyx\", line 1835, in lxml.etree.QName.__init__\n",
      "  File \"src/lxml/apihelpers.pxi\", line 1680, in lxml.etree._tagValidOrRaise\n",
      "ValueError: Invalid tag name '<cyfunction Comment at 0x000001DB73381C80>'\n",
      "Traceback (most recent call last):\n",
      "  File \"<ipython-input-1-d648b050eb9b>\", line 152, in tojson\n",
      "    tag = etree.QName(elem.tag)\n",
      "  File \"src/lxml/etree.pyx\", line 1835, in lxml.etree.QName.__init__\n",
      "  File \"src/lxml/apihelpers.pxi\", line 1680, in lxml.etree._tagValidOrRaise\n",
      "ValueError: Invalid tag name '<cyfunction Comment at 0x000001DB73381C80>'\n",
      "Traceback (most recent call last):\n",
      "  File \"<ipython-input-1-d648b050eb9b>\", line 152, in tojson\n",
      "    tag = etree.QName(elem.tag)\n",
      "  File \"src/lxml/etree.pyx\", line 1835, in lxml.etree.QName.__init__\n",
      "  File \"src/lxml/apihelpers.pxi\", line 1680, in lxml.etree._tagValidOrRaise\n",
      "ValueError: Invalid tag name '<cyfunction Comment at 0x000001DB73381C80>'\n",
      "Traceback (most recent call last):\n",
      "  File \"<ipython-input-1-d648b050eb9b>\", line 152, in tojson\n",
      "    tag = etree.QName(elem.tag)\n",
      "  File \"src/lxml/etree.pyx\", line 1835, in lxml.etree.QName.__init__\n",
      "  File \"src/lxml/apihelpers.pxi\", line 1680, in lxml.etree._tagValidOrRaise\n",
      "ValueError: Invalid tag name '<cyfunction Comment at 0x000001DB73381C80>'\n",
      "Traceback (most recent call last):\n",
      "  File \"<ipython-input-1-d648b050eb9b>\", line 152, in tojson\n",
      "    tag = etree.QName(elem.tag)\n",
      "  File \"src/lxml/etree.pyx\", line 1835, in lxml.etree.QName.__init__\n",
      "  File \"src/lxml/apihelpers.pxi\", line 1680, in lxml.etree._tagValidOrRaise\n",
      "ValueError: Invalid tag name '<cyfunction Comment at 0x000001DB73381C80>'\n",
      "Traceback (most recent call last):\n",
      "  File \"<ipython-input-1-d648b050eb9b>\", line 152, in tojson\n",
      "    tag = etree.QName(elem.tag)\n",
      "  File \"src/lxml/etree.pyx\", line 1835, in lxml.etree.QName.__init__\n",
      "  File \"src/lxml/apihelpers.pxi\", line 1680, in lxml.etree._tagValidOrRaise\n",
      "ValueError: Invalid tag name '<cyfunction Comment at 0x000001DB73381C80>'\n",
      "Traceback (most recent call last):\n",
      "  File \"<ipython-input-1-d648b050eb9b>\", line 152, in tojson\n",
      "    tag = etree.QName(elem.tag)\n",
      "  File \"src/lxml/etree.pyx\", line 1835, in lxml.etree.QName.__init__\n",
      "  File \"src/lxml/apihelpers.pxi\", line 1680, in lxml.etree._tagValidOrRaise\n",
      "ValueError: Invalid tag name '<cyfunction Comment at 0x000001DB73381C80>'\n",
      "Traceback (most recent call last):\n",
      "  File \"<ipython-input-1-d648b050eb9b>\", line 152, in tojson\n",
      "    tag = etree.QName(elem.tag)\n",
      "  File \"src/lxml/etree.pyx\", line 1835, in lxml.etree.QName.__init__\n",
      "  File \"src/lxml/apihelpers.pxi\", line 1680, in lxml.etree._tagValidOrRaise\n",
      "ValueError: Invalid tag name '<cyfunction Comment at 0x000001DB73381C80>'\n",
      "Traceback (most recent call last):\n",
      "  File \"<ipython-input-1-d648b050eb9b>\", line 152, in tojson\n",
      "    tag = etree.QName(elem.tag)\n",
      "  File \"src/lxml/etree.pyx\", line 1835, in lxml.etree.QName.__init__\n",
      "  File \"src/lxml/apihelpers.pxi\", line 1680, in lxml.etree._tagValidOrRaise\n",
      "ValueError: Invalid tag name '<cyfunction Comment at 0x000001DB73381C80>'\n",
      "Traceback (most recent call last):\n",
      "  File \"<ipython-input-1-d648b050eb9b>\", line 152, in tojson\n",
      "    tag = etree.QName(elem.tag)\n",
      "  File \"src/lxml/etree.pyx\", line 1835, in lxml.etree.QName.__init__\n",
      "  File \"src/lxml/apihelpers.pxi\", line 1680, in lxml.etree._tagValidOrRaise\n",
      "ValueError: Invalid tag name '<cyfunction Comment at 0x000001DB73381C80>'\n",
      "Traceback (most recent call last):\n",
      "  File \"<ipython-input-1-d648b050eb9b>\", line 152, in tojson\n",
      "    tag = etree.QName(elem.tag)\n",
      "  File \"src/lxml/etree.pyx\", line 1835, in lxml.etree.QName.__init__\n",
      "  File \"src/lxml/apihelpers.pxi\", line 1680, in lxml.etree._tagValidOrRaise\n",
      "ValueError: Invalid tag name '<cyfunction Comment at 0x000001DB73381C80>'\n",
      "Traceback (most recent call last):\n",
      "  File \"<ipython-input-1-d648b050eb9b>\", line 152, in tojson\n",
      "    tag = etree.QName(elem.tag)\n",
      "  File \"src/lxml/etree.pyx\", line 1835, in lxml.etree.QName.__init__\n",
      "  File \"src/lxml/apihelpers.pxi\", line 1680, in lxml.etree._tagValidOrRaise\n",
      "ValueError: Invalid tag name '<cyfunction Comment at 0x000001DB73381C80>'\n",
      "Traceback (most recent call last):\n",
      "  File \"<ipython-input-1-d648b050eb9b>\", line 152, in tojson\n",
      "    tag = etree.QName(elem.tag)\n",
      "  File \"src/lxml/etree.pyx\", line 1835, in lxml.etree.QName.__init__\n",
      "  File \"src/lxml/apihelpers.pxi\", line 1680, in lxml.etree._tagValidOrRaise\n",
      "ValueError: Invalid tag name '<cyfunction Comment at 0x000001DB73381C80>'\n",
      "Traceback (most recent call last):\n",
      "  File \"<ipython-input-1-d648b050eb9b>\", line 152, in tojson\n",
      "    tag = etree.QName(elem.tag)\n",
      "  File \"src/lxml/etree.pyx\", line 1835, in lxml.etree.QName.__init__\n",
      "  File \"src/lxml/apihelpers.pxi\", line 1680, in lxml.etree._tagValidOrRaise\n",
      "ValueError: Invalid tag name '<cyfunction Comment at 0x000001DB73381C80>'\n",
      "Traceback (most recent call last):\n",
      "  File \"<ipython-input-1-d648b050eb9b>\", line 152, in tojson\n",
      "    tag = etree.QName(elem.tag)\n",
      "  File \"src/lxml/etree.pyx\", line 1835, in lxml.etree.QName.__init__\n",
      "  File \"src/lxml/apihelpers.pxi\", line 1680, in lxml.etree._tagValidOrRaise\n",
      "ValueError: Invalid tag name '<cyfunction Comment at 0x000001DB73381C80>'\n",
      "Traceback (most recent call last):\n",
      "  File \"<ipython-input-1-d648b050eb9b>\", line 152, in tojson\n",
      "    tag = etree.QName(elem.tag)\n",
      "  File \"src/lxml/etree.pyx\", line 1835, in lxml.etree.QName.__init__\n",
      "  File \"src/lxml/apihelpers.pxi\", line 1680, in lxml.etree._tagValidOrRaise\n",
      "ValueError: Invalid tag name '<cyfunction Comment at 0x000001DB73381C80>'\n",
      "Traceback (most recent call last):\n",
      "  File \"<ipython-input-1-d648b050eb9b>\", line 152, in tojson\n",
      "    tag = etree.QName(elem.tag)\n",
      "  File \"src/lxml/etree.pyx\", line 1835, in lxml.etree.QName.__init__\n",
      "  File \"src/lxml/apihelpers.pxi\", line 1680, in lxml.etree._tagValidOrRaise\n",
      "ValueError: Invalid tag name '<cyfunction Comment at 0x000001DB73381C80>'\n",
      "Traceback (most recent call last):\n",
      "  File \"<ipython-input-1-d648b050eb9b>\", line 152, in tojson\n",
      "    tag = etree.QName(elem.tag)\n",
      "  File \"src/lxml/etree.pyx\", line 1835, in lxml.etree.QName.__init__\n",
      "  File \"src/lxml/apihelpers.pxi\", line 1680, in lxml.etree._tagValidOrRaise\n",
      "ValueError: Invalid tag name '<cyfunction Comment at 0x000001DB73381C80>'\n",
      "Traceback (most recent call last):\n",
      "  File \"<ipython-input-1-d648b050eb9b>\", line 152, in tojson\n",
      "    tag = etree.QName(elem.tag)\n",
      "  File \"src/lxml/etree.pyx\", line 1835, in lxml.etree.QName.__init__\n",
      "  File \"src/lxml/apihelpers.pxi\", line 1680, in lxml.etree._tagValidOrRaise\n",
      "ValueError: Invalid tag name '<cyfunction Comment at 0x000001DB73381C80>'\n",
      "Traceback (most recent call last):\n",
      "  File \"<ipython-input-1-d648b050eb9b>\", line 152, in tojson\n",
      "    tag = etree.QName(elem.tag)\n",
      "  File \"src/lxml/etree.pyx\", line 1835, in lxml.etree.QName.__init__\n",
      "  File \"src/lxml/apihelpers.pxi\", line 1680, in lxml.etree._tagValidOrRaise\n"
     ]
    },
    {
     "name": "stderr",
     "output_type": "stream",
     "text": [
      "ValueError: Invalid tag name '<cyfunction Comment at 0x000001DB73381C80>'\n",
      "Traceback (most recent call last):\n",
      "  File \"<ipython-input-1-d648b050eb9b>\", line 152, in tojson\n",
      "    tag = etree.QName(elem.tag)\n",
      "  File \"src/lxml/etree.pyx\", line 1835, in lxml.etree.QName.__init__\n",
      "  File \"src/lxml/apihelpers.pxi\", line 1680, in lxml.etree._tagValidOrRaise\n",
      "ValueError: Invalid tag name '<cyfunction Comment at 0x000001DB73381C80>'\n",
      "Traceback (most recent call last):\n",
      "  File \"<ipython-input-1-d648b050eb9b>\", line 152, in tojson\n",
      "    tag = etree.QName(elem.tag)\n",
      "  File \"src/lxml/etree.pyx\", line 1835, in lxml.etree.QName.__init__\n",
      "  File \"src/lxml/apihelpers.pxi\", line 1680, in lxml.etree._tagValidOrRaise\n",
      "ValueError: Invalid tag name '<cyfunction Comment at 0x000001DB73381C80>'\n",
      "Traceback (most recent call last):\n",
      "  File \"<ipython-input-1-d648b050eb9b>\", line 152, in tojson\n",
      "    tag = etree.QName(elem.tag)\n",
      "  File \"src/lxml/etree.pyx\", line 1835, in lxml.etree.QName.__init__\n",
      "  File \"src/lxml/apihelpers.pxi\", line 1680, in lxml.etree._tagValidOrRaise\n",
      "ValueError: Invalid tag name '<cyfunction Comment at 0x000001DB73381C80>'\n",
      "Traceback (most recent call last):\n",
      "  File \"<ipython-input-1-d648b050eb9b>\", line 152, in tojson\n",
      "    tag = etree.QName(elem.tag)\n",
      "  File \"src/lxml/etree.pyx\", line 1835, in lxml.etree.QName.__init__\n",
      "  File \"src/lxml/apihelpers.pxi\", line 1680, in lxml.etree._tagValidOrRaise\n",
      "ValueError: Invalid tag name '<cyfunction Comment at 0x000001DB73381C80>'\n",
      "Traceback (most recent call last):\n",
      "  File \"<ipython-input-1-d648b050eb9b>\", line 152, in tojson\n",
      "    tag = etree.QName(elem.tag)\n",
      "  File \"src/lxml/etree.pyx\", line 1835, in lxml.etree.QName.__init__\n",
      "  File \"src/lxml/apihelpers.pxi\", line 1680, in lxml.etree._tagValidOrRaise\n",
      "ValueError: Invalid tag name '<cyfunction Comment at 0x000001DB73381C80>'\n",
      "Traceback (most recent call last):\n",
      "  File \"<ipython-input-1-d648b050eb9b>\", line 152, in tojson\n",
      "    tag = etree.QName(elem.tag)\n",
      "  File \"src/lxml/etree.pyx\", line 1835, in lxml.etree.QName.__init__\n",
      "  File \"src/lxml/apihelpers.pxi\", line 1680, in lxml.etree._tagValidOrRaise\n",
      "ValueError: Invalid tag name '<cyfunction Comment at 0x000001DB73381C80>'\n",
      "Traceback (most recent call last):\n",
      "  File \"<ipython-input-1-d648b050eb9b>\", line 152, in tojson\n",
      "    tag = etree.QName(elem.tag)\n",
      "  File \"src/lxml/etree.pyx\", line 1835, in lxml.etree.QName.__init__\n",
      "  File \"src/lxml/apihelpers.pxi\", line 1680, in lxml.etree._tagValidOrRaise\n",
      "ValueError: Invalid tag name '<cyfunction Comment at 0x000001DB73381C80>'\n",
      "Traceback (most recent call last):\n",
      "  File \"<ipython-input-1-d648b050eb9b>\", line 152, in tojson\n",
      "    tag = etree.QName(elem.tag)\n",
      "  File \"src/lxml/etree.pyx\", line 1835, in lxml.etree.QName.__init__\n",
      "  File \"src/lxml/apihelpers.pxi\", line 1680, in lxml.etree._tagValidOrRaise\n",
      "ValueError: Invalid tag name '<cyfunction Comment at 0x000001DB73381C80>'\n",
      "Traceback (most recent call last):\n",
      "  File \"<ipython-input-1-d648b050eb9b>\", line 152, in tojson\n",
      "    tag = etree.QName(elem.tag)\n",
      "  File \"src/lxml/etree.pyx\", line 1835, in lxml.etree.QName.__init__\n",
      "  File \"src/lxml/apihelpers.pxi\", line 1680, in lxml.etree._tagValidOrRaise\n",
      "ValueError: Invalid tag name '<cyfunction Comment at 0x000001DB73381C80>'\n",
      "Traceback (most recent call last):\n",
      "  File \"<ipython-input-1-d648b050eb9b>\", line 152, in tojson\n",
      "    tag = etree.QName(elem.tag)\n",
      "  File \"src/lxml/etree.pyx\", line 1835, in lxml.etree.QName.__init__\n",
      "  File \"src/lxml/apihelpers.pxi\", line 1680, in lxml.etree._tagValidOrRaise\n",
      "ValueError: Invalid tag name '<cyfunction Comment at 0x000001DB73381C80>'\n",
      "Traceback (most recent call last):\n",
      "  File \"<ipython-input-1-d648b050eb9b>\", line 152, in tojson\n",
      "    tag = etree.QName(elem.tag)\n",
      "  File \"src/lxml/etree.pyx\", line 1835, in lxml.etree.QName.__init__\n",
      "  File \"src/lxml/apihelpers.pxi\", line 1680, in lxml.etree._tagValidOrRaise\n",
      "ValueError: Invalid tag name '<cyfunction Comment at 0x000001DB73381C80>'\n",
      "Traceback (most recent call last):\n",
      "  File \"<ipython-input-1-d648b050eb9b>\", line 152, in tojson\n",
      "    tag = etree.QName(elem.tag)\n",
      "  File \"src/lxml/etree.pyx\", line 1835, in lxml.etree.QName.__init__\n",
      "  File \"src/lxml/apihelpers.pxi\", line 1680, in lxml.etree._tagValidOrRaise\n",
      "ValueError: Invalid tag name '<cyfunction Comment at 0x000001DB73381C80>'\n",
      "Traceback (most recent call last):\n",
      "  File \"<ipython-input-1-d648b050eb9b>\", line 152, in tojson\n",
      "    tag = etree.QName(elem.tag)\n",
      "  File \"src/lxml/etree.pyx\", line 1835, in lxml.etree.QName.__init__\n",
      "  File \"src/lxml/apihelpers.pxi\", line 1680, in lxml.etree._tagValidOrRaise\n",
      "ValueError: Invalid tag name '<cyfunction Comment at 0x000001DB73381C80>'\n",
      "Traceback (most recent call last):\n",
      "  File \"<ipython-input-1-d648b050eb9b>\", line 152, in tojson\n",
      "    tag = etree.QName(elem.tag)\n",
      "  File \"src/lxml/etree.pyx\", line 1835, in lxml.etree.QName.__init__\n",
      "  File \"src/lxml/apihelpers.pxi\", line 1680, in lxml.etree._tagValidOrRaise\n",
      "ValueError: Invalid tag name '<cyfunction Comment at 0x000001DB73381C80>'\n",
      "Traceback (most recent call last):\n",
      "  File \"<ipython-input-1-d648b050eb9b>\", line 152, in tojson\n",
      "    tag = etree.QName(elem.tag)\n",
      "  File \"src/lxml/etree.pyx\", line 1835, in lxml.etree.QName.__init__\n",
      "  File \"src/lxml/apihelpers.pxi\", line 1680, in lxml.etree._tagValidOrRaise\n",
      "ValueError: Invalid tag name '<cyfunction Comment at 0x000001DB73381C80>'\n",
      "Traceback (most recent call last):\n",
      "  File \"<ipython-input-1-d648b050eb9b>\", line 152, in tojson\n",
      "    tag = etree.QName(elem.tag)\n",
      "  File \"src/lxml/etree.pyx\", line 1835, in lxml.etree.QName.__init__\n",
      "  File \"src/lxml/apihelpers.pxi\", line 1680, in lxml.etree._tagValidOrRaise\n",
      "ValueError: Invalid tag name '<cyfunction Comment at 0x000001DB73381C80>'\n",
      "Traceback (most recent call last):\n",
      "  File \"<ipython-input-1-d648b050eb9b>\", line 152, in tojson\n",
      "    tag = etree.QName(elem.tag)\n",
      "  File \"src/lxml/etree.pyx\", line 1835, in lxml.etree.QName.__init__\n",
      "  File \"src/lxml/apihelpers.pxi\", line 1680, in lxml.etree._tagValidOrRaise\n",
      "ValueError: Invalid tag name '<cyfunction Comment at 0x000001DB73381C80>'\n",
      "Traceback (most recent call last):\n",
      "  File \"<ipython-input-1-d648b050eb9b>\", line 152, in tojson\n",
      "    tag = etree.QName(elem.tag)\n",
      "  File \"src/lxml/etree.pyx\", line 1835, in lxml.etree.QName.__init__\n",
      "  File \"src/lxml/apihelpers.pxi\", line 1680, in lxml.etree._tagValidOrRaise\n",
      "ValueError: Invalid tag name '<cyfunction Comment at 0x000001DB73381C80>'\n",
      "Traceback (most recent call last):\n",
      "  File \"<ipython-input-1-d648b050eb9b>\", line 152, in tojson\n",
      "    tag = etree.QName(elem.tag)\n",
      "  File \"src/lxml/etree.pyx\", line 1835, in lxml.etree.QName.__init__\n",
      "  File \"src/lxml/apihelpers.pxi\", line 1680, in lxml.etree._tagValidOrRaise\n",
      "ValueError: Invalid tag name '<cyfunction Comment at 0x000001DB73381C80>'\n",
      "Traceback (most recent call last):\n",
      "  File \"<ipython-input-1-d648b050eb9b>\", line 152, in tojson\n",
      "    tag = etree.QName(elem.tag)\n",
      "  File \"src/lxml/etree.pyx\", line 1835, in lxml.etree.QName.__init__\n",
      "  File \"src/lxml/apihelpers.pxi\", line 1680, in lxml.etree._tagValidOrRaise\n",
      "ValueError: Invalid tag name '<cyfunction Comment at 0x000001DB73381C80>'\n",
      "Traceback (most recent call last):\n",
      "  File \"<ipython-input-1-d648b050eb9b>\", line 152, in tojson\n",
      "    tag = etree.QName(elem.tag)\n",
      "  File \"src/lxml/etree.pyx\", line 1835, in lxml.etree.QName.__init__\n",
      "  File \"src/lxml/apihelpers.pxi\", line 1680, in lxml.etree._tagValidOrRaise\n",
      "ValueError: Invalid tag name '<cyfunction Comment at 0x000001DB73381C80>'\n",
      "Traceback (most recent call last):\n",
      "  File \"<ipython-input-1-d648b050eb9b>\", line 152, in tojson\n",
      "    tag = etree.QName(elem.tag)\n",
      "  File \"src/lxml/etree.pyx\", line 1835, in lxml.etree.QName.__init__\n",
      "  File \"src/lxml/apihelpers.pxi\", line 1680, in lxml.etree._tagValidOrRaise\n",
      "ValueError: Invalid tag name '<cyfunction Comment at 0x000001DB73381C80>'\n",
      "Traceback (most recent call last):\n",
      "  File \"<ipython-input-1-d648b050eb9b>\", line 152, in tojson\n",
      "    tag = etree.QName(elem.tag)\n",
      "  File \"src/lxml/etree.pyx\", line 1835, in lxml.etree.QName.__init__\n",
      "  File \"src/lxml/apihelpers.pxi\", line 1680, in lxml.etree._tagValidOrRaise\n",
      "ValueError: Invalid tag name '<cyfunction Comment at 0x000001DB73381C80>'\n",
      "Traceback (most recent call last):\n",
      "  File \"<ipython-input-1-d648b050eb9b>\", line 152, in tojson\n",
      "    tag = etree.QName(elem.tag)\n",
      "  File \"src/lxml/etree.pyx\", line 1835, in lxml.etree.QName.__init__\n"
     ]
    },
    {
     "name": "stderr",
     "output_type": "stream",
     "text": [
      "  File \"src/lxml/apihelpers.pxi\", line 1680, in lxml.etree._tagValidOrRaise\n",
      "ValueError: Invalid tag name '<cyfunction Comment at 0x000001DB73381C80>'\n",
      "Traceback (most recent call last):\n",
      "  File \"<ipython-input-1-d648b050eb9b>\", line 152, in tojson\n",
      "    tag = etree.QName(elem.tag)\n",
      "  File \"src/lxml/etree.pyx\", line 1835, in lxml.etree.QName.__init__\n",
      "  File \"src/lxml/apihelpers.pxi\", line 1680, in lxml.etree._tagValidOrRaise\n",
      "ValueError: Invalid tag name '<cyfunction Comment at 0x000001DB73381C80>'\n",
      "Traceback (most recent call last):\n",
      "  File \"<ipython-input-1-d648b050eb9b>\", line 152, in tojson\n",
      "    tag = etree.QName(elem.tag)\n",
      "  File \"src/lxml/etree.pyx\", line 1835, in lxml.etree.QName.__init__\n",
      "  File \"src/lxml/apihelpers.pxi\", line 1680, in lxml.etree._tagValidOrRaise\n",
      "ValueError: Invalid tag name '<cyfunction Comment at 0x000001DB73381C80>'\n",
      "Traceback (most recent call last):\n",
      "  File \"<ipython-input-1-d648b050eb9b>\", line 152, in tojson\n",
      "    tag = etree.QName(elem.tag)\n",
      "  File \"src/lxml/etree.pyx\", line 1835, in lxml.etree.QName.__init__\n",
      "  File \"src/lxml/apihelpers.pxi\", line 1680, in lxml.etree._tagValidOrRaise\n",
      "ValueError: Invalid tag name '<cyfunction Comment at 0x000001DB73381C80>'\n",
      "Traceback (most recent call last):\n",
      "  File \"<ipython-input-1-d648b050eb9b>\", line 152, in tojson\n",
      "    tag = etree.QName(elem.tag)\n",
      "  File \"src/lxml/etree.pyx\", line 1835, in lxml.etree.QName.__init__\n",
      "  File \"src/lxml/apihelpers.pxi\", line 1680, in lxml.etree._tagValidOrRaise\n",
      "ValueError: Invalid tag name '<cyfunction Comment at 0x000001DB73381C80>'\n",
      "Traceback (most recent call last):\n",
      "  File \"<ipython-input-1-d648b050eb9b>\", line 152, in tojson\n",
      "    tag = etree.QName(elem.tag)\n",
      "  File \"src/lxml/etree.pyx\", line 1835, in lxml.etree.QName.__init__\n",
      "  File \"src/lxml/apihelpers.pxi\", line 1680, in lxml.etree._tagValidOrRaise\n",
      "ValueError: Invalid tag name '<cyfunction Comment at 0x000001DB73381C80>'\n",
      "Traceback (most recent call last):\n",
      "  File \"<ipython-input-1-d648b050eb9b>\", line 152, in tojson\n",
      "    tag = etree.QName(elem.tag)\n",
      "  File \"src/lxml/etree.pyx\", line 1835, in lxml.etree.QName.__init__\n",
      "  File \"src/lxml/apihelpers.pxi\", line 1680, in lxml.etree._tagValidOrRaise\n",
      "ValueError: Invalid tag name '<cyfunction Comment at 0x000001DB73381C80>'\n",
      "Traceback (most recent call last):\n",
      "  File \"<ipython-input-1-d648b050eb9b>\", line 152, in tojson\n",
      "    tag = etree.QName(elem.tag)\n",
      "  File \"src/lxml/etree.pyx\", line 1835, in lxml.etree.QName.__init__\n",
      "  File \"src/lxml/apihelpers.pxi\", line 1680, in lxml.etree._tagValidOrRaise\n",
      "ValueError: Invalid tag name '<cyfunction Comment at 0x000001DB73381C80>'\n",
      "Traceback (most recent call last):\n",
      "  File \"<ipython-input-1-d648b050eb9b>\", line 152, in tojson\n",
      "    tag = etree.QName(elem.tag)\n",
      "  File \"src/lxml/etree.pyx\", line 1835, in lxml.etree.QName.__init__\n",
      "  File \"src/lxml/apihelpers.pxi\", line 1680, in lxml.etree._tagValidOrRaise\n",
      "ValueError: Invalid tag name '<cyfunction Comment at 0x000001DB73381C80>'\n",
      "Traceback (most recent call last):\n",
      "  File \"<ipython-input-1-d648b050eb9b>\", line 152, in tojson\n",
      "    tag = etree.QName(elem.tag)\n",
      "  File \"src/lxml/etree.pyx\", line 1835, in lxml.etree.QName.__init__\n",
      "  File \"src/lxml/apihelpers.pxi\", line 1680, in lxml.etree._tagValidOrRaise\n",
      "ValueError: Invalid tag name '<cyfunction Comment at 0x000001DB73381C80>'\n",
      "Traceback (most recent call last):\n",
      "  File \"<ipython-input-1-d648b050eb9b>\", line 152, in tojson\n",
      "    tag = etree.QName(elem.tag)\n",
      "  File \"src/lxml/etree.pyx\", line 1835, in lxml.etree.QName.__init__\n",
      "  File \"src/lxml/apihelpers.pxi\", line 1680, in lxml.etree._tagValidOrRaise\n",
      "ValueError: Invalid tag name '<cyfunction Comment at 0x000001DB73381C80>'\n",
      "Traceback (most recent call last):\n",
      "  File \"<ipython-input-1-d648b050eb9b>\", line 152, in tojson\n",
      "    tag = etree.QName(elem.tag)\n",
      "  File \"src/lxml/etree.pyx\", line 1835, in lxml.etree.QName.__init__\n",
      "  File \"src/lxml/apihelpers.pxi\", line 1680, in lxml.etree._tagValidOrRaise\n",
      "ValueError: Invalid tag name '<cyfunction Comment at 0x000001DB73381C80>'\n",
      "Traceback (most recent call last):\n",
      "  File \"<ipython-input-1-d648b050eb9b>\", line 152, in tojson\n",
      "    tag = etree.QName(elem.tag)\n",
      "  File \"src/lxml/etree.pyx\", line 1835, in lxml.etree.QName.__init__\n",
      "  File \"src/lxml/apihelpers.pxi\", line 1680, in lxml.etree._tagValidOrRaise\n",
      "ValueError: Invalid tag name '<cyfunction Comment at 0x000001DB73381C80>'\n",
      "Traceback (most recent call last):\n",
      "  File \"<ipython-input-1-d648b050eb9b>\", line 152, in tojson\n",
      "    tag = etree.QName(elem.tag)\n",
      "  File \"src/lxml/etree.pyx\", line 1835, in lxml.etree.QName.__init__\n",
      "  File \"src/lxml/apihelpers.pxi\", line 1680, in lxml.etree._tagValidOrRaise\n",
      "ValueError: Invalid tag name '<cyfunction Comment at 0x000001DB73381C80>'\n",
      "Traceback (most recent call last):\n",
      "  File \"<ipython-input-1-d648b050eb9b>\", line 152, in tojson\n",
      "    tag = etree.QName(elem.tag)\n",
      "  File \"src/lxml/etree.pyx\", line 1835, in lxml.etree.QName.__init__\n",
      "  File \"src/lxml/apihelpers.pxi\", line 1680, in lxml.etree._tagValidOrRaise\n",
      "ValueError: Invalid tag name '<cyfunction Comment at 0x000001DB73381C80>'\n",
      "Traceback (most recent call last):\n",
      "  File \"<ipython-input-1-d648b050eb9b>\", line 152, in tojson\n",
      "    tag = etree.QName(elem.tag)\n",
      "  File \"src/lxml/etree.pyx\", line 1835, in lxml.etree.QName.__init__\n",
      "  File \"src/lxml/apihelpers.pxi\", line 1680, in lxml.etree._tagValidOrRaise\n",
      "ValueError: Invalid tag name '<cyfunction Comment at 0x000001DB73381C80>'\n",
      "Traceback (most recent call last):\n",
      "  File \"<ipython-input-1-d648b050eb9b>\", line 152, in tojson\n",
      "    tag = etree.QName(elem.tag)\n",
      "  File \"src/lxml/etree.pyx\", line 1835, in lxml.etree.QName.__init__\n",
      "  File \"src/lxml/apihelpers.pxi\", line 1680, in lxml.etree._tagValidOrRaise\n",
      "ValueError: Invalid tag name '<cyfunction Comment at 0x000001DB73381C80>'\n",
      "Traceback (most recent call last):\n",
      "  File \"<ipython-input-1-d648b050eb9b>\", line 152, in tojson\n",
      "    tag = etree.QName(elem.tag)\n",
      "  File \"src/lxml/etree.pyx\", line 1835, in lxml.etree.QName.__init__\n",
      "  File \"src/lxml/apihelpers.pxi\", line 1680, in lxml.etree._tagValidOrRaise\n",
      "ValueError: Invalid tag name '<cyfunction Comment at 0x000001DB73381C80>'\n",
      "Traceback (most recent call last):\n",
      "  File \"<ipython-input-1-d648b050eb9b>\", line 152, in tojson\n",
      "    tag = etree.QName(elem.tag)\n",
      "  File \"src/lxml/etree.pyx\", line 1835, in lxml.etree.QName.__init__\n",
      "  File \"src/lxml/apihelpers.pxi\", line 1680, in lxml.etree._tagValidOrRaise\n",
      "ValueError: Invalid tag name '<cyfunction Comment at 0x000001DB73381C80>'\n",
      "Traceback (most recent call last):\n",
      "  File \"<ipython-input-1-d648b050eb9b>\", line 152, in tojson\n",
      "    tag = etree.QName(elem.tag)\n",
      "  File \"src/lxml/etree.pyx\", line 1835, in lxml.etree.QName.__init__\n",
      "  File \"src/lxml/apihelpers.pxi\", line 1680, in lxml.etree._tagValidOrRaise\n",
      "ValueError: Invalid tag name '<cyfunction Comment at 0x000001DB73381C80>'\n",
      "Traceback (most recent call last):\n",
      "  File \"<ipython-input-1-d648b050eb9b>\", line 152, in tojson\n",
      "    tag = etree.QName(elem.tag)\n",
      "  File \"src/lxml/etree.pyx\", line 1835, in lxml.etree.QName.__init__\n",
      "  File \"src/lxml/apihelpers.pxi\", line 1680, in lxml.etree._tagValidOrRaise\n",
      "ValueError: Invalid tag name '<cyfunction Comment at 0x000001DB73381C80>'\n",
      "Traceback (most recent call last):\n",
      "  File \"<ipython-input-1-d648b050eb9b>\", line 152, in tojson\n",
      "    tag = etree.QName(elem.tag)\n",
      "  File \"src/lxml/etree.pyx\", line 1835, in lxml.etree.QName.__init__\n",
      "  File \"src/lxml/apihelpers.pxi\", line 1680, in lxml.etree._tagValidOrRaise\n",
      "ValueError: Invalid tag name '<cyfunction Comment at 0x000001DB73381C80>'\n",
      "Traceback (most recent call last):\n",
      "  File \"<ipython-input-1-d648b050eb9b>\", line 152, in tojson\n",
      "    tag = etree.QName(elem.tag)\n",
      "  File \"src/lxml/etree.pyx\", line 1835, in lxml.etree.QName.__init__\n",
      "  File \"src/lxml/apihelpers.pxi\", line 1680, in lxml.etree._tagValidOrRaise\n",
      "ValueError: Invalid tag name '<cyfunction Comment at 0x000001DB73381C80>'\n",
      "Traceback (most recent call last):\n",
      "  File \"<ipython-input-1-d648b050eb9b>\", line 152, in tojson\n",
      "    tag = etree.QName(elem.tag)\n",
      "  File \"src/lxml/etree.pyx\", line 1835, in lxml.etree.QName.__init__\n",
      "  File \"src/lxml/apihelpers.pxi\", line 1680, in lxml.etree._tagValidOrRaise\n",
      "ValueError: Invalid tag name '<cyfunction Comment at 0x000001DB73381C80>'\n",
      "Traceback (most recent call last):\n",
      "  File \"<ipython-input-1-d648b050eb9b>\", line 152, in tojson\n",
      "    tag = etree.QName(elem.tag)\n"
     ]
    },
    {
     "name": "stderr",
     "output_type": "stream",
     "text": [
      "  File \"src/lxml/etree.pyx\", line 1835, in lxml.etree.QName.__init__\n",
      "  File \"src/lxml/apihelpers.pxi\", line 1680, in lxml.etree._tagValidOrRaise\n",
      "ValueError: Invalid tag name '<cyfunction Comment at 0x000001DB73381C80>'\n",
      "Traceback (most recent call last):\n",
      "  File \"<ipython-input-1-d648b050eb9b>\", line 152, in tojson\n",
      "    tag = etree.QName(elem.tag)\n",
      "  File \"src/lxml/etree.pyx\", line 1835, in lxml.etree.QName.__init__\n",
      "  File \"src/lxml/apihelpers.pxi\", line 1680, in lxml.etree._tagValidOrRaise\n",
      "ValueError: Invalid tag name '<cyfunction Comment at 0x000001DB73381C80>'\n",
      "Traceback (most recent call last):\n",
      "  File \"<ipython-input-1-d648b050eb9b>\", line 152, in tojson\n",
      "    tag = etree.QName(elem.tag)\n",
      "  File \"src/lxml/etree.pyx\", line 1835, in lxml.etree.QName.__init__\n",
      "  File \"src/lxml/apihelpers.pxi\", line 1680, in lxml.etree._tagValidOrRaise\n",
      "ValueError: Invalid tag name '<cyfunction Comment at 0x000001DB73381C80>'\n",
      "Traceback (most recent call last):\n",
      "  File \"<ipython-input-1-d648b050eb9b>\", line 152, in tojson\n",
      "    tag = etree.QName(elem.tag)\n",
      "  File \"src/lxml/etree.pyx\", line 1835, in lxml.etree.QName.__init__\n",
      "  File \"src/lxml/apihelpers.pxi\", line 1680, in lxml.etree._tagValidOrRaise\n",
      "ValueError: Invalid tag name '<cyfunction Comment at 0x000001DB73381C80>'\n",
      "Traceback (most recent call last):\n",
      "  File \"<ipython-input-1-d648b050eb9b>\", line 152, in tojson\n",
      "    tag = etree.QName(elem.tag)\n",
      "  File \"src/lxml/etree.pyx\", line 1835, in lxml.etree.QName.__init__\n",
      "  File \"src/lxml/apihelpers.pxi\", line 1680, in lxml.etree._tagValidOrRaise\n",
      "ValueError: Invalid tag name '<cyfunction Comment at 0x000001DB73381C80>'\n",
      "Traceback (most recent call last):\n",
      "  File \"<ipython-input-1-d648b050eb9b>\", line 152, in tojson\n",
      "    tag = etree.QName(elem.tag)\n",
      "  File \"src/lxml/etree.pyx\", line 1835, in lxml.etree.QName.__init__\n",
      "  File \"src/lxml/apihelpers.pxi\", line 1680, in lxml.etree._tagValidOrRaise\n",
      "ValueError: Invalid tag name '<cyfunction Comment at 0x000001DB73381C80>'\n",
      "Traceback (most recent call last):\n",
      "  File \"<ipython-input-1-d648b050eb9b>\", line 152, in tojson\n",
      "    tag = etree.QName(elem.tag)\n",
      "  File \"src/lxml/etree.pyx\", line 1835, in lxml.etree.QName.__init__\n",
      "  File \"src/lxml/apihelpers.pxi\", line 1680, in lxml.etree._tagValidOrRaise\n",
      "ValueError: Invalid tag name '<cyfunction Comment at 0x000001DB73381C80>'\n",
      "Traceback (most recent call last):\n",
      "  File \"<ipython-input-1-d648b050eb9b>\", line 152, in tojson\n",
      "    tag = etree.QName(elem.tag)\n",
      "  File \"src/lxml/etree.pyx\", line 1835, in lxml.etree.QName.__init__\n",
      "  File \"src/lxml/apihelpers.pxi\", line 1680, in lxml.etree._tagValidOrRaise\n",
      "ValueError: Invalid tag name '<cyfunction Comment at 0x000001DB73381C80>'\n",
      "Traceback (most recent call last):\n",
      "  File \"<ipython-input-1-d648b050eb9b>\", line 152, in tojson\n",
      "    tag = etree.QName(elem.tag)\n",
      "  File \"src/lxml/etree.pyx\", line 1835, in lxml.etree.QName.__init__\n",
      "  File \"src/lxml/apihelpers.pxi\", line 1680, in lxml.etree._tagValidOrRaise\n",
      "ValueError: Invalid tag name '<cyfunction Comment at 0x000001DB73381C80>'\n",
      "Traceback (most recent call last):\n",
      "  File \"<ipython-input-1-d648b050eb9b>\", line 152, in tojson\n",
      "    tag = etree.QName(elem.tag)\n",
      "  File \"src/lxml/etree.pyx\", line 1835, in lxml.etree.QName.__init__\n",
      "  File \"src/lxml/apihelpers.pxi\", line 1680, in lxml.etree._tagValidOrRaise\n",
      "ValueError: Invalid tag name '<cyfunction Comment at 0x000001DB73381C80>'\n",
      "Traceback (most recent call last):\n",
      "  File \"<ipython-input-1-d648b050eb9b>\", line 152, in tojson\n",
      "    tag = etree.QName(elem.tag)\n",
      "  File \"src/lxml/etree.pyx\", line 1835, in lxml.etree.QName.__init__\n",
      "  File \"src/lxml/apihelpers.pxi\", line 1680, in lxml.etree._tagValidOrRaise\n",
      "ValueError: Invalid tag name '<cyfunction Comment at 0x000001DB73381C80>'\n",
      "Traceback (most recent call last):\n",
      "  File \"<ipython-input-1-d648b050eb9b>\", line 152, in tojson\n",
      "    tag = etree.QName(elem.tag)\n",
      "  File \"src/lxml/etree.pyx\", line 1835, in lxml.etree.QName.__init__\n",
      "  File \"src/lxml/apihelpers.pxi\", line 1680, in lxml.etree._tagValidOrRaise\n",
      "ValueError: Invalid tag name '<cyfunction Comment at 0x000001DB73381C80>'\n",
      "Traceback (most recent call last):\n",
      "  File \"<ipython-input-1-d648b050eb9b>\", line 152, in tojson\n",
      "    tag = etree.QName(elem.tag)\n",
      "  File \"src/lxml/etree.pyx\", line 1835, in lxml.etree.QName.__init__\n",
      "  File \"src/lxml/apihelpers.pxi\", line 1680, in lxml.etree._tagValidOrRaise\n",
      "ValueError: Invalid tag name '<cyfunction Comment at 0x000001DB73381C80>'\n",
      "Traceback (most recent call last):\n",
      "  File \"<ipython-input-1-d648b050eb9b>\", line 152, in tojson\n",
      "    tag = etree.QName(elem.tag)\n",
      "  File \"src/lxml/etree.pyx\", line 1835, in lxml.etree.QName.__init__\n",
      "  File \"src/lxml/apihelpers.pxi\", line 1680, in lxml.etree._tagValidOrRaise\n",
      "ValueError: Invalid tag name '<cyfunction Comment at 0x000001DB73381C80>'\n",
      "Traceback (most recent call last):\n",
      "  File \"<ipython-input-1-d648b050eb9b>\", line 152, in tojson\n",
      "    tag = etree.QName(elem.tag)\n",
      "  File \"src/lxml/etree.pyx\", line 1835, in lxml.etree.QName.__init__\n",
      "  File \"src/lxml/apihelpers.pxi\", line 1680, in lxml.etree._tagValidOrRaise\n",
      "ValueError: Invalid tag name '<cyfunction Comment at 0x000001DB73381C80>'\n",
      "Traceback (most recent call last):\n",
      "  File \"<ipython-input-1-d648b050eb9b>\", line 152, in tojson\n",
      "    tag = etree.QName(elem.tag)\n",
      "  File \"src/lxml/etree.pyx\", line 1835, in lxml.etree.QName.__init__\n",
      "  File \"src/lxml/apihelpers.pxi\", line 1680, in lxml.etree._tagValidOrRaise\n",
      "ValueError: Invalid tag name '<cyfunction Comment at 0x000001DB73381C80>'\n",
      "Traceback (most recent call last):\n",
      "  File \"<ipython-input-1-d648b050eb9b>\", line 152, in tojson\n",
      "    tag = etree.QName(elem.tag)\n",
      "  File \"src/lxml/etree.pyx\", line 1835, in lxml.etree.QName.__init__\n",
      "  File \"src/lxml/apihelpers.pxi\", line 1680, in lxml.etree._tagValidOrRaise\n",
      "ValueError: Invalid tag name '<cyfunction Comment at 0x000001DB73381C80>'\n",
      "Traceback (most recent call last):\n",
      "  File \"<ipython-input-1-d648b050eb9b>\", line 152, in tojson\n",
      "    tag = etree.QName(elem.tag)\n",
      "  File \"src/lxml/etree.pyx\", line 1835, in lxml.etree.QName.__init__\n",
      "  File \"src/lxml/apihelpers.pxi\", line 1680, in lxml.etree._tagValidOrRaise\n",
      "ValueError: Invalid tag name '<cyfunction Comment at 0x000001DB73381C80>'\n",
      "Traceback (most recent call last):\n",
      "  File \"<ipython-input-1-d648b050eb9b>\", line 152, in tojson\n",
      "    tag = etree.QName(elem.tag)\n",
      "  File \"src/lxml/etree.pyx\", line 1835, in lxml.etree.QName.__init__\n",
      "  File \"src/lxml/apihelpers.pxi\", line 1680, in lxml.etree._tagValidOrRaise\n",
      "ValueError: Invalid tag name '<cyfunction Comment at 0x000001DB73381C80>'\n",
      "Traceback (most recent call last):\n",
      "  File \"<ipython-input-1-d648b050eb9b>\", line 152, in tojson\n",
      "    tag = etree.QName(elem.tag)\n",
      "  File \"src/lxml/etree.pyx\", line 1835, in lxml.etree.QName.__init__\n",
      "  File \"src/lxml/apihelpers.pxi\", line 1680, in lxml.etree._tagValidOrRaise\n",
      "ValueError: Invalid tag name '<cyfunction Comment at 0x000001DB73381C80>'\n",
      "Traceback (most recent call last):\n",
      "  File \"<ipython-input-1-d648b050eb9b>\", line 152, in tojson\n",
      "    tag = etree.QName(elem.tag)\n",
      "  File \"src/lxml/etree.pyx\", line 1835, in lxml.etree.QName.__init__\n",
      "  File \"src/lxml/apihelpers.pxi\", line 1680, in lxml.etree._tagValidOrRaise\n",
      "ValueError: Invalid tag name '<cyfunction Comment at 0x000001DB73381C80>'\n",
      "Traceback (most recent call last):\n",
      "  File \"<ipython-input-1-d648b050eb9b>\", line 152, in tojson\n",
      "    tag = etree.QName(elem.tag)\n",
      "  File \"src/lxml/etree.pyx\", line 1835, in lxml.etree.QName.__init__\n",
      "  File \"src/lxml/apihelpers.pxi\", line 1680, in lxml.etree._tagValidOrRaise\n",
      "ValueError: Invalid tag name '<cyfunction Comment at 0x000001DB73381C80>'\n",
      "Traceback (most recent call last):\n",
      "  File \"<ipython-input-1-d648b050eb9b>\", line 152, in tojson\n",
      "    tag = etree.QName(elem.tag)\n",
      "  File \"src/lxml/etree.pyx\", line 1835, in lxml.etree.QName.__init__\n",
      "  File \"src/lxml/apihelpers.pxi\", line 1680, in lxml.etree._tagValidOrRaise\n",
      "ValueError: Invalid tag name '<cyfunction Comment at 0x000001DB73381C80>'\n",
      "Traceback (most recent call last):\n",
      "  File \"<ipython-input-1-d648b050eb9b>\", line 152, in tojson\n",
      "    tag = etree.QName(elem.tag)\n",
      "  File \"src/lxml/etree.pyx\", line 1835, in lxml.etree.QName.__init__\n",
      "  File \"src/lxml/apihelpers.pxi\", line 1680, in lxml.etree._tagValidOrRaise\n",
      "ValueError: Invalid tag name '<cyfunction Comment at 0x000001DB73381C80>'\n"
     ]
    },
    {
     "name": "stderr",
     "output_type": "stream",
     "text": [
      "Traceback (most recent call last):\n",
      "  File \"<ipython-input-1-d648b050eb9b>\", line 152, in tojson\n",
      "    tag = etree.QName(elem.tag)\n",
      "  File \"src/lxml/etree.pyx\", line 1835, in lxml.etree.QName.__init__\n",
      "  File \"src/lxml/apihelpers.pxi\", line 1680, in lxml.etree._tagValidOrRaise\n",
      "ValueError: Invalid tag name '<cyfunction Comment at 0x000001DB73381C80>'\n",
      "Traceback (most recent call last):\n",
      "  File \"<ipython-input-1-d648b050eb9b>\", line 152, in tojson\n",
      "    tag = etree.QName(elem.tag)\n",
      "  File \"src/lxml/etree.pyx\", line 1835, in lxml.etree.QName.__init__\n",
      "  File \"src/lxml/apihelpers.pxi\", line 1680, in lxml.etree._tagValidOrRaise\n",
      "ValueError: Invalid tag name '<cyfunction Comment at 0x000001DB73381C80>'\n",
      "Traceback (most recent call last):\n",
      "  File \"<ipython-input-1-d648b050eb9b>\", line 152, in tojson\n",
      "    tag = etree.QName(elem.tag)\n",
      "  File \"src/lxml/etree.pyx\", line 1835, in lxml.etree.QName.__init__\n",
      "  File \"src/lxml/apihelpers.pxi\", line 1680, in lxml.etree._tagValidOrRaise\n",
      "ValueError: Invalid tag name '<cyfunction Comment at 0x000001DB73381C80>'\n",
      "Traceback (most recent call last):\n",
      "  File \"<ipython-input-1-d648b050eb9b>\", line 152, in tojson\n",
      "    tag = etree.QName(elem.tag)\n",
      "  File \"src/lxml/etree.pyx\", line 1835, in lxml.etree.QName.__init__\n",
      "  File \"src/lxml/apihelpers.pxi\", line 1680, in lxml.etree._tagValidOrRaise\n",
      "ValueError: Invalid tag name '<cyfunction Comment at 0x000001DB73381C80>'\n",
      "Traceback (most recent call last):\n",
      "  File \"<ipython-input-1-d648b050eb9b>\", line 152, in tojson\n",
      "    tag = etree.QName(elem.tag)\n",
      "  File \"src/lxml/etree.pyx\", line 1835, in lxml.etree.QName.__init__\n",
      "  File \"src/lxml/apihelpers.pxi\", line 1680, in lxml.etree._tagValidOrRaise\n",
      "ValueError: Invalid tag name '<cyfunction Comment at 0x000001DB73381C80>'\n",
      "Traceback (most recent call last):\n",
      "  File \"<ipython-input-1-d648b050eb9b>\", line 152, in tojson\n",
      "    tag = etree.QName(elem.tag)\n",
      "  File \"src/lxml/etree.pyx\", line 1835, in lxml.etree.QName.__init__\n",
      "  File \"src/lxml/apihelpers.pxi\", line 1680, in lxml.etree._tagValidOrRaise\n",
      "ValueError: Invalid tag name '<cyfunction Comment at 0x000001DB73381C80>'\n",
      "Traceback (most recent call last):\n",
      "  File \"<ipython-input-1-d648b050eb9b>\", line 152, in tojson\n",
      "    tag = etree.QName(elem.tag)\n",
      "  File \"src/lxml/etree.pyx\", line 1835, in lxml.etree.QName.__init__\n",
      "  File \"src/lxml/apihelpers.pxi\", line 1680, in lxml.etree._tagValidOrRaise\n",
      "ValueError: Invalid tag name '<cyfunction Comment at 0x000001DB73381C80>'\n",
      "Traceback (most recent call last):\n",
      "  File \"<ipython-input-1-d648b050eb9b>\", line 152, in tojson\n",
      "    tag = etree.QName(elem.tag)\n",
      "  File \"src/lxml/etree.pyx\", line 1835, in lxml.etree.QName.__init__\n",
      "  File \"src/lxml/apihelpers.pxi\", line 1680, in lxml.etree._tagValidOrRaise\n",
      "ValueError: Invalid tag name '<cyfunction Comment at 0x000001DB73381C80>'\n",
      "Traceback (most recent call last):\n",
      "  File \"<ipython-input-1-d648b050eb9b>\", line 152, in tojson\n",
      "    tag = etree.QName(elem.tag)\n",
      "  File \"src/lxml/etree.pyx\", line 1835, in lxml.etree.QName.__init__\n",
      "  File \"src/lxml/apihelpers.pxi\", line 1680, in lxml.etree._tagValidOrRaise\n",
      "ValueError: Invalid tag name '<cyfunction Comment at 0x000001DB73381C80>'\n",
      "Traceback (most recent call last):\n",
      "  File \"<ipython-input-1-d648b050eb9b>\", line 152, in tojson\n",
      "    tag = etree.QName(elem.tag)\n",
      "  File \"src/lxml/etree.pyx\", line 1835, in lxml.etree.QName.__init__\n",
      "  File \"src/lxml/apihelpers.pxi\", line 1680, in lxml.etree._tagValidOrRaise\n",
      "ValueError: Invalid tag name '<cyfunction Comment at 0x000001DB73381C80>'\n",
      "Traceback (most recent call last):\n",
      "  File \"<ipython-input-1-d648b050eb9b>\", line 152, in tojson\n",
      "    tag = etree.QName(elem.tag)\n",
      "  File \"src/lxml/etree.pyx\", line 1835, in lxml.etree.QName.__init__\n",
      "  File \"src/lxml/apihelpers.pxi\", line 1680, in lxml.etree._tagValidOrRaise\n",
      "ValueError: Invalid tag name '<cyfunction Comment at 0x000001DB73381C80>'\n",
      "Traceback (most recent call last):\n",
      "  File \"<ipython-input-1-d648b050eb9b>\", line 152, in tojson\n",
      "    tag = etree.QName(elem.tag)\n",
      "  File \"src/lxml/etree.pyx\", line 1835, in lxml.etree.QName.__init__\n",
      "  File \"src/lxml/apihelpers.pxi\", line 1680, in lxml.etree._tagValidOrRaise\n",
      "ValueError: Invalid tag name '<cyfunction Comment at 0x000001DB73381C80>'\n",
      "Traceback (most recent call last):\n",
      "  File \"<ipython-input-1-d648b050eb9b>\", line 152, in tojson\n",
      "    tag = etree.QName(elem.tag)\n",
      "  File \"src/lxml/etree.pyx\", line 1835, in lxml.etree.QName.__init__\n",
      "  File \"src/lxml/apihelpers.pxi\", line 1680, in lxml.etree._tagValidOrRaise\n",
      "ValueError: Invalid tag name '<cyfunction Comment at 0x000001DB73381C80>'\n",
      "Traceback (most recent call last):\n",
      "  File \"<ipython-input-1-d648b050eb9b>\", line 152, in tojson\n",
      "    tag = etree.QName(elem.tag)\n",
      "  File \"src/lxml/etree.pyx\", line 1835, in lxml.etree.QName.__init__\n",
      "  File \"src/lxml/apihelpers.pxi\", line 1680, in lxml.etree._tagValidOrRaise\n",
      "ValueError: Invalid tag name '<cyfunction Comment at 0x000001DB73381C80>'\n",
      "Traceback (most recent call last):\n",
      "  File \"<ipython-input-1-d648b050eb9b>\", line 152, in tojson\n",
      "    tag = etree.QName(elem.tag)\n",
      "  File \"src/lxml/etree.pyx\", line 1835, in lxml.etree.QName.__init__\n",
      "  File \"src/lxml/apihelpers.pxi\", line 1680, in lxml.etree._tagValidOrRaise\n",
      "ValueError: Invalid tag name '<cyfunction Comment at 0x000001DB73381C80>'\n",
      "Traceback (most recent call last):\n",
      "  File \"<ipython-input-1-d648b050eb9b>\", line 152, in tojson\n",
      "    tag = etree.QName(elem.tag)\n",
      "  File \"src/lxml/etree.pyx\", line 1835, in lxml.etree.QName.__init__\n",
      "  File \"src/lxml/apihelpers.pxi\", line 1680, in lxml.etree._tagValidOrRaise\n",
      "ValueError: Invalid tag name '<cyfunction Comment at 0x000001DB73381C80>'\n",
      "Traceback (most recent call last):\n",
      "  File \"<ipython-input-1-d648b050eb9b>\", line 152, in tojson\n",
      "    tag = etree.QName(elem.tag)\n",
      "  File \"src/lxml/etree.pyx\", line 1835, in lxml.etree.QName.__init__\n",
      "  File \"src/lxml/apihelpers.pxi\", line 1680, in lxml.etree._tagValidOrRaise\n",
      "ValueError: Invalid tag name '<cyfunction Comment at 0x000001DB73381C80>'\n",
      "Traceback (most recent call last):\n",
      "  File \"<ipython-input-1-d648b050eb9b>\", line 152, in tojson\n",
      "    tag = etree.QName(elem.tag)\n",
      "  File \"src/lxml/etree.pyx\", line 1835, in lxml.etree.QName.__init__\n",
      "  File \"src/lxml/apihelpers.pxi\", line 1680, in lxml.etree._tagValidOrRaise\n",
      "ValueError: Invalid tag name '<cyfunction Comment at 0x000001DB73381C80>'\n",
      "Traceback (most recent call last):\n",
      "  File \"<ipython-input-1-d648b050eb9b>\", line 152, in tojson\n",
      "    tag = etree.QName(elem.tag)\n",
      "  File \"src/lxml/etree.pyx\", line 1835, in lxml.etree.QName.__init__\n",
      "  File \"src/lxml/apihelpers.pxi\", line 1680, in lxml.etree._tagValidOrRaise\n",
      "ValueError: Invalid tag name '<cyfunction Comment at 0x000001DB73381C80>'\n",
      "Traceback (most recent call last):\n",
      "  File \"<ipython-input-1-d648b050eb9b>\", line 152, in tojson\n",
      "    tag = etree.QName(elem.tag)\n",
      "  File \"src/lxml/etree.pyx\", line 1835, in lxml.etree.QName.__init__\n",
      "  File \"src/lxml/apihelpers.pxi\", line 1680, in lxml.etree._tagValidOrRaise\n",
      "ValueError: Invalid tag name '<cyfunction Comment at 0x000001DB73381C80>'\n",
      "Traceback (most recent call last):\n",
      "  File \"<ipython-input-1-d648b050eb9b>\", line 152, in tojson\n",
      "    tag = etree.QName(elem.tag)\n",
      "  File \"src/lxml/etree.pyx\", line 1835, in lxml.etree.QName.__init__\n",
      "  File \"src/lxml/apihelpers.pxi\", line 1680, in lxml.etree._tagValidOrRaise\n",
      "ValueError: Invalid tag name '<cyfunction Comment at 0x000001DB73381C80>'\n",
      "Traceback (most recent call last):\n",
      "  File \"<ipython-input-1-d648b050eb9b>\", line 152, in tojson\n",
      "    tag = etree.QName(elem.tag)\n",
      "  File \"src/lxml/etree.pyx\", line 1835, in lxml.etree.QName.__init__\n",
      "  File \"src/lxml/apihelpers.pxi\", line 1680, in lxml.etree._tagValidOrRaise\n",
      "ValueError: Invalid tag name '<cyfunction Comment at 0x000001DB73381C80>'\n",
      "Traceback (most recent call last):\n",
      "  File \"<ipython-input-1-d648b050eb9b>\", line 152, in tojson\n",
      "    tag = etree.QName(elem.tag)\n",
      "  File \"src/lxml/etree.pyx\", line 1835, in lxml.etree.QName.__init__\n",
      "  File \"src/lxml/apihelpers.pxi\", line 1680, in lxml.etree._tagValidOrRaise\n",
      "ValueError: Invalid tag name '<cyfunction Comment at 0x000001DB73381C80>'\n",
      "Traceback (most recent call last):\n",
      "  File \"<ipython-input-1-d648b050eb9b>\", line 152, in tojson\n",
      "    tag = etree.QName(elem.tag)\n",
      "  File \"src/lxml/etree.pyx\", line 1835, in lxml.etree.QName.__init__\n",
      "  File \"src/lxml/apihelpers.pxi\", line 1680, in lxml.etree._tagValidOrRaise\n"
     ]
    },
    {
     "name": "stderr",
     "output_type": "stream",
     "text": [
      "ValueError: Invalid tag name '<cyfunction Comment at 0x000001DB73381C80>'\n",
      "Traceback (most recent call last):\n",
      "  File \"<ipython-input-1-d648b050eb9b>\", line 152, in tojson\n",
      "    tag = etree.QName(elem.tag)\n",
      "  File \"src/lxml/etree.pyx\", line 1835, in lxml.etree.QName.__init__\n",
      "  File \"src/lxml/apihelpers.pxi\", line 1680, in lxml.etree._tagValidOrRaise\n",
      "ValueError: Invalid tag name '<cyfunction Comment at 0x000001DB73381C80>'\n",
      "Traceback (most recent call last):\n",
      "  File \"<ipython-input-1-d648b050eb9b>\", line 152, in tojson\n",
      "    tag = etree.QName(elem.tag)\n",
      "  File \"src/lxml/etree.pyx\", line 1835, in lxml.etree.QName.__init__\n",
      "  File \"src/lxml/apihelpers.pxi\", line 1680, in lxml.etree._tagValidOrRaise\n",
      "ValueError: Invalid tag name '<cyfunction Comment at 0x000001DB73381C80>'\n",
      "Traceback (most recent call last):\n",
      "  File \"<ipython-input-1-d648b050eb9b>\", line 152, in tojson\n",
      "    tag = etree.QName(elem.tag)\n",
      "  File \"src/lxml/etree.pyx\", line 1835, in lxml.etree.QName.__init__\n",
      "  File \"src/lxml/apihelpers.pxi\", line 1680, in lxml.etree._tagValidOrRaise\n",
      "ValueError: Invalid tag name '<cyfunction Comment at 0x000001DB73381C80>'\n",
      "Traceback (most recent call last):\n",
      "  File \"<ipython-input-1-d648b050eb9b>\", line 152, in tojson\n",
      "    tag = etree.QName(elem.tag)\n",
      "  File \"src/lxml/etree.pyx\", line 1835, in lxml.etree.QName.__init__\n",
      "  File \"src/lxml/apihelpers.pxi\", line 1680, in lxml.etree._tagValidOrRaise\n",
      "ValueError: Invalid tag name '<cyfunction Comment at 0x000001DB73381C80>'\n",
      "Traceback (most recent call last):\n",
      "  File \"<ipython-input-1-d648b050eb9b>\", line 152, in tojson\n",
      "    tag = etree.QName(elem.tag)\n",
      "  File \"src/lxml/etree.pyx\", line 1835, in lxml.etree.QName.__init__\n",
      "  File \"src/lxml/apihelpers.pxi\", line 1680, in lxml.etree._tagValidOrRaise\n",
      "ValueError: Invalid tag name '<cyfunction Comment at 0x000001DB73381C80>'\n",
      "Traceback (most recent call last):\n",
      "  File \"<ipython-input-1-d648b050eb9b>\", line 152, in tojson\n",
      "    tag = etree.QName(elem.tag)\n",
      "  File \"src/lxml/etree.pyx\", line 1835, in lxml.etree.QName.__init__\n",
      "  File \"src/lxml/apihelpers.pxi\", line 1680, in lxml.etree._tagValidOrRaise\n",
      "ValueError: Invalid tag name '<cyfunction Comment at 0x000001DB73381C80>'\n",
      "Traceback (most recent call last):\n",
      "  File \"<ipython-input-1-d648b050eb9b>\", line 152, in tojson\n",
      "    tag = etree.QName(elem.tag)\n",
      "  File \"src/lxml/etree.pyx\", line 1835, in lxml.etree.QName.__init__\n",
      "  File \"src/lxml/apihelpers.pxi\", line 1680, in lxml.etree._tagValidOrRaise\n",
      "ValueError: Invalid tag name '<cyfunction Comment at 0x000001DB73381C80>'\n",
      "Traceback (most recent call last):\n",
      "  File \"<ipython-input-1-d648b050eb9b>\", line 152, in tojson\n",
      "    tag = etree.QName(elem.tag)\n",
      "  File \"src/lxml/etree.pyx\", line 1835, in lxml.etree.QName.__init__\n",
      "  File \"src/lxml/apihelpers.pxi\", line 1680, in lxml.etree._tagValidOrRaise\n",
      "ValueError: Invalid tag name '<cyfunction Comment at 0x000001DB73381C80>'\n",
      "Traceback (most recent call last):\n",
      "  File \"<ipython-input-1-d648b050eb9b>\", line 152, in tojson\n",
      "    tag = etree.QName(elem.tag)\n",
      "  File \"src/lxml/etree.pyx\", line 1835, in lxml.etree.QName.__init__\n",
      "  File \"src/lxml/apihelpers.pxi\", line 1680, in lxml.etree._tagValidOrRaise\n",
      "ValueError: Invalid tag name '<cyfunction Comment at 0x000001DB73381C80>'\n",
      "Traceback (most recent call last):\n",
      "  File \"<ipython-input-1-d648b050eb9b>\", line 152, in tojson\n",
      "    tag = etree.QName(elem.tag)\n",
      "  File \"src/lxml/etree.pyx\", line 1835, in lxml.etree.QName.__init__\n",
      "  File \"src/lxml/apihelpers.pxi\", line 1680, in lxml.etree._tagValidOrRaise\n",
      "ValueError: Invalid tag name '<cyfunction Comment at 0x000001DB73381C80>'\n",
      "Traceback (most recent call last):\n",
      "  File \"<ipython-input-1-d648b050eb9b>\", line 152, in tojson\n",
      "    tag = etree.QName(elem.tag)\n",
      "  File \"src/lxml/etree.pyx\", line 1835, in lxml.etree.QName.__init__\n",
      "  File \"src/lxml/apihelpers.pxi\", line 1680, in lxml.etree._tagValidOrRaise\n",
      "ValueError: Invalid tag name '<cyfunction Comment at 0x000001DB73381C80>'\n",
      "Traceback (most recent call last):\n",
      "  File \"<ipython-input-1-d648b050eb9b>\", line 152, in tojson\n",
      "    tag = etree.QName(elem.tag)\n",
      "  File \"src/lxml/etree.pyx\", line 1835, in lxml.etree.QName.__init__\n",
      "  File \"src/lxml/apihelpers.pxi\", line 1680, in lxml.etree._tagValidOrRaise\n",
      "ValueError: Invalid tag name '<cyfunction Comment at 0x000001DB73381C80>'\n",
      "Traceback (most recent call last):\n",
      "  File \"<ipython-input-1-d648b050eb9b>\", line 152, in tojson\n",
      "    tag = etree.QName(elem.tag)\n",
      "  File \"src/lxml/etree.pyx\", line 1835, in lxml.etree.QName.__init__\n",
      "  File \"src/lxml/apihelpers.pxi\", line 1680, in lxml.etree._tagValidOrRaise\n",
      "ValueError: Invalid tag name '<cyfunction Comment at 0x000001DB73381C80>'\n",
      "Traceback (most recent call last):\n",
      "  File \"<ipython-input-1-d648b050eb9b>\", line 152, in tojson\n",
      "    tag = etree.QName(elem.tag)\n",
      "  File \"src/lxml/etree.pyx\", line 1835, in lxml.etree.QName.__init__\n",
      "  File \"src/lxml/apihelpers.pxi\", line 1680, in lxml.etree._tagValidOrRaise\n",
      "ValueError: Invalid tag name '<cyfunction Comment at 0x000001DB73381C80>'\n",
      "Traceback (most recent call last):\n",
      "  File \"<ipython-input-1-d648b050eb9b>\", line 152, in tojson\n",
      "    tag = etree.QName(elem.tag)\n",
      "  File \"src/lxml/etree.pyx\", line 1835, in lxml.etree.QName.__init__\n",
      "  File \"src/lxml/apihelpers.pxi\", line 1680, in lxml.etree._tagValidOrRaise\n",
      "ValueError: Invalid tag name '<cyfunction Comment at 0x000001DB73381C80>'\n",
      "Traceback (most recent call last):\n",
      "  File \"<ipython-input-1-d648b050eb9b>\", line 152, in tojson\n",
      "    tag = etree.QName(elem.tag)\n",
      "  File \"src/lxml/etree.pyx\", line 1835, in lxml.etree.QName.__init__\n",
      "  File \"src/lxml/apihelpers.pxi\", line 1680, in lxml.etree._tagValidOrRaise\n",
      "ValueError: Invalid tag name '<cyfunction Comment at 0x000001DB73381C80>'\n",
      "Traceback (most recent call last):\n",
      "  File \"<ipython-input-1-d648b050eb9b>\", line 152, in tojson\n",
      "    tag = etree.QName(elem.tag)\n",
      "  File \"src/lxml/etree.pyx\", line 1835, in lxml.etree.QName.__init__\n",
      "  File \"src/lxml/apihelpers.pxi\", line 1680, in lxml.etree._tagValidOrRaise\n",
      "ValueError: Invalid tag name '<cyfunction Comment at 0x000001DB73381C80>'\n",
      "Traceback (most recent call last):\n",
      "  File \"<ipython-input-1-d648b050eb9b>\", line 152, in tojson\n",
      "    tag = etree.QName(elem.tag)\n",
      "  File \"src/lxml/etree.pyx\", line 1835, in lxml.etree.QName.__init__\n",
      "  File \"src/lxml/apihelpers.pxi\", line 1680, in lxml.etree._tagValidOrRaise\n",
      "ValueError: Invalid tag name '<cyfunction Comment at 0x000001DB73381C80>'\n",
      "Traceback (most recent call last):\n",
      "  File \"<ipython-input-1-d648b050eb9b>\", line 152, in tojson\n",
      "    tag = etree.QName(elem.tag)\n",
      "  File \"src/lxml/etree.pyx\", line 1835, in lxml.etree.QName.__init__\n",
      "  File \"src/lxml/apihelpers.pxi\", line 1680, in lxml.etree._tagValidOrRaise\n",
      "ValueError: Invalid tag name '<cyfunction Comment at 0x000001DB73381C80>'\n",
      "Traceback (most recent call last):\n",
      "  File \"<ipython-input-1-d648b050eb9b>\", line 152, in tojson\n",
      "    tag = etree.QName(elem.tag)\n",
      "  File \"src/lxml/etree.pyx\", line 1835, in lxml.etree.QName.__init__\n",
      "  File \"src/lxml/apihelpers.pxi\", line 1680, in lxml.etree._tagValidOrRaise\n",
      "ValueError: Invalid tag name '<cyfunction Comment at 0x000001DB73381C80>'\n",
      "Traceback (most recent call last):\n",
      "  File \"<ipython-input-1-d648b050eb9b>\", line 152, in tojson\n",
      "    tag = etree.QName(elem.tag)\n",
      "  File \"src/lxml/etree.pyx\", line 1835, in lxml.etree.QName.__init__\n",
      "  File \"src/lxml/apihelpers.pxi\", line 1680, in lxml.etree._tagValidOrRaise\n",
      "ValueError: Invalid tag name '<cyfunction Comment at 0x000001DB73381C80>'\n",
      "Traceback (most recent call last):\n",
      "  File \"<ipython-input-1-d648b050eb9b>\", line 152, in tojson\n",
      "    tag = etree.QName(elem.tag)\n",
      "  File \"src/lxml/etree.pyx\", line 1835, in lxml.etree.QName.__init__\n",
      "  File \"src/lxml/apihelpers.pxi\", line 1680, in lxml.etree._tagValidOrRaise\n",
      "ValueError: Invalid tag name '<cyfunction Comment at 0x000001DB73381C80>'\n",
      "Traceback (most recent call last):\n",
      "  File \"<ipython-input-1-d648b050eb9b>\", line 152, in tojson\n",
      "    tag = etree.QName(elem.tag)\n",
      "  File \"src/lxml/etree.pyx\", line 1835, in lxml.etree.QName.__init__\n",
      "  File \"src/lxml/apihelpers.pxi\", line 1680, in lxml.etree._tagValidOrRaise\n",
      "ValueError: Invalid tag name '<cyfunction Comment at 0x000001DB73381C80>'\n",
      "Traceback (most recent call last):\n",
      "  File \"<ipython-input-1-d648b050eb9b>\", line 152, in tojson\n",
      "    tag = etree.QName(elem.tag)\n",
      "  File \"src/lxml/etree.pyx\", line 1835, in lxml.etree.QName.__init__\n"
     ]
    },
    {
     "name": "stderr",
     "output_type": "stream",
     "text": [
      "  File \"src/lxml/apihelpers.pxi\", line 1680, in lxml.etree._tagValidOrRaise\n",
      "ValueError: Invalid tag name '<cyfunction Comment at 0x000001DB73381C80>'\n",
      "Traceback (most recent call last):\n",
      "  File \"<ipython-input-1-d648b050eb9b>\", line 152, in tojson\n",
      "    tag = etree.QName(elem.tag)\n",
      "  File \"src/lxml/etree.pyx\", line 1835, in lxml.etree.QName.__init__\n",
      "  File \"src/lxml/apihelpers.pxi\", line 1680, in lxml.etree._tagValidOrRaise\n",
      "ValueError: Invalid tag name '<cyfunction Comment at 0x000001DB73381C80>'\n",
      "Traceback (most recent call last):\n",
      "  File \"<ipython-input-1-d648b050eb9b>\", line 152, in tojson\n",
      "    tag = etree.QName(elem.tag)\n",
      "  File \"src/lxml/etree.pyx\", line 1835, in lxml.etree.QName.__init__\n",
      "  File \"src/lxml/apihelpers.pxi\", line 1680, in lxml.etree._tagValidOrRaise\n",
      "ValueError: Invalid tag name '<cyfunction Comment at 0x000001DB73381C80>'\n",
      "Traceback (most recent call last):\n",
      "  File \"<ipython-input-1-d648b050eb9b>\", line 152, in tojson\n",
      "    tag = etree.QName(elem.tag)\n",
      "  File \"src/lxml/etree.pyx\", line 1835, in lxml.etree.QName.__init__\n",
      "  File \"src/lxml/apihelpers.pxi\", line 1680, in lxml.etree._tagValidOrRaise\n",
      "ValueError: Invalid tag name '<cyfunction Comment at 0x000001DB73381C80>'\n",
      "Traceback (most recent call last):\n",
      "  File \"<ipython-input-1-d648b050eb9b>\", line 152, in tojson\n",
      "    tag = etree.QName(elem.tag)\n",
      "  File \"src/lxml/etree.pyx\", line 1835, in lxml.etree.QName.__init__\n",
      "  File \"src/lxml/apihelpers.pxi\", line 1680, in lxml.etree._tagValidOrRaise\n",
      "ValueError: Invalid tag name '<cyfunction Comment at 0x000001DB73381C80>'\n",
      "Traceback (most recent call last):\n",
      "  File \"<ipython-input-1-d648b050eb9b>\", line 152, in tojson\n",
      "    tag = etree.QName(elem.tag)\n",
      "  File \"src/lxml/etree.pyx\", line 1835, in lxml.etree.QName.__init__\n",
      "  File \"src/lxml/apihelpers.pxi\", line 1680, in lxml.etree._tagValidOrRaise\n",
      "ValueError: Invalid tag name '<cyfunction Comment at 0x000001DB73381C80>'\n",
      "Traceback (most recent call last):\n",
      "  File \"<ipython-input-1-d648b050eb9b>\", line 152, in tojson\n",
      "    tag = etree.QName(elem.tag)\n",
      "  File \"src/lxml/etree.pyx\", line 1835, in lxml.etree.QName.__init__\n",
      "  File \"src/lxml/apihelpers.pxi\", line 1680, in lxml.etree._tagValidOrRaise\n",
      "ValueError: Invalid tag name '<cyfunction Comment at 0x000001DB73381C80>'\n",
      "Traceback (most recent call last):\n",
      "  File \"<ipython-input-1-d648b050eb9b>\", line 152, in tojson\n",
      "    tag = etree.QName(elem.tag)\n",
      "  File \"src/lxml/etree.pyx\", line 1835, in lxml.etree.QName.__init__\n",
      "  File \"src/lxml/apihelpers.pxi\", line 1680, in lxml.etree._tagValidOrRaise\n",
      "ValueError: Invalid tag name '<cyfunction Comment at 0x000001DB73381C80>'\n",
      "Traceback (most recent call last):\n",
      "  File \"<ipython-input-1-d648b050eb9b>\", line 152, in tojson\n",
      "    tag = etree.QName(elem.tag)\n",
      "  File \"src/lxml/etree.pyx\", line 1835, in lxml.etree.QName.__init__\n",
      "  File \"src/lxml/apihelpers.pxi\", line 1680, in lxml.etree._tagValidOrRaise\n",
      "ValueError: Invalid tag name '<cyfunction Comment at 0x000001DB73381C80>'\n",
      "Traceback (most recent call last):\n",
      "  File \"<ipython-input-1-d648b050eb9b>\", line 152, in tojson\n",
      "    tag = etree.QName(elem.tag)\n",
      "  File \"src/lxml/etree.pyx\", line 1835, in lxml.etree.QName.__init__\n",
      "  File \"src/lxml/apihelpers.pxi\", line 1680, in lxml.etree._tagValidOrRaise\n",
      "ValueError: Invalid tag name '<cyfunction Comment at 0x000001DB73381C80>'\n",
      "Traceback (most recent call last):\n",
      "  File \"<ipython-input-1-d648b050eb9b>\", line 152, in tojson\n",
      "    tag = etree.QName(elem.tag)\n",
      "  File \"src/lxml/etree.pyx\", line 1835, in lxml.etree.QName.__init__\n",
      "  File \"src/lxml/apihelpers.pxi\", line 1680, in lxml.etree._tagValidOrRaise\n",
      "ValueError: Invalid tag name '<cyfunction Comment at 0x000001DB73381C80>'\n",
      "Traceback (most recent call last):\n",
      "  File \"<ipython-input-1-d648b050eb9b>\", line 152, in tojson\n",
      "    tag = etree.QName(elem.tag)\n",
      "  File \"src/lxml/etree.pyx\", line 1835, in lxml.etree.QName.__init__\n",
      "  File \"src/lxml/apihelpers.pxi\", line 1680, in lxml.etree._tagValidOrRaise\n",
      "ValueError: Invalid tag name '<cyfunction Comment at 0x000001DB73381C80>'\n",
      "Traceback (most recent call last):\n",
      "  File \"<ipython-input-1-d648b050eb9b>\", line 152, in tojson\n",
      "    tag = etree.QName(elem.tag)\n",
      "  File \"src/lxml/etree.pyx\", line 1835, in lxml.etree.QName.__init__\n",
      "  File \"src/lxml/apihelpers.pxi\", line 1680, in lxml.etree._tagValidOrRaise\n",
      "ValueError: Invalid tag name '<cyfunction Comment at 0x000001DB73381C80>'\n",
      "Traceback (most recent call last):\n",
      "  File \"<ipython-input-1-d648b050eb9b>\", line 152, in tojson\n",
      "    tag = etree.QName(elem.tag)\n",
      "  File \"src/lxml/etree.pyx\", line 1835, in lxml.etree.QName.__init__\n",
      "  File \"src/lxml/apihelpers.pxi\", line 1680, in lxml.etree._tagValidOrRaise\n",
      "ValueError: Invalid tag name '<cyfunction Comment at 0x000001DB73381C80>'\n",
      "Traceback (most recent call last):\n",
      "  File \"<ipython-input-1-d648b050eb9b>\", line 152, in tojson\n",
      "    tag = etree.QName(elem.tag)\n",
      "  File \"src/lxml/etree.pyx\", line 1835, in lxml.etree.QName.__init__\n",
      "  File \"src/lxml/apihelpers.pxi\", line 1680, in lxml.etree._tagValidOrRaise\n",
      "ValueError: Invalid tag name '<cyfunction Comment at 0x000001DB73381C80>'\n",
      "Traceback (most recent call last):\n",
      "  File \"<ipython-input-1-d648b050eb9b>\", line 152, in tojson\n",
      "    tag = etree.QName(elem.tag)\n",
      "  File \"src/lxml/etree.pyx\", line 1835, in lxml.etree.QName.__init__\n",
      "  File \"src/lxml/apihelpers.pxi\", line 1680, in lxml.etree._tagValidOrRaise\n",
      "ValueError: Invalid tag name '<cyfunction Comment at 0x000001DB73381C80>'\n",
      "Traceback (most recent call last):\n",
      "  File \"<ipython-input-1-d648b050eb9b>\", line 152, in tojson\n",
      "    tag = etree.QName(elem.tag)\n",
      "  File \"src/lxml/etree.pyx\", line 1835, in lxml.etree.QName.__init__\n",
      "  File \"src/lxml/apihelpers.pxi\", line 1680, in lxml.etree._tagValidOrRaise\n",
      "ValueError: Invalid tag name '<cyfunction Comment at 0x000001DB73381C80>'\n",
      "Traceback (most recent call last):\n",
      "  File \"<ipython-input-1-d648b050eb9b>\", line 152, in tojson\n",
      "    tag = etree.QName(elem.tag)\n",
      "  File \"src/lxml/etree.pyx\", line 1835, in lxml.etree.QName.__init__\n",
      "  File \"src/lxml/apihelpers.pxi\", line 1680, in lxml.etree._tagValidOrRaise\n",
      "ValueError: Invalid tag name '<cyfunction Comment at 0x000001DB73381C80>'\n",
      "Traceback (most recent call last):\n",
      "  File \"<ipython-input-1-d648b050eb9b>\", line 152, in tojson\n",
      "    tag = etree.QName(elem.tag)\n",
      "  File \"src/lxml/etree.pyx\", line 1835, in lxml.etree.QName.__init__\n",
      "  File \"src/lxml/apihelpers.pxi\", line 1680, in lxml.etree._tagValidOrRaise\n",
      "ValueError: Invalid tag name '<cyfunction Comment at 0x000001DB73381C80>'\n",
      "Traceback (most recent call last):\n",
      "  File \"<ipython-input-1-d648b050eb9b>\", line 152, in tojson\n",
      "    tag = etree.QName(elem.tag)\n",
      "  File \"src/lxml/etree.pyx\", line 1835, in lxml.etree.QName.__init__\n",
      "  File \"src/lxml/apihelpers.pxi\", line 1680, in lxml.etree._tagValidOrRaise\n",
      "ValueError: Invalid tag name '<cyfunction Comment at 0x000001DB73381C80>'\n",
      "Traceback (most recent call last):\n",
      "  File \"<ipython-input-1-d648b050eb9b>\", line 152, in tojson\n",
      "    tag = etree.QName(elem.tag)\n",
      "  File \"src/lxml/etree.pyx\", line 1835, in lxml.etree.QName.__init__\n",
      "  File \"src/lxml/apihelpers.pxi\", line 1680, in lxml.etree._tagValidOrRaise\n",
      "ValueError: Invalid tag name '<cyfunction Comment at 0x000001DB73381C80>'\n",
      "Traceback (most recent call last):\n",
      "  File \"<ipython-input-1-d648b050eb9b>\", line 152, in tojson\n",
      "    tag = etree.QName(elem.tag)\n",
      "  File \"src/lxml/etree.pyx\", line 1835, in lxml.etree.QName.__init__\n",
      "  File \"src/lxml/apihelpers.pxi\", line 1680, in lxml.etree._tagValidOrRaise\n",
      "ValueError: Invalid tag name '<cyfunction Comment at 0x000001DB73381C80>'\n",
      "Traceback (most recent call last):\n",
      "  File \"<ipython-input-1-d648b050eb9b>\", line 152, in tojson\n",
      "    tag = etree.QName(elem.tag)\n",
      "  File \"src/lxml/etree.pyx\", line 1835, in lxml.etree.QName.__init__\n",
      "  File \"src/lxml/apihelpers.pxi\", line 1680, in lxml.etree._tagValidOrRaise\n",
      "ValueError: Invalid tag name '<cyfunction Comment at 0x000001DB73381C80>'\n",
      "Traceback (most recent call last):\n",
      "  File \"<ipython-input-1-d648b050eb9b>\", line 152, in tojson\n",
      "    tag = etree.QName(elem.tag)\n",
      "  File \"src/lxml/etree.pyx\", line 1835, in lxml.etree.QName.__init__\n",
      "  File \"src/lxml/apihelpers.pxi\", line 1680, in lxml.etree._tagValidOrRaise\n",
      "ValueError: Invalid tag name '<cyfunction Comment at 0x000001DB73381C80>'\n",
      "Traceback (most recent call last):\n",
      "  File \"<ipython-input-1-d648b050eb9b>\", line 152, in tojson\n",
      "    tag = etree.QName(elem.tag)\n"
     ]
    },
    {
     "name": "stderr",
     "output_type": "stream",
     "text": [
      "  File \"src/lxml/etree.pyx\", line 1835, in lxml.etree.QName.__init__\n",
      "  File \"src/lxml/apihelpers.pxi\", line 1680, in lxml.etree._tagValidOrRaise\n",
      "ValueError: Invalid tag name '<cyfunction Comment at 0x000001DB73381C80>'\n",
      "Traceback (most recent call last):\n",
      "  File \"<ipython-input-1-d648b050eb9b>\", line 152, in tojson\n",
      "    tag = etree.QName(elem.tag)\n",
      "  File \"src/lxml/etree.pyx\", line 1835, in lxml.etree.QName.__init__\n",
      "  File \"src/lxml/apihelpers.pxi\", line 1680, in lxml.etree._tagValidOrRaise\n",
      "ValueError: Invalid tag name '<cyfunction Comment at 0x000001DB73381C80>'\n",
      "Traceback (most recent call last):\n",
      "  File \"<ipython-input-1-d648b050eb9b>\", line 152, in tojson\n",
      "    tag = etree.QName(elem.tag)\n",
      "  File \"src/lxml/etree.pyx\", line 1835, in lxml.etree.QName.__init__\n",
      "  File \"src/lxml/apihelpers.pxi\", line 1680, in lxml.etree._tagValidOrRaise\n",
      "ValueError: Invalid tag name '<cyfunction Comment at 0x000001DB73381C80>'\n",
      "Traceback (most recent call last):\n",
      "  File \"<ipython-input-1-d648b050eb9b>\", line 152, in tojson\n",
      "    tag = etree.QName(elem.tag)\n",
      "  File \"src/lxml/etree.pyx\", line 1835, in lxml.etree.QName.__init__\n",
      "  File \"src/lxml/apihelpers.pxi\", line 1680, in lxml.etree._tagValidOrRaise\n",
      "ValueError: Invalid tag name '<cyfunction Comment at 0x000001DB73381C80>'\n",
      "Traceback (most recent call last):\n",
      "  File \"<ipython-input-1-d648b050eb9b>\", line 152, in tojson\n",
      "    tag = etree.QName(elem.tag)\n",
      "  File \"src/lxml/etree.pyx\", line 1835, in lxml.etree.QName.__init__\n",
      "  File \"src/lxml/apihelpers.pxi\", line 1680, in lxml.etree._tagValidOrRaise\n",
      "ValueError: Invalid tag name '<cyfunction Comment at 0x000001DB73381C80>'\n",
      "Traceback (most recent call last):\n",
      "  File \"<ipython-input-1-d648b050eb9b>\", line 152, in tojson\n",
      "    tag = etree.QName(elem.tag)\n",
      "  File \"src/lxml/etree.pyx\", line 1835, in lxml.etree.QName.__init__\n",
      "  File \"src/lxml/apihelpers.pxi\", line 1680, in lxml.etree._tagValidOrRaise\n",
      "ValueError: Invalid tag name '<cyfunction Comment at 0x000001DB73381C80>'\n",
      "Traceback (most recent call last):\n",
      "  File \"<ipython-input-1-d648b050eb9b>\", line 152, in tojson\n",
      "    tag = etree.QName(elem.tag)\n",
      "  File \"src/lxml/etree.pyx\", line 1835, in lxml.etree.QName.__init__\n",
      "  File \"src/lxml/apihelpers.pxi\", line 1680, in lxml.etree._tagValidOrRaise\n",
      "ValueError: Invalid tag name '<cyfunction Comment at 0x000001DB73381C80>'\n",
      "Traceback (most recent call last):\n",
      "  File \"<ipython-input-1-d648b050eb9b>\", line 152, in tojson\n",
      "    tag = etree.QName(elem.tag)\n",
      "  File \"src/lxml/etree.pyx\", line 1835, in lxml.etree.QName.__init__\n",
      "  File \"src/lxml/apihelpers.pxi\", line 1680, in lxml.etree._tagValidOrRaise\n",
      "ValueError: Invalid tag name '<cyfunction Comment at 0x000001DB73381C80>'\n",
      "Traceback (most recent call last):\n",
      "  File \"<ipython-input-1-d648b050eb9b>\", line 152, in tojson\n",
      "    tag = etree.QName(elem.tag)\n",
      "  File \"src/lxml/etree.pyx\", line 1835, in lxml.etree.QName.__init__\n",
      "  File \"src/lxml/apihelpers.pxi\", line 1680, in lxml.etree._tagValidOrRaise\n",
      "ValueError: Invalid tag name '<cyfunction Comment at 0x000001DB73381C80>'\n",
      "Traceback (most recent call last):\n",
      "  File \"<ipython-input-1-d648b050eb9b>\", line 152, in tojson\n",
      "    tag = etree.QName(elem.tag)\n",
      "  File \"src/lxml/etree.pyx\", line 1835, in lxml.etree.QName.__init__\n",
      "  File \"src/lxml/apihelpers.pxi\", line 1680, in lxml.etree._tagValidOrRaise\n",
      "ValueError: Invalid tag name '<cyfunction Comment at 0x000001DB73381C80>'\n",
      "Traceback (most recent call last):\n",
      "  File \"<ipython-input-1-d648b050eb9b>\", line 152, in tojson\n",
      "    tag = etree.QName(elem.tag)\n",
      "  File \"src/lxml/etree.pyx\", line 1835, in lxml.etree.QName.__init__\n",
      "  File \"src/lxml/apihelpers.pxi\", line 1680, in lxml.etree._tagValidOrRaise\n",
      "ValueError: Invalid tag name '<cyfunction Comment at 0x000001DB73381C80>'\n",
      "Traceback (most recent call last):\n",
      "  File \"<ipython-input-1-d648b050eb9b>\", line 152, in tojson\n",
      "    tag = etree.QName(elem.tag)\n",
      "  File \"src/lxml/etree.pyx\", line 1835, in lxml.etree.QName.__init__\n",
      "  File \"src/lxml/apihelpers.pxi\", line 1680, in lxml.etree._tagValidOrRaise\n",
      "ValueError: Invalid tag name '<cyfunction Comment at 0x000001DB73381C80>'\n",
      "Traceback (most recent call last):\n",
      "  File \"<ipython-input-1-d648b050eb9b>\", line 152, in tojson\n",
      "    tag = etree.QName(elem.tag)\n",
      "  File \"src/lxml/etree.pyx\", line 1835, in lxml.etree.QName.__init__\n",
      "  File \"src/lxml/apihelpers.pxi\", line 1680, in lxml.etree._tagValidOrRaise\n",
      "ValueError: Invalid tag name '<cyfunction Comment at 0x000001DB73381C80>'\n",
      "Traceback (most recent call last):\n",
      "  File \"<ipython-input-1-d648b050eb9b>\", line 152, in tojson\n",
      "    tag = etree.QName(elem.tag)\n",
      "  File \"src/lxml/etree.pyx\", line 1835, in lxml.etree.QName.__init__\n",
      "  File \"src/lxml/apihelpers.pxi\", line 1680, in lxml.etree._tagValidOrRaise\n",
      "ValueError: Invalid tag name '<cyfunction Comment at 0x000001DB73381C80>'\n",
      "Traceback (most recent call last):\n",
      "  File \"<ipython-input-1-d648b050eb9b>\", line 152, in tojson\n",
      "    tag = etree.QName(elem.tag)\n",
      "  File \"src/lxml/etree.pyx\", line 1835, in lxml.etree.QName.__init__\n",
      "  File \"src/lxml/apihelpers.pxi\", line 1680, in lxml.etree._tagValidOrRaise\n",
      "ValueError: Invalid tag name '<cyfunction Comment at 0x000001DB73381C80>'\n",
      "Traceback (most recent call last):\n",
      "  File \"<ipython-input-1-d648b050eb9b>\", line 152, in tojson\n",
      "    tag = etree.QName(elem.tag)\n",
      "  File \"src/lxml/etree.pyx\", line 1835, in lxml.etree.QName.__init__\n",
      "  File \"src/lxml/apihelpers.pxi\", line 1680, in lxml.etree._tagValidOrRaise\n",
      "ValueError: Invalid tag name '<cyfunction Comment at 0x000001DB73381C80>'\n",
      "Traceback (most recent call last):\n",
      "  File \"<ipython-input-1-d648b050eb9b>\", line 152, in tojson\n",
      "    tag = etree.QName(elem.tag)\n",
      "  File \"src/lxml/etree.pyx\", line 1835, in lxml.etree.QName.__init__\n",
      "  File \"src/lxml/apihelpers.pxi\", line 1680, in lxml.etree._tagValidOrRaise\n",
      "ValueError: Invalid tag name '<cyfunction Comment at 0x000001DB73381C80>'\n",
      "Traceback (most recent call last):\n",
      "  File \"<ipython-input-1-d648b050eb9b>\", line 152, in tojson\n",
      "    tag = etree.QName(elem.tag)\n",
      "  File \"src/lxml/etree.pyx\", line 1835, in lxml.etree.QName.__init__\n",
      "  File \"src/lxml/apihelpers.pxi\", line 1680, in lxml.etree._tagValidOrRaise\n",
      "ValueError: Invalid tag name '<cyfunction Comment at 0x000001DB73381C80>'\n",
      "Traceback (most recent call last):\n",
      "  File \"<ipython-input-1-d648b050eb9b>\", line 152, in tojson\n",
      "    tag = etree.QName(elem.tag)\n",
      "  File \"src/lxml/etree.pyx\", line 1835, in lxml.etree.QName.__init__\n",
      "  File \"src/lxml/apihelpers.pxi\", line 1680, in lxml.etree._tagValidOrRaise\n",
      "ValueError: Invalid tag name '<cyfunction Comment at 0x000001DB73381C80>'\n",
      "Traceback (most recent call last):\n",
      "  File \"<ipython-input-1-d648b050eb9b>\", line 152, in tojson\n",
      "    tag = etree.QName(elem.tag)\n",
      "  File \"src/lxml/etree.pyx\", line 1835, in lxml.etree.QName.__init__\n",
      "  File \"src/lxml/apihelpers.pxi\", line 1680, in lxml.etree._tagValidOrRaise\n",
      "ValueError: Invalid tag name '<cyfunction Comment at 0x000001DB73381C80>'\n",
      "Traceback (most recent call last):\n",
      "  File \"<ipython-input-1-d648b050eb9b>\", line 152, in tojson\n",
      "    tag = etree.QName(elem.tag)\n",
      "  File \"src/lxml/etree.pyx\", line 1835, in lxml.etree.QName.__init__\n",
      "  File \"src/lxml/apihelpers.pxi\", line 1680, in lxml.etree._tagValidOrRaise\n",
      "ValueError: Invalid tag name '<cyfunction Comment at 0x000001DB73381C80>'\n",
      "Traceback (most recent call last):\n",
      "  File \"<ipython-input-1-d648b050eb9b>\", line 152, in tojson\n",
      "    tag = etree.QName(elem.tag)\n",
      "  File \"src/lxml/etree.pyx\", line 1835, in lxml.etree.QName.__init__\n",
      "  File \"src/lxml/apihelpers.pxi\", line 1680, in lxml.etree._tagValidOrRaise\n",
      "ValueError: Invalid tag name '<cyfunction Comment at 0x000001DB73381C80>'\n",
      "Traceback (most recent call last):\n",
      "  File \"<ipython-input-1-d648b050eb9b>\", line 152, in tojson\n",
      "    tag = etree.QName(elem.tag)\n",
      "  File \"src/lxml/etree.pyx\", line 1835, in lxml.etree.QName.__init__\n",
      "  File \"src/lxml/apihelpers.pxi\", line 1680, in lxml.etree._tagValidOrRaise\n",
      "ValueError: Invalid tag name '<cyfunction Comment at 0x000001DB73381C80>'\n",
      "Traceback (most recent call last):\n",
      "  File \"<ipython-input-1-d648b050eb9b>\", line 152, in tojson\n",
      "    tag = etree.QName(elem.tag)\n",
      "  File \"src/lxml/etree.pyx\", line 1835, in lxml.etree.QName.__init__\n",
      "  File \"src/lxml/apihelpers.pxi\", line 1680, in lxml.etree._tagValidOrRaise\n",
      "ValueError: Invalid tag name '<cyfunction Comment at 0x000001DB73381C80>'\n"
     ]
    },
    {
     "name": "stderr",
     "output_type": "stream",
     "text": [
      "Traceback (most recent call last):\n",
      "  File \"<ipython-input-1-d648b050eb9b>\", line 152, in tojson\n",
      "    tag = etree.QName(elem.tag)\n",
      "  File \"src/lxml/etree.pyx\", line 1835, in lxml.etree.QName.__init__\n",
      "  File \"src/lxml/apihelpers.pxi\", line 1680, in lxml.etree._tagValidOrRaise\n",
      "ValueError: Invalid tag name '<cyfunction Comment at 0x000001DB73381C80>'\n",
      "Traceback (most recent call last):\n",
      "  File \"<ipython-input-1-d648b050eb9b>\", line 152, in tojson\n",
      "    tag = etree.QName(elem.tag)\n",
      "  File \"src/lxml/etree.pyx\", line 1835, in lxml.etree.QName.__init__\n",
      "  File \"src/lxml/apihelpers.pxi\", line 1680, in lxml.etree._tagValidOrRaise\n",
      "ValueError: Invalid tag name '<cyfunction Comment at 0x000001DB73381C80>'\n",
      "Traceback (most recent call last):\n",
      "  File \"<ipython-input-1-d648b050eb9b>\", line 152, in tojson\n",
      "    tag = etree.QName(elem.tag)\n",
      "  File \"src/lxml/etree.pyx\", line 1835, in lxml.etree.QName.__init__\n",
      "  File \"src/lxml/apihelpers.pxi\", line 1680, in lxml.etree._tagValidOrRaise\n",
      "ValueError: Invalid tag name '<cyfunction Comment at 0x000001DB73381C80>'\n",
      "Traceback (most recent call last):\n",
      "  File \"<ipython-input-1-d648b050eb9b>\", line 152, in tojson\n",
      "    tag = etree.QName(elem.tag)\n",
      "  File \"src/lxml/etree.pyx\", line 1835, in lxml.etree.QName.__init__\n",
      "  File \"src/lxml/apihelpers.pxi\", line 1680, in lxml.etree._tagValidOrRaise\n",
      "ValueError: Invalid tag name '<cyfunction Comment at 0x000001DB73381C80>'\n",
      "Traceback (most recent call last):\n",
      "  File \"<ipython-input-1-d648b050eb9b>\", line 152, in tojson\n",
      "    tag = etree.QName(elem.tag)\n",
      "  File \"src/lxml/etree.pyx\", line 1835, in lxml.etree.QName.__init__\n",
      "  File \"src/lxml/apihelpers.pxi\", line 1680, in lxml.etree._tagValidOrRaise\n",
      "ValueError: Invalid tag name '<cyfunction Comment at 0x000001DB73381C80>'\n",
      "Traceback (most recent call last):\n",
      "  File \"<ipython-input-1-d648b050eb9b>\", line 152, in tojson\n",
      "    tag = etree.QName(elem.tag)\n",
      "  File \"src/lxml/etree.pyx\", line 1835, in lxml.etree.QName.__init__\n",
      "  File \"src/lxml/apihelpers.pxi\", line 1680, in lxml.etree._tagValidOrRaise\n",
      "ValueError: Invalid tag name '<cyfunction Comment at 0x000001DB73381C80>'\n",
      "Traceback (most recent call last):\n",
      "  File \"<ipython-input-1-d648b050eb9b>\", line 152, in tojson\n",
      "    tag = etree.QName(elem.tag)\n",
      "  File \"src/lxml/etree.pyx\", line 1835, in lxml.etree.QName.__init__\n",
      "  File \"src/lxml/apihelpers.pxi\", line 1680, in lxml.etree._tagValidOrRaise\n",
      "ValueError: Invalid tag name '<cyfunction Comment at 0x000001DB73381C80>'\n",
      "Traceback (most recent call last):\n",
      "  File \"<ipython-input-1-d648b050eb9b>\", line 152, in tojson\n",
      "    tag = etree.QName(elem.tag)\n",
      "  File \"src/lxml/etree.pyx\", line 1835, in lxml.etree.QName.__init__\n",
      "  File \"src/lxml/apihelpers.pxi\", line 1680, in lxml.etree._tagValidOrRaise\n",
      "ValueError: Invalid tag name '<cyfunction Comment at 0x000001DB73381C80>'\n",
      "Traceback (most recent call last):\n",
      "  File \"<ipython-input-1-d648b050eb9b>\", line 152, in tojson\n",
      "    tag = etree.QName(elem.tag)\n",
      "  File \"src/lxml/etree.pyx\", line 1835, in lxml.etree.QName.__init__\n",
      "  File \"src/lxml/apihelpers.pxi\", line 1680, in lxml.etree._tagValidOrRaise\n",
      "ValueError: Invalid tag name '<cyfunction Comment at 0x000001DB73381C80>'\n",
      "Traceback (most recent call last):\n",
      "  File \"<ipython-input-1-d648b050eb9b>\", line 152, in tojson\n",
      "    tag = etree.QName(elem.tag)\n",
      "  File \"src/lxml/etree.pyx\", line 1835, in lxml.etree.QName.__init__\n",
      "  File \"src/lxml/apihelpers.pxi\", line 1680, in lxml.etree._tagValidOrRaise\n",
      "ValueError: Invalid tag name '<cyfunction Comment at 0x000001DB73381C80>'\n",
      "Traceback (most recent call last):\n",
      "  File \"<ipython-input-1-d648b050eb9b>\", line 152, in tojson\n",
      "    tag = etree.QName(elem.tag)\n",
      "  File \"src/lxml/etree.pyx\", line 1835, in lxml.etree.QName.__init__\n",
      "  File \"src/lxml/apihelpers.pxi\", line 1680, in lxml.etree._tagValidOrRaise\n",
      "ValueError: Invalid tag name '<cyfunction Comment at 0x000001DB73381C80>'\n",
      "Traceback (most recent call last):\n",
      "  File \"<ipython-input-1-d648b050eb9b>\", line 152, in tojson\n",
      "    tag = etree.QName(elem.tag)\n",
      "  File \"src/lxml/etree.pyx\", line 1835, in lxml.etree.QName.__init__\n",
      "  File \"src/lxml/apihelpers.pxi\", line 1680, in lxml.etree._tagValidOrRaise\n",
      "ValueError: Invalid tag name '<cyfunction Comment at 0x000001DB73381C80>'\n",
      "Traceback (most recent call last):\n",
      "  File \"<ipython-input-1-d648b050eb9b>\", line 152, in tojson\n",
      "    tag = etree.QName(elem.tag)\n",
      "  File \"src/lxml/etree.pyx\", line 1835, in lxml.etree.QName.__init__\n",
      "  File \"src/lxml/apihelpers.pxi\", line 1680, in lxml.etree._tagValidOrRaise\n",
      "ValueError: Invalid tag name '<cyfunction Comment at 0x000001DB73381C80>'\n",
      "Traceback (most recent call last):\n",
      "  File \"<ipython-input-1-d648b050eb9b>\", line 152, in tojson\n",
      "    tag = etree.QName(elem.tag)\n",
      "  File \"src/lxml/etree.pyx\", line 1835, in lxml.etree.QName.__init__\n",
      "  File \"src/lxml/apihelpers.pxi\", line 1680, in lxml.etree._tagValidOrRaise\n",
      "ValueError: Invalid tag name '<cyfunction Comment at 0x000001DB73381C80>'\n",
      "Traceback (most recent call last):\n",
      "  File \"<ipython-input-1-d648b050eb9b>\", line 152, in tojson\n",
      "    tag = etree.QName(elem.tag)\n",
      "  File \"src/lxml/etree.pyx\", line 1835, in lxml.etree.QName.__init__\n",
      "  File \"src/lxml/apihelpers.pxi\", line 1680, in lxml.etree._tagValidOrRaise\n",
      "ValueError: Invalid tag name '<cyfunction Comment at 0x000001DB73381C80>'\n",
      "Traceback (most recent call last):\n",
      "  File \"<ipython-input-1-d648b050eb9b>\", line 152, in tojson\n",
      "    tag = etree.QName(elem.tag)\n",
      "  File \"src/lxml/etree.pyx\", line 1835, in lxml.etree.QName.__init__\n",
      "  File \"src/lxml/apihelpers.pxi\", line 1680, in lxml.etree._tagValidOrRaise\n",
      "ValueError: Invalid tag name '<cyfunction Comment at 0x000001DB73381C80>'\n",
      "Traceback (most recent call last):\n",
      "  File \"<ipython-input-1-d648b050eb9b>\", line 152, in tojson\n",
      "    tag = etree.QName(elem.tag)\n",
      "  File \"src/lxml/etree.pyx\", line 1835, in lxml.etree.QName.__init__\n",
      "  File \"src/lxml/apihelpers.pxi\", line 1680, in lxml.etree._tagValidOrRaise\n",
      "ValueError: Invalid tag name '<cyfunction Comment at 0x000001DB73381C80>'\n",
      "Traceback (most recent call last):\n",
      "  File \"<ipython-input-1-d648b050eb9b>\", line 152, in tojson\n",
      "    tag = etree.QName(elem.tag)\n",
      "  File \"src/lxml/etree.pyx\", line 1835, in lxml.etree.QName.__init__\n",
      "  File \"src/lxml/apihelpers.pxi\", line 1680, in lxml.etree._tagValidOrRaise\n",
      "ValueError: Invalid tag name '<cyfunction Comment at 0x000001DB73381C80>'\n",
      "Traceback (most recent call last):\n",
      "  File \"<ipython-input-1-d648b050eb9b>\", line 152, in tojson\n",
      "    tag = etree.QName(elem.tag)\n",
      "  File \"src/lxml/etree.pyx\", line 1835, in lxml.etree.QName.__init__\n",
      "  File \"src/lxml/apihelpers.pxi\", line 1680, in lxml.etree._tagValidOrRaise\n",
      "ValueError: Invalid tag name '<cyfunction Comment at 0x000001DB73381C80>'\n",
      "Traceback (most recent call last):\n",
      "  File \"<ipython-input-1-d648b050eb9b>\", line 152, in tojson\n",
      "    tag = etree.QName(elem.tag)\n",
      "  File \"src/lxml/etree.pyx\", line 1835, in lxml.etree.QName.__init__\n",
      "  File \"src/lxml/apihelpers.pxi\", line 1680, in lxml.etree._tagValidOrRaise\n",
      "ValueError: Invalid tag name '<cyfunction Comment at 0x000001DB73381C80>'\n",
      "Traceback (most recent call last):\n",
      "  File \"<ipython-input-1-d648b050eb9b>\", line 152, in tojson\n",
      "    tag = etree.QName(elem.tag)\n",
      "  File \"src/lxml/etree.pyx\", line 1835, in lxml.etree.QName.__init__\n",
      "  File \"src/lxml/apihelpers.pxi\", line 1680, in lxml.etree._tagValidOrRaise\n",
      "ValueError: Invalid tag name '<cyfunction Comment at 0x000001DB73381C80>'\n",
      "Traceback (most recent call last):\n",
      "  File \"<ipython-input-1-d648b050eb9b>\", line 152, in tojson\n",
      "    tag = etree.QName(elem.tag)\n",
      "  File \"src/lxml/etree.pyx\", line 1835, in lxml.etree.QName.__init__\n",
      "  File \"src/lxml/apihelpers.pxi\", line 1680, in lxml.etree._tagValidOrRaise\n",
      "ValueError: Invalid tag name '<cyfunction Comment at 0x000001DB73381C80>'\n",
      "Traceback (most recent call last):\n",
      "  File \"<ipython-input-1-d648b050eb9b>\", line 152, in tojson\n",
      "    tag = etree.QName(elem.tag)\n",
      "  File \"src/lxml/etree.pyx\", line 1835, in lxml.etree.QName.__init__\n",
      "  File \"src/lxml/apihelpers.pxi\", line 1680, in lxml.etree._tagValidOrRaise\n",
      "ValueError: Invalid tag name '<cyfunction Comment at 0x000001DB73381C80>'\n",
      "Traceback (most recent call last):\n",
      "  File \"<ipython-input-1-d648b050eb9b>\", line 152, in tojson\n",
      "    tag = etree.QName(elem.tag)\n",
      "  File \"src/lxml/etree.pyx\", line 1835, in lxml.etree.QName.__init__\n",
      "  File \"src/lxml/apihelpers.pxi\", line 1680, in lxml.etree._tagValidOrRaise\n"
     ]
    },
    {
     "name": "stderr",
     "output_type": "stream",
     "text": [
      "ValueError: Invalid tag name '<cyfunction Comment at 0x000001DB73381C80>'\n",
      "Traceback (most recent call last):\n",
      "  File \"<ipython-input-1-d648b050eb9b>\", line 152, in tojson\n",
      "    tag = etree.QName(elem.tag)\n",
      "  File \"src/lxml/etree.pyx\", line 1835, in lxml.etree.QName.__init__\n",
      "  File \"src/lxml/apihelpers.pxi\", line 1680, in lxml.etree._tagValidOrRaise\n",
      "ValueError: Invalid tag name '<cyfunction Comment at 0x000001DB73381C80>'\n",
      "Traceback (most recent call last):\n",
      "  File \"<ipython-input-1-d648b050eb9b>\", line 152, in tojson\n",
      "    tag = etree.QName(elem.tag)\n",
      "  File \"src/lxml/etree.pyx\", line 1835, in lxml.etree.QName.__init__\n",
      "  File \"src/lxml/apihelpers.pxi\", line 1680, in lxml.etree._tagValidOrRaise\n",
      "ValueError: Invalid tag name '<cyfunction Comment at 0x000001DB73381C80>'\n",
      "Traceback (most recent call last):\n",
      "  File \"<ipython-input-1-d648b050eb9b>\", line 152, in tojson\n",
      "    tag = etree.QName(elem.tag)\n",
      "  File \"src/lxml/etree.pyx\", line 1835, in lxml.etree.QName.__init__\n",
      "  File \"src/lxml/apihelpers.pxi\", line 1680, in lxml.etree._tagValidOrRaise\n",
      "ValueError: Invalid tag name '<cyfunction Comment at 0x000001DB73381C80>'\n",
      "Traceback (most recent call last):\n",
      "  File \"<ipython-input-1-d648b050eb9b>\", line 152, in tojson\n",
      "    tag = etree.QName(elem.tag)\n",
      "  File \"src/lxml/etree.pyx\", line 1835, in lxml.etree.QName.__init__\n",
      "  File \"src/lxml/apihelpers.pxi\", line 1680, in lxml.etree._tagValidOrRaise\n",
      "ValueError: Invalid tag name '<cyfunction Comment at 0x000001DB73381C80>'\n",
      "Traceback (most recent call last):\n",
      "  File \"<ipython-input-1-d648b050eb9b>\", line 152, in tojson\n",
      "    tag = etree.QName(elem.tag)\n",
      "  File \"src/lxml/etree.pyx\", line 1835, in lxml.etree.QName.__init__\n",
      "  File \"src/lxml/apihelpers.pxi\", line 1680, in lxml.etree._tagValidOrRaise\n",
      "ValueError: Invalid tag name '<cyfunction Comment at 0x000001DB73381C80>'\n",
      "Traceback (most recent call last):\n",
      "  File \"<ipython-input-1-d648b050eb9b>\", line 152, in tojson\n",
      "    tag = etree.QName(elem.tag)\n",
      "  File \"src/lxml/etree.pyx\", line 1835, in lxml.etree.QName.__init__\n",
      "  File \"src/lxml/apihelpers.pxi\", line 1680, in lxml.etree._tagValidOrRaise\n",
      "ValueError: Invalid tag name '<cyfunction Comment at 0x000001DB73381C80>'\n",
      "Traceback (most recent call last):\n",
      "  File \"<ipython-input-1-d648b050eb9b>\", line 152, in tojson\n",
      "    tag = etree.QName(elem.tag)\n",
      "  File \"src/lxml/etree.pyx\", line 1835, in lxml.etree.QName.__init__\n",
      "  File \"src/lxml/apihelpers.pxi\", line 1680, in lxml.etree._tagValidOrRaise\n",
      "ValueError: Invalid tag name '<cyfunction Comment at 0x000001DB73381C80>'\n",
      "Traceback (most recent call last):\n",
      "  File \"<ipython-input-1-d648b050eb9b>\", line 152, in tojson\n",
      "    tag = etree.QName(elem.tag)\n",
      "  File \"src/lxml/etree.pyx\", line 1835, in lxml.etree.QName.__init__\n",
      "  File \"src/lxml/apihelpers.pxi\", line 1680, in lxml.etree._tagValidOrRaise\n",
      "ValueError: Invalid tag name '<cyfunction Comment at 0x000001DB73381C80>'\n",
      "Traceback (most recent call last):\n",
      "  File \"<ipython-input-1-d648b050eb9b>\", line 152, in tojson\n",
      "    tag = etree.QName(elem.tag)\n",
      "  File \"src/lxml/etree.pyx\", line 1835, in lxml.etree.QName.__init__\n",
      "  File \"src/lxml/apihelpers.pxi\", line 1680, in lxml.etree._tagValidOrRaise\n",
      "ValueError: Invalid tag name '<cyfunction Comment at 0x000001DB73381C80>'\n",
      "Traceback (most recent call last):\n",
      "  File \"<ipython-input-1-d648b050eb9b>\", line 152, in tojson\n",
      "    tag = etree.QName(elem.tag)\n",
      "  File \"src/lxml/etree.pyx\", line 1835, in lxml.etree.QName.__init__\n",
      "  File \"src/lxml/apihelpers.pxi\", line 1680, in lxml.etree._tagValidOrRaise\n",
      "ValueError: Invalid tag name '<cyfunction Comment at 0x000001DB73381C80>'\n",
      "Traceback (most recent call last):\n",
      "  File \"<ipython-input-1-d648b050eb9b>\", line 152, in tojson\n",
      "    tag = etree.QName(elem.tag)\n",
      "  File \"src/lxml/etree.pyx\", line 1835, in lxml.etree.QName.__init__\n",
      "  File \"src/lxml/apihelpers.pxi\", line 1680, in lxml.etree._tagValidOrRaise\n",
      "ValueError: Invalid tag name '<cyfunction Comment at 0x000001DB73381C80>'\n",
      "Traceback (most recent call last):\n",
      "  File \"<ipython-input-1-d648b050eb9b>\", line 152, in tojson\n",
      "    tag = etree.QName(elem.tag)\n",
      "  File \"src/lxml/etree.pyx\", line 1835, in lxml.etree.QName.__init__\n",
      "  File \"src/lxml/apihelpers.pxi\", line 1680, in lxml.etree._tagValidOrRaise\n",
      "ValueError: Invalid tag name '<cyfunction Comment at 0x000001DB73381C80>'\n",
      "Traceback (most recent call last):\n",
      "  File \"<ipython-input-1-d648b050eb9b>\", line 152, in tojson\n",
      "    tag = etree.QName(elem.tag)\n",
      "  File \"src/lxml/etree.pyx\", line 1835, in lxml.etree.QName.__init__\n",
      "  File \"src/lxml/apihelpers.pxi\", line 1680, in lxml.etree._tagValidOrRaise\n",
      "ValueError: Invalid tag name '<cyfunction Comment at 0x000001DB73381C80>'\n",
      "Traceback (most recent call last):\n",
      "  File \"<ipython-input-1-d648b050eb9b>\", line 152, in tojson\n",
      "    tag = etree.QName(elem.tag)\n",
      "  File \"src/lxml/etree.pyx\", line 1835, in lxml.etree.QName.__init__\n",
      "  File \"src/lxml/apihelpers.pxi\", line 1680, in lxml.etree._tagValidOrRaise\n",
      "ValueError: Invalid tag name '<cyfunction Comment at 0x000001DB73381C80>'\n",
      "Traceback (most recent call last):\n",
      "  File \"<ipython-input-1-d648b050eb9b>\", line 152, in tojson\n",
      "    tag = etree.QName(elem.tag)\n",
      "  File \"src/lxml/etree.pyx\", line 1835, in lxml.etree.QName.__init__\n",
      "  File \"src/lxml/apihelpers.pxi\", line 1680, in lxml.etree._tagValidOrRaise\n",
      "ValueError: Invalid tag name '<cyfunction Comment at 0x000001DB73381C80>'\n",
      "Traceback (most recent call last):\n",
      "  File \"<ipython-input-1-d648b050eb9b>\", line 152, in tojson\n",
      "    tag = etree.QName(elem.tag)\n",
      "  File \"src/lxml/etree.pyx\", line 1835, in lxml.etree.QName.__init__\n",
      "  File \"src/lxml/apihelpers.pxi\", line 1680, in lxml.etree._tagValidOrRaise\n",
      "ValueError: Invalid tag name '<cyfunction Comment at 0x000001DB73381C80>'\n",
      "Traceback (most recent call last):\n",
      "  File \"<ipython-input-1-d648b050eb9b>\", line 152, in tojson\n",
      "    tag = etree.QName(elem.tag)\n",
      "  File \"src/lxml/etree.pyx\", line 1835, in lxml.etree.QName.__init__\n",
      "  File \"src/lxml/apihelpers.pxi\", line 1680, in lxml.etree._tagValidOrRaise\n",
      "ValueError: Invalid tag name '<cyfunction Comment at 0x000001DB73381C80>'\n",
      "Traceback (most recent call last):\n",
      "  File \"<ipython-input-1-d648b050eb9b>\", line 152, in tojson\n",
      "    tag = etree.QName(elem.tag)\n",
      "  File \"src/lxml/etree.pyx\", line 1835, in lxml.etree.QName.__init__\n",
      "  File \"src/lxml/apihelpers.pxi\", line 1680, in lxml.etree._tagValidOrRaise\n",
      "ValueError: Invalid tag name '<cyfunction Comment at 0x000001DB73381C80>'\n",
      "Traceback (most recent call last):\n",
      "  File \"<ipython-input-1-d648b050eb9b>\", line 152, in tojson\n",
      "    tag = etree.QName(elem.tag)\n",
      "  File \"src/lxml/etree.pyx\", line 1835, in lxml.etree.QName.__init__\n",
      "  File \"src/lxml/apihelpers.pxi\", line 1680, in lxml.etree._tagValidOrRaise\n",
      "ValueError: Invalid tag name '<cyfunction Comment at 0x000001DB73381C80>'\n",
      "Traceback (most recent call last):\n",
      "  File \"<ipython-input-1-d648b050eb9b>\", line 152, in tojson\n",
      "    tag = etree.QName(elem.tag)\n",
      "  File \"src/lxml/etree.pyx\", line 1835, in lxml.etree.QName.__init__\n",
      "  File \"src/lxml/apihelpers.pxi\", line 1680, in lxml.etree._tagValidOrRaise\n",
      "ValueError: Invalid tag name '<cyfunction Comment at 0x000001DB73381C80>'\n",
      "Traceback (most recent call last):\n",
      "  File \"<ipython-input-1-d648b050eb9b>\", line 152, in tojson\n",
      "    tag = etree.QName(elem.tag)\n",
      "  File \"src/lxml/etree.pyx\", line 1835, in lxml.etree.QName.__init__\n",
      "  File \"src/lxml/apihelpers.pxi\", line 1680, in lxml.etree._tagValidOrRaise\n",
      "ValueError: Invalid tag name '<cyfunction Comment at 0x000001DB73381C80>'\n",
      "Traceback (most recent call last):\n",
      "  File \"<ipython-input-1-d648b050eb9b>\", line 152, in tojson\n",
      "    tag = etree.QName(elem.tag)\n",
      "  File \"src/lxml/etree.pyx\", line 1835, in lxml.etree.QName.__init__\n",
      "  File \"src/lxml/apihelpers.pxi\", line 1680, in lxml.etree._tagValidOrRaise\n",
      "ValueError: Invalid tag name '<cyfunction Comment at 0x000001DB73381C80>'\n",
      "Traceback (most recent call last):\n",
      "  File \"<ipython-input-1-d648b050eb9b>\", line 152, in tojson\n",
      "    tag = etree.QName(elem.tag)\n",
      "  File \"src/lxml/etree.pyx\", line 1835, in lxml.etree.QName.__init__\n",
      "  File \"src/lxml/apihelpers.pxi\", line 1680, in lxml.etree._tagValidOrRaise\n",
      "ValueError: Invalid tag name '<cyfunction Comment at 0x000001DB73381C80>'\n",
      "Traceback (most recent call last):\n",
      "  File \"<ipython-input-1-d648b050eb9b>\", line 152, in tojson\n",
      "    tag = etree.QName(elem.tag)\n",
      "  File \"src/lxml/etree.pyx\", line 1835, in lxml.etree.QName.__init__\n"
     ]
    },
    {
     "name": "stderr",
     "output_type": "stream",
     "text": [
      "  File \"src/lxml/apihelpers.pxi\", line 1680, in lxml.etree._tagValidOrRaise\n",
      "ValueError: Invalid tag name '<cyfunction Comment at 0x000001DB73381C80>'\n",
      "Traceback (most recent call last):\n",
      "  File \"<ipython-input-1-d648b050eb9b>\", line 152, in tojson\n",
      "    tag = etree.QName(elem.tag)\n",
      "  File \"src/lxml/etree.pyx\", line 1835, in lxml.etree.QName.__init__\n",
      "  File \"src/lxml/apihelpers.pxi\", line 1680, in lxml.etree._tagValidOrRaise\n",
      "ValueError: Invalid tag name '<cyfunction Comment at 0x000001DB73381C80>'\n",
      "Traceback (most recent call last):\n",
      "  File \"<ipython-input-1-d648b050eb9b>\", line 152, in tojson\n",
      "    tag = etree.QName(elem.tag)\n",
      "  File \"src/lxml/etree.pyx\", line 1835, in lxml.etree.QName.__init__\n",
      "  File \"src/lxml/apihelpers.pxi\", line 1680, in lxml.etree._tagValidOrRaise\n",
      "ValueError: Invalid tag name '<cyfunction Comment at 0x000001DB73381C80>'\n",
      "Traceback (most recent call last):\n",
      "  File \"<ipython-input-1-d648b050eb9b>\", line 152, in tojson\n",
      "    tag = etree.QName(elem.tag)\n",
      "  File \"src/lxml/etree.pyx\", line 1835, in lxml.etree.QName.__init__\n",
      "  File \"src/lxml/apihelpers.pxi\", line 1680, in lxml.etree._tagValidOrRaise\n",
      "ValueError: Invalid tag name '<cyfunction Comment at 0x000001DB73381C80>'\n",
      "Traceback (most recent call last):\n",
      "  File \"<ipython-input-1-d648b050eb9b>\", line 152, in tojson\n",
      "    tag = etree.QName(elem.tag)\n",
      "  File \"src/lxml/etree.pyx\", line 1835, in lxml.etree.QName.__init__\n",
      "  File \"src/lxml/apihelpers.pxi\", line 1680, in lxml.etree._tagValidOrRaise\n",
      "ValueError: Invalid tag name '<cyfunction Comment at 0x000001DB73381C80>'\n",
      "Traceback (most recent call last):\n",
      "  File \"<ipython-input-1-d648b050eb9b>\", line 152, in tojson\n",
      "    tag = etree.QName(elem.tag)\n",
      "  File \"src/lxml/etree.pyx\", line 1835, in lxml.etree.QName.__init__\n",
      "  File \"src/lxml/apihelpers.pxi\", line 1680, in lxml.etree._tagValidOrRaise\n",
      "ValueError: Invalid tag name '<cyfunction Comment at 0x000001DB73381C80>'\n",
      "Traceback (most recent call last):\n",
      "  File \"<ipython-input-1-d648b050eb9b>\", line 152, in tojson\n",
      "    tag = etree.QName(elem.tag)\n",
      "  File \"src/lxml/etree.pyx\", line 1835, in lxml.etree.QName.__init__\n",
      "  File \"src/lxml/apihelpers.pxi\", line 1680, in lxml.etree._tagValidOrRaise\n",
      "ValueError: Invalid tag name '<cyfunction Comment at 0x000001DB73381C80>'\n",
      "Traceback (most recent call last):\n",
      "  File \"<ipython-input-1-d648b050eb9b>\", line 152, in tojson\n",
      "    tag = etree.QName(elem.tag)\n",
      "  File \"src/lxml/etree.pyx\", line 1835, in lxml.etree.QName.__init__\n",
      "  File \"src/lxml/apihelpers.pxi\", line 1680, in lxml.etree._tagValidOrRaise\n",
      "ValueError: Invalid tag name '<cyfunction Comment at 0x000001DB73381C80>'\n",
      "Traceback (most recent call last):\n",
      "  File \"<ipython-input-1-d648b050eb9b>\", line 152, in tojson\n",
      "    tag = etree.QName(elem.tag)\n",
      "  File \"src/lxml/etree.pyx\", line 1835, in lxml.etree.QName.__init__\n",
      "  File \"src/lxml/apihelpers.pxi\", line 1680, in lxml.etree._tagValidOrRaise\n",
      "ValueError: Invalid tag name '<cyfunction Comment at 0x000001DB73381C80>'\n",
      "Traceback (most recent call last):\n",
      "  File \"<ipython-input-1-d648b050eb9b>\", line 152, in tojson\n",
      "    tag = etree.QName(elem.tag)\n",
      "  File \"src/lxml/etree.pyx\", line 1835, in lxml.etree.QName.__init__\n",
      "  File \"src/lxml/apihelpers.pxi\", line 1680, in lxml.etree._tagValidOrRaise\n",
      "ValueError: Invalid tag name '<cyfunction Comment at 0x000001DB73381C80>'\n"
     ]
    },
    {
     "name": "stdout",
     "output_type": "stream",
     "text": [
      "\n"
     ]
    },
    {
     "data": {
      "text/plain": [
       "452"
      ]
     },
     "execution_count": 9,
     "metadata": {},
     "output_type": "execute_result"
    }
   ],
   "source": [
    "all_attr = find_all_attributes(start_date, end_date)\n",
    "len(all_attr)"
   ]
  },
  {
   "cell_type": "code",
   "execution_count": 7,
   "metadata": {},
   "outputs": [
    {
     "name": "stdout",
     "output_type": "stream",
     "text": [
      "<class 'set'>\n"
     ]
    },
    {
     "data": {
      "application/vnd.jupyter.widget-view+json": {
       "model_id": "de647d27230243aaae6d581a239d698b",
       "version_major": 2,
       "version_minor": 0
      },
      "text/plain": [
       "HBox(children=(IntProgress(value=0, max=365), HTML(value='')))"
      ]
     },
     "metadata": {},
     "output_type": "display_data"
    },
    {
     "name": "stdout",
     "output_type": "stream",
     "text": [
      "Number of cvr numbers in current iteration: 53\n"
     ]
    },
    {
     "data": {
      "application/vnd.jupyter.widget-view+json": {
       "model_id": "c783064e2996486f9c61695a6488e6de",
       "version_major": 2,
       "version_minor": 0
      },
      "text/plain": [
       "HBox(children=(IntProgress(value=0, max=53), HTML(value='')))"
      ]
     },
     "metadata": {},
     "output_type": "display_data"
    },
    {
     "name": "stdout",
     "output_type": "stream",
     "text": [
      "Number of cvr numbers in current iteration: 314\n"
     ]
    },
    {
     "data": {
      "application/vnd.jupyter.widget-view+json": {
       "model_id": "4f74c6ef8ecc44858e921ed3ddd96197",
       "version_major": 2,
       "version_minor": 0
      },
      "text/plain": [
       "HBox(children=(IntProgress(value=0, max=314), HTML(value='')))"
      ]
     },
     "metadata": {},
     "output_type": "display_data"
    },
    {
     "name": "stdout",
     "output_type": "stream",
     "text": [
      "Number of cvr numbers in current iteration: 333\n"
     ]
    },
    {
     "data": {
      "application/vnd.jupyter.widget-view+json": {
       "model_id": "a70c64c1046d488aaff5f96441455389",
       "version_major": 2,
       "version_minor": 0
      },
      "text/plain": [
       "HBox(children=(IntProgress(value=0, max=333), HTML(value='')))"
      ]
     },
     "metadata": {},
     "output_type": "display_data"
    },
    {
     "name": "stdout",
     "output_type": "stream",
     "text": [
      "Number of cvr numbers in current iteration: 425\n"
     ]
    },
    {
     "data": {
      "application/vnd.jupyter.widget-view+json": {
       "model_id": "86d0fa9fa28d426db1a88da84fb21304",
       "version_major": 2,
       "version_minor": 0
      },
      "text/plain": [
       "HBox(children=(IntProgress(value=0, max=425), HTML(value='')))"
      ]
     },
     "metadata": {},
     "output_type": "display_data"
    },
    {
     "name": "stdout",
     "output_type": "stream",
     "text": [
      "Number of cvr numbers in current iteration: 373\n"
     ]
    },
    {
     "data": {
      "application/vnd.jupyter.widget-view+json": {
       "model_id": "aafa3ce2c18f404db10542ff5577c252",
       "version_major": 2,
       "version_minor": 0
      },
      "text/plain": [
       "HBox(children=(IntProgress(value=0, max=373), HTML(value='')))"
      ]
     },
     "metadata": {},
     "output_type": "display_data"
    },
    {
     "name": "stdout",
     "output_type": "stream",
     "text": [
      "Number of cvr numbers in current iteration: 50\n"
     ]
    },
    {
     "data": {
      "application/vnd.jupyter.widget-view+json": {
       "model_id": "9e6137a8d3a640ce9c03df63a7aa1e45",
       "version_major": 2,
       "version_minor": 0
      },
      "text/plain": [
       "HBox(children=(IntProgress(value=0, max=50), HTML(value='')))"
      ]
     },
     "metadata": {},
     "output_type": "display_data"
    },
    {
     "name": "stdout",
     "output_type": "stream",
     "text": [
      "Number of cvr numbers in current iteration: 66\n"
     ]
    },
    {
     "data": {
      "application/vnd.jupyter.widget-view+json": {
       "model_id": "558ad125537c45c1946ef38755a28ce7",
       "version_major": 2,
       "version_minor": 0
      },
      "text/plain": [
       "HBox(children=(IntProgress(value=0, max=66), HTML(value='')))"
      ]
     },
     "metadata": {},
     "output_type": "display_data"
    },
    {
     "name": "stdout",
     "output_type": "stream",
     "text": [
      "Number of cvr numbers in current iteration: 510\n"
     ]
    },
    {
     "data": {
      "application/vnd.jupyter.widget-view+json": {
       "model_id": "6b69d38336d34e16a6aa60d2fe7cd082",
       "version_major": 2,
       "version_minor": 0
      },
      "text/plain": [
       "HBox(children=(IntProgress(value=0, max=510), HTML(value='')))"
      ]
     },
     "metadata": {},
     "output_type": "display_data"
    },
    {
     "name": "stdout",
     "output_type": "stream",
     "text": [
      "Number of cvr numbers in current iteration: 665\n"
     ]
    },
    {
     "data": {
      "application/vnd.jupyter.widget-view+json": {
       "model_id": "14d68990e55447049b2aaf9a938bd066",
       "version_major": 2,
       "version_minor": 0
      },
      "text/plain": [
       "HBox(children=(IntProgress(value=0, max=665), HTML(value='')))"
      ]
     },
     "metadata": {},
     "output_type": "display_data"
    },
    {
     "name": "stdout",
     "output_type": "stream",
     "text": [
      "Number of cvr numbers in current iteration: 309\n"
     ]
    },
    {
     "data": {
      "application/vnd.jupyter.widget-view+json": {
       "model_id": "9de429da5dec4c968bc85fadd4530f93",
       "version_major": 2,
       "version_minor": 0
      },
      "text/plain": [
       "HBox(children=(IntProgress(value=0, max=309), HTML(value='')))"
      ]
     },
     "metadata": {},
     "output_type": "display_data"
    },
    {
     "name": "stdout",
     "output_type": "stream",
     "text": [
      "Number of cvr numbers in current iteration: 328\n"
     ]
    },
    {
     "data": {
      "application/vnd.jupyter.widget-view+json": {
       "model_id": "c02070688f614ca39e1c34a284b960d2",
       "version_major": 2,
       "version_minor": 0
      },
      "text/plain": [
       "HBox(children=(IntProgress(value=0, max=328), HTML(value='')))"
      ]
     },
     "metadata": {},
     "output_type": "display_data"
    },
    {
     "name": "stdout",
     "output_type": "stream",
     "text": [
      "Number of cvr numbers in current iteration: 380\n"
     ]
    },
    {
     "data": {
      "application/vnd.jupyter.widget-view+json": {
       "model_id": "aa1fe1bd1cfc4621a232f2466b0dc68b",
       "version_major": 2,
       "version_minor": 0
      },
      "text/plain": [
       "HBox(children=(IntProgress(value=0, max=380), HTML(value='')))"
      ]
     },
     "metadata": {},
     "output_type": "display_data"
    },
    {
     "name": "stdout",
     "output_type": "stream",
     "text": [
      "Number of cvr numbers in current iteration: 42\n"
     ]
    },
    {
     "data": {
      "application/vnd.jupyter.widget-view+json": {
       "model_id": "b60830d51842427db03d70e1f6650d4f",
       "version_major": 2,
       "version_minor": 0
      },
      "text/plain": [
       "HBox(children=(IntProgress(value=0, max=42), HTML(value='')))"
      ]
     },
     "metadata": {},
     "output_type": "display_data"
    },
    {
     "name": "stdout",
     "output_type": "stream",
     "text": [
      "Number of cvr numbers in current iteration: 65\n"
     ]
    },
    {
     "data": {
      "application/vnd.jupyter.widget-view+json": {
       "model_id": "92e7c724eda84a1aa405a1a32f2b8b7b",
       "version_major": 2,
       "version_minor": 0
      },
      "text/plain": [
       "HBox(children=(IntProgress(value=0, max=65), HTML(value='')))"
      ]
     },
     "metadata": {},
     "output_type": "display_data"
    },
    {
     "name": "stdout",
     "output_type": "stream",
     "text": [
      "Number of cvr numbers in current iteration: 440\n"
     ]
    },
    {
     "data": {
      "application/vnd.jupyter.widget-view+json": {
       "model_id": "d994febc30cc4e859356e0169a9bbac5",
       "version_major": 2,
       "version_minor": 0
      },
      "text/plain": [
       "HBox(children=(IntProgress(value=0, max=440), HTML(value='')))"
      ]
     },
     "metadata": {},
     "output_type": "display_data"
    },
    {
     "name": "stdout",
     "output_type": "stream",
     "text": [
      "Number of cvr numbers in current iteration: 354\n"
     ]
    },
    {
     "data": {
      "application/vnd.jupyter.widget-view+json": {
       "model_id": "3a56320ede4f4e4782e3aaf4c8d7910f",
       "version_major": 2,
       "version_minor": 0
      },
      "text/plain": [
       "HBox(children=(IntProgress(value=0, max=354), HTML(value='')))"
      ]
     },
     "metadata": {},
     "output_type": "display_data"
    },
    {
     "name": "stdout",
     "output_type": "stream",
     "text": [
      "Number of cvr numbers in current iteration: 343\n"
     ]
    },
    {
     "data": {
      "application/vnd.jupyter.widget-view+json": {
       "model_id": "8b06631453664ec3b29790331391c7ff",
       "version_major": 2,
       "version_minor": 0
      },
      "text/plain": [
       "HBox(children=(IntProgress(value=0, max=343), HTML(value='')))"
      ]
     },
     "metadata": {},
     "output_type": "display_data"
    },
    {
     "name": "stdout",
     "output_type": "stream",
     "text": [
      "Number of cvr numbers in current iteration: 407\n"
     ]
    },
    {
     "data": {
      "application/vnd.jupyter.widget-view+json": {
       "model_id": "7c2cc1d81dd344f9a41371e04bf0acec",
       "version_major": 2,
       "version_minor": 0
      },
      "text/plain": [
       "HBox(children=(IntProgress(value=0, max=407), HTML(value='')))"
      ]
     },
     "metadata": {},
     "output_type": "display_data"
    },
    {
     "name": "stdout",
     "output_type": "stream",
     "text": [
      "Number of cvr numbers in current iteration: 429\n"
     ]
    },
    {
     "data": {
      "application/vnd.jupyter.widget-view+json": {
       "model_id": "8fa20b64bfad4fb29d3aa7ae7cd9c7ab",
       "version_major": 2,
       "version_minor": 0
      },
      "text/plain": [
       "HBox(children=(IntProgress(value=0, max=429), HTML(value='')))"
      ]
     },
     "metadata": {},
     "output_type": "display_data"
    },
    {
     "name": "stdout",
     "output_type": "stream",
     "text": [
      "Number of cvr numbers in current iteration: 62\n"
     ]
    },
    {
     "data": {
      "application/vnd.jupyter.widget-view+json": {
       "model_id": "a386086b02724e9d9f537502eb2bafe1",
       "version_major": 2,
       "version_minor": 0
      },
      "text/plain": [
       "HBox(children=(IntProgress(value=0, max=62), HTML(value='')))"
      ]
     },
     "metadata": {},
     "output_type": "display_data"
    },
    {
     "name": "stdout",
     "output_type": "stream",
     "text": [
      "Number of cvr numbers in current iteration: 80\n"
     ]
    },
    {
     "data": {
      "application/vnd.jupyter.widget-view+json": {
       "model_id": "41de1c3bca954a5dbb098417fb7daf5d",
       "version_major": 2,
       "version_minor": 0
      },
      "text/plain": [
       "HBox(children=(IntProgress(value=0, max=80), HTML(value='')))"
      ]
     },
     "metadata": {},
     "output_type": "display_data"
    },
    {
     "name": "stdout",
     "output_type": "stream",
     "text": [
      "Number of cvr numbers in current iteration: 463\n"
     ]
    },
    {
     "data": {
      "application/vnd.jupyter.widget-view+json": {
       "model_id": "0e4d5355551f4fddaa91840a4b5e5545",
       "version_major": 2,
       "version_minor": 0
      },
      "text/plain": [
       "HBox(children=(IntProgress(value=0, max=463), HTML(value='')))"
      ]
     },
     "metadata": {},
     "output_type": "display_data"
    },
    {
     "name": "stdout",
     "output_type": "stream",
     "text": [
      "Number of cvr numbers in current iteration: 344\n"
     ]
    },
    {
     "data": {
      "application/vnd.jupyter.widget-view+json": {
       "model_id": "be4006c8b0fe4a5a88f2a9919e0ea17e",
       "version_major": 2,
       "version_minor": 0
      },
      "text/plain": [
       "HBox(children=(IntProgress(value=0, max=344), HTML(value='')))"
      ]
     },
     "metadata": {},
     "output_type": "display_data"
    },
    {
     "name": "stdout",
     "output_type": "stream",
     "text": [
      "Number of cvr numbers in current iteration: 350\n"
     ]
    },
    {
     "data": {
      "application/vnd.jupyter.widget-view+json": {
       "model_id": "6a301a9704db4cc681bbaa986a3fb903",
       "version_major": 2,
       "version_minor": 0
      },
      "text/plain": [
       "HBox(children=(IntProgress(value=0, max=350), HTML(value='')))"
      ]
     },
     "metadata": {},
     "output_type": "display_data"
    },
    {
     "name": "stdout",
     "output_type": "stream",
     "text": [
      "Number of cvr numbers in current iteration: 472\n"
     ]
    },
    {
     "data": {
      "application/vnd.jupyter.widget-view+json": {
       "model_id": "78f597c768174857ba92d470ea52383c",
       "version_major": 2,
       "version_minor": 0
      },
      "text/plain": [
       "HBox(children=(IntProgress(value=0, max=472), HTML(value='')))"
      ]
     },
     "metadata": {},
     "output_type": "display_data"
    },
    {
     "name": "stdout",
     "output_type": "stream",
     "text": [
      "Number of cvr numbers in current iteration: 522\n"
     ]
    },
    {
     "data": {
      "application/vnd.jupyter.widget-view+json": {
       "model_id": "7ff7eecd8d81438fb4fc08ddb74bd10f",
       "version_major": 2,
       "version_minor": 0
      },
      "text/plain": [
       "HBox(children=(IntProgress(value=0, max=522), HTML(value='')))"
      ]
     },
     "metadata": {},
     "output_type": "display_data"
    },
    {
     "name": "stdout",
     "output_type": "stream",
     "text": [
      "Number of cvr numbers in current iteration: 85\n"
     ]
    },
    {
     "data": {
      "application/vnd.jupyter.widget-view+json": {
       "model_id": "f032a9d9b7c24ca18eca71798bedc242",
       "version_major": 2,
       "version_minor": 0
      },
      "text/plain": [
       "HBox(children=(IntProgress(value=0, max=85), HTML(value='')))"
      ]
     },
     "metadata": {},
     "output_type": "display_data"
    },
    {
     "name": "stdout",
     "output_type": "stream",
     "text": [
      "Number of cvr numbers in current iteration: 83\n"
     ]
    },
    {
     "data": {
      "application/vnd.jupyter.widget-view+json": {
       "model_id": "7fa8e319e55443eaaa18c09f8c5cd78b",
       "version_major": 2,
       "version_minor": 0
      },
      "text/plain": [
       "HBox(children=(IntProgress(value=0, max=83), HTML(value='')))"
      ]
     },
     "metadata": {},
     "output_type": "display_data"
    },
    {
     "name": "stdout",
     "output_type": "stream",
     "text": [
      "Number of cvr numbers in current iteration: 565\n"
     ]
    },
    {
     "data": {
      "application/vnd.jupyter.widget-view+json": {
       "model_id": "b258d64862ff44999895dcb6c414fc96",
       "version_major": 2,
       "version_minor": 0
      },
      "text/plain": [
       "HBox(children=(IntProgress(value=0, max=565), HTML(value='')))"
      ]
     },
     "metadata": {},
     "output_type": "display_data"
    },
    {
     "name": "stdout",
     "output_type": "stream",
     "text": [
      "Number of cvr numbers in current iteration: 545\n"
     ]
    },
    {
     "data": {
      "application/vnd.jupyter.widget-view+json": {
       "model_id": "2f3e09c4a0cb49979210e59df77ddba7",
       "version_major": 2,
       "version_minor": 0
      },
      "text/plain": [
       "HBox(children=(IntProgress(value=0, max=545), HTML(value='')))"
      ]
     },
     "metadata": {},
     "output_type": "display_data"
    },
    {
     "name": "stdout",
     "output_type": "stream",
     "text": [
      "Number of cvr numbers in current iteration: 527\n"
     ]
    },
    {
     "data": {
      "application/vnd.jupyter.widget-view+json": {
       "model_id": "bfcc08fef707491abb3edb13960cb6d4",
       "version_major": 2,
       "version_minor": 0
      },
      "text/plain": [
       "HBox(children=(IntProgress(value=0, max=527), HTML(value='')))"
      ]
     },
     "metadata": {},
     "output_type": "display_data"
    },
    {
     "name": "stdout",
     "output_type": "stream",
     "text": [
      "Number of cvr numbers in current iteration: 278\n"
     ]
    },
    {
     "data": {
      "application/vnd.jupyter.widget-view+json": {
       "model_id": "f3fab348eac143c19ac334a1c228425d",
       "version_major": 2,
       "version_minor": 0
      },
      "text/plain": [
       "HBox(children=(IntProgress(value=0, max=278), HTML(value='')))"
      ]
     },
     "metadata": {},
     "output_type": "display_data"
    },
    {
     "name": "stdout",
     "output_type": "stream",
     "text": [
      "Number of cvr numbers in current iteration: 888\n"
     ]
    },
    {
     "data": {
      "application/vnd.jupyter.widget-view+json": {
       "model_id": "4cd024ae9ebf42c1a10b68e2b43ec338",
       "version_major": 2,
       "version_minor": 0
      },
      "text/plain": [
       "HBox(children=(IntProgress(value=0, max=888), HTML(value='')))"
      ]
     },
     "metadata": {},
     "output_type": "display_data"
    },
    {
     "name": "stdout",
     "output_type": "stream",
     "text": [
      "Number of cvr numbers in current iteration: 80\n"
     ]
    },
    {
     "data": {
      "application/vnd.jupyter.widget-view+json": {
       "model_id": "2615b67ebaba4777907acac516eaa257",
       "version_major": 2,
       "version_minor": 0
      },
      "text/plain": [
       "HBox(children=(IntProgress(value=0, max=80), HTML(value='')))"
      ]
     },
     "metadata": {},
     "output_type": "display_data"
    },
    {
     "name": "stdout",
     "output_type": "stream",
     "text": [
      "Number of cvr numbers in current iteration: 81\n"
     ]
    },
    {
     "data": {
      "application/vnd.jupyter.widget-view+json": {
       "model_id": "ff984163a10f43b2bf7891d3e36600e3",
       "version_major": 2,
       "version_minor": 0
      },
      "text/plain": [
       "HBox(children=(IntProgress(value=0, max=81), HTML(value='')))"
      ]
     },
     "metadata": {},
     "output_type": "display_data"
    },
    {
     "name": "stdout",
     "output_type": "stream",
     "text": [
      "Number of cvr numbers in current iteration: 663\n"
     ]
    },
    {
     "data": {
      "application/vnd.jupyter.widget-view+json": {
       "model_id": "a488ba015f394449983dee9f252c6c2c",
       "version_major": 2,
       "version_minor": 0
      },
      "text/plain": [
       "HBox(children=(IntProgress(value=0, max=663), HTML(value='')))"
      ]
     },
     "metadata": {},
     "output_type": "display_data"
    },
    {
     "name": "stdout",
     "output_type": "stream",
     "text": [
      "Number of cvr numbers in current iteration: 599\n"
     ]
    },
    {
     "data": {
      "application/vnd.jupyter.widget-view+json": {
       "model_id": "203b3a21440748f2bbf6b4c53c5b8a45",
       "version_major": 2,
       "version_minor": 0
      },
      "text/plain": [
       "HBox(children=(IntProgress(value=0, max=599), HTML(value='')))"
      ]
     },
     "metadata": {},
     "output_type": "display_data"
    },
    {
     "name": "stdout",
     "output_type": "stream",
     "text": [
      "Number of cvr numbers in current iteration: 622\n"
     ]
    },
    {
     "data": {
      "application/vnd.jupyter.widget-view+json": {
       "model_id": "4bef0ed0a7a64ce7b0460389f5651d31",
       "version_major": 2,
       "version_minor": 0
      },
      "text/plain": [
       "HBox(children=(IntProgress(value=0, max=622), HTML(value='')))"
      ]
     },
     "metadata": {},
     "output_type": "display_data"
    },
    {
     "name": "stdout",
     "output_type": "stream",
     "text": [
      "Number of cvr numbers in current iteration: 651\n"
     ]
    },
    {
     "data": {
      "application/vnd.jupyter.widget-view+json": {
       "model_id": "5026421b6ce4407dbc1b22cc3a1cdb77",
       "version_major": 2,
       "version_minor": 0
      },
      "text/plain": [
       "HBox(children=(IntProgress(value=0, max=651), HTML(value='')))"
      ]
     },
     "metadata": {},
     "output_type": "display_data"
    },
    {
     "name": "stdout",
     "output_type": "stream",
     "text": [
      "Number of cvr numbers in current iteration: 699\n"
     ]
    },
    {
     "data": {
      "application/vnd.jupyter.widget-view+json": {
       "model_id": "0350a9f834cc479582d8ce74c33425d8",
       "version_major": 2,
       "version_minor": 0
      },
      "text/plain": [
       "HBox(children=(IntProgress(value=0, max=699), HTML(value='')))"
      ]
     },
     "metadata": {},
     "output_type": "display_data"
    },
    {
     "name": "stdout",
     "output_type": "stream",
     "text": [
      "Number of cvr numbers in current iteration: 93\n"
     ]
    },
    {
     "data": {
      "application/vnd.jupyter.widget-view+json": {
       "model_id": "bc4c31018198422baab38dfbcfadd7ac",
       "version_major": 2,
       "version_minor": 0
      },
      "text/plain": [
       "HBox(children=(IntProgress(value=0, max=93), HTML(value='')))"
      ]
     },
     "metadata": {},
     "output_type": "display_data"
    },
    {
     "name": "stdout",
     "output_type": "stream",
     "text": [
      "Number of cvr numbers in current iteration: 132\n"
     ]
    },
    {
     "data": {
      "application/vnd.jupyter.widget-view+json": {
       "model_id": "4638ec90811f4398b1e24809fcc2e9dd",
       "version_major": 2,
       "version_minor": 0
      },
      "text/plain": [
       "HBox(children=(IntProgress(value=0, max=132), HTML(value='')))"
      ]
     },
     "metadata": {},
     "output_type": "display_data"
    },
    {
     "name": "stdout",
     "output_type": "stream",
     "text": [
      "Number of cvr numbers in current iteration: 760\n"
     ]
    },
    {
     "data": {
      "application/vnd.jupyter.widget-view+json": {
       "model_id": "c20f24ec0ad6439bb8669d10a970d1a3",
       "version_major": 2,
       "version_minor": 0
      },
      "text/plain": [
       "HBox(children=(IntProgress(value=0, max=760), HTML(value='')))"
      ]
     },
     "metadata": {},
     "output_type": "display_data"
    },
    {
     "name": "stdout",
     "output_type": "stream",
     "text": [
      "Number of cvr numbers in current iteration: 601\n"
     ]
    },
    {
     "data": {
      "application/vnd.jupyter.widget-view+json": {
       "model_id": "69d4b4f202e741aca79c2f6ee2d40884",
       "version_major": 2,
       "version_minor": 0
      },
      "text/plain": [
       "HBox(children=(IntProgress(value=0, max=601), HTML(value='')))"
      ]
     },
     "metadata": {},
     "output_type": "display_data"
    },
    {
     "name": "stdout",
     "output_type": "stream",
     "text": [
      "Number of cvr numbers in current iteration: 613\n"
     ]
    },
    {
     "data": {
      "application/vnd.jupyter.widget-view+json": {
       "model_id": "58c2836b18e645e484e2950994a07370",
       "version_major": 2,
       "version_minor": 0
      },
      "text/plain": [
       "HBox(children=(IntProgress(value=0, max=613), HTML(value='')))"
      ]
     },
     "metadata": {},
     "output_type": "display_data"
    },
    {
     "name": "stdout",
     "output_type": "stream",
     "text": [
      "Number of cvr numbers in current iteration: 512\n"
     ]
    },
    {
     "data": {
      "application/vnd.jupyter.widget-view+json": {
       "model_id": "e7f503efffea458286d0301f7022b5dc",
       "version_major": 2,
       "version_minor": 0
      },
      "text/plain": [
       "HBox(children=(IntProgress(value=0, max=512), HTML(value='')))"
      ]
     },
     "metadata": {},
     "output_type": "display_data"
    },
    {
     "name": "stdout",
     "output_type": "stream",
     "text": [
      "Number of cvr numbers in current iteration: 479\n"
     ]
    },
    {
     "data": {
      "application/vnd.jupyter.widget-view+json": {
       "model_id": "4b3005b77ab94d558af61f8b9cc88d3b",
       "version_major": 2,
       "version_minor": 0
      },
      "text/plain": [
       "HBox(children=(IntProgress(value=0, max=479), HTML(value='')))"
      ]
     },
     "metadata": {},
     "output_type": "display_data"
    },
    {
     "name": "stdout",
     "output_type": "stream",
     "text": [
      "Number of cvr numbers in current iteration: 89\n"
     ]
    },
    {
     "data": {
      "application/vnd.jupyter.widget-view+json": {
       "model_id": "afa4a650f93e4e158735efc536c05f9c",
       "version_major": 2,
       "version_minor": 0
      },
      "text/plain": [
       "HBox(children=(IntProgress(value=0, max=89), HTML(value='')))"
      ]
     },
     "metadata": {},
     "output_type": "display_data"
    },
    {
     "name": "stdout",
     "output_type": "stream",
     "text": [
      "Number of cvr numbers in current iteration: 106\n"
     ]
    },
    {
     "data": {
      "application/vnd.jupyter.widget-view+json": {
       "model_id": "55068546cc714647a5d01292206feeb7",
       "version_major": 2,
       "version_minor": 0
      },
      "text/plain": [
       "HBox(children=(IntProgress(value=0, max=106), HTML(value='')))"
      ]
     },
     "metadata": {},
     "output_type": "display_data"
    },
    {
     "name": "stdout",
     "output_type": "stream",
     "text": [
      "Number of cvr numbers in current iteration: 616\n"
     ]
    },
    {
     "data": {
      "application/vnd.jupyter.widget-view+json": {
       "model_id": "d6aaf2bb4d744deab7f759d29803b942",
       "version_major": 2,
       "version_minor": 0
      },
      "text/plain": [
       "HBox(children=(IntProgress(value=0, max=616), HTML(value='')))"
      ]
     },
     "metadata": {},
     "output_type": "display_data"
    },
    {
     "name": "stdout",
     "output_type": "stream",
     "text": [
      "Number of cvr numbers in current iteration: 667\n"
     ]
    },
    {
     "data": {
      "application/vnd.jupyter.widget-view+json": {
       "model_id": "11784bf7c34a4c6e915ebfdd5f84905d",
       "version_major": 2,
       "version_minor": 0
      },
      "text/plain": [
       "HBox(children=(IntProgress(value=0, max=667), HTML(value='')))"
      ]
     },
     "metadata": {},
     "output_type": "display_data"
    },
    {
     "name": "stdout",
     "output_type": "stream",
     "text": [
      "Number of cvr numbers in current iteration: 653\n"
     ]
    },
    {
     "data": {
      "application/vnd.jupyter.widget-view+json": {
       "model_id": "b79102685c074e689c974404717145a6",
       "version_major": 2,
       "version_minor": 0
      },
      "text/plain": [
       "HBox(children=(IntProgress(value=0, max=653), HTML(value='')))"
      ]
     },
     "metadata": {},
     "output_type": "display_data"
    },
    {
     "name": "stdout",
     "output_type": "stream",
     "text": [
      "Number of cvr numbers in current iteration: 718\n"
     ]
    },
    {
     "data": {
      "application/vnd.jupyter.widget-view+json": {
       "model_id": "7e1d70e9045d4ae9b67c3f75e48e07f9",
       "version_major": 2,
       "version_minor": 0
      },
      "text/plain": [
       "HBox(children=(IntProgress(value=0, max=718), HTML(value='')))"
      ]
     },
     "metadata": {},
     "output_type": "display_data"
    },
    {
     "name": "stdout",
     "output_type": "stream",
     "text": [
      "Number of cvr numbers in current iteration: 783\n"
     ]
    },
    {
     "data": {
      "application/vnd.jupyter.widget-view+json": {
       "model_id": "2451f3026219479bb5f7264e49a891e2",
       "version_major": 2,
       "version_minor": 0
      },
      "text/plain": [
       "HBox(children=(IntProgress(value=0, max=783), HTML(value='')))"
      ]
     },
     "metadata": {},
     "output_type": "display_data"
    },
    {
     "name": "stdout",
     "output_type": "stream",
     "text": [
      "Number of cvr numbers in current iteration: 136\n"
     ]
    },
    {
     "data": {
      "application/vnd.jupyter.widget-view+json": {
       "model_id": "199f90b0a71f4030bc4eb50327470469",
       "version_major": 2,
       "version_minor": 0
      },
      "text/plain": [
       "HBox(children=(IntProgress(value=0, max=136), HTML(value='')))"
      ]
     },
     "metadata": {},
     "output_type": "display_data"
    },
    {
     "name": "stdout",
     "output_type": "stream",
     "text": [
      "Number of cvr numbers in current iteration: 207\n"
     ]
    },
    {
     "data": {
      "application/vnd.jupyter.widget-view+json": {
       "model_id": "9b614be125a44d9b8266769d32d0b3d6",
       "version_major": 2,
       "version_minor": 0
      },
      "text/plain": [
       "HBox(children=(IntProgress(value=0, max=207), HTML(value='')))"
      ]
     },
     "metadata": {},
     "output_type": "display_data"
    },
    {
     "name": "stdout",
     "output_type": "stream",
     "text": [
      "Number of cvr numbers in current iteration: 1061\n"
     ]
    },
    {
     "data": {
      "application/vnd.jupyter.widget-view+json": {
       "model_id": "839a0caa30834b45ad4fd41a92ec4d43",
       "version_major": 2,
       "version_minor": 0
      },
      "text/plain": [
       "HBox(children=(IntProgress(value=0, max=1061), HTML(value='')))"
      ]
     },
     "metadata": {},
     "output_type": "display_data"
    },
    {
     "name": "stdout",
     "output_type": "stream",
     "text": [
      "Number of cvr numbers in current iteration: 1204\n"
     ]
    },
    {
     "data": {
      "application/vnd.jupyter.widget-view+json": {
       "model_id": "96f555863845420eabf7bed9eab64e6b",
       "version_major": 2,
       "version_minor": 0
      },
      "text/plain": [
       "HBox(children=(IntProgress(value=0, max=1204), HTML(value='')))"
      ]
     },
     "metadata": {},
     "output_type": "display_data"
    },
    {
     "name": "stdout",
     "output_type": "stream",
     "text": [
      "Number of cvr numbers in current iteration: 1864\n"
     ]
    },
    {
     "data": {
      "application/vnd.jupyter.widget-view+json": {
       "model_id": "631a0852a48c4a6b8c9f0aafb46e50a7",
       "version_major": 2,
       "version_minor": 0
      },
      "text/plain": [
       "HBox(children=(IntProgress(value=0, max=1864), HTML(value='')))"
      ]
     },
     "metadata": {},
     "output_type": "display_data"
    },
    {
     "name": "stdout",
     "output_type": "stream",
     "text": [
      "Number of cvr numbers in current iteration: 1288\n"
     ]
    },
    {
     "data": {
      "application/vnd.jupyter.widget-view+json": {
       "model_id": "1ebbd5878d85467a8e944ae0d16733da",
       "version_major": 2,
       "version_minor": 0
      },
      "text/plain": [
       "HBox(children=(IntProgress(value=0, max=1288), HTML(value='')))"
      ]
     },
     "metadata": {},
     "output_type": "display_data"
    },
    {
     "name": "stdout",
     "output_type": "stream",
     "text": [
      "Number of cvr numbers in current iteration: 1142\n"
     ]
    },
    {
     "data": {
      "application/vnd.jupyter.widget-view+json": {
       "model_id": "70bcb2608cd145cba953b34eb6a7c8d1",
       "version_major": 2,
       "version_minor": 0
      },
      "text/plain": [
       "HBox(children=(IntProgress(value=0, max=1142), HTML(value='')))"
      ]
     },
     "metadata": {},
     "output_type": "display_data"
    },
    {
     "name": "stdout",
     "output_type": "stream",
     "text": [
      "Number of cvr numbers in current iteration: 177\n"
     ]
    },
    {
     "data": {
      "application/vnd.jupyter.widget-view+json": {
       "model_id": "6b3e03eba62543ecb88869bb649ab4d0",
       "version_major": 2,
       "version_minor": 0
      },
      "text/plain": [
       "HBox(children=(IntProgress(value=0, max=177), HTML(value='')))"
      ]
     },
     "metadata": {},
     "output_type": "display_data"
    },
    {
     "name": "stdout",
     "output_type": "stream",
     "text": [
      "Number of cvr numbers in current iteration: 245\n"
     ]
    },
    {
     "data": {
      "application/vnd.jupyter.widget-view+json": {
       "model_id": "c5e3da7bfdb64f99bb848239c8f5ca0d",
       "version_major": 2,
       "version_minor": 0
      },
      "text/plain": [
       "HBox(children=(IntProgress(value=0, max=245), HTML(value='')))"
      ]
     },
     "metadata": {},
     "output_type": "display_data"
    },
    {
     "name": "stdout",
     "output_type": "stream",
     "text": [
      "Number of cvr numbers in current iteration: 1417\n"
     ]
    },
    {
     "data": {
      "application/vnd.jupyter.widget-view+json": {
       "model_id": "f01250e66c664ffbbe79e92b8d68f7f8",
       "version_major": 2,
       "version_minor": 0
      },
      "text/plain": [
       "HBox(children=(IntProgress(value=0, max=1417), HTML(value='')))"
      ]
     },
     "metadata": {},
     "output_type": "display_data"
    },
    {
     "name": "stdout",
     "output_type": "stream",
     "text": [
      "Number of cvr numbers in current iteration: 1129\n"
     ]
    },
    {
     "data": {
      "application/vnd.jupyter.widget-view+json": {
       "model_id": "4ee398a731ca4426ae426d90888676aa",
       "version_major": 2,
       "version_minor": 0
      },
      "text/plain": [
       "HBox(children=(IntProgress(value=0, max=1129), HTML(value='')))"
      ]
     },
     "metadata": {},
     "output_type": "display_data"
    },
    {
     "name": "stdout",
     "output_type": "stream",
     "text": [
      "Number of cvr numbers in current iteration: 1088\n"
     ]
    },
    {
     "data": {
      "application/vnd.jupyter.widget-view+json": {
       "model_id": "afc27cda55ef47238fbbfe5eaf574ba2",
       "version_major": 2,
       "version_minor": 0
      },
      "text/plain": [
       "HBox(children=(IntProgress(value=0, max=1088), HTML(value='')))"
      ]
     },
     "metadata": {},
     "output_type": "display_data"
    },
    {
     "name": "stdout",
     "output_type": "stream",
     "text": [
      "Number of cvr numbers in current iteration: 1057\n"
     ]
    },
    {
     "data": {
      "application/vnd.jupyter.widget-view+json": {
       "model_id": "1c46a81592fd44c4bbb1a88c123d1313",
       "version_major": 2,
       "version_minor": 0
      },
      "text/plain": [
       "HBox(children=(IntProgress(value=0, max=1057), HTML(value='')))"
      ]
     },
     "metadata": {},
     "output_type": "display_data"
    },
    {
     "name": "stdout",
     "output_type": "stream",
     "text": [
      "Number of cvr numbers in current iteration: 1273\n"
     ]
    },
    {
     "data": {
      "application/vnd.jupyter.widget-view+json": {
       "model_id": "3ae78d811f184c2a86fa1330878f81fa",
       "version_major": 2,
       "version_minor": 0
      },
      "text/plain": [
       "HBox(children=(IntProgress(value=0, max=1273), HTML(value='')))"
      ]
     },
     "metadata": {},
     "output_type": "display_data"
    },
    {
     "name": "stdout",
     "output_type": "stream",
     "text": [
      "Number of cvr numbers in current iteration: 158\n"
     ]
    },
    {
     "data": {
      "application/vnd.jupyter.widget-view+json": {
       "model_id": "4c94415d60f84e108a3f0ac7eea0b043",
       "version_major": 2,
       "version_minor": 0
      },
      "text/plain": [
       "HBox(children=(IntProgress(value=0, max=158), HTML(value='')))"
      ]
     },
     "metadata": {},
     "output_type": "display_data"
    },
    {
     "name": "stdout",
     "output_type": "stream",
     "text": [
      "Number of cvr numbers in current iteration: 205\n"
     ]
    },
    {
     "data": {
      "application/vnd.jupyter.widget-view+json": {
       "model_id": "12ad11e0a6b74f6798da009aa6f0c1d3",
       "version_major": 2,
       "version_minor": 0
      },
      "text/plain": [
       "HBox(children=(IntProgress(value=0, max=205), HTML(value='')))"
      ]
     },
     "metadata": {},
     "output_type": "display_data"
    },
    {
     "name": "stdout",
     "output_type": "stream",
     "text": [
      "Number of cvr numbers in current iteration: 1317\n"
     ]
    },
    {
     "data": {
      "application/vnd.jupyter.widget-view+json": {
       "model_id": "9f933f8e45b84e53a33769c7c348e4a6",
       "version_major": 2,
       "version_minor": 0
      },
      "text/plain": [
       "HBox(children=(IntProgress(value=0, max=1317), HTML(value='')))"
      ]
     },
     "metadata": {},
     "output_type": "display_data"
    },
    {
     "name": "stdout",
     "output_type": "stream",
     "text": [
      "Number of cvr numbers in current iteration: 1302\n"
     ]
    },
    {
     "data": {
      "application/vnd.jupyter.widget-view+json": {
       "model_id": "6423d347ffdb4d329919e42b0fb48d29",
       "version_major": 2,
       "version_minor": 0
      },
      "text/plain": [
       "HBox(children=(IntProgress(value=0, max=1302), HTML(value='')))"
      ]
     },
     "metadata": {},
     "output_type": "display_data"
    },
    {
     "name": "stdout",
     "output_type": "stream",
     "text": [
      "Number of cvr numbers in current iteration: 1648\n"
     ]
    },
    {
     "data": {
      "application/vnd.jupyter.widget-view+json": {
       "model_id": "1ab3b72f2678412e9d9108c4090431c1",
       "version_major": 2,
       "version_minor": 0
      },
      "text/plain": [
       "HBox(children=(IntProgress(value=0, max=1648), HTML(value='')))"
      ]
     },
     "metadata": {},
     "output_type": "display_data"
    },
    {
     "name": "stdout",
     "output_type": "stream",
     "text": [
      "Number of cvr numbers in current iteration: 836\n"
     ]
    },
    {
     "data": {
      "application/vnd.jupyter.widget-view+json": {
       "model_id": "3e42044a4a89423689b9badb934adedf",
       "version_major": 2,
       "version_minor": 0
      },
      "text/plain": [
       "HBox(children=(IntProgress(value=0, max=836), HTML(value='')))"
      ]
     },
     "metadata": {},
     "output_type": "display_data"
    },
    {
     "name": "stdout",
     "output_type": "stream",
     "text": [
      "Number of cvr numbers in current iteration: 922\n"
     ]
    },
    {
     "data": {
      "application/vnd.jupyter.widget-view+json": {
       "model_id": "df7a45cc4c814afda118e29aed3d1790",
       "version_major": 2,
       "version_minor": 0
      },
      "text/plain": [
       "HBox(children=(IntProgress(value=0, max=922), HTML(value='')))"
      ]
     },
     "metadata": {},
     "output_type": "display_data"
    },
    {
     "name": "stdout",
     "output_type": "stream",
     "text": [
      "Number of cvr numbers in current iteration: 117\n"
     ]
    },
    {
     "data": {
      "application/vnd.jupyter.widget-view+json": {
       "model_id": "ee83f35d2179444fbaf25fc7080ac8f9",
       "version_major": 2,
       "version_minor": 0
      },
      "text/plain": [
       "HBox(children=(IntProgress(value=0, max=117), HTML(value='')))"
      ]
     },
     "metadata": {},
     "output_type": "display_data"
    },
    {
     "name": "stdout",
     "output_type": "stream",
     "text": [
      "Number of cvr numbers in current iteration: 163\n"
     ]
    },
    {
     "data": {
      "application/vnd.jupyter.widget-view+json": {
       "model_id": "0f20328b4c5c4fd3b27c2536c9b7f2a1",
       "version_major": 2,
       "version_minor": 0
      },
      "text/plain": [
       "HBox(children=(IntProgress(value=0, max=163), HTML(value='')))"
      ]
     },
     "metadata": {},
     "output_type": "display_data"
    },
    {
     "name": "stdout",
     "output_type": "stream",
     "text": [
      "Number of cvr numbers in current iteration: 880\n"
     ]
    },
    {
     "data": {
      "application/vnd.jupyter.widget-view+json": {
       "model_id": "ad256ac4df09454f92a8f787f17f3f62",
       "version_major": 2,
       "version_minor": 0
      },
      "text/plain": [
       "HBox(children=(IntProgress(value=0, max=880), HTML(value='')))"
      ]
     },
     "metadata": {},
     "output_type": "display_data"
    },
    {
     "name": "stdout",
     "output_type": "stream",
     "text": [
      "Number of cvr numbers in current iteration: 962\n"
     ]
    },
    {
     "data": {
      "application/vnd.jupyter.widget-view+json": {
       "model_id": "7e70e86496a940628d1f0cebfcf4326f",
       "version_major": 2,
       "version_minor": 0
      },
      "text/plain": [
       "HBox(children=(IntProgress(value=0, max=962), HTML(value='')))"
      ]
     },
     "metadata": {},
     "output_type": "display_data"
    },
    {
     "name": "stdout",
     "output_type": "stream",
     "text": [
      "Number of cvr numbers in current iteration: 1001\n"
     ]
    },
    {
     "data": {
      "application/vnd.jupyter.widget-view+json": {
       "model_id": "8e2650bda65c47dd873aa2589ca215e7",
       "version_major": 2,
       "version_minor": 0
      },
      "text/plain": [
       "HBox(children=(IntProgress(value=0, max=1001), HTML(value='')))"
      ]
     },
     "metadata": {},
     "output_type": "display_data"
    },
    {
     "name": "stdout",
     "output_type": "stream",
     "text": [
      "Number of cvr numbers in current iteration: 995\n"
     ]
    },
    {
     "data": {
      "application/vnd.jupyter.widget-view+json": {
       "model_id": "ca57f0bf29524a23ad725b8789d8fb6c",
       "version_major": 2,
       "version_minor": 0
      },
      "text/plain": [
       "HBox(children=(IntProgress(value=0, max=995), HTML(value='')))"
      ]
     },
     "metadata": {},
     "output_type": "display_data"
    },
    {
     "name": "stdout",
     "output_type": "stream",
     "text": [
      "Number of cvr numbers in current iteration: 1286\n"
     ]
    },
    {
     "data": {
      "application/vnd.jupyter.widget-view+json": {
       "model_id": "3e65e087250147b0986246588ad9780d",
       "version_major": 2,
       "version_minor": 0
      },
      "text/plain": [
       "HBox(children=(IntProgress(value=0, max=1286), HTML(value='')))"
      ]
     },
     "metadata": {},
     "output_type": "display_data"
    },
    {
     "name": "stdout",
     "output_type": "stream",
     "text": [
      "Number of cvr numbers in current iteration: 146\n"
     ]
    },
    {
     "data": {
      "application/vnd.jupyter.widget-view+json": {
       "model_id": "aa7b0cb88b944739b40cad968cb17289",
       "version_major": 2,
       "version_minor": 0
      },
      "text/plain": [
       "HBox(children=(IntProgress(value=0, max=146), HTML(value='')))"
      ]
     },
     "metadata": {},
     "output_type": "display_data"
    },
    {
     "name": "stdout",
     "output_type": "stream",
     "text": [
      "Number of cvr numbers in current iteration: 132\n"
     ]
    },
    {
     "data": {
      "application/vnd.jupyter.widget-view+json": {
       "model_id": "36b30ec55c9d410aaac12ce38334c506",
       "version_major": 2,
       "version_minor": 0
      },
      "text/plain": [
       "HBox(children=(IntProgress(value=0, max=132), HTML(value='')))"
      ]
     },
     "metadata": {},
     "output_type": "display_data"
    },
    {
     "name": "stdout",
     "output_type": "stream",
     "text": [
      "Number of cvr numbers in current iteration: 1154\n"
     ]
    },
    {
     "data": {
      "application/vnd.jupyter.widget-view+json": {
       "model_id": "9cfba2c903184e33a8db98a1c51fa46d",
       "version_major": 2,
       "version_minor": 0
      },
      "text/plain": [
       "HBox(children=(IntProgress(value=0, max=1154), HTML(value='')))"
      ]
     },
     "metadata": {},
     "output_type": "display_data"
    },
    {
     "name": "stdout",
     "output_type": "stream",
     "text": [
      "Number of cvr numbers in current iteration: 946\n"
     ]
    },
    {
     "data": {
      "application/vnd.jupyter.widget-view+json": {
       "model_id": "5715b7e6d8ad439e91e11a0c17ebfba9",
       "version_major": 2,
       "version_minor": 0
      },
      "text/plain": [
       "HBox(children=(IntProgress(value=0, max=946), HTML(value='')))"
      ]
     },
     "metadata": {},
     "output_type": "display_data"
    },
    {
     "name": "stdout",
     "output_type": "stream",
     "text": [
      "Number of cvr numbers in current iteration: 832\n"
     ]
    },
    {
     "data": {
      "application/vnd.jupyter.widget-view+json": {
       "model_id": "54f81131d7c944e583e180c58821d804",
       "version_major": 2,
       "version_minor": 0
      },
      "text/plain": [
       "HBox(children=(IntProgress(value=0, max=832), HTML(value='')))"
      ]
     },
     "metadata": {},
     "output_type": "display_data"
    },
    {
     "name": "stdout",
     "output_type": "stream",
     "text": [
      "Number of cvr numbers in current iteration: 148\n"
     ]
    },
    {
     "data": {
      "application/vnd.jupyter.widget-view+json": {
       "model_id": "978ed6e24461484fb3a891a60a66bd5e",
       "version_major": 2,
       "version_minor": 0
      },
      "text/plain": [
       "HBox(children=(IntProgress(value=0, max=148), HTML(value='')))"
      ]
     },
     "metadata": {},
     "output_type": "display_data"
    },
    {
     "name": "stdout",
     "output_type": "stream",
     "text": [
      "Number of cvr numbers in current iteration: 105\n"
     ]
    },
    {
     "data": {
      "application/vnd.jupyter.widget-view+json": {
       "model_id": "e5f7ad23ad064faea55e0c3e95862a5e",
       "version_major": 2,
       "version_minor": 0
      },
      "text/plain": [
       "HBox(children=(IntProgress(value=0, max=105), HTML(value='')))"
      ]
     },
     "metadata": {},
     "output_type": "display_data"
    },
    {
     "name": "stdout",
     "output_type": "stream",
     "text": [
      "Number of cvr numbers in current iteration: 166\n"
     ]
    },
    {
     "data": {
      "application/vnd.jupyter.widget-view+json": {
       "model_id": "f7b17c95ad774d2898a0483595c22980",
       "version_major": 2,
       "version_minor": 0
      },
      "text/plain": [
       "HBox(children=(IntProgress(value=0, max=166), HTML(value='')))"
      ]
     },
     "metadata": {},
     "output_type": "display_data"
    },
    {
     "name": "stdout",
     "output_type": "stream",
     "text": [
      "Number of cvr numbers in current iteration: 122\n"
     ]
    },
    {
     "data": {
      "application/vnd.jupyter.widget-view+json": {
       "model_id": "779e6a317ded4fbfb6fb2703c2668541",
       "version_major": 2,
       "version_minor": 0
      },
      "text/plain": [
       "HBox(children=(IntProgress(value=0, max=122), HTML(value='')))"
      ]
     },
     "metadata": {},
     "output_type": "display_data"
    },
    {
     "name": "stdout",
     "output_type": "stream",
     "text": [
      "Number of cvr numbers in current iteration: 184\n"
     ]
    },
    {
     "data": {
      "application/vnd.jupyter.widget-view+json": {
       "model_id": "d92e97e0782541a1b7ce788262de93d0",
       "version_major": 2,
       "version_minor": 0
      },
      "text/plain": [
       "HBox(children=(IntProgress(value=0, max=184), HTML(value='')))"
      ]
     },
     "metadata": {},
     "output_type": "display_data"
    },
    {
     "name": "stdout",
     "output_type": "stream",
     "text": [
      "Number of cvr numbers in current iteration: 1189\n"
     ]
    },
    {
     "data": {
      "application/vnd.jupyter.widget-view+json": {
       "model_id": "75e7431933334656952a2da2454c6e17",
       "version_major": 2,
       "version_minor": 0
      },
      "text/plain": [
       "HBox(children=(IntProgress(value=0, max=1189), HTML(value='')))"
      ]
     },
     "metadata": {},
     "output_type": "display_data"
    },
    {
     "name": "stdout",
     "output_type": "stream",
     "text": [
      "Number of cvr numbers in current iteration: 979\n"
     ]
    },
    {
     "data": {
      "application/vnd.jupyter.widget-view+json": {
       "model_id": "49c2a94130f34c3cbc297aa2ac57b72b",
       "version_major": 2,
       "version_minor": 0
      },
      "text/plain": [
       "HBox(children=(IntProgress(value=0, max=979), HTML(value='')))"
      ]
     },
     "metadata": {},
     "output_type": "display_data"
    },
    {
     "name": "stdout",
     "output_type": "stream",
     "text": [
      "Number of cvr numbers in current iteration: 875\n"
     ]
    },
    {
     "data": {
      "application/vnd.jupyter.widget-view+json": {
       "model_id": "7124eb3181c44cebab049dadad973e86",
       "version_major": 2,
       "version_minor": 0
      },
      "text/plain": [
       "HBox(children=(IntProgress(value=0, max=875), HTML(value='')))"
      ]
     },
     "metadata": {},
     "output_type": "display_data"
    },
    {
     "name": "stdout",
     "output_type": "stream",
     "text": [
      "Number of cvr numbers in current iteration: 966\n"
     ]
    },
    {
     "data": {
      "application/vnd.jupyter.widget-view+json": {
       "model_id": "dcb79c4d84014127a2fbe7e6708403e9",
       "version_major": 2,
       "version_minor": 0
      },
      "text/plain": [
       "HBox(children=(IntProgress(value=0, max=966), HTML(value='')))"
      ]
     },
     "metadata": {},
     "output_type": "display_data"
    },
    {
     "name": "stdout",
     "output_type": "stream",
     "text": [
      "Number of cvr numbers in current iteration: 120\n"
     ]
    },
    {
     "data": {
      "application/vnd.jupyter.widget-view+json": {
       "model_id": "564431d944d24b0690f6f0a1a5bfd988",
       "version_major": 2,
       "version_minor": 0
      },
      "text/plain": [
       "HBox(children=(IntProgress(value=0, max=120), HTML(value='')))"
      ]
     },
     "metadata": {},
     "output_type": "display_data"
    },
    {
     "name": "stdout",
     "output_type": "stream",
     "text": [
      "Number of cvr numbers in current iteration: 152\n"
     ]
    },
    {
     "data": {
      "application/vnd.jupyter.widget-view+json": {
       "model_id": "0dd3666f84024a37aefb3273bd8572d2",
       "version_major": 2,
       "version_minor": 0
      },
      "text/plain": [
       "HBox(children=(IntProgress(value=0, max=152), HTML(value='')))"
      ]
     },
     "metadata": {},
     "output_type": "display_data"
    },
    {
     "name": "stdout",
     "output_type": "stream",
     "text": [
      "Number of cvr numbers in current iteration: 1087\n"
     ]
    },
    {
     "data": {
      "application/vnd.jupyter.widget-view+json": {
       "model_id": "52299685384a43718ccf70642d23a37c",
       "version_major": 2,
       "version_minor": 0
      },
      "text/plain": [
       "HBox(children=(IntProgress(value=0, max=1087), HTML(value='')))"
      ]
     },
     "metadata": {},
     "output_type": "display_data"
    },
    {
     "name": "stdout",
     "output_type": "stream",
     "text": [
      "Number of cvr numbers in current iteration: 1041\n"
     ]
    },
    {
     "data": {
      "application/vnd.jupyter.widget-view+json": {
       "model_id": "e60fc67bb34f4359bb41993770e9e42e",
       "version_major": 2,
       "version_minor": 0
      },
      "text/plain": [
       "HBox(children=(IntProgress(value=0, max=1041), HTML(value='')))"
      ]
     },
     "metadata": {},
     "output_type": "display_data"
    },
    {
     "name": "stdout",
     "output_type": "stream",
     "text": [
      "Number of cvr numbers in current iteration: 1004\n"
     ]
    },
    {
     "data": {
      "application/vnd.jupyter.widget-view+json": {
       "model_id": "9dc23166418d4f9aa7c5e01c94981bb1",
       "version_major": 2,
       "version_minor": 0
      },
      "text/plain": [
       "HBox(children=(IntProgress(value=0, max=1004), HTML(value='')))"
      ]
     },
     "metadata": {},
     "output_type": "display_data"
    },
    {
     "name": "stdout",
     "output_type": "stream",
     "text": [
      "Number of cvr numbers in current iteration: 997\n"
     ]
    },
    {
     "data": {
      "application/vnd.jupyter.widget-view+json": {
       "model_id": "9d92c755c3d844699c6f5097d87619f5",
       "version_major": 2,
       "version_minor": 0
      },
      "text/plain": [
       "HBox(children=(IntProgress(value=0, max=997), HTML(value='')))"
      ]
     },
     "metadata": {},
     "output_type": "display_data"
    },
    {
     "name": "stdout",
     "output_type": "stream",
     "text": [
      "Number of cvr numbers in current iteration: 1090\n"
     ]
    },
    {
     "data": {
      "application/vnd.jupyter.widget-view+json": {
       "model_id": "f8e2bbe38b70461ea25fe5de94e068db",
       "version_major": 2,
       "version_minor": 0
      },
      "text/plain": [
       "HBox(children=(IntProgress(value=0, max=1090), HTML(value='')))"
      ]
     },
     "metadata": {},
     "output_type": "display_data"
    },
    {
     "name": "stdout",
     "output_type": "stream",
     "text": [
      "Number of cvr numbers in current iteration: 131\n"
     ]
    },
    {
     "data": {
      "application/vnd.jupyter.widget-view+json": {
       "model_id": "5f061725127e4f87aad634ede3b6026f",
       "version_major": 2,
       "version_minor": 0
      },
      "text/plain": [
       "HBox(children=(IntProgress(value=0, max=131), HTML(value='')))"
      ]
     },
     "metadata": {},
     "output_type": "display_data"
    },
    {
     "name": "stdout",
     "output_type": "stream",
     "text": [
      "Number of cvr numbers in current iteration: 118\n"
     ]
    },
    {
     "data": {
      "application/vnd.jupyter.widget-view+json": {
       "model_id": "1daf2fe8a6e24f5db35c3c70f2b2c0b9",
       "version_major": 2,
       "version_minor": 0
      },
      "text/plain": [
       "HBox(children=(IntProgress(value=0, max=118), HTML(value='')))"
      ]
     },
     "metadata": {},
     "output_type": "display_data"
    },
    {
     "name": "stdout",
     "output_type": "stream",
     "text": [
      "Number of cvr numbers in current iteration: 1296\n"
     ]
    },
    {
     "data": {
      "application/vnd.jupyter.widget-view+json": {
       "model_id": "bf9c9c9266624eafbe52ebdb6caa9aac",
       "version_major": 2,
       "version_minor": 0
      },
      "text/plain": [
       "HBox(children=(IntProgress(value=0, max=1296), HTML(value='')))"
      ]
     },
     "metadata": {},
     "output_type": "display_data"
    },
    {
     "name": "stdout",
     "output_type": "stream",
     "text": [
      "Number of cvr numbers in current iteration: 1226\n"
     ]
    },
    {
     "data": {
      "application/vnd.jupyter.widget-view+json": {
       "model_id": "1022e1598575492285a85e42bb3e0d73",
       "version_major": 2,
       "version_minor": 0
      },
      "text/plain": [
       "HBox(children=(IntProgress(value=0, max=1226), HTML(value='')))"
      ]
     },
     "metadata": {},
     "output_type": "display_data"
    },
    {
     "name": "stdout",
     "output_type": "stream",
     "text": [
      "Number of cvr numbers in current iteration: 1112\n"
     ]
    },
    {
     "data": {
      "application/vnd.jupyter.widget-view+json": {
       "model_id": "576f71137a214670b7a0459714d58b05",
       "version_major": 2,
       "version_minor": 0
      },
      "text/plain": [
       "HBox(children=(IntProgress(value=0, max=1112), HTML(value='')))"
      ]
     },
     "metadata": {},
     "output_type": "display_data"
    },
    {
     "name": "stdout",
     "output_type": "stream",
     "text": [
      "Number of cvr numbers in current iteration: 1250\n"
     ]
    },
    {
     "data": {
      "application/vnd.jupyter.widget-view+json": {
       "model_id": "08d2ebafdbdb44bc8588c12103ec8fed",
       "version_major": 2,
       "version_minor": 0
      },
      "text/plain": [
       "HBox(children=(IntProgress(value=0, max=1250), HTML(value='')))"
      ]
     },
     "metadata": {},
     "output_type": "display_data"
    },
    {
     "name": "stdout",
     "output_type": "stream",
     "text": [
      "Number of cvr numbers in current iteration: 1064\n"
     ]
    },
    {
     "data": {
      "application/vnd.jupyter.widget-view+json": {
       "model_id": "0c209ac520f349c8bcc513f4b4869805",
       "version_major": 2,
       "version_minor": 0
      },
      "text/plain": [
       "HBox(children=(IntProgress(value=0, max=1064), HTML(value='')))"
      ]
     },
     "metadata": {},
     "output_type": "display_data"
    },
    {
     "name": "stdout",
     "output_type": "stream",
     "text": [
      "Number of cvr numbers in current iteration: 152\n"
     ]
    },
    {
     "data": {
      "application/vnd.jupyter.widget-view+json": {
       "model_id": "4727ee9b41304b7bbfaef8215bbc17d4",
       "version_major": 2,
       "version_minor": 0
      },
      "text/plain": [
       "HBox(children=(IntProgress(value=0, max=152), HTML(value='')))"
      ]
     },
     "metadata": {},
     "output_type": "display_data"
    },
    {
     "name": "stdout",
     "output_type": "stream",
     "text": [
      "Number of cvr numbers in current iteration: 154\n"
     ]
    },
    {
     "data": {
      "application/vnd.jupyter.widget-view+json": {
       "model_id": "bbff82fbc918424bb8c156a59fb887b6",
       "version_major": 2,
       "version_minor": 0
      },
      "text/plain": [
       "HBox(children=(IntProgress(value=0, max=154), HTML(value='')))"
      ]
     },
     "metadata": {},
     "output_type": "display_data"
    },
    {
     "name": "stdout",
     "output_type": "stream",
     "text": [
      "Number of cvr numbers in current iteration: 1429\n"
     ]
    },
    {
     "data": {
      "application/vnd.jupyter.widget-view+json": {
       "model_id": "9cdb383a16fc400b8dbfd6fc180ebd0c",
       "version_major": 2,
       "version_minor": 0
      },
      "text/plain": [
       "HBox(children=(IntProgress(value=0, max=1429), HTML(value='')))"
      ]
     },
     "metadata": {},
     "output_type": "display_data"
    },
    {
     "name": "stdout",
     "output_type": "stream",
     "text": [
      "Number of cvr numbers in current iteration: 1290\n"
     ]
    },
    {
     "data": {
      "application/vnd.jupyter.widget-view+json": {
       "model_id": "ea5bf6c3df9246c7bd514388f2d6db72",
       "version_major": 2,
       "version_minor": 0
      },
      "text/plain": [
       "HBox(children=(IntProgress(value=0, max=1290), HTML(value='')))"
      ]
     },
     "metadata": {},
     "output_type": "display_data"
    },
    {
     "name": "stdout",
     "output_type": "stream",
     "text": [
      "Number of cvr numbers in current iteration: 1267\n"
     ]
    },
    {
     "data": {
      "application/vnd.jupyter.widget-view+json": {
       "model_id": "ae943224a2d44f21bd6c8c534aaa8bce",
       "version_major": 2,
       "version_minor": 0
      },
      "text/plain": [
       "HBox(children=(IntProgress(value=0, max=1267), HTML(value='')))"
      ]
     },
     "metadata": {},
     "output_type": "display_data"
    },
    {
     "name": "stdout",
     "output_type": "stream",
     "text": [
      "Number of cvr numbers in current iteration: 1445\n"
     ]
    },
    {
     "data": {
      "application/vnd.jupyter.widget-view+json": {
       "model_id": "1bf861bfbabf4cc3889c4f46d7cd65da",
       "version_major": 2,
       "version_minor": 0
      },
      "text/plain": [
       "HBox(children=(IntProgress(value=0, max=1445), HTML(value='')))"
      ]
     },
     "metadata": {},
     "output_type": "display_data"
    },
    {
     "name": "stdout",
     "output_type": "stream",
     "text": [
      "Number of cvr numbers in current iteration: 315\n"
     ]
    },
    {
     "data": {
      "application/vnd.jupyter.widget-view+json": {
       "model_id": "cde7723fe17141a79885fdc43990b4ce",
       "version_major": 2,
       "version_minor": 0
      },
      "text/plain": [
       "HBox(children=(IntProgress(value=0, max=315), HTML(value='')))"
      ]
     },
     "metadata": {},
     "output_type": "display_data"
    },
    {
     "name": "stdout",
     "output_type": "stream",
     "text": [
      "Number of cvr numbers in current iteration: 125\n"
     ]
    },
    {
     "data": {
      "application/vnd.jupyter.widget-view+json": {
       "model_id": "d21748ffebbe4869b65cca51ff8b6d0f",
       "version_major": 2,
       "version_minor": 0
      },
      "text/plain": [
       "HBox(children=(IntProgress(value=0, max=125), HTML(value='')))"
      ]
     },
     "metadata": {},
     "output_type": "display_data"
    },
    {
     "name": "stdout",
     "output_type": "stream",
     "text": [
      "Number of cvr numbers in current iteration: 178\n"
     ]
    },
    {
     "data": {
      "application/vnd.jupyter.widget-view+json": {
       "model_id": "1dc444cfee6a45409752c868534f600d",
       "version_major": 2,
       "version_minor": 0
      },
      "text/plain": [
       "HBox(children=(IntProgress(value=0, max=178), HTML(value='')))"
      ]
     },
     "metadata": {},
     "output_type": "display_data"
    },
    {
     "name": "stdout",
     "output_type": "stream",
     "text": [
      "Number of cvr numbers in current iteration: 1854\n"
     ]
    },
    {
     "data": {
      "application/vnd.jupyter.widget-view+json": {
       "model_id": "8f8b8a7a84c34a09bd0bd59c03f69d0d",
       "version_major": 2,
       "version_minor": 0
      },
      "text/plain": [
       "HBox(children=(IntProgress(value=0, max=1854), HTML(value='')))"
      ]
     },
     "metadata": {},
     "output_type": "display_data"
    },
    {
     "name": "stdout",
     "output_type": "stream",
     "text": [
      "Number of cvr numbers in current iteration: 1495\n"
     ]
    },
    {
     "data": {
      "application/vnd.jupyter.widget-view+json": {
       "model_id": "e984a1d878664599b4ce0190a05ff365",
       "version_major": 2,
       "version_minor": 0
      },
      "text/plain": [
       "HBox(children=(IntProgress(value=0, max=1495), HTML(value='')))"
      ]
     },
     "metadata": {},
     "output_type": "display_data"
    },
    {
     "name": "stdout",
     "output_type": "stream",
     "text": [
      "Number of cvr numbers in current iteration: 1311\n"
     ]
    },
    {
     "data": {
      "application/vnd.jupyter.widget-view+json": {
       "model_id": "1a8f9057e5f24265a8d19915d0853557",
       "version_major": 2,
       "version_minor": 0
      },
      "text/plain": [
       "HBox(children=(IntProgress(value=0, max=1311), HTML(value='')))"
      ]
     },
     "metadata": {},
     "output_type": "display_data"
    },
    {
     "name": "stdout",
     "output_type": "stream",
     "text": [
      "Number of cvr numbers in current iteration: 1476\n"
     ]
    },
    {
     "data": {
      "application/vnd.jupyter.widget-view+json": {
       "model_id": "c7d2cac7f0454a71871977a38622c4fc",
       "version_major": 2,
       "version_minor": 0
      },
      "text/plain": [
       "HBox(children=(IntProgress(value=0, max=1476), HTML(value='')))"
      ]
     },
     "metadata": {},
     "output_type": "display_data"
    },
    {
     "name": "stdout",
     "output_type": "stream",
     "text": [
      "Number of cvr numbers in current iteration: 1450\n"
     ]
    },
    {
     "data": {
      "application/vnd.jupyter.widget-view+json": {
       "model_id": "165551d1e01a46508a5487eb9ee47232",
       "version_major": 2,
       "version_minor": 0
      },
      "text/plain": [
       "HBox(children=(IntProgress(value=0, max=1450), HTML(value='')))"
      ]
     },
     "metadata": {},
     "output_type": "display_data"
    },
    {
     "name": "stdout",
     "output_type": "stream",
     "text": [
      "Number of cvr numbers in current iteration: 175\n"
     ]
    },
    {
     "data": {
      "application/vnd.jupyter.widget-view+json": {
       "model_id": "8937c36b764a4fb7a716f410f40c7a79",
       "version_major": 2,
       "version_minor": 0
      },
      "text/plain": [
       "HBox(children=(IntProgress(value=0, max=175), HTML(value='')))"
      ]
     },
     "metadata": {},
     "output_type": "display_data"
    },
    {
     "name": "stdout",
     "output_type": "stream",
     "text": [
      "Number of cvr numbers in current iteration: 191\n"
     ]
    },
    {
     "data": {
      "application/vnd.jupyter.widget-view+json": {
       "model_id": "b377d7b09b1d43b6b4fc60d2eb000456",
       "version_major": 2,
       "version_minor": 0
      },
      "text/plain": [
       "HBox(children=(IntProgress(value=0, max=191), HTML(value='')))"
      ]
     },
     "metadata": {},
     "output_type": "display_data"
    },
    {
     "name": "stdout",
     "output_type": "stream",
     "text": [
      "Number of cvr numbers in current iteration: 1665\n"
     ]
    },
    {
     "data": {
      "application/vnd.jupyter.widget-view+json": {
       "model_id": "c68d3b68aab347cda70cd6268e9a6422",
       "version_major": 2,
       "version_minor": 0
      },
      "text/plain": [
       "HBox(children=(IntProgress(value=0, max=1665), HTML(value='')))"
      ]
     },
     "metadata": {},
     "output_type": "display_data"
    },
    {
     "name": "stdout",
     "output_type": "stream",
     "text": [
      "Number of cvr numbers in current iteration: 1636\n"
     ]
    },
    {
     "data": {
      "application/vnd.jupyter.widget-view+json": {
       "model_id": "83343884046d4d788ae81dced9415691",
       "version_major": 2,
       "version_minor": 0
      },
      "text/plain": [
       "HBox(children=(IntProgress(value=0, max=1636), HTML(value='')))"
      ]
     },
     "metadata": {},
     "output_type": "display_data"
    },
    {
     "name": "stdout",
     "output_type": "stream",
     "text": [
      "Number of cvr numbers in current iteration: 1569\n"
     ]
    },
    {
     "data": {
      "application/vnd.jupyter.widget-view+json": {
       "model_id": "f968b18846d0486eb599daaf5d6af870",
       "version_major": 2,
       "version_minor": 0
      },
      "text/plain": [
       "HBox(children=(IntProgress(value=0, max=1569), HTML(value='')))"
      ]
     },
     "metadata": {},
     "output_type": "display_data"
    },
    {
     "name": "stdout",
     "output_type": "stream",
     "text": [
      "Number of cvr numbers in current iteration: 453\n"
     ]
    },
    {
     "data": {
      "application/vnd.jupyter.widget-view+json": {
       "model_id": "777ad94c00a448bfabb2de5e2ad88cc7",
       "version_major": 2,
       "version_minor": 0
      },
      "text/plain": [
       "HBox(children=(IntProgress(value=0, max=453), HTML(value='')))"
      ]
     },
     "metadata": {},
     "output_type": "display_data"
    },
    {
     "name": "stdout",
     "output_type": "stream",
     "text": [
      "Number of cvr numbers in current iteration: 701\n"
     ]
    },
    {
     "data": {
      "application/vnd.jupyter.widget-view+json": {
       "model_id": "6d74681b896c43c590450e12548bd2bc",
       "version_major": 2,
       "version_minor": 0
      },
      "text/plain": [
       "HBox(children=(IntProgress(value=0, max=701), HTML(value='')))"
      ]
     },
     "metadata": {},
     "output_type": "display_data"
    },
    {
     "name": "stdout",
     "output_type": "stream",
     "text": [
      "Number of cvr numbers in current iteration: 174\n"
     ]
    },
    {
     "data": {
      "application/vnd.jupyter.widget-view+json": {
       "model_id": "6f549f41119d4ae8bbe1431013a15e83",
       "version_major": 2,
       "version_minor": 0
      },
      "text/plain": [
       "HBox(children=(IntProgress(value=0, max=174), HTML(value='')))"
      ]
     },
     "metadata": {},
     "output_type": "display_data"
    },
    {
     "name": "stdout",
     "output_type": "stream",
     "text": [
      "Number of cvr numbers in current iteration: 192\n"
     ]
    },
    {
     "data": {
      "application/vnd.jupyter.widget-view+json": {
       "model_id": "fd99fad16fa2493ea8f9eb4f6e5c37ba",
       "version_major": 2,
       "version_minor": 0
      },
      "text/plain": [
       "HBox(children=(IntProgress(value=0, max=192), HTML(value='')))"
      ]
     },
     "metadata": {},
     "output_type": "display_data"
    },
    {
     "name": "stdout",
     "output_type": "stream",
     "text": [
      "Number of cvr numbers in current iteration: 1868\n"
     ]
    },
    {
     "data": {
      "application/vnd.jupyter.widget-view+json": {
       "model_id": "b5863c1adef54de5ac22e7d6c2776d09",
       "version_major": 2,
       "version_minor": 0
      },
      "text/plain": [
       "HBox(children=(IntProgress(value=0, max=1868), HTML(value='')))"
      ]
     },
     "metadata": {},
     "output_type": "display_data"
    },
    {
     "name": "stdout",
     "output_type": "stream",
     "text": [
      "Number of cvr numbers in current iteration: 1648\n"
     ]
    },
    {
     "data": {
      "application/vnd.jupyter.widget-view+json": {
       "model_id": "6b2eced5f8314f0a853fcecb0a76c7ac",
       "version_major": 2,
       "version_minor": 0
      },
      "text/plain": [
       "HBox(children=(IntProgress(value=0, max=1648), HTML(value='')))"
      ]
     },
     "metadata": {},
     "output_type": "display_data"
    },
    {
     "name": "stdout",
     "output_type": "stream",
     "text": [
      "Number of cvr numbers in current iteration: 1974\n"
     ]
    },
    {
     "data": {
      "application/vnd.jupyter.widget-view+json": {
       "model_id": "2b2bc946063a48e9abcbfa257496fc8d",
       "version_major": 2,
       "version_minor": 0
      },
      "text/plain": [
       "HBox(children=(IntProgress(value=0, max=1974), HTML(value='')))"
      ]
     },
     "metadata": {},
     "output_type": "display_data"
    },
    {
     "name": "stdout",
     "output_type": "stream",
     "text": [
      "Number of cvr numbers in current iteration: 2196\n"
     ]
    },
    {
     "data": {
      "application/vnd.jupyter.widget-view+json": {
       "model_id": "4a2e5aa140bd41088d1391092dc4fd80",
       "version_major": 2,
       "version_minor": 0
      },
      "text/plain": [
       "HBox(children=(IntProgress(value=0, max=2196), HTML(value='')))"
      ]
     },
     "metadata": {},
     "output_type": "display_data"
    },
    {
     "name": "stdout",
     "output_type": "stream",
     "text": [
      "Number of cvr numbers in current iteration: 2102\n"
     ]
    },
    {
     "data": {
      "application/vnd.jupyter.widget-view+json": {
       "model_id": "b00d87f1c7c94e619e6a08a8de4e2c1c",
       "version_major": 2,
       "version_minor": 0
      },
      "text/plain": [
       "HBox(children=(IntProgress(value=0, max=2102), HTML(value='')))"
      ]
     },
     "metadata": {},
     "output_type": "display_data"
    },
    {
     "name": "stdout",
     "output_type": "stream",
     "text": [
      "Number of cvr numbers in current iteration: 321\n"
     ]
    },
    {
     "data": {
      "application/vnd.jupyter.widget-view+json": {
       "model_id": "2dfffd3082cc4a909e627cd77bc521e5",
       "version_major": 2,
       "version_minor": 0
      },
      "text/plain": [
       "HBox(children=(IntProgress(value=0, max=321), HTML(value='')))"
      ]
     },
     "metadata": {},
     "output_type": "display_data"
    },
    {
     "name": "stdout",
     "output_type": "stream",
     "text": [
      "Number of cvr numbers in current iteration: 268\n"
     ]
    },
    {
     "data": {
      "application/vnd.jupyter.widget-view+json": {
       "model_id": "2c987577d1104b1ba490427f952999f9",
       "version_major": 2,
       "version_minor": 0
      },
      "text/plain": [
       "HBox(children=(IntProgress(value=0, max=268), HTML(value='')))"
      ]
     },
     "metadata": {},
     "output_type": "display_data"
    },
    {
     "name": "stdout",
     "output_type": "stream",
     "text": [
      "Number of cvr numbers in current iteration: 548\n"
     ]
    },
    {
     "data": {
      "application/vnd.jupyter.widget-view+json": {
       "model_id": "5c4590d7dc89430bbf9022d0110b1203",
       "version_major": 2,
       "version_minor": 0
      },
      "text/plain": [
       "HBox(children=(IntProgress(value=0, max=548), HTML(value='')))"
      ]
     },
     "metadata": {},
     "output_type": "display_data"
    },
    {
     "name": "stdout",
     "output_type": "stream",
     "text": [
      "Number of cvr numbers in current iteration: 2604\n"
     ]
    },
    {
     "data": {
      "application/vnd.jupyter.widget-view+json": {
       "model_id": "677dce0fa18043a4a2d35967cdaf3d59",
       "version_major": 2,
       "version_minor": 0
      },
      "text/plain": [
       "HBox(children=(IntProgress(value=0, max=2604), HTML(value='')))"
      ]
     },
     "metadata": {},
     "output_type": "display_data"
    },
    {
     "name": "stdout",
     "output_type": "stream",
     "text": [
      "Number of cvr numbers in current iteration: 2910\n"
     ]
    },
    {
     "data": {
      "application/vnd.jupyter.widget-view+json": {
       "model_id": "879d3b4ffaea4afbb3e6ecd177b72250",
       "version_major": 2,
       "version_minor": 0
      },
      "text/plain": [
       "HBox(children=(IntProgress(value=0, max=2910), HTML(value='')))"
      ]
     },
     "metadata": {},
     "output_type": "display_data"
    },
    {
     "name": "stdout",
     "output_type": "stream",
     "text": [
      "Number of cvr numbers in current iteration: 2999\n"
     ]
    },
    {
     "data": {
      "application/vnd.jupyter.widget-view+json": {
       "model_id": "5fd49cda1fd54c2c8cb58c0b2344cdc8",
       "version_major": 2,
       "version_minor": 0
      },
      "text/plain": [
       "HBox(children=(IntProgress(value=0, max=2999), HTML(value='')))"
      ]
     },
     "metadata": {},
     "output_type": "display_data"
    },
    {
     "name": "stdout",
     "output_type": "stream",
     "text": [
      "Number of cvr numbers in current iteration: 2999\n"
     ]
    },
    {
     "data": {
      "application/vnd.jupyter.widget-view+json": {
       "model_id": "c7105af82afd41388b0a6a86a822ef9b",
       "version_major": 2,
       "version_minor": 0
      },
      "text/plain": [
       "HBox(children=(IntProgress(value=0, max=2999), HTML(value='')))"
      ]
     },
     "metadata": {},
     "output_type": "display_data"
    },
    {
     "name": "stdout",
     "output_type": "stream",
     "text": [
      "Number of cvr numbers in current iteration: 651\n"
     ]
    },
    {
     "data": {
      "application/vnd.jupyter.widget-view+json": {
       "model_id": "09d10d7b04d441d68e96c8e02fcc8fe9",
       "version_major": 2,
       "version_minor": 0
      },
      "text/plain": [
       "HBox(children=(IntProgress(value=0, max=651), HTML(value='')))"
      ]
     },
     "metadata": {},
     "output_type": "display_data"
    },
    {
     "name": "stdout",
     "output_type": "stream",
     "text": [
      "Number of cvr numbers in current iteration: 846\n"
     ]
    },
    {
     "data": {
      "application/vnd.jupyter.widget-view+json": {
       "model_id": "f3d6096091ba45f696d79dcd537940a9",
       "version_major": 2,
       "version_minor": 0
      },
      "text/plain": [
       "HBox(children=(IntProgress(value=0, max=846), HTML(value='')))"
      ]
     },
     "metadata": {},
     "output_type": "display_data"
    },
    {
     "name": "stdout",
     "output_type": "stream",
     "text": [
      "Number of cvr numbers in current iteration: 2999\n"
     ]
    },
    {
     "data": {
      "application/vnd.jupyter.widget-view+json": {
       "model_id": "e3052e4b33ea417b9d7b5dbaa58dda95",
       "version_major": 2,
       "version_minor": 0
      },
      "text/plain": [
       "HBox(children=(IntProgress(value=0, max=2999), HTML(value='')))"
      ]
     },
     "metadata": {},
     "output_type": "display_data"
    },
    {
     "name": "stdout",
     "output_type": "stream",
     "text": [
      "Number of cvr numbers in current iteration: 2999\n"
     ]
    },
    {
     "data": {
      "application/vnd.jupyter.widget-view+json": {
       "model_id": "b717f3eb7ff943129c812159a2a85cb1",
       "version_major": 2,
       "version_minor": 0
      },
      "text/plain": [
       "HBox(children=(IntProgress(value=0, max=2999), HTML(value='')))"
      ]
     },
     "metadata": {},
     "output_type": "display_data"
    },
    {
     "name": "stdout",
     "output_type": "stream",
     "text": [
      "Number of cvr numbers in current iteration: 2999\n"
     ]
    },
    {
     "data": {
      "application/vnd.jupyter.widget-view+json": {
       "model_id": "42f21291cc18437eb1ad9d0e80aa4c65",
       "version_major": 2,
       "version_minor": 0
      },
      "text/plain": [
       "HBox(children=(IntProgress(value=0, max=2999), HTML(value='')))"
      ]
     },
     "metadata": {},
     "output_type": "display_data"
    },
    {
     "name": "stdout",
     "output_type": "stream",
     "text": [
      "Number of cvr numbers in current iteration: 2999\n"
     ]
    },
    {
     "data": {
      "application/vnd.jupyter.widget-view+json": {
       "model_id": "81e7e78948504ddab84e0bc859b025b7",
       "version_major": 2,
       "version_minor": 0
      },
      "text/plain": [
       "HBox(children=(IntProgress(value=0, max=2999), HTML(value='')))"
      ]
     },
     "metadata": {},
     "output_type": "display_data"
    },
    {
     "name": "stdout",
     "output_type": "stream",
     "text": [
      "Number of cvr numbers in current iteration: 2999\n"
     ]
    },
    {
     "data": {
      "application/vnd.jupyter.widget-view+json": {
       "model_id": "1011f3034ba847f38ff8e572cb0fb358",
       "version_major": 2,
       "version_minor": 0
      },
      "text/plain": [
       "HBox(children=(IntProgress(value=0, max=2999), HTML(value='')))"
      ]
     },
     "metadata": {},
     "output_type": "display_data"
    },
    {
     "name": "stdout",
     "output_type": "stream",
     "text": [
      "Number of cvr numbers in current iteration: 624\n"
     ]
    },
    {
     "data": {
      "application/vnd.jupyter.widget-view+json": {
       "model_id": "ce96a1565d4440a683c0f7058f14ba42",
       "version_major": 2,
       "version_minor": 0
      },
      "text/plain": [
       "HBox(children=(IntProgress(value=0, max=624), HTML(value='')))"
      ]
     },
     "metadata": {},
     "output_type": "display_data"
    },
    {
     "name": "stdout",
     "output_type": "stream",
     "text": [
      "Number of cvr numbers in current iteration: 729\n"
     ]
    },
    {
     "data": {
      "application/vnd.jupyter.widget-view+json": {
       "model_id": "a8721593a47e44998b0cd21ed2b4dffe",
       "version_major": 2,
       "version_minor": 0
      },
      "text/plain": [
       "HBox(children=(IntProgress(value=0, max=729), HTML(value='')))"
      ]
     },
     "metadata": {},
     "output_type": "display_data"
    },
    {
     "name": "stdout",
     "output_type": "stream",
     "text": [
      "Number of cvr numbers in current iteration: 2999\n"
     ]
    },
    {
     "data": {
      "application/vnd.jupyter.widget-view+json": {
       "model_id": "6e66f0d7f2994dd4acbab9da23e3d7ea",
       "version_major": 2,
       "version_minor": 0
      },
      "text/plain": [
       "HBox(children=(IntProgress(value=0, max=2999), HTML(value='')))"
      ]
     },
     "metadata": {},
     "output_type": "display_data"
    },
    {
     "name": "stdout",
     "output_type": "stream",
     "text": [
      "Number of cvr numbers in current iteration: 2391\n"
     ]
    },
    {
     "data": {
      "application/vnd.jupyter.widget-view+json": {
       "model_id": "d0e452417f2640139308d46dc1c35c95",
       "version_major": 2,
       "version_minor": 0
      },
      "text/plain": [
       "HBox(children=(IntProgress(value=0, max=2391), HTML(value='')))"
      ]
     },
     "metadata": {},
     "output_type": "display_data"
    },
    {
     "name": "stdout",
     "output_type": "stream",
     "text": [
      "Number of cvr numbers in current iteration: 2999\n"
     ]
    },
    {
     "data": {
      "application/vnd.jupyter.widget-view+json": {
       "model_id": "677df798075544ebbb0bf06681ba8e59",
       "version_major": 2,
       "version_minor": 0
      },
      "text/plain": [
       "HBox(children=(IntProgress(value=0, max=2999), HTML(value='')))"
      ]
     },
     "metadata": {},
     "output_type": "display_data"
    },
    {
     "name": "stdout",
     "output_type": "stream",
     "text": [
      "Number of cvr numbers in current iteration: 2999\n"
     ]
    },
    {
     "data": {
      "application/vnd.jupyter.widget-view+json": {
       "model_id": "682aa14740074cf6b8e8cf2882ebe85b",
       "version_major": 2,
       "version_minor": 0
      },
      "text/plain": [
       "HBox(children=(IntProgress(value=0, max=2999), HTML(value='')))"
      ]
     },
     "metadata": {},
     "output_type": "display_data"
    },
    {
     "name": "stdout",
     "output_type": "stream",
     "text": [
      "Number of cvr numbers in current iteration: 2960\n"
     ]
    },
    {
     "data": {
      "application/vnd.jupyter.widget-view+json": {
       "model_id": "5cb8dc388fd0462f8ed3b762260cc223",
       "version_major": 2,
       "version_minor": 0
      },
      "text/plain": [
       "HBox(children=(IntProgress(value=0, max=2960), HTML(value='')))"
      ]
     },
     "metadata": {},
     "output_type": "display_data"
    },
    {
     "name": "stderr",
     "output_type": "stream",
     "text": [
      "Traceback (most recent call last):\n",
      "KeyError: 'xbrl'\n"
     ]
    },
    {
     "name": "stdout",
     "output_type": "stream",
     "text": [
      "Traceback (most recent call last):\n",
      "KeyError: 'xbrl'\n",
      "\n",
      "Number of cvr numbers in current iteration: 997\n"
     ]
    },
    {
     "data": {
      "application/vnd.jupyter.widget-view+json": {
       "model_id": "71d994c63ecb499999c986b1651b8acf",
       "version_major": 2,
       "version_minor": 0
      },
      "text/plain": [
       "HBox(children=(IntProgress(value=0, max=997), HTML(value='')))"
      ]
     },
     "metadata": {},
     "output_type": "display_data"
    },
    {
     "name": "stdout",
     "output_type": "stream",
     "text": [
      "Number of cvr numbers in current iteration: 601\n"
     ]
    },
    {
     "data": {
      "application/vnd.jupyter.widget-view+json": {
       "model_id": "53db597ceb3845d28b1ecf10bdf77566",
       "version_major": 2,
       "version_minor": 0
      },
      "text/plain": [
       "HBox(children=(IntProgress(value=0, max=601), HTML(value='')))"
      ]
     },
     "metadata": {},
     "output_type": "display_data"
    },
    {
     "name": "stdout",
     "output_type": "stream",
     "text": [
      "Number of cvr numbers in current iteration: 2999\n"
     ]
    },
    {
     "data": {
      "application/vnd.jupyter.widget-view+json": {
       "model_id": "ae8edf9a558540b59e5095dae8366251",
       "version_major": 2,
       "version_minor": 0
      },
      "text/plain": [
       "HBox(children=(IntProgress(value=0, max=2999), HTML(value='')))"
      ]
     },
     "metadata": {},
     "output_type": "display_data"
    },
    {
     "name": "stdout",
     "output_type": "stream",
     "text": [
      "Number of cvr numbers in current iteration: 2999\n"
     ]
    },
    {
     "data": {
      "application/vnd.jupyter.widget-view+json": {
       "model_id": "69404577d88b4fe5ae36203053c96e7d",
       "version_major": 2,
       "version_minor": 0
      },
      "text/plain": [
       "HBox(children=(IntProgress(value=0, max=2999), HTML(value='')))"
      ]
     },
     "metadata": {},
     "output_type": "display_data"
    },
    {
     "name": "stdout",
     "output_type": "stream",
     "text": [
      "Number of cvr numbers in current iteration: 2999\n"
     ]
    },
    {
     "data": {
      "application/vnd.jupyter.widget-view+json": {
       "model_id": "8a7a322793584e45861c1349f821acd7",
       "version_major": 2,
       "version_minor": 0
      },
      "text/plain": [
       "HBox(children=(IntProgress(value=0, max=2999), HTML(value='')))"
      ]
     },
     "metadata": {},
     "output_type": "display_data"
    },
    {
     "name": "stdout",
     "output_type": "stream",
     "text": [
      "Number of cvr numbers in current iteration: 2837\n"
     ]
    },
    {
     "data": {
      "application/vnd.jupyter.widget-view+json": {
       "model_id": "6eed273eb375434b94e03d3cabdea5ad",
       "version_major": 2,
       "version_minor": 0
      },
      "text/plain": [
       "HBox(children=(IntProgress(value=0, max=2837), HTML(value='')))"
      ]
     },
     "metadata": {},
     "output_type": "display_data"
    },
    {
     "name": "stdout",
     "output_type": "stream",
     "text": [
      "Number of cvr numbers in current iteration: 2638\n"
     ]
    },
    {
     "data": {
      "application/vnd.jupyter.widget-view+json": {
       "model_id": "f34efaae3b96416894557281d54873e9",
       "version_major": 2,
       "version_minor": 0
      },
      "text/plain": [
       "HBox(children=(IntProgress(value=0, max=2638), HTML(value='')))"
      ]
     },
     "metadata": {},
     "output_type": "display_data"
    },
    {
     "name": "stdout",
     "output_type": "stream",
     "text": [
      "Number of cvr numbers in current iteration: 524\n"
     ]
    },
    {
     "data": {
      "application/vnd.jupyter.widget-view+json": {
       "model_id": "ec41b6fdabd0426d9a8378833629a36a",
       "version_major": 2,
       "version_minor": 0
      },
      "text/plain": [
       "HBox(children=(IntProgress(value=0, max=524), HTML(value='')))"
      ]
     },
     "metadata": {},
     "output_type": "display_data"
    },
    {
     "name": "stdout",
     "output_type": "stream",
     "text": [
      "Number of cvr numbers in current iteration: 711\n"
     ]
    },
    {
     "data": {
      "application/vnd.jupyter.widget-view+json": {
       "model_id": "63001184daca4267af25d75e81225390",
       "version_major": 2,
       "version_minor": 0
      },
      "text/plain": [
       "HBox(children=(IntProgress(value=0, max=711), HTML(value='')))"
      ]
     },
     "metadata": {},
     "output_type": "display_data"
    },
    {
     "name": "stdout",
     "output_type": "stream",
     "text": [
      "Number of cvr numbers in current iteration: 2999\n"
     ]
    },
    {
     "data": {
      "application/vnd.jupyter.widget-view+json": {
       "model_id": "99d1e74785d84d559b9190e5e43bb1fc",
       "version_major": 2,
       "version_minor": 0
      },
      "text/plain": [
       "HBox(children=(IntProgress(value=0, max=2999), HTML(value='')))"
      ]
     },
     "metadata": {},
     "output_type": "display_data"
    },
    {
     "name": "stdout",
     "output_type": "stream",
     "text": [
      "Number of cvr numbers in current iteration: 2999\n"
     ]
    },
    {
     "data": {
      "application/vnd.jupyter.widget-view+json": {
       "model_id": "4d45141ea2114bd0b01c95b44bb20a36",
       "version_major": 2,
       "version_minor": 0
      },
      "text/plain": [
       "HBox(children=(IntProgress(value=0, max=2999), HTML(value='')))"
      ]
     },
     "metadata": {},
     "output_type": "display_data"
    },
    {
     "name": "stdout",
     "output_type": "stream",
     "text": [
      "Number of cvr numbers in current iteration: 2999\n"
     ]
    },
    {
     "data": {
      "application/vnd.jupyter.widget-view+json": {
       "model_id": "bd11fefdbe3844f48539c05bd2ccf188",
       "version_major": 2,
       "version_minor": 0
      },
      "text/plain": [
       "HBox(children=(IntProgress(value=0, max=2999), HTML(value='')))"
      ]
     },
     "metadata": {},
     "output_type": "display_data"
    },
    {
     "name": "stdout",
     "output_type": "stream",
     "text": [
      "Number of cvr numbers in current iteration: 1814\n"
     ]
    },
    {
     "data": {
      "application/vnd.jupyter.widget-view+json": {
       "model_id": "df23243f447743089bd10494f9c6548b",
       "version_major": 2,
       "version_minor": 0
      },
      "text/plain": [
       "HBox(children=(IntProgress(value=0, max=1814), HTML(value='')))"
      ]
     },
     "metadata": {},
     "output_type": "display_data"
    },
    {
     "name": "stdout",
     "output_type": "stream",
     "text": [
      "Number of cvr numbers in current iteration: 1257\n"
     ]
    },
    {
     "data": {
      "application/vnd.jupyter.widget-view+json": {
       "model_id": "8ed47fa547d3487d8aec7553d0368c1f",
       "version_major": 2,
       "version_minor": 0
      },
      "text/plain": [
       "HBox(children=(IntProgress(value=0, max=1257), HTML(value='')))"
      ]
     },
     "metadata": {},
     "output_type": "display_data"
    },
    {
     "name": "stdout",
     "output_type": "stream",
     "text": [
      "Number of cvr numbers in current iteration: 134\n"
     ]
    },
    {
     "data": {
      "application/vnd.jupyter.widget-view+json": {
       "model_id": "0f7d214b5c9f4f968cac97260b1b89f0",
       "version_major": 2,
       "version_minor": 0
      },
      "text/plain": [
       "HBox(children=(IntProgress(value=0, max=134), HTML(value='')))"
      ]
     },
     "metadata": {},
     "output_type": "display_data"
    },
    {
     "name": "stdout",
     "output_type": "stream",
     "text": [
      "Number of cvr numbers in current iteration: 245\n"
     ]
    },
    {
     "data": {
      "application/vnd.jupyter.widget-view+json": {
       "model_id": "295f1f46de9c49048a0700a8a8ef42e0",
       "version_major": 2,
       "version_minor": 0
      },
      "text/plain": [
       "HBox(children=(IntProgress(value=0, max=245), HTML(value='')))"
      ]
     },
     "metadata": {},
     "output_type": "display_data"
    },
    {
     "name": "stdout",
     "output_type": "stream",
     "text": [
      "Number of cvr numbers in current iteration: 1217\n"
     ]
    },
    {
     "data": {
      "application/vnd.jupyter.widget-view+json": {
       "model_id": "ae083774b81a401cba4ee7018c58a240",
       "version_major": 2,
       "version_minor": 0
      },
      "text/plain": [
       "HBox(children=(IntProgress(value=0, max=1217), HTML(value='')))"
      ]
     },
     "metadata": {},
     "output_type": "display_data"
    },
    {
     "name": "stdout",
     "output_type": "stream",
     "text": [
      "Number of cvr numbers in current iteration: 600\n"
     ]
    },
    {
     "data": {
      "application/vnd.jupyter.widget-view+json": {
       "model_id": "471f5968b4294a9b996c153ac219ba05",
       "version_major": 2,
       "version_minor": 0
      },
      "text/plain": [
       "HBox(children=(IntProgress(value=0, max=600), HTML(value='')))"
      ]
     },
     "metadata": {},
     "output_type": "display_data"
    },
    {
     "name": "stdout",
     "output_type": "stream",
     "text": [
      "Number of cvr numbers in current iteration: 564\n"
     ]
    },
    {
     "data": {
      "application/vnd.jupyter.widget-view+json": {
       "model_id": "6172ca7d1dfa4c20a90e8ca3782c9738",
       "version_major": 2,
       "version_minor": 0
      },
      "text/plain": [
       "HBox(children=(IntProgress(value=0, max=564), HTML(value='')))"
      ]
     },
     "metadata": {},
     "output_type": "display_data"
    },
    {
     "name": "stdout",
     "output_type": "stream",
     "text": [
      "Number of cvr numbers in current iteration: 666\n"
     ]
    },
    {
     "data": {
      "application/vnd.jupyter.widget-view+json": {
       "model_id": "7f51d9506c3a4b98be41a5fbf476d588",
       "version_major": 2,
       "version_minor": 0
      },
      "text/plain": [
       "HBox(children=(IntProgress(value=0, max=666), HTML(value='')))"
      ]
     },
     "metadata": {},
     "output_type": "display_data"
    },
    {
     "name": "stdout",
     "output_type": "stream",
     "text": [
      "Number of cvr numbers in current iteration: 956\n"
     ]
    },
    {
     "data": {
      "application/vnd.jupyter.widget-view+json": {
       "model_id": "b71d8142ca11423d930a9d907d640386",
       "version_major": 2,
       "version_minor": 0
      },
      "text/plain": [
       "HBox(children=(IntProgress(value=0, max=956), HTML(value='')))"
      ]
     },
     "metadata": {},
     "output_type": "display_data"
    },
    {
     "name": "stdout",
     "output_type": "stream",
     "text": [
      "Number of cvr numbers in current iteration: 413\n"
     ]
    },
    {
     "data": {
      "application/vnd.jupyter.widget-view+json": {
       "model_id": "cc565e3e97634294a70d454ea034bc80",
       "version_major": 2,
       "version_minor": 0
      },
      "text/plain": [
       "HBox(children=(IntProgress(value=0, max=413), HTML(value='')))"
      ]
     },
     "metadata": {},
     "output_type": "display_data"
    },
    {
     "name": "stdout",
     "output_type": "stream",
     "text": [
      "Number of cvr numbers in current iteration: 183\n"
     ]
    },
    {
     "data": {
      "application/vnd.jupyter.widget-view+json": {
       "model_id": "74e7dc7537a5442fae68511a3f83699f",
       "version_major": 2,
       "version_minor": 0
      },
      "text/plain": [
       "HBox(children=(IntProgress(value=0, max=183), HTML(value='')))"
      ]
     },
     "metadata": {},
     "output_type": "display_data"
    },
    {
     "name": "stdout",
     "output_type": "stream",
     "text": [
      "Number of cvr numbers in current iteration: 506\n"
     ]
    },
    {
     "data": {
      "application/vnd.jupyter.widget-view+json": {
       "model_id": "6d3b8b5d47a24f7493aabfbb0ae7c2b1",
       "version_major": 2,
       "version_minor": 0
      },
      "text/plain": [
       "HBox(children=(IntProgress(value=0, max=506), HTML(value='')))"
      ]
     },
     "metadata": {},
     "output_type": "display_data"
    },
    {
     "name": "stdout",
     "output_type": "stream",
     "text": [
      "Number of cvr numbers in current iteration: 477\n"
     ]
    },
    {
     "data": {
      "application/vnd.jupyter.widget-view+json": {
       "model_id": "0cb1a7b3c22543a6921dd64abeb5a48b",
       "version_major": 2,
       "version_minor": 0
      },
      "text/plain": [
       "HBox(children=(IntProgress(value=0, max=477), HTML(value='')))"
      ]
     },
     "metadata": {},
     "output_type": "display_data"
    },
    {
     "name": "stdout",
     "output_type": "stream",
     "text": [
      "Number of cvr numbers in current iteration: 631\n"
     ]
    },
    {
     "data": {
      "application/vnd.jupyter.widget-view+json": {
       "model_id": "7d9d59c2391e4f0b90901d75789e37ff",
       "version_major": 2,
       "version_minor": 0
      },
      "text/plain": [
       "HBox(children=(IntProgress(value=0, max=631), HTML(value='')))"
      ]
     },
     "metadata": {},
     "output_type": "display_data"
    },
    {
     "name": "stdout",
     "output_type": "stream",
     "text": [
      "Number of cvr numbers in current iteration: 750\n"
     ]
    },
    {
     "data": {
      "application/vnd.jupyter.widget-view+json": {
       "model_id": "52dafe35bc2b4755a976825cea8f0cdc",
       "version_major": 2,
       "version_minor": 0
      },
      "text/plain": [
       "HBox(children=(IntProgress(value=0, max=750), HTML(value='')))"
      ]
     },
     "metadata": {},
     "output_type": "display_data"
    },
    {
     "name": "stdout",
     "output_type": "stream",
     "text": [
      "Number of cvr numbers in current iteration: 807\n"
     ]
    },
    {
     "data": {
      "application/vnd.jupyter.widget-view+json": {
       "model_id": "867101ebbd1d4c0e9c728422368da47e",
       "version_major": 2,
       "version_minor": 0
      },
      "text/plain": [
       "HBox(children=(IntProgress(value=0, max=807), HTML(value='')))"
      ]
     },
     "metadata": {},
     "output_type": "display_data"
    },
    {
     "name": "stdout",
     "output_type": "stream",
     "text": [
      "Number of cvr numbers in current iteration: 72\n"
     ]
    },
    {
     "data": {
      "application/vnd.jupyter.widget-view+json": {
       "model_id": "314ec7e9f73c48309a1093ff99aca55d",
       "version_major": 2,
       "version_minor": 0
      },
      "text/plain": [
       "HBox(children=(IntProgress(value=0, max=72), HTML(value='')))"
      ]
     },
     "metadata": {},
     "output_type": "display_data"
    },
    {
     "name": "stdout",
     "output_type": "stream",
     "text": [
      "Number of cvr numbers in current iteration: 114\n"
     ]
    },
    {
     "data": {
      "application/vnd.jupyter.widget-view+json": {
       "model_id": "d1ad4f13e5264d39801e355218aa7af8",
       "version_major": 2,
       "version_minor": 0
      },
      "text/plain": [
       "HBox(children=(IntProgress(value=0, max=114), HTML(value='')))"
      ]
     },
     "metadata": {},
     "output_type": "display_data"
    },
    {
     "name": "stdout",
     "output_type": "stream",
     "text": [
      "Number of cvr numbers in current iteration: 452\n"
     ]
    },
    {
     "data": {
      "application/vnd.jupyter.widget-view+json": {
       "model_id": "e345dc578272408e9dacc2065f502685",
       "version_major": 2,
       "version_minor": 0
      },
      "text/plain": [
       "HBox(children=(IntProgress(value=0, max=452), HTML(value='')))"
      ]
     },
     "metadata": {},
     "output_type": "display_data"
    },
    {
     "name": "stdout",
     "output_type": "stream",
     "text": [
      "Number of cvr numbers in current iteration: 333\n"
     ]
    },
    {
     "data": {
      "application/vnd.jupyter.widget-view+json": {
       "model_id": "745aaeb0c572490fa8ab91ebac4b2ff6",
       "version_major": 2,
       "version_minor": 0
      },
      "text/plain": [
       "HBox(children=(IntProgress(value=0, max=333), HTML(value='')))"
      ]
     },
     "metadata": {},
     "output_type": "display_data"
    },
    {
     "name": "stdout",
     "output_type": "stream",
     "text": [
      "Number of cvr numbers in current iteration: 224\n"
     ]
    },
    {
     "data": {
      "application/vnd.jupyter.widget-view+json": {
       "model_id": "18c37b85f5d34404882e79a49fdd2c21",
       "version_major": 2,
       "version_minor": 0
      },
      "text/plain": [
       "HBox(children=(IntProgress(value=0, max=224), HTML(value='')))"
      ]
     },
     "metadata": {},
     "output_type": "display_data"
    },
    {
     "name": "stdout",
     "output_type": "stream",
     "text": [
      "Number of cvr numbers in current iteration: 77\n"
     ]
    },
    {
     "data": {
      "application/vnd.jupyter.widget-view+json": {
       "model_id": "b6c3db49e28f4672ade77f6009e8af80",
       "version_major": 2,
       "version_minor": 0
      },
      "text/plain": [
       "HBox(children=(IntProgress(value=0, max=77), HTML(value='')))"
      ]
     },
     "metadata": {},
     "output_type": "display_data"
    },
    {
     "name": "stdout",
     "output_type": "stream",
     "text": [
      "Number of cvr numbers in current iteration: 312\n"
     ]
    },
    {
     "data": {
      "application/vnd.jupyter.widget-view+json": {
       "model_id": "e32f6dce757b495ebbebdb7488c0c6da",
       "version_major": 2,
       "version_minor": 0
      },
      "text/plain": [
       "HBox(children=(IntProgress(value=0, max=312), HTML(value='')))"
      ]
     },
     "metadata": {},
     "output_type": "display_data"
    },
    {
     "name": "stdout",
     "output_type": "stream",
     "text": [
      "Number of cvr numbers in current iteration: 35\n"
     ]
    },
    {
     "data": {
      "application/vnd.jupyter.widget-view+json": {
       "model_id": "1da3e4b56c834e8385badbb3ef0e4788",
       "version_major": 2,
       "version_minor": 0
      },
      "text/plain": [
       "HBox(children=(IntProgress(value=0, max=35), HTML(value='')))"
      ]
     },
     "metadata": {},
     "output_type": "display_data"
    },
    {
     "name": "stdout",
     "output_type": "stream",
     "text": [
      "Number of cvr numbers in current iteration: 31\n"
     ]
    },
    {
     "data": {
      "application/vnd.jupyter.widget-view+json": {
       "model_id": "66fc8099b8b04d668746b935002121e2",
       "version_major": 2,
       "version_minor": 0
      },
      "text/plain": [
       "HBox(children=(IntProgress(value=0, max=31), HTML(value='')))"
      ]
     },
     "metadata": {},
     "output_type": "display_data"
    },
    {
     "name": "stdout",
     "output_type": "stream",
     "text": [
      "Number of cvr numbers in current iteration: 195\n"
     ]
    },
    {
     "data": {
      "application/vnd.jupyter.widget-view+json": {
       "model_id": "2d40817c9e054504bce4e788b1cd3335",
       "version_major": 2,
       "version_minor": 0
      },
      "text/plain": [
       "HBox(children=(IntProgress(value=0, max=195), HTML(value='')))"
      ]
     },
     "metadata": {},
     "output_type": "display_data"
    },
    {
     "name": "stdout",
     "output_type": "stream",
     "text": [
      "Number of cvr numbers in current iteration: 137\n"
     ]
    },
    {
     "data": {
      "application/vnd.jupyter.widget-view+json": {
       "model_id": "79f25ed8ff154726b82efb523cf2e815",
       "version_major": 2,
       "version_minor": 0
      },
      "text/plain": [
       "HBox(children=(IntProgress(value=0, max=137), HTML(value='')))"
      ]
     },
     "metadata": {},
     "output_type": "display_data"
    },
    {
     "name": "stdout",
     "output_type": "stream",
     "text": [
      "Number of cvr numbers in current iteration: 110\n"
     ]
    },
    {
     "data": {
      "application/vnd.jupyter.widget-view+json": {
       "model_id": "f5b9ff2f45ce47798d4ec747c6083709",
       "version_major": 2,
       "version_minor": 0
      },
      "text/plain": [
       "HBox(children=(IntProgress(value=0, max=110), HTML(value='')))"
      ]
     },
     "metadata": {},
     "output_type": "display_data"
    },
    {
     "name": "stdout",
     "output_type": "stream",
     "text": [
      "Number of cvr numbers in current iteration: 78\n"
     ]
    },
    {
     "data": {
      "application/vnd.jupyter.widget-view+json": {
       "model_id": "ccc108ff7e024344aacd850107ebecff",
       "version_major": 2,
       "version_minor": 0
      },
      "text/plain": [
       "HBox(children=(IntProgress(value=0, max=78), HTML(value='')))"
      ]
     },
     "metadata": {},
     "output_type": "display_data"
    },
    {
     "name": "stdout",
     "output_type": "stream",
     "text": [
      "Number of cvr numbers in current iteration: 89\n"
     ]
    },
    {
     "data": {
      "application/vnd.jupyter.widget-view+json": {
       "model_id": "4d4cbe15691c470cad0ed60db688320b",
       "version_major": 2,
       "version_minor": 0
      },
      "text/plain": [
       "HBox(children=(IntProgress(value=0, max=89), HTML(value='')))"
      ]
     },
     "metadata": {},
     "output_type": "display_data"
    },
    {
     "name": "stdout",
     "output_type": "stream",
     "text": [
      "Number of cvr numbers in current iteration: 13\n"
     ]
    },
    {
     "data": {
      "application/vnd.jupyter.widget-view+json": {
       "model_id": "15e378b48e95470580c782333534e844",
       "version_major": 2,
       "version_minor": 0
      },
      "text/plain": [
       "HBox(children=(IntProgress(value=0, max=13), HTML(value='')))"
      ]
     },
     "metadata": {},
     "output_type": "display_data"
    },
    {
     "name": "stdout",
     "output_type": "stream",
     "text": [
      "Number of cvr numbers in current iteration: 19\n"
     ]
    },
    {
     "data": {
      "application/vnd.jupyter.widget-view+json": {
       "model_id": "7dd7cc368e454e268a84a25c865af8de",
       "version_major": 2,
       "version_minor": 0
      },
      "text/plain": [
       "HBox(children=(IntProgress(value=0, max=19), HTML(value='')))"
      ]
     },
     "metadata": {},
     "output_type": "display_data"
    },
    {
     "name": "stdout",
     "output_type": "stream",
     "text": [
      "Number of cvr numbers in current iteration: 67\n"
     ]
    },
    {
     "data": {
      "application/vnd.jupyter.widget-view+json": {
       "model_id": "96f3f5ae448b42d28a2fb75139ad7e28",
       "version_major": 2,
       "version_minor": 0
      },
      "text/plain": [
       "HBox(children=(IntProgress(value=0, max=67), HTML(value='')))"
      ]
     },
     "metadata": {},
     "output_type": "display_data"
    },
    {
     "name": "stdout",
     "output_type": "stream",
     "text": [
      "Number of cvr numbers in current iteration: 69\n"
     ]
    },
    {
     "data": {
      "application/vnd.jupyter.widget-view+json": {
       "model_id": "5f55a923bad34bff8e761270ecf74ec7",
       "version_major": 2,
       "version_minor": 0
      },
      "text/plain": [
       "HBox(children=(IntProgress(value=0, max=69), HTML(value='')))"
      ]
     },
     "metadata": {},
     "output_type": "display_data"
    },
    {
     "name": "stderr",
     "output_type": "stream",
     "text": [
      "Traceback (most recent call last):\n",
      "KeyError: 'xbrl'\n"
     ]
    },
    {
     "name": "stdout",
     "output_type": "stream",
     "text": [
      "Traceback (most recent call last):\n",
      "KeyError: 'xbrl'\n",
      "\n",
      "Number of cvr numbers in current iteration: 67\n"
     ]
    },
    {
     "data": {
      "application/vnd.jupyter.widget-view+json": {
       "model_id": "c5f337d06a0b4946afab50413ba7f47a",
       "version_major": 2,
       "version_minor": 0
      },
      "text/plain": [
       "HBox(children=(IntProgress(value=0, max=67), HTML(value='')))"
      ]
     },
     "metadata": {},
     "output_type": "display_data"
    },
    {
     "name": "stdout",
     "output_type": "stream",
     "text": [
      "Number of cvr numbers in current iteration: 80\n"
     ]
    },
    {
     "data": {
      "application/vnd.jupyter.widget-view+json": {
       "model_id": "d310d4034cec42ff938211931a01a4c5",
       "version_major": 2,
       "version_minor": 0
      },
      "text/plain": [
       "HBox(children=(IntProgress(value=0, max=80), HTML(value='')))"
      ]
     },
     "metadata": {},
     "output_type": "display_data"
    },
    {
     "name": "stdout",
     "output_type": "stream",
     "text": [
      "Number of cvr numbers in current iteration: 45\n"
     ]
    },
    {
     "data": {
      "application/vnd.jupyter.widget-view+json": {
       "model_id": "4ad78d975ca7465a90b8b637e7706039",
       "version_major": 2,
       "version_minor": 0
      },
      "text/plain": [
       "HBox(children=(IntProgress(value=0, max=45), HTML(value='')))"
      ]
     },
     "metadata": {},
     "output_type": "display_data"
    },
    {
     "name": "stdout",
     "output_type": "stream",
     "text": [
      "Number of cvr numbers in current iteration: 5\n"
     ]
    },
    {
     "data": {
      "application/vnd.jupyter.widget-view+json": {
       "model_id": "e0704626be6d46c5baf1a8c22c5200a8",
       "version_major": 2,
       "version_minor": 0
      },
      "text/plain": [
       "HBox(children=(IntProgress(value=0, max=5), HTML(value='')))"
      ]
     },
     "metadata": {},
     "output_type": "display_data"
    },
    {
     "name": "stdout",
     "output_type": "stream",
     "text": [
      "Number of cvr numbers in current iteration: 22\n"
     ]
    },
    {
     "data": {
      "application/vnd.jupyter.widget-view+json": {
       "model_id": "0c74565623564a0c946614ecd6149e8b",
       "version_major": 2,
       "version_minor": 0
      },
      "text/plain": [
       "HBox(children=(IntProgress(value=0, max=22), HTML(value='')))"
      ]
     },
     "metadata": {},
     "output_type": "display_data"
    },
    {
     "name": "stdout",
     "output_type": "stream",
     "text": [
      "Number of cvr numbers in current iteration: 106\n"
     ]
    },
    {
     "data": {
      "application/vnd.jupyter.widget-view+json": {
       "model_id": "688ab3eeb9494d1fb94d2451354e9985",
       "version_major": 2,
       "version_minor": 0
      },
      "text/plain": [
       "HBox(children=(IntProgress(value=0, max=106), HTML(value='')))"
      ]
     },
     "metadata": {},
     "output_type": "display_data"
    },
    {
     "name": "stdout",
     "output_type": "stream",
     "text": [
      "Number of cvr numbers in current iteration: 146\n"
     ]
    },
    {
     "data": {
      "application/vnd.jupyter.widget-view+json": {
       "model_id": "e6bedb04a5ae41cfb5c0288ab3861ff0",
       "version_major": 2,
       "version_minor": 0
      },
      "text/plain": [
       "HBox(children=(IntProgress(value=0, max=146), HTML(value='')))"
      ]
     },
     "metadata": {},
     "output_type": "display_data"
    },
    {
     "name": "stdout",
     "output_type": "stream",
     "text": [
      "Number of cvr numbers in current iteration: 98\n"
     ]
    },
    {
     "data": {
      "application/vnd.jupyter.widget-view+json": {
       "model_id": "a7e26a6ede4f47c9a5262d670575dd27",
       "version_major": 2,
       "version_minor": 0
      },
      "text/plain": [
       "HBox(children=(IntProgress(value=0, max=98), HTML(value='')))"
      ]
     },
     "metadata": {},
     "output_type": "display_data"
    },
    {
     "name": "stdout",
     "output_type": "stream",
     "text": [
      "Number of cvr numbers in current iteration: 56\n"
     ]
    },
    {
     "data": {
      "application/vnd.jupyter.widget-view+json": {
       "model_id": "b3143949a4ba40a78ff57415989f0511",
       "version_major": 2,
       "version_minor": 0
      },
      "text/plain": [
       "HBox(children=(IntProgress(value=0, max=56), HTML(value='')))"
      ]
     },
     "metadata": {},
     "output_type": "display_data"
    },
    {
     "name": "stdout",
     "output_type": "stream",
     "text": [
      "Number of cvr numbers in current iteration: 70\n"
     ]
    },
    {
     "data": {
      "application/vnd.jupyter.widget-view+json": {
       "model_id": "4fd84f12a6f244ea9075dd28d66f9ee6",
       "version_major": 2,
       "version_minor": 0
      },
      "text/plain": [
       "HBox(children=(IntProgress(value=0, max=70), HTML(value='')))"
      ]
     },
     "metadata": {},
     "output_type": "display_data"
    },
    {
     "name": "stdout",
     "output_type": "stream",
     "text": [
      "Number of cvr numbers in current iteration: 14\n"
     ]
    },
    {
     "data": {
      "application/vnd.jupyter.widget-view+json": {
       "model_id": "3db72cbe0a294f60bafc1894f5505d2c",
       "version_major": 2,
       "version_minor": 0
      },
      "text/plain": [
       "HBox(children=(IntProgress(value=0, max=14), HTML(value='')))"
      ]
     },
     "metadata": {},
     "output_type": "display_data"
    },
    {
     "name": "stdout",
     "output_type": "stream",
     "text": [
      "Number of cvr numbers in current iteration: 32\n"
     ]
    },
    {
     "data": {
      "application/vnd.jupyter.widget-view+json": {
       "model_id": "85bf094da0184efa89361dbbb450cc01",
       "version_major": 2,
       "version_minor": 0
      },
      "text/plain": [
       "HBox(children=(IntProgress(value=0, max=32), HTML(value='')))"
      ]
     },
     "metadata": {},
     "output_type": "display_data"
    },
    {
     "name": "stdout",
     "output_type": "stream",
     "text": [
      "Number of cvr numbers in current iteration: 115\n"
     ]
    },
    {
     "data": {
      "application/vnd.jupyter.widget-view+json": {
       "model_id": "3918dd74aba247079fd2a75fad7d94c4",
       "version_major": 2,
       "version_minor": 0
      },
      "text/plain": [
       "HBox(children=(IntProgress(value=0, max=115), HTML(value='')))"
      ]
     },
     "metadata": {},
     "output_type": "display_data"
    },
    {
     "name": "stdout",
     "output_type": "stream",
     "text": [
      "Number of cvr numbers in current iteration: 113\n"
     ]
    },
    {
     "data": {
      "application/vnd.jupyter.widget-view+json": {
       "model_id": "1a26a54b41ca4795a226f1f6059160ae",
       "version_major": 2,
       "version_minor": 0
      },
      "text/plain": [
       "HBox(children=(IntProgress(value=0, max=113), HTML(value='')))"
      ]
     },
     "metadata": {},
     "output_type": "display_data"
    },
    {
     "name": "stdout",
     "output_type": "stream",
     "text": [
      "Number of cvr numbers in current iteration: 90\n"
     ]
    },
    {
     "data": {
      "application/vnd.jupyter.widget-view+json": {
       "model_id": "041f4b1d0b564cbdbd45978377c20ef8",
       "version_major": 2,
       "version_minor": 0
      },
      "text/plain": [
       "HBox(children=(IntProgress(value=0, max=90), HTML(value='')))"
      ]
     },
     "metadata": {},
     "output_type": "display_data"
    },
    {
     "name": "stdout",
     "output_type": "stream",
     "text": [
      "Number of cvr numbers in current iteration: 108\n"
     ]
    },
    {
     "data": {
      "application/vnd.jupyter.widget-view+json": {
       "model_id": "e18498e3db0344f5ad542d03c8c5bec8",
       "version_major": 2,
       "version_minor": 0
      },
      "text/plain": [
       "HBox(children=(IntProgress(value=0, max=108), HTML(value='')))"
      ]
     },
     "metadata": {},
     "output_type": "display_data"
    },
    {
     "name": "stdout",
     "output_type": "stream",
     "text": [
      "Number of cvr numbers in current iteration: 140\n"
     ]
    },
    {
     "data": {
      "application/vnd.jupyter.widget-view+json": {
       "model_id": "7ed72879b5cd46229347271197ece4ea",
       "version_major": 2,
       "version_minor": 0
      },
      "text/plain": [
       "HBox(children=(IntProgress(value=0, max=140), HTML(value='')))"
      ]
     },
     "metadata": {},
     "output_type": "display_data"
    },
    {
     "name": "stdout",
     "output_type": "stream",
     "text": [
      "Number of cvr numbers in current iteration: 49\n"
     ]
    },
    {
     "data": {
      "application/vnd.jupyter.widget-view+json": {
       "model_id": "f10f476eebeb44bc902e1db8e6fc57e9",
       "version_major": 2,
       "version_minor": 0
      },
      "text/plain": [
       "HBox(children=(IntProgress(value=0, max=49), HTML(value='')))"
      ]
     },
     "metadata": {},
     "output_type": "display_data"
    },
    {
     "name": "stdout",
     "output_type": "stream",
     "text": [
      "Number of cvr numbers in current iteration: 26\n"
     ]
    },
    {
     "data": {
      "application/vnd.jupyter.widget-view+json": {
       "model_id": "3950f221b8f34fd59c4969b28ca66fa3",
       "version_major": 2,
       "version_minor": 0
      },
      "text/plain": [
       "HBox(children=(IntProgress(value=0, max=26), HTML(value='')))"
      ]
     },
     "metadata": {},
     "output_type": "display_data"
    },
    {
     "name": "stdout",
     "output_type": "stream",
     "text": [
      "Number of cvr numbers in current iteration: 157\n"
     ]
    },
    {
     "data": {
      "application/vnd.jupyter.widget-view+json": {
       "model_id": "fd48488a059743a08245a347227516d9",
       "version_major": 2,
       "version_minor": 0
      },
      "text/plain": [
       "HBox(children=(IntProgress(value=0, max=157), HTML(value='')))"
      ]
     },
     "metadata": {},
     "output_type": "display_data"
    },
    {
     "name": "stdout",
     "output_type": "stream",
     "text": [
      "Number of cvr numbers in current iteration: 170\n"
     ]
    },
    {
     "data": {
      "application/vnd.jupyter.widget-view+json": {
       "model_id": "64d5e0c124874822ac193f4bc9458c62",
       "version_major": 2,
       "version_minor": 0
      },
      "text/plain": [
       "HBox(children=(IntProgress(value=0, max=170), HTML(value='')))"
      ]
     },
     "metadata": {},
     "output_type": "display_data"
    },
    {
     "name": "stdout",
     "output_type": "stream",
     "text": [
      "Number of cvr numbers in current iteration: 173\n"
     ]
    },
    {
     "data": {
      "application/vnd.jupyter.widget-view+json": {
       "model_id": "8c8ed07c0805464b9e0dec9b556233f8",
       "version_major": 2,
       "version_minor": 0
      },
      "text/plain": [
       "HBox(children=(IntProgress(value=0, max=173), HTML(value='')))"
      ]
     },
     "metadata": {},
     "output_type": "display_data"
    },
    {
     "name": "stdout",
     "output_type": "stream",
     "text": [
      "Number of cvr numbers in current iteration: 168\n"
     ]
    },
    {
     "data": {
      "application/vnd.jupyter.widget-view+json": {
       "model_id": "3e14f0aa34cf4f6fa3a8b3a29ae8afe2",
       "version_major": 2,
       "version_minor": 0
      },
      "text/plain": [
       "HBox(children=(IntProgress(value=0, max=168), HTML(value='')))"
      ]
     },
     "metadata": {},
     "output_type": "display_data"
    },
    {
     "name": "stdout",
     "output_type": "stream",
     "text": [
      "Number of cvr numbers in current iteration: 139\n"
     ]
    },
    {
     "data": {
      "application/vnd.jupyter.widget-view+json": {
       "model_id": "9df113976a2d472b8a4489c3865053cd",
       "version_major": 2,
       "version_minor": 0
      },
      "text/plain": [
       "HBox(children=(IntProgress(value=0, max=139), HTML(value='')))"
      ]
     },
     "metadata": {},
     "output_type": "display_data"
    },
    {
     "name": "stdout",
     "output_type": "stream",
     "text": [
      "Number of cvr numbers in current iteration: 16\n"
     ]
    },
    {
     "data": {
      "application/vnd.jupyter.widget-view+json": {
       "model_id": "af320957f1314a0a98db361b7757c6a2",
       "version_major": 2,
       "version_minor": 0
      },
      "text/plain": [
       "HBox(children=(IntProgress(value=0, max=16), HTML(value='')))"
      ]
     },
     "metadata": {},
     "output_type": "display_data"
    },
    {
     "name": "stdout",
     "output_type": "stream",
     "text": [
      "Number of cvr numbers in current iteration: 23\n"
     ]
    },
    {
     "data": {
      "application/vnd.jupyter.widget-view+json": {
       "model_id": "b4d556f3e2684eeeb684bc3dcfecb280",
       "version_major": 2,
       "version_minor": 0
      },
      "text/plain": [
       "HBox(children=(IntProgress(value=0, max=23), HTML(value='')))"
      ]
     },
     "metadata": {},
     "output_type": "display_data"
    },
    {
     "name": "stdout",
     "output_type": "stream",
     "text": [
      "Number of cvr numbers in current iteration: 164\n"
     ]
    },
    {
     "data": {
      "application/vnd.jupyter.widget-view+json": {
       "model_id": "550a100061ef4e759d44babd4a4f6280",
       "version_major": 2,
       "version_minor": 0
      },
      "text/plain": [
       "HBox(children=(IntProgress(value=0, max=164), HTML(value='')))"
      ]
     },
     "metadata": {},
     "output_type": "display_data"
    },
    {
     "name": "stdout",
     "output_type": "stream",
     "text": [
      "Number of cvr numbers in current iteration: 148\n"
     ]
    },
    {
     "data": {
      "application/vnd.jupyter.widget-view+json": {
       "model_id": "19365e017d5047bbaf1a41c7dc6c36da",
       "version_major": 2,
       "version_minor": 0
      },
      "text/plain": [
       "HBox(children=(IntProgress(value=0, max=148), HTML(value='')))"
      ]
     },
     "metadata": {},
     "output_type": "display_data"
    },
    {
     "name": "stdout",
     "output_type": "stream",
     "text": [
      "Number of cvr numbers in current iteration: 174\n"
     ]
    },
    {
     "data": {
      "application/vnd.jupyter.widget-view+json": {
       "model_id": "a148e60b983b47fbb9a936c9a951cd2b",
       "version_major": 2,
       "version_minor": 0
      },
      "text/plain": [
       "HBox(children=(IntProgress(value=0, max=174), HTML(value='')))"
      ]
     },
     "metadata": {},
     "output_type": "display_data"
    },
    {
     "name": "stdout",
     "output_type": "stream",
     "text": [
      "Number of cvr numbers in current iteration: 161\n"
     ]
    },
    {
     "data": {
      "application/vnd.jupyter.widget-view+json": {
       "model_id": "6ce025bde8ed4ec2b3036599289d6696",
       "version_major": 2,
       "version_minor": 0
      },
      "text/plain": [
       "HBox(children=(IntProgress(value=0, max=161), HTML(value='')))"
      ]
     },
     "metadata": {},
     "output_type": "display_data"
    },
    {
     "name": "stdout",
     "output_type": "stream",
     "text": [
      "Number of cvr numbers in current iteration: 167\n"
     ]
    },
    {
     "data": {
      "application/vnd.jupyter.widget-view+json": {
       "model_id": "a9b8ee3f07b04dac97e3aa176855a7f3",
       "version_major": 2,
       "version_minor": 0
      },
      "text/plain": [
       "HBox(children=(IntProgress(value=0, max=167), HTML(value='')))"
      ]
     },
     "metadata": {},
     "output_type": "display_data"
    },
    {
     "name": "stdout",
     "output_type": "stream",
     "text": [
      "Number of cvr numbers in current iteration: 10\n"
     ]
    },
    {
     "data": {
      "application/vnd.jupyter.widget-view+json": {
       "model_id": "c5b6656f2a2946e7b3028d07273075b7",
       "version_major": 2,
       "version_minor": 0
      },
      "text/plain": [
       "HBox(children=(IntProgress(value=0, max=10), HTML(value='')))"
      ]
     },
     "metadata": {},
     "output_type": "display_data"
    },
    {
     "name": "stdout",
     "output_type": "stream",
     "text": [
      "Number of cvr numbers in current iteration: 20\n"
     ]
    },
    {
     "data": {
      "application/vnd.jupyter.widget-view+json": {
       "model_id": "001fc459b4dc4fc98045e92726c2229c",
       "version_major": 2,
       "version_minor": 0
      },
      "text/plain": [
       "HBox(children=(IntProgress(value=0, max=20), HTML(value='')))"
      ]
     },
     "metadata": {},
     "output_type": "display_data"
    },
    {
     "name": "stdout",
     "output_type": "stream",
     "text": [
      "Number of cvr numbers in current iteration: 221\n"
     ]
    },
    {
     "data": {
      "application/vnd.jupyter.widget-view+json": {
       "model_id": "7ee8908e00bb4270aebb2919bf6f45bf",
       "version_major": 2,
       "version_minor": 0
      },
      "text/plain": [
       "HBox(children=(IntProgress(value=0, max=221), HTML(value='')))"
      ]
     },
     "metadata": {},
     "output_type": "display_data"
    },
    {
     "name": "stdout",
     "output_type": "stream",
     "text": [
      "Number of cvr numbers in current iteration: 217\n"
     ]
    },
    {
     "data": {
      "application/vnd.jupyter.widget-view+json": {
       "model_id": "73cc4810bd2b4ac09fe9683e0f2cd040",
       "version_major": 2,
       "version_minor": 0
      },
      "text/plain": [
       "HBox(children=(IntProgress(value=0, max=217), HTML(value='')))"
      ]
     },
     "metadata": {},
     "output_type": "display_data"
    },
    {
     "name": "stdout",
     "output_type": "stream",
     "text": [
      "Number of cvr numbers in current iteration: 245\n"
     ]
    },
    {
     "data": {
      "application/vnd.jupyter.widget-view+json": {
       "model_id": "43773dad096940e0a77c6ce80e698ced",
       "version_major": 2,
       "version_minor": 0
      },
      "text/plain": [
       "HBox(children=(IntProgress(value=0, max=245), HTML(value='')))"
      ]
     },
     "metadata": {},
     "output_type": "display_data"
    },
    {
     "name": "stdout",
     "output_type": "stream",
     "text": [
      "Number of cvr numbers in current iteration: 308\n"
     ]
    },
    {
     "data": {
      "application/vnd.jupyter.widget-view+json": {
       "model_id": "c72b019c521d4ed8b82d9e73f8fa0c54",
       "version_major": 2,
       "version_minor": 0
      },
      "text/plain": [
       "HBox(children=(IntProgress(value=0, max=308), HTML(value='')))"
      ]
     },
     "metadata": {},
     "output_type": "display_data"
    },
    {
     "name": "stdout",
     "output_type": "stream",
     "text": [
      "Number of cvr numbers in current iteration: 273\n"
     ]
    },
    {
     "data": {
      "application/vnd.jupyter.widget-view+json": {
       "model_id": "a0caab3f1020430b8521d9d9a827f1ff",
       "version_major": 2,
       "version_minor": 0
      },
      "text/plain": [
       "HBox(children=(IntProgress(value=0, max=273), HTML(value='')))"
      ]
     },
     "metadata": {},
     "output_type": "display_data"
    },
    {
     "name": "stdout",
     "output_type": "stream",
     "text": [
      "Number of cvr numbers in current iteration: 31\n"
     ]
    },
    {
     "data": {
      "application/vnd.jupyter.widget-view+json": {
       "model_id": "d4d525b6e2e24ac293df508976e91f1a",
       "version_major": 2,
       "version_minor": 0
      },
      "text/plain": [
       "HBox(children=(IntProgress(value=0, max=31), HTML(value='')))"
      ]
     },
     "metadata": {},
     "output_type": "display_data"
    },
    {
     "name": "stdout",
     "output_type": "stream",
     "text": [
      "Number of cvr numbers in current iteration: 36\n"
     ]
    },
    {
     "data": {
      "application/vnd.jupyter.widget-view+json": {
       "model_id": "6543e439100244eaa6c9c1f286f2b667",
       "version_major": 2,
       "version_minor": 0
      },
      "text/plain": [
       "HBox(children=(IntProgress(value=0, max=36), HTML(value='')))"
      ]
     },
     "metadata": {},
     "output_type": "display_data"
    },
    {
     "name": "stdout",
     "output_type": "stream",
     "text": [
      "Number of cvr numbers in current iteration: 355\n"
     ]
    },
    {
     "data": {
      "application/vnd.jupyter.widget-view+json": {
       "model_id": "ed216204993245afb32afcb5aafed3ec",
       "version_major": 2,
       "version_minor": 0
      },
      "text/plain": [
       "HBox(children=(IntProgress(value=0, max=355), HTML(value='')))"
      ]
     },
     "metadata": {},
     "output_type": "display_data"
    },
    {
     "name": "stdout",
     "output_type": "stream",
     "text": [
      "Number of cvr numbers in current iteration: 231\n"
     ]
    },
    {
     "data": {
      "application/vnd.jupyter.widget-view+json": {
       "model_id": "1092194c740d44249811e78fdee628b8",
       "version_major": 2,
       "version_minor": 0
      },
      "text/plain": [
       "HBox(children=(IntProgress(value=0, max=231), HTML(value='')))"
      ]
     },
     "metadata": {},
     "output_type": "display_data"
    },
    {
     "name": "stdout",
     "output_type": "stream",
     "text": [
      "Number of cvr numbers in current iteration: 310\n"
     ]
    },
    {
     "data": {
      "application/vnd.jupyter.widget-view+json": {
       "model_id": "7f395b5885a144b0a95073bfab146a0e",
       "version_major": 2,
       "version_minor": 0
      },
      "text/plain": [
       "HBox(children=(IntProgress(value=0, max=310), HTML(value='')))"
      ]
     },
     "metadata": {},
     "output_type": "display_data"
    },
    {
     "name": "stdout",
     "output_type": "stream",
     "text": [
      "Number of cvr numbers in current iteration: 284\n"
     ]
    },
    {
     "data": {
      "application/vnd.jupyter.widget-view+json": {
       "model_id": "fab189d487ec464483ae3a2dd4723d56",
       "version_major": 2,
       "version_minor": 0
      },
      "text/plain": [
       "HBox(children=(IntProgress(value=0, max=284), HTML(value='')))"
      ]
     },
     "metadata": {},
     "output_type": "display_data"
    },
    {
     "name": "stdout",
     "output_type": "stream",
     "text": [
      "Number of cvr numbers in current iteration: 230\n"
     ]
    },
    {
     "data": {
      "application/vnd.jupyter.widget-view+json": {
       "model_id": "505825078d6741fa9551ff31ca4889bb",
       "version_major": 2,
       "version_minor": 0
      },
      "text/plain": [
       "HBox(children=(IntProgress(value=0, max=230), HTML(value='')))"
      ]
     },
     "metadata": {},
     "output_type": "display_data"
    },
    {
     "name": "stdout",
     "output_type": "stream",
     "text": [
      "Number of cvr numbers in current iteration: 19\n"
     ]
    },
    {
     "data": {
      "application/vnd.jupyter.widget-view+json": {
       "model_id": "90fd8cf7673c469f86cbdc570877045d",
       "version_major": 2,
       "version_minor": 0
      },
      "text/plain": [
       "HBox(children=(IntProgress(value=0, max=19), HTML(value='')))"
      ]
     },
     "metadata": {},
     "output_type": "display_data"
    },
    {
     "name": "stdout",
     "output_type": "stream",
     "text": [
      "Number of cvr numbers in current iteration: 36\n"
     ]
    },
    {
     "data": {
      "application/vnd.jupyter.widget-view+json": {
       "model_id": "e834d13c4ca24d1b97469dc2735ebee2",
       "version_major": 2,
       "version_minor": 0
      },
      "text/plain": [
       "HBox(children=(IntProgress(value=0, max=36), HTML(value='')))"
      ]
     },
     "metadata": {},
     "output_type": "display_data"
    },
    {
     "name": "stdout",
     "output_type": "stream",
     "text": [
      "Number of cvr numbers in current iteration: 351\n"
     ]
    },
    {
     "data": {
      "application/vnd.jupyter.widget-view+json": {
       "model_id": "d8e24cf202a640b984a40ea8269baecb",
       "version_major": 2,
       "version_minor": 0
      },
      "text/plain": [
       "HBox(children=(IntProgress(value=0, max=351), HTML(value='')))"
      ]
     },
     "metadata": {},
     "output_type": "display_data"
    },
    {
     "name": "stdout",
     "output_type": "stream",
     "text": [
      "Number of cvr numbers in current iteration: 261\n"
     ]
    },
    {
     "data": {
      "application/vnd.jupyter.widget-view+json": {
       "model_id": "da2a78c5479f4e769566fea40fc6c585",
       "version_major": 2,
       "version_minor": 0
      },
      "text/plain": [
       "HBox(children=(IntProgress(value=0, max=261), HTML(value='')))"
      ]
     },
     "metadata": {},
     "output_type": "display_data"
    },
    {
     "name": "stdout",
     "output_type": "stream",
     "text": [
      "Number of cvr numbers in current iteration: 282\n"
     ]
    },
    {
     "data": {
      "application/vnd.jupyter.widget-view+json": {
       "model_id": "bd8c8750183245acb98de8df8f82499e",
       "version_major": 2,
       "version_minor": 0
      },
      "text/plain": [
       "HBox(children=(IntProgress(value=0, max=282), HTML(value='')))"
      ]
     },
     "metadata": {},
     "output_type": "display_data"
    },
    {
     "name": "stdout",
     "output_type": "stream",
     "text": [
      "Number of cvr numbers in current iteration: 331\n"
     ]
    },
    {
     "data": {
      "application/vnd.jupyter.widget-view+json": {
       "model_id": "b2934897a1364da2ac48c92584714566",
       "version_major": 2,
       "version_minor": 0
      },
      "text/plain": [
       "HBox(children=(IntProgress(value=0, max=331), HTML(value='')))"
      ]
     },
     "metadata": {},
     "output_type": "display_data"
    },
    {
     "name": "stdout",
     "output_type": "stream",
     "text": [
      "Number of cvr numbers in current iteration: 388\n"
     ]
    },
    {
     "data": {
      "application/vnd.jupyter.widget-view+json": {
       "model_id": "266177fe85ac4cebac0a2fac947f0d10",
       "version_major": 2,
       "version_minor": 0
      },
      "text/plain": [
       "HBox(children=(IntProgress(value=0, max=388), HTML(value='')))"
      ]
     },
     "metadata": {},
     "output_type": "display_data"
    },
    {
     "name": "stderr",
     "output_type": "stream",
     "text": [
      "Traceback (most recent call last):\n",
      "KeyError: 'xbrl'\n"
     ]
    },
    {
     "name": "stdout",
     "output_type": "stream",
     "text": [
      "Traceback (most recent call last):\n",
      "KeyError: 'xbrl'\n",
      "\n",
      "Number of cvr numbers in current iteration: 23\n"
     ]
    },
    {
     "data": {
      "application/vnd.jupyter.widget-view+json": {
       "model_id": "ca7a065c1d074dbbbe17687fc49bd210",
       "version_major": 2,
       "version_minor": 0
      },
      "text/plain": [
       "HBox(children=(IntProgress(value=0, max=23), HTML(value='')))"
      ]
     },
     "metadata": {},
     "output_type": "display_data"
    },
    {
     "name": "stdout",
     "output_type": "stream",
     "text": [
      "Number of cvr numbers in current iteration: 43\n"
     ]
    },
    {
     "data": {
      "application/vnd.jupyter.widget-view+json": {
       "model_id": "ad88d7ebe37946f093366a15c9ba4c36",
       "version_major": 2,
       "version_minor": 0
      },
      "text/plain": [
       "HBox(children=(IntProgress(value=0, max=43), HTML(value='')))"
      ]
     },
     "metadata": {},
     "output_type": "display_data"
    },
    {
     "name": "stdout",
     "output_type": "stream",
     "text": [
      "Number of cvr numbers in current iteration: 410\n"
     ]
    },
    {
     "data": {
      "application/vnd.jupyter.widget-view+json": {
       "model_id": "633f1838109f476d8c5273323571dd6b",
       "version_major": 2,
       "version_minor": 0
      },
      "text/plain": [
       "HBox(children=(IntProgress(value=0, max=410), HTML(value='')))"
      ]
     },
     "metadata": {},
     "output_type": "display_data"
    },
    {
     "name": "stdout",
     "output_type": "stream",
     "text": [
      "Number of cvr numbers in current iteration: 291\n"
     ]
    },
    {
     "data": {
      "application/vnd.jupyter.widget-view+json": {
       "model_id": "935e810c2b6540beb02a94694c13673e",
       "version_major": 2,
       "version_minor": 0
      },
      "text/plain": [
       "HBox(children=(IntProgress(value=0, max=291), HTML(value='')))"
      ]
     },
     "metadata": {},
     "output_type": "display_data"
    },
    {
     "name": "stdout",
     "output_type": "stream",
     "text": [
      "Number of cvr numbers in current iteration: 376\n"
     ]
    },
    {
     "data": {
      "application/vnd.jupyter.widget-view+json": {
       "model_id": "fad739b2333144009f16440e3ad1661c",
       "version_major": 2,
       "version_minor": 0
      },
      "text/plain": [
       "HBox(children=(IntProgress(value=0, max=376), HTML(value='')))"
      ]
     },
     "metadata": {},
     "output_type": "display_data"
    },
    {
     "name": "stdout",
     "output_type": "stream",
     "text": [
      "Number of cvr numbers in current iteration: 333\n"
     ]
    },
    {
     "data": {
      "application/vnd.jupyter.widget-view+json": {
       "model_id": "93232e3a982b455e9e0441b20205c576",
       "version_major": 2,
       "version_minor": 0
      },
      "text/plain": [
       "HBox(children=(IntProgress(value=0, max=333), HTML(value='')))"
      ]
     },
     "metadata": {},
     "output_type": "display_data"
    },
    {
     "name": "stdout",
     "output_type": "stream",
     "text": [
      "Number of cvr numbers in current iteration: 344\n"
     ]
    },
    {
     "data": {
      "application/vnd.jupyter.widget-view+json": {
       "model_id": "e39e00c95d9746e7900c3f27837e54cd",
       "version_major": 2,
       "version_minor": 0
      },
      "text/plain": [
       "HBox(children=(IntProgress(value=0, max=344), HTML(value='')))"
      ]
     },
     "metadata": {},
     "output_type": "display_data"
    },
    {
     "name": "stdout",
     "output_type": "stream",
     "text": [
      "Number of cvr numbers in current iteration: 37\n"
     ]
    },
    {
     "data": {
      "application/vnd.jupyter.widget-view+json": {
       "model_id": "31f3fb48fcac4c70b38eefe09f3783d1",
       "version_major": 2,
       "version_minor": 0
      },
      "text/plain": [
       "HBox(children=(IntProgress(value=0, max=37), HTML(value='')))"
      ]
     },
     "metadata": {},
     "output_type": "display_data"
    },
    {
     "name": "stdout",
     "output_type": "stream",
     "text": [
      "Number of cvr numbers in current iteration: 46\n"
     ]
    },
    {
     "data": {
      "application/vnd.jupyter.widget-view+json": {
       "model_id": "d212de45b83549439cc6300c4ebe9fc0",
       "version_major": 2,
       "version_minor": 0
      },
      "text/plain": [
       "HBox(children=(IntProgress(value=0, max=46), HTML(value='')))"
      ]
     },
     "metadata": {},
     "output_type": "display_data"
    },
    {
     "name": "stdout",
     "output_type": "stream",
     "text": [
      "Number of cvr numbers in current iteration: 490\n"
     ]
    },
    {
     "data": {
      "application/vnd.jupyter.widget-view+json": {
       "model_id": "b40fe1a296b644bfab41fb58228f985e",
       "version_major": 2,
       "version_minor": 0
      },
      "text/plain": [
       "HBox(children=(IntProgress(value=0, max=490), HTML(value='')))"
      ]
     },
     "metadata": {},
     "output_type": "display_data"
    },
    {
     "name": "stdout",
     "output_type": "stream",
     "text": [
      "Number of cvr numbers in current iteration: 482\n"
     ]
    },
    {
     "data": {
      "application/vnd.jupyter.widget-view+json": {
       "model_id": "6bd96183ce1641268ba56ba27818aec5",
       "version_major": 2,
       "version_minor": 0
      },
      "text/plain": [
       "HBox(children=(IntProgress(value=0, max=482), HTML(value='')))"
      ]
     },
     "metadata": {},
     "output_type": "display_data"
    },
    {
     "name": "stdout",
     "output_type": "stream",
     "text": [
      "Number of cvr numbers in current iteration: 592\n"
     ]
    },
    {
     "data": {
      "application/vnd.jupyter.widget-view+json": {
       "model_id": "c0773a17f25a4a0e9a58c5bcf84589d7",
       "version_major": 2,
       "version_minor": 0
      },
      "text/plain": [
       "HBox(children=(IntProgress(value=0, max=592), HTML(value='')))"
      ]
     },
     "metadata": {},
     "output_type": "display_data"
    },
    {
     "name": "stdout",
     "output_type": "stream",
     "text": [
      "Number of cvr numbers in current iteration: 593\n"
     ]
    },
    {
     "data": {
      "application/vnd.jupyter.widget-view+json": {
       "model_id": "c7b406aef3884cbe898630c7ae622734",
       "version_major": 2,
       "version_minor": 0
      },
      "text/plain": [
       "HBox(children=(IntProgress(value=0, max=593), HTML(value='')))"
      ]
     },
     "metadata": {},
     "output_type": "display_data"
    },
    {
     "name": "stdout",
     "output_type": "stream",
     "text": [
      "Number of cvr numbers in current iteration: 676\n"
     ]
    },
    {
     "data": {
      "application/vnd.jupyter.widget-view+json": {
       "model_id": "5a7fa9dedfb441c68e9c28aea6d5a612",
       "version_major": 2,
       "version_minor": 0
      },
      "text/plain": [
       "HBox(children=(IntProgress(value=0, max=676), HTML(value='')))"
      ]
     },
     "metadata": {},
     "output_type": "display_data"
    },
    {
     "name": "stdout",
     "output_type": "stream",
     "text": [
      "Number of cvr numbers in current iteration: 40\n"
     ]
    },
    {
     "data": {
      "application/vnd.jupyter.widget-view+json": {
       "model_id": "50a8fc3aa34f4a5ea29958ba451b73c8",
       "version_major": 2,
       "version_minor": 0
      },
      "text/plain": [
       "HBox(children=(IntProgress(value=0, max=40), HTML(value='')))"
      ]
     },
     "metadata": {},
     "output_type": "display_data"
    },
    {
     "name": "stdout",
     "output_type": "stream",
     "text": [
      "Number of cvr numbers in current iteration: 137\n"
     ]
    },
    {
     "data": {
      "application/vnd.jupyter.widget-view+json": {
       "model_id": "6cc7a59587d64c7e867e3f342aea466e",
       "version_major": 2,
       "version_minor": 0
      },
      "text/plain": [
       "HBox(children=(IntProgress(value=0, max=137), HTML(value='')))"
      ]
     },
     "metadata": {},
     "output_type": "display_data"
    },
    {
     "name": "stdout",
     "output_type": "stream",
     "text": [
      "Number of cvr numbers in current iteration: 829\n"
     ]
    },
    {
     "data": {
      "application/vnd.jupyter.widget-view+json": {
       "model_id": "1a7ba0b8eac14073bb66dfd6233709bd",
       "version_major": 2,
       "version_minor": 0
      },
      "text/plain": [
       "HBox(children=(IntProgress(value=0, max=829), HTML(value='')))"
      ]
     },
     "metadata": {},
     "output_type": "display_data"
    },
    {
     "name": "stdout",
     "output_type": "stream",
     "text": [
      "Number of cvr numbers in current iteration: 631\n"
     ]
    },
    {
     "data": {
      "application/vnd.jupyter.widget-view+json": {
       "model_id": "ddd19ca3b3b348b9af5908a4cfd62484",
       "version_major": 2,
       "version_minor": 0
      },
      "text/plain": [
       "HBox(children=(IntProgress(value=0, max=631), HTML(value='')))"
      ]
     },
     "metadata": {},
     "output_type": "display_data"
    },
    {
     "name": "stdout",
     "output_type": "stream",
     "text": [
      "Number of cvr numbers in current iteration: 552\n"
     ]
    },
    {
     "data": {
      "application/vnd.jupyter.widget-view+json": {
       "model_id": "582e7af14cac4bb08d48e77b655d477d",
       "version_major": 2,
       "version_minor": 0
      },
      "text/plain": [
       "HBox(children=(IntProgress(value=0, max=552), HTML(value='')))"
      ]
     },
     "metadata": {},
     "output_type": "display_data"
    },
    {
     "name": "stdout",
     "output_type": "stream",
     "text": [
      "Number of cvr numbers in current iteration: 651\n"
     ]
    },
    {
     "data": {
      "application/vnd.jupyter.widget-view+json": {
       "model_id": "1bdb05d950394bc3a56f1771a6f8817c",
       "version_major": 2,
       "version_minor": 0
      },
      "text/plain": [
       "HBox(children=(IntProgress(value=0, max=651), HTML(value='')))"
      ]
     },
     "metadata": {},
     "output_type": "display_data"
    },
    {
     "name": "stdout",
     "output_type": "stream",
     "text": [
      "Number of cvr numbers in current iteration: 461\n"
     ]
    },
    {
     "data": {
      "application/vnd.jupyter.widget-view+json": {
       "model_id": "ff97a6b359994c0f871ebd44dcd6ff51",
       "version_major": 2,
       "version_minor": 0
      },
      "text/plain": [
       "HBox(children=(IntProgress(value=0, max=461), HTML(value='')))"
      ]
     },
     "metadata": {},
     "output_type": "display_data"
    },
    {
     "name": "stdout",
     "output_type": "stream",
     "text": [
      "Number of cvr numbers in current iteration: 38\n"
     ]
    },
    {
     "data": {
      "application/vnd.jupyter.widget-view+json": {
       "model_id": "d052ec0b54724502b61d06bf8cd8109c",
       "version_major": 2,
       "version_minor": 0
      },
      "text/plain": [
       "HBox(children=(IntProgress(value=0, max=38), HTML(value='')))"
      ]
     },
     "metadata": {},
     "output_type": "display_data"
    },
    {
     "name": "stdout",
     "output_type": "stream",
     "text": [
      "Number of cvr numbers in current iteration: 38\n"
     ]
    },
    {
     "data": {
      "application/vnd.jupyter.widget-view+json": {
       "model_id": "eebff88d07be499e938c576f270fe55e",
       "version_major": 2,
       "version_minor": 0
      },
      "text/plain": [
       "HBox(children=(IntProgress(value=0, max=38), HTML(value='')))"
      ]
     },
     "metadata": {},
     "output_type": "display_data"
    },
    {
     "name": "stdout",
     "output_type": "stream",
     "text": [
      "Number of cvr numbers in current iteration: 634\n"
     ]
    },
    {
     "data": {
      "application/vnd.jupyter.widget-view+json": {
       "model_id": "9317f19081184bf5b9bc185906ee5346",
       "version_major": 2,
       "version_minor": 0
      },
      "text/plain": [
       "HBox(children=(IntProgress(value=0, max=634), HTML(value='')))"
      ]
     },
     "metadata": {},
     "output_type": "display_data"
    },
    {
     "name": "stdout",
     "output_type": "stream",
     "text": [
      "Number of cvr numbers in current iteration: 527\n"
     ]
    },
    {
     "data": {
      "application/vnd.jupyter.widget-view+json": {
       "model_id": "c99326b3cfec44999197a99ce04a71ba",
       "version_major": 2,
       "version_minor": 0
      },
      "text/plain": [
       "HBox(children=(IntProgress(value=0, max=527), HTML(value='')))"
      ]
     },
     "metadata": {},
     "output_type": "display_data"
    },
    {
     "name": "stdout",
     "output_type": "stream",
     "text": [
      "Number of cvr numbers in current iteration: 506\n"
     ]
    },
    {
     "data": {
      "application/vnd.jupyter.widget-view+json": {
       "model_id": "7354aeec88bc45869f15808382cf6fe7",
       "version_major": 2,
       "version_minor": 0
      },
      "text/plain": [
       "HBox(children=(IntProgress(value=0, max=506), HTML(value='')))"
      ]
     },
     "metadata": {},
     "output_type": "display_data"
    },
    {
     "name": "stdout",
     "output_type": "stream",
     "text": [
      "Number of cvr numbers in current iteration: 505\n"
     ]
    },
    {
     "data": {
      "application/vnd.jupyter.widget-view+json": {
       "model_id": "0126f11628d7470eb7e78dcafed89e42",
       "version_major": 2,
       "version_minor": 0
      },
      "text/plain": [
       "HBox(children=(IntProgress(value=0, max=505), HTML(value='')))"
      ]
     },
     "metadata": {},
     "output_type": "display_data"
    },
    {
     "name": "stdout",
     "output_type": "stream",
     "text": [
      "Number of cvr numbers in current iteration: 585\n"
     ]
    },
    {
     "data": {
      "application/vnd.jupyter.widget-view+json": {
       "model_id": "f799881e5de340a893c733e1f4df2a18",
       "version_major": 2,
       "version_minor": 0
      },
      "text/plain": [
       "HBox(children=(IntProgress(value=0, max=585), HTML(value='')))"
      ]
     },
     "metadata": {},
     "output_type": "display_data"
    },
    {
     "name": "stdout",
     "output_type": "stream",
     "text": [
      "Number of cvr numbers in current iteration: 24\n"
     ]
    },
    {
     "data": {
      "application/vnd.jupyter.widget-view+json": {
       "model_id": "f99afa4db86e4d358ea3a7c9436fe42a",
       "version_major": 2,
       "version_minor": 0
      },
      "text/plain": [
       "HBox(children=(IntProgress(value=0, max=24), HTML(value='')))"
      ]
     },
     "metadata": {},
     "output_type": "display_data"
    },
    {
     "name": "stdout",
     "output_type": "stream",
     "text": [
      "Number of cvr numbers in current iteration: 57\n"
     ]
    },
    {
     "data": {
      "application/vnd.jupyter.widget-view+json": {
       "model_id": "1ee05071cddb46d3902c8fd074d4ca46",
       "version_major": 2,
       "version_minor": 0
      },
      "text/plain": [
       "HBox(children=(IntProgress(value=0, max=57), HTML(value='')))"
      ]
     },
     "metadata": {},
     "output_type": "display_data"
    },
    {
     "name": "stdout",
     "output_type": "stream",
     "text": [
      "Number of cvr numbers in current iteration: 623\n"
     ]
    },
    {
     "data": {
      "application/vnd.jupyter.widget-view+json": {
       "model_id": "431491dc0ef644a1808ade0b084afc2b",
       "version_major": 2,
       "version_minor": 0
      },
      "text/plain": [
       "HBox(children=(IntProgress(value=0, max=623), HTML(value='')))"
      ]
     },
     "metadata": {},
     "output_type": "display_data"
    },
    {
     "name": "stdout",
     "output_type": "stream",
     "text": [
      "Number of cvr numbers in current iteration: 549\n"
     ]
    },
    {
     "data": {
      "application/vnd.jupyter.widget-view+json": {
       "model_id": "bd47f62589f54ecfbac66b37ed4a3a18",
       "version_major": 2,
       "version_minor": 0
      },
      "text/plain": [
       "HBox(children=(IntProgress(value=0, max=549), HTML(value='')))"
      ]
     },
     "metadata": {},
     "output_type": "display_data"
    },
    {
     "name": "stdout",
     "output_type": "stream",
     "text": [
      "Number of cvr numbers in current iteration: 303\n"
     ]
    },
    {
     "data": {
      "application/vnd.jupyter.widget-view+json": {
       "model_id": "383eaf135e1b41118425fb84a846c95e",
       "version_major": 2,
       "version_minor": 0
      },
      "text/plain": [
       "HBox(children=(IntProgress(value=0, max=303), HTML(value='')))"
      ]
     },
     "metadata": {},
     "output_type": "display_data"
    },
    {
     "name": "stdout",
     "output_type": "stream",
     "text": [
      "Number of cvr numbers in current iteration: 275\n"
     ]
    },
    {
     "data": {
      "application/vnd.jupyter.widget-view+json": {
       "model_id": "4e5b8f3508544dc6b18018cd2d84c81d",
       "version_major": 2,
       "version_minor": 0
      },
      "text/plain": [
       "HBox(children=(IntProgress(value=0, max=275), HTML(value='')))"
      ]
     },
     "metadata": {},
     "output_type": "display_data"
    },
    {
     "name": "stdout",
     "output_type": "stream",
     "text": [
      "Number of cvr numbers in current iteration: 218\n"
     ]
    },
    {
     "data": {
      "application/vnd.jupyter.widget-view+json": {
       "model_id": "eee50db9eb12466e893acac2980c43c9",
       "version_major": 2,
       "version_minor": 0
      },
      "text/plain": [
       "HBox(children=(IntProgress(value=0, max=218), HTML(value='')))"
      ]
     },
     "metadata": {},
     "output_type": "display_data"
    },
    {
     "name": "stdout",
     "output_type": "stream",
     "text": [
      "Number of cvr numbers in current iteration: 23\n"
     ]
    },
    {
     "data": {
      "application/vnd.jupyter.widget-view+json": {
       "model_id": "f183799c4f0847bcb2a4e888897b6cff",
       "version_major": 2,
       "version_minor": 0
      },
      "text/plain": [
       "HBox(children=(IntProgress(value=0, max=23), HTML(value='')))"
      ]
     },
     "metadata": {},
     "output_type": "display_data"
    },
    {
     "name": "stdout",
     "output_type": "stream",
     "text": [
      "Number of cvr numbers in current iteration: 33\n"
     ]
    },
    {
     "data": {
      "application/vnd.jupyter.widget-view+json": {
       "model_id": "5a139113af96438aa031c0f0018c68d5",
       "version_major": 2,
       "version_minor": 0
      },
      "text/plain": [
       "HBox(children=(IntProgress(value=0, max=33), HTML(value='')))"
      ]
     },
     "metadata": {},
     "output_type": "display_data"
    },
    {
     "name": "stdout",
     "output_type": "stream",
     "text": [
      "Number of cvr numbers in current iteration: 470\n"
     ]
    },
    {
     "data": {
      "application/vnd.jupyter.widget-view+json": {
       "model_id": "ab4f0141e8ff44309e7ea67aab0d8e94",
       "version_major": 2,
       "version_minor": 0
      },
      "text/plain": [
       "HBox(children=(IntProgress(value=0, max=470), HTML(value='')))"
      ]
     },
     "metadata": {},
     "output_type": "display_data"
    },
    {
     "name": "stdout",
     "output_type": "stream",
     "text": [
      "Number of cvr numbers in current iteration: 372\n"
     ]
    },
    {
     "data": {
      "application/vnd.jupyter.widget-view+json": {
       "model_id": "d581e5daead0425783c0ab18798d8ac4",
       "version_major": 2,
       "version_minor": 0
      },
      "text/plain": [
       "HBox(children=(IntProgress(value=0, max=372), HTML(value='')))"
      ]
     },
     "metadata": {},
     "output_type": "display_data"
    },
    {
     "name": "stdout",
     "output_type": "stream",
     "text": [
      "Number of cvr numbers in current iteration: 317\n"
     ]
    },
    {
     "data": {
      "application/vnd.jupyter.widget-view+json": {
       "model_id": "da214235ee6b4fecacbbf2ce58e945a5",
       "version_major": 2,
       "version_minor": 0
      },
      "text/plain": [
       "HBox(children=(IntProgress(value=0, max=317), HTML(value='')))"
      ]
     },
     "metadata": {},
     "output_type": "display_data"
    },
    {
     "name": "stdout",
     "output_type": "stream",
     "text": [
      "Number of cvr numbers in current iteration: 433\n"
     ]
    },
    {
     "data": {
      "application/vnd.jupyter.widget-view+json": {
       "model_id": "2a3770face0a4d3eb58024990dc12c6a",
       "version_major": 2,
       "version_minor": 0
      },
      "text/plain": [
       "HBox(children=(IntProgress(value=0, max=433), HTML(value='')))"
      ]
     },
     "metadata": {},
     "output_type": "display_data"
    },
    {
     "name": "stdout",
     "output_type": "stream",
     "text": [
      "Number of cvr numbers in current iteration: 454\n"
     ]
    },
    {
     "data": {
      "application/vnd.jupyter.widget-view+json": {
       "model_id": "93a09ef396a7445bbc3fe0430a18ba35",
       "version_major": 2,
       "version_minor": 0
      },
      "text/plain": [
       "HBox(children=(IntProgress(value=0, max=454), HTML(value='')))"
      ]
     },
     "metadata": {},
     "output_type": "display_data"
    },
    {
     "name": "stdout",
     "output_type": "stream",
     "text": [
      "Number of cvr numbers in current iteration: 36\n"
     ]
    },
    {
     "data": {
      "application/vnd.jupyter.widget-view+json": {
       "model_id": "c90242bd5e9b4c0db8aa450170be04f1",
       "version_major": 2,
       "version_minor": 0
      },
      "text/plain": [
       "HBox(children=(IntProgress(value=0, max=36), HTML(value='')))"
      ]
     },
     "metadata": {},
     "output_type": "display_data"
    },
    {
     "name": "stdout",
     "output_type": "stream",
     "text": [
      "Number of cvr numbers in current iteration: 53\n"
     ]
    },
    {
     "data": {
      "application/vnd.jupyter.widget-view+json": {
       "model_id": "3d4a9b1045794594a5c9cd531dbfb910",
       "version_major": 2,
       "version_minor": 0
      },
      "text/plain": [
       "HBox(children=(IntProgress(value=0, max=53), HTML(value='')))"
      ]
     },
     "metadata": {},
     "output_type": "display_data"
    },
    {
     "name": "stdout",
     "output_type": "stream",
     "text": [
      "Number of cvr numbers in current iteration: 581\n"
     ]
    },
    {
     "data": {
      "application/vnd.jupyter.widget-view+json": {
       "model_id": "a8381cace7dc46439ea55ae6b7746b33",
       "version_major": 2,
       "version_minor": 0
      },
      "text/plain": [
       "HBox(children=(IntProgress(value=0, max=581), HTML(value='')))"
      ]
     },
     "metadata": {},
     "output_type": "display_data"
    },
    {
     "name": "stdout",
     "output_type": "stream",
     "text": [
      "Number of cvr numbers in current iteration: 541\n"
     ]
    },
    {
     "data": {
      "application/vnd.jupyter.widget-view+json": {
       "model_id": "c3eddf414dbd4c75ba41de36be43e998",
       "version_major": 2,
       "version_minor": 0
      },
      "text/plain": [
       "HBox(children=(IntProgress(value=0, max=541), HTML(value='')))"
      ]
     },
     "metadata": {},
     "output_type": "display_data"
    },
    {
     "name": "stdout",
     "output_type": "stream",
     "text": [
      "Number of cvr numbers in current iteration: 663\n"
     ]
    },
    {
     "data": {
      "application/vnd.jupyter.widget-view+json": {
       "model_id": "4e6cb5a252824ed8823e3c17a6b757b1",
       "version_major": 2,
       "version_minor": 0
      },
      "text/plain": [
       "HBox(children=(IntProgress(value=0, max=663), HTML(value='')))"
      ]
     },
     "metadata": {},
     "output_type": "display_data"
    },
    {
     "name": "stdout",
     "output_type": "stream",
     "text": [
      "Number of cvr numbers in current iteration: 497\n"
     ]
    },
    {
     "data": {
      "application/vnd.jupyter.widget-view+json": {
       "model_id": "7c7d9814d2be4ef3ad13016fa096758e",
       "version_major": 2,
       "version_minor": 0
      },
      "text/plain": [
       "HBox(children=(IntProgress(value=0, max=497), HTML(value='')))"
      ]
     },
     "metadata": {},
     "output_type": "display_data"
    },
    {
     "name": "stdout",
     "output_type": "stream",
     "text": [
      "Number of cvr numbers in current iteration: 536\n"
     ]
    },
    {
     "data": {
      "application/vnd.jupyter.widget-view+json": {
       "model_id": "38347fa7b3ac45f3bdb4dd1556272367",
       "version_major": 2,
       "version_minor": 0
      },
      "text/plain": [
       "HBox(children=(IntProgress(value=0, max=536), HTML(value='')))"
      ]
     },
     "metadata": {},
     "output_type": "display_data"
    },
    {
     "name": "stdout",
     "output_type": "stream",
     "text": [
      "Number of cvr numbers in current iteration: 63\n"
     ]
    },
    {
     "data": {
      "application/vnd.jupyter.widget-view+json": {
       "model_id": "ec37258f61184fce9ed5ea9896d6ef9a",
       "version_major": 2,
       "version_minor": 0
      },
      "text/plain": [
       "HBox(children=(IntProgress(value=0, max=63), HTML(value='')))"
      ]
     },
     "metadata": {},
     "output_type": "display_data"
    },
    {
     "name": "stdout",
     "output_type": "stream",
     "text": [
      "Number of cvr numbers in current iteration: 65\n"
     ]
    },
    {
     "data": {
      "application/vnd.jupyter.widget-view+json": {
       "model_id": "0fc4b735e5c749138af9987bdacb9663",
       "version_major": 2,
       "version_minor": 0
      },
      "text/plain": [
       "HBox(children=(IntProgress(value=0, max=65), HTML(value='')))"
      ]
     },
     "metadata": {},
     "output_type": "display_data"
    },
    {
     "name": "stdout",
     "output_type": "stream",
     "text": [
      "Number of cvr numbers in current iteration: 672\n"
     ]
    },
    {
     "data": {
      "application/vnd.jupyter.widget-view+json": {
       "model_id": "7ef0554a776e4617be52e5ae6a25877b",
       "version_major": 2,
       "version_minor": 0
      },
      "text/plain": [
       "HBox(children=(IntProgress(value=0, max=672), HTML(value='')))"
      ]
     },
     "metadata": {},
     "output_type": "display_data"
    },
    {
     "name": "stdout",
     "output_type": "stream",
     "text": [
      "Number of cvr numbers in current iteration: 605\n"
     ]
    },
    {
     "data": {
      "application/vnd.jupyter.widget-view+json": {
       "model_id": "d7364d0e8562495eb7a65667d5d12d51",
       "version_major": 2,
       "version_minor": 0
      },
      "text/plain": [
       "HBox(children=(IntProgress(value=0, max=605), HTML(value='')))"
      ]
     },
     "metadata": {},
     "output_type": "display_data"
    },
    {
     "name": "stdout",
     "output_type": "stream",
     "text": [
      "Number of cvr numbers in current iteration: 502\n"
     ]
    },
    {
     "data": {
      "application/vnd.jupyter.widget-view+json": {
       "model_id": "cc94318d1e1943ad9743d6a2948f108f",
       "version_major": 2,
       "version_minor": 0
      },
      "text/plain": [
       "HBox(children=(IntProgress(value=0, max=502), HTML(value='')))"
      ]
     },
     "metadata": {},
     "output_type": "display_data"
    },
    {
     "name": "stdout",
     "output_type": "stream",
     "text": [
      "Number of cvr numbers in current iteration: 485\n"
     ]
    },
    {
     "data": {
      "application/vnd.jupyter.widget-view+json": {
       "model_id": "fc1f01319a18452da02e83c2933c3722",
       "version_major": 2,
       "version_minor": 0
      },
      "text/plain": [
       "HBox(children=(IntProgress(value=0, max=485), HTML(value='')))"
      ]
     },
     "metadata": {},
     "output_type": "display_data"
    },
    {
     "name": "stdout",
     "output_type": "stream",
     "text": [
      "Number of cvr numbers in current iteration: 505\n"
     ]
    },
    {
     "data": {
      "application/vnd.jupyter.widget-view+json": {
       "model_id": "7ff03e6009d243658da6cda842893069",
       "version_major": 2,
       "version_minor": 0
      },
      "text/plain": [
       "HBox(children=(IntProgress(value=0, max=505), HTML(value='')))"
      ]
     },
     "metadata": {},
     "output_type": "display_data"
    },
    {
     "name": "stdout",
     "output_type": "stream",
     "text": [
      "Number of cvr numbers in current iteration: 42\n"
     ]
    },
    {
     "data": {
      "application/vnd.jupyter.widget-view+json": {
       "model_id": "2e96a2cd2c25405bb8057c9e3efcd09d",
       "version_major": 2,
       "version_minor": 0
      },
      "text/plain": [
       "HBox(children=(IntProgress(value=0, max=42), HTML(value='')))"
      ]
     },
     "metadata": {},
     "output_type": "display_data"
    },
    {
     "name": "stdout",
     "output_type": "stream",
     "text": [
      "Number of cvr numbers in current iteration: 116\n"
     ]
    },
    {
     "data": {
      "application/vnd.jupyter.widget-view+json": {
       "model_id": "81310b45dadc436194fbf13a17859e09",
       "version_major": 2,
       "version_minor": 0
      },
      "text/plain": [
       "HBox(children=(IntProgress(value=0, max=116), HTML(value='')))"
      ]
     },
     "metadata": {},
     "output_type": "display_data"
    },
    {
     "name": "stdout",
     "output_type": "stream",
     "text": [
      "Number of cvr numbers in current iteration: 749\n"
     ]
    },
    {
     "data": {
      "application/vnd.jupyter.widget-view+json": {
       "model_id": "ce87d7cac3ba42709e007cf489a222aa",
       "version_major": 2,
       "version_minor": 0
      },
      "text/plain": [
       "HBox(children=(IntProgress(value=0, max=749), HTML(value='')))"
      ]
     },
     "metadata": {},
     "output_type": "display_data"
    },
    {
     "name": "stdout",
     "output_type": "stream",
     "text": [
      "Number of cvr numbers in current iteration: 576\n"
     ]
    },
    {
     "data": {
      "application/vnd.jupyter.widget-view+json": {
       "model_id": "cb58f0bc2d2441f29dfab90aa21e7069",
       "version_major": 2,
       "version_minor": 0
      },
      "text/plain": [
       "HBox(children=(IntProgress(value=0, max=576), HTML(value='')))"
      ]
     },
     "metadata": {},
     "output_type": "display_data"
    },
    {
     "name": "stdout",
     "output_type": "stream",
     "text": [
      "Number of cvr numbers in current iteration: 774\n"
     ]
    },
    {
     "data": {
      "application/vnd.jupyter.widget-view+json": {
       "model_id": "0019ae4941884a6dbee54ec18a8c6f2b",
       "version_major": 2,
       "version_minor": 0
      },
      "text/plain": [
       "HBox(children=(IntProgress(value=0, max=774), HTML(value='')))"
      ]
     },
     "metadata": {},
     "output_type": "display_data"
    },
    {
     "name": "stdout",
     "output_type": "stream",
     "text": [
      "Number of cvr numbers in current iteration: 612\n"
     ]
    },
    {
     "data": {
      "application/vnd.jupyter.widget-view+json": {
       "model_id": "ba8f495e14c94d84a7101c6ba4cee0a9",
       "version_major": 2,
       "version_minor": 0
      },
      "text/plain": [
       "HBox(children=(IntProgress(value=0, max=612), HTML(value='')))"
      ]
     },
     "metadata": {},
     "output_type": "display_data"
    },
    {
     "name": "stdout",
     "output_type": "stream",
     "text": [
      "Number of cvr numbers in current iteration: 654\n"
     ]
    },
    {
     "data": {
      "application/vnd.jupyter.widget-view+json": {
       "model_id": "83f8318a3cca41e08c397226a7f19e95",
       "version_major": 2,
       "version_minor": 0
      },
      "text/plain": [
       "HBox(children=(IntProgress(value=0, max=654), HTML(value='')))"
      ]
     },
     "metadata": {},
     "output_type": "display_data"
    },
    {
     "name": "stdout",
     "output_type": "stream",
     "text": [
      "Number of cvr numbers in current iteration: 55\n"
     ]
    },
    {
     "data": {
      "application/vnd.jupyter.widget-view+json": {
       "model_id": "5e0b92285a154582a39b3f66380280ff",
       "version_major": 2,
       "version_minor": 0
      },
      "text/plain": [
       "HBox(children=(IntProgress(value=0, max=55), HTML(value='')))"
      ]
     },
     "metadata": {},
     "output_type": "display_data"
    },
    {
     "name": "stdout",
     "output_type": "stream",
     "text": [
      "Number of cvr numbers in current iteration: 70\n"
     ]
    },
    {
     "data": {
      "application/vnd.jupyter.widget-view+json": {
       "model_id": "c332af3856eb44d7a6e7468ea7726c6f",
       "version_major": 2,
       "version_minor": 0
      },
      "text/plain": [
       "HBox(children=(IntProgress(value=0, max=70), HTML(value='')))"
      ]
     },
     "metadata": {},
     "output_type": "display_data"
    },
    {
     "name": "stdout",
     "output_type": "stream",
     "text": [
      "Number of cvr numbers in current iteration: 774\n"
     ]
    },
    {
     "data": {
      "application/vnd.jupyter.widget-view+json": {
       "model_id": "d04cff8166654e2b8f7e5052d0bee9d8",
       "version_major": 2,
       "version_minor": 0
      },
      "text/plain": [
       "HBox(children=(IntProgress(value=0, max=774), HTML(value='')))"
      ]
     },
     "metadata": {},
     "output_type": "display_data"
    },
    {
     "name": "stdout",
     "output_type": "stream",
     "text": [
      "Number of cvr numbers in current iteration: 651\n"
     ]
    },
    {
     "data": {
      "application/vnd.jupyter.widget-view+json": {
       "model_id": "6b93a1bb28c84d3692de17a9fb17020e",
       "version_major": 2,
       "version_minor": 0
      },
      "text/plain": [
       "HBox(children=(IntProgress(value=0, max=651), HTML(value='')))"
      ]
     },
     "metadata": {},
     "output_type": "display_data"
    },
    {
     "name": "stdout",
     "output_type": "stream",
     "text": [
      "Number of cvr numbers in current iteration: 747\n"
     ]
    },
    {
     "data": {
      "application/vnd.jupyter.widget-view+json": {
       "model_id": "8bd14e918d874835b4539f8f122c434b",
       "version_major": 2,
       "version_minor": 0
      },
      "text/plain": [
       "HBox(children=(IntProgress(value=0, max=747), HTML(value='')))"
      ]
     },
     "metadata": {},
     "output_type": "display_data"
    },
    {
     "name": "stdout",
     "output_type": "stream",
     "text": [
      "Number of cvr numbers in current iteration: 773\n"
     ]
    },
    {
     "data": {
      "application/vnd.jupyter.widget-view+json": {
       "model_id": "8ff3ea6112fe4b6ea4a44d9fadf57147",
       "version_major": 2,
       "version_minor": 0
      },
      "text/plain": [
       "HBox(children=(IntProgress(value=0, max=773), HTML(value='')))"
      ]
     },
     "metadata": {},
     "output_type": "display_data"
    },
    {
     "name": "stdout",
     "output_type": "stream",
     "text": [
      "Number of cvr numbers in current iteration: 797\n"
     ]
    },
    {
     "data": {
      "application/vnd.jupyter.widget-view+json": {
       "model_id": "f8cff234a38e45dfbfa06fad0bf3f1f2",
       "version_major": 2,
       "version_minor": 0
      },
      "text/plain": [
       "HBox(children=(IntProgress(value=0, max=797), HTML(value='')))"
      ]
     },
     "metadata": {},
     "output_type": "display_data"
    },
    {
     "name": "stdout",
     "output_type": "stream",
     "text": [
      "Number of cvr numbers in current iteration: 58\n"
     ]
    },
    {
     "data": {
      "application/vnd.jupyter.widget-view+json": {
       "model_id": "4b5a26261bdb49be92703ade95a9671e",
       "version_major": 2,
       "version_minor": 0
      },
      "text/plain": [
       "HBox(children=(IntProgress(value=0, max=58), HTML(value='')))"
      ]
     },
     "metadata": {},
     "output_type": "display_data"
    },
    {
     "name": "stdout",
     "output_type": "stream",
     "text": [
      "Number of cvr numbers in current iteration: 147\n"
     ]
    },
    {
     "data": {
      "application/vnd.jupyter.widget-view+json": {
       "model_id": "9adf0f7a6532498f9f8be2ace06c8a7d",
       "version_major": 2,
       "version_minor": 0
      },
      "text/plain": [
       "HBox(children=(IntProgress(value=0, max=147), HTML(value='')))"
      ]
     },
     "metadata": {},
     "output_type": "display_data"
    },
    {
     "name": "stdout",
     "output_type": "stream",
     "text": [
      "Number of cvr numbers in current iteration: 1190\n"
     ]
    },
    {
     "data": {
      "application/vnd.jupyter.widget-view+json": {
       "model_id": "00293e2de5d84e679f887b49305c21dc",
       "version_major": 2,
       "version_minor": 0
      },
      "text/plain": [
       "HBox(children=(IntProgress(value=0, max=1190), HTML(value='')))"
      ]
     },
     "metadata": {},
     "output_type": "display_data"
    },
    {
     "name": "stdout",
     "output_type": "stream",
     "text": [
      "Number of cvr numbers in current iteration: 1086\n"
     ]
    },
    {
     "data": {
      "application/vnd.jupyter.widget-view+json": {
       "model_id": "3ab91c4ab25549788ac996daa0748b0b",
       "version_major": 2,
       "version_minor": 0
      },
      "text/plain": [
       "HBox(children=(IntProgress(value=0, max=1086), HTML(value='')))"
      ]
     },
     "metadata": {},
     "output_type": "display_data"
    },
    {
     "name": "stdout",
     "output_type": "stream",
     "text": [
      "Number of cvr numbers in current iteration: 1327\n"
     ]
    },
    {
     "data": {
      "application/vnd.jupyter.widget-view+json": {
       "model_id": "d9a2c86e2f2944e0b3a63c89b7aae573",
       "version_major": 2,
       "version_minor": 0
      },
      "text/plain": [
       "HBox(children=(IntProgress(value=0, max=1327), HTML(value='')))"
      ]
     },
     "metadata": {},
     "output_type": "display_data"
    },
    {
     "name": "stdout",
     "output_type": "stream",
     "text": [
      "Number of cvr numbers in current iteration: 1736\n"
     ]
    },
    {
     "data": {
      "application/vnd.jupyter.widget-view+json": {
       "model_id": "099519d5aa114217be1fa603834dd72e",
       "version_major": 2,
       "version_minor": 0
      },
      "text/plain": [
       "HBox(children=(IntProgress(value=0, max=1736), HTML(value='')))"
      ]
     },
     "metadata": {},
     "output_type": "display_data"
    },
    {
     "name": "stdout",
     "output_type": "stream",
     "text": [
      "Number of cvr numbers in current iteration: 2623\n"
     ]
    },
    {
     "data": {
      "application/vnd.jupyter.widget-view+json": {
       "model_id": "de9a0a882f1d4fddb3ff0a788c17cf24",
       "version_major": 2,
       "version_minor": 0
      },
      "text/plain": [
       "HBox(children=(IntProgress(value=0, max=2623), HTML(value='')))"
      ]
     },
     "metadata": {},
     "output_type": "display_data"
    },
    {
     "name": "stdout",
     "output_type": "stream",
     "text": [
      "Number of cvr numbers in current iteration: 236\n"
     ]
    },
    {
     "data": {
      "application/vnd.jupyter.widget-view+json": {
       "model_id": "81a1d741846042de9708fb6cdccc4d11",
       "version_major": 2,
       "version_minor": 0
      },
      "text/plain": [
       "HBox(children=(IntProgress(value=0, max=236), HTML(value='')))"
      ]
     },
     "metadata": {},
     "output_type": "display_data"
    },
    {
     "name": "stdout",
     "output_type": "stream",
     "text": [
      "Number of cvr numbers in current iteration: 166\n"
     ]
    },
    {
     "data": {
      "application/vnd.jupyter.widget-view+json": {
       "model_id": "3f137ce4bf844c9eaf4c949a6ee2c9de",
       "version_major": 2,
       "version_minor": 0
      },
      "text/plain": [
       "HBox(children=(IntProgress(value=0, max=166), HTML(value='')))"
      ]
     },
     "metadata": {},
     "output_type": "display_data"
    },
    {
     "name": "stdout",
     "output_type": "stream",
     "text": [
      "Number of cvr numbers in current iteration: 1756\n"
     ]
    },
    {
     "data": {
      "application/vnd.jupyter.widget-view+json": {
       "model_id": "596c6315dd944acea32ea3a135ae6d92",
       "version_major": 2,
       "version_minor": 0
      },
      "text/plain": [
       "HBox(children=(IntProgress(value=0, max=1756), HTML(value='')))"
      ]
     },
     "metadata": {},
     "output_type": "display_data"
    },
    {
     "name": "stdout",
     "output_type": "stream",
     "text": [
      "Number of cvr numbers in current iteration: 1355\n"
     ]
    },
    {
     "data": {
      "application/vnd.jupyter.widget-view+json": {
       "model_id": "854bde37ef4e4423bb070a88ec76b9f9",
       "version_major": 2,
       "version_minor": 0
      },
      "text/plain": [
       "HBox(children=(IntProgress(value=0, max=1355), HTML(value='')))"
      ]
     },
     "metadata": {},
     "output_type": "display_data"
    },
    {
     "name": "stdout",
     "output_type": "stream",
     "text": [
      "Number of cvr numbers in current iteration: 1058\n"
     ]
    },
    {
     "data": {
      "application/vnd.jupyter.widget-view+json": {
       "model_id": "d15c7c72fdb741a6ad1c41f426c3ed04",
       "version_major": 2,
       "version_minor": 0
      },
      "text/plain": [
       "HBox(children=(IntProgress(value=0, max=1058), HTML(value='')))"
      ]
     },
     "metadata": {},
     "output_type": "display_data"
    },
    {
     "name": "stdout",
     "output_type": "stream",
     "text": [
      "Number of cvr numbers in current iteration: 981\n"
     ]
    },
    {
     "data": {
      "application/vnd.jupyter.widget-view+json": {
       "model_id": "d8e7ab32e6e64126a530e30c95551988",
       "version_major": 2,
       "version_minor": 0
      },
      "text/plain": [
       "HBox(children=(IntProgress(value=0, max=981), HTML(value='')))"
      ]
     },
     "metadata": {},
     "output_type": "display_data"
    },
    {
     "name": "stdout",
     "output_type": "stream",
     "text": [
      "Number of cvr numbers in current iteration: 861\n"
     ]
    },
    {
     "data": {
      "application/vnd.jupyter.widget-view+json": {
       "model_id": "53380e4cd87d42f7b608eafcf5ca7b10",
       "version_major": 2,
       "version_minor": 0
      },
      "text/plain": [
       "HBox(children=(IntProgress(value=0, max=861), HTML(value='')))"
      ]
     },
     "metadata": {},
     "output_type": "display_data"
    },
    {
     "name": "stdout",
     "output_type": "stream",
     "text": [
      "Number of cvr numbers in current iteration: 87\n"
     ]
    },
    {
     "data": {
      "application/vnd.jupyter.widget-view+json": {
       "model_id": "db2b3c3f271846aaadc69d0f3839f6ff",
       "version_major": 2,
       "version_minor": 0
      },
      "text/plain": [
       "HBox(children=(IntProgress(value=0, max=87), HTML(value='')))"
      ]
     },
     "metadata": {},
     "output_type": "display_data"
    },
    {
     "name": "stdout",
     "output_type": "stream",
     "text": [
      "Number of cvr numbers in current iteration: 132\n"
     ]
    },
    {
     "data": {
      "application/vnd.jupyter.widget-view+json": {
       "model_id": "d641404857f24e7686eaa08c1e78c70d",
       "version_major": 2,
       "version_minor": 0
      },
      "text/plain": [
       "HBox(children=(IntProgress(value=0, max=132), HTML(value='')))"
      ]
     },
     "metadata": {},
     "output_type": "display_data"
    },
    {
     "name": "stdout",
     "output_type": "stream",
     "text": [
      "Number of cvr numbers in current iteration: 1121\n"
     ]
    },
    {
     "data": {
      "application/vnd.jupyter.widget-view+json": {
       "model_id": "d30486bfcef649c8bdb9d1cf3a6cfbe2",
       "version_major": 2,
       "version_minor": 0
      },
      "text/plain": [
       "HBox(children=(IntProgress(value=0, max=1121), HTML(value='')))"
      ]
     },
     "metadata": {},
     "output_type": "display_data"
    },
    {
     "name": "stdout",
     "output_type": "stream",
     "text": [
      "Number of cvr numbers in current iteration: 897\n"
     ]
    },
    {
     "data": {
      "application/vnd.jupyter.widget-view+json": {
       "model_id": "f2bc7c7e1b1d4a1cad761703e23fc96c",
       "version_major": 2,
       "version_minor": 0
      },
      "text/plain": [
       "HBox(children=(IntProgress(value=0, max=897), HTML(value='')))"
      ]
     },
     "metadata": {},
     "output_type": "display_data"
    },
    {
     "name": "stdout",
     "output_type": "stream",
     "text": [
      "Number of cvr numbers in current iteration: 894\n"
     ]
    },
    {
     "data": {
      "application/vnd.jupyter.widget-view+json": {
       "model_id": "6c91454d88314c94adda929609ba3368",
       "version_major": 2,
       "version_minor": 0
      },
      "text/plain": [
       "HBox(children=(IntProgress(value=0, max=894), HTML(value='')))"
      ]
     },
     "metadata": {},
     "output_type": "display_data"
    },
    {
     "name": "stdout",
     "output_type": "stream",
     "text": [
      "Number of cvr numbers in current iteration: 817\n"
     ]
    },
    {
     "data": {
      "application/vnd.jupyter.widget-view+json": {
       "model_id": "a059c81834b84d77b4309346c4eb3d67",
       "version_major": 2,
       "version_minor": 0
      },
      "text/plain": [
       "HBox(children=(IntProgress(value=0, max=817), HTML(value='')))"
      ]
     },
     "metadata": {},
     "output_type": "display_data"
    },
    {
     "name": "stdout",
     "output_type": "stream",
     "text": [
      "Number of cvr numbers in current iteration: 964\n"
     ]
    },
    {
     "data": {
      "application/vnd.jupyter.widget-view+json": {
       "model_id": "3c17b50dcbaf4081b58777b52b346cc2",
       "version_major": 2,
       "version_minor": 0
      },
      "text/plain": [
       "HBox(children=(IntProgress(value=0, max=964), HTML(value='')))"
      ]
     },
     "metadata": {},
     "output_type": "display_data"
    },
    {
     "name": "stdout",
     "output_type": "stream",
     "text": [
      "Number of cvr numbers in current iteration: 107\n"
     ]
    },
    {
     "data": {
      "application/vnd.jupyter.widget-view+json": {
       "model_id": "2873f3e7c4344e78ae1ec16bc405ce67",
       "version_major": 2,
       "version_minor": 0
      },
      "text/plain": [
       "HBox(children=(IntProgress(value=0, max=107), HTML(value='')))"
      ]
     },
     "metadata": {},
     "output_type": "display_data"
    },
    {
     "name": "stdout",
     "output_type": "stream",
     "text": [
      "Number of cvr numbers in current iteration: 1\n"
     ]
    },
    {
     "data": {
      "application/vnd.jupyter.widget-view+json": {
       "model_id": "e9cebc1e96304b76bfcd3beab93682f4",
       "version_major": 2,
       "version_minor": 0
      },
      "text/plain": [
       "HBox(children=(IntProgress(value=0, max=1), HTML(value='')))"
      ]
     },
     "metadata": {},
     "output_type": "display_data"
    },
    {
     "name": "stdout",
     "output_type": "stream",
     "text": [
      "Number of cvr numbers in current iteration: 1050\n"
     ]
    },
    {
     "data": {
      "application/vnd.jupyter.widget-view+json": {
       "model_id": "86e439fe72ed418ca42fba995de20ca6",
       "version_major": 2,
       "version_minor": 0
      },
      "text/plain": [
       "HBox(children=(IntProgress(value=0, max=1050), HTML(value='')))"
      ]
     },
     "metadata": {},
     "output_type": "display_data"
    },
    {
     "name": "stdout",
     "output_type": "stream",
     "text": [
      "Number of cvr numbers in current iteration: 948\n"
     ]
    },
    {
     "data": {
      "application/vnd.jupyter.widget-view+json": {
       "model_id": "5d12668173bc4b6d87669e4a4a445106",
       "version_major": 2,
       "version_minor": 0
      },
      "text/plain": [
       "HBox(children=(IntProgress(value=0, max=948), HTML(value='')))"
      ]
     },
     "metadata": {},
     "output_type": "display_data"
    },
    {
     "name": "stdout",
     "output_type": "stream",
     "text": [
      "Number of cvr numbers in current iteration: 927\n"
     ]
    },
    {
     "data": {
      "application/vnd.jupyter.widget-view+json": {
       "model_id": "136cf220b48d42508a558948b66b706c",
       "version_major": 2,
       "version_minor": 0
      },
      "text/plain": [
       "HBox(children=(IntProgress(value=0, max=927), HTML(value='')))"
      ]
     },
     "metadata": {},
     "output_type": "display_data"
    },
    {
     "name": "stdout",
     "output_type": "stream",
     "text": [
      "Number of cvr numbers in current iteration: 1213\n"
     ]
    },
    {
     "data": {
      "application/vnd.jupyter.widget-view+json": {
       "model_id": "5d1af10dcae241228cc39ee54fc4a814",
       "version_major": 2,
       "version_minor": 0
      },
      "text/plain": [
       "HBox(children=(IntProgress(value=0, max=1213), HTML(value='')))"
      ]
     },
     "metadata": {},
     "output_type": "display_data"
    },
    {
     "name": "stdout",
     "output_type": "stream",
     "text": [
      "Number of cvr numbers in current iteration: 1233\n"
     ]
    },
    {
     "data": {
      "application/vnd.jupyter.widget-view+json": {
       "model_id": "1840887b2da84b7197da115a38c3af2a",
       "version_major": 2,
       "version_minor": 0
      },
      "text/plain": [
       "HBox(children=(IntProgress(value=0, max=1233), HTML(value='')))"
      ]
     },
     "metadata": {},
     "output_type": "display_data"
    },
    {
     "name": "stdout",
     "output_type": "stream",
     "text": [
      "Number of cvr numbers in current iteration: 1\n"
     ]
    },
    {
     "data": {
      "application/vnd.jupyter.widget-view+json": {
       "model_id": "a2986a5165b94a5b9541344383e57773",
       "version_major": 2,
       "version_minor": 0
      },
      "text/plain": [
       "HBox(children=(IntProgress(value=0, max=1), HTML(value='')))"
      ]
     },
     "metadata": {},
     "output_type": "display_data"
    },
    {
     "name": "stdout",
     "output_type": "stream",
     "text": [
      "Number of cvr numbers in current iteration: 0\n"
     ]
    },
    {
     "data": {
      "application/vnd.jupyter.widget-view+json": {
       "model_id": "4bef00116b31426792aafb1c26d62dd4",
       "version_major": 2,
       "version_minor": 0
      },
      "text/plain": [
       "HBox(children=(IntProgress(value=1, bar_style='info', max=1), HTML(value='')))"
      ]
     },
     "metadata": {},
     "output_type": "display_data"
    },
    {
     "name": "stdout",
     "output_type": "stream",
     "text": [
      "Number of cvr numbers in current iteration: 0\n"
     ]
    },
    {
     "data": {
      "application/vnd.jupyter.widget-view+json": {
       "model_id": "2106e8842a6b417b8d6d0368c070660b",
       "version_major": 2,
       "version_minor": 0
      },
      "text/plain": [
       "HBox(children=(IntProgress(value=1, bar_style='info', max=1), HTML(value='')))"
      ]
     },
     "metadata": {},
     "output_type": "display_data"
    },
    {
     "name": "stdout",
     "output_type": "stream",
     "text": [
      "Number of cvr numbers in current iteration: 0\n"
     ]
    },
    {
     "data": {
      "application/vnd.jupyter.widget-view+json": {
       "model_id": "0ebb29db84e44a1c9ea707c1aca77ee1",
       "version_major": 2,
       "version_minor": 0
      },
      "text/plain": [
       "HBox(children=(IntProgress(value=1, bar_style='info', max=1), HTML(value='')))"
      ]
     },
     "metadata": {},
     "output_type": "display_data"
    },
    {
     "name": "stdout",
     "output_type": "stream",
     "text": [
      "Number of cvr numbers in current iteration: 0\n"
     ]
    },
    {
     "data": {
      "application/vnd.jupyter.widget-view+json": {
       "model_id": "f44da468677e47bb8b33fea2fc4cf75f",
       "version_major": 2,
       "version_minor": 0
      },
      "text/plain": [
       "HBox(children=(IntProgress(value=1, bar_style='info', max=1), HTML(value='')))"
      ]
     },
     "metadata": {},
     "output_type": "display_data"
    },
    {
     "name": "stdout",
     "output_type": "stream",
     "text": [
      "Number of cvr numbers in current iteration: 758\n"
     ]
    },
    {
     "data": {
      "application/vnd.jupyter.widget-view+json": {
       "model_id": "4b00dee57c184778a5a3bdece015b93f",
       "version_major": 2,
       "version_minor": 0
      },
      "text/plain": [
       "HBox(children=(IntProgress(value=0, max=758), HTML(value='')))"
      ]
     },
     "metadata": {},
     "output_type": "display_data"
    },
    {
     "name": "stdout",
     "output_type": "stream",
     "text": [
      "Number of cvr numbers in current iteration: 347\n"
     ]
    },
    {
     "data": {
      "application/vnd.jupyter.widget-view+json": {
       "model_id": "78be9d87838c4ff2bfdd99d9d7306147",
       "version_major": 2,
       "version_minor": 0
      },
      "text/plain": [
       "HBox(children=(IntProgress(value=0, max=347), HTML(value='')))"
      ]
     },
     "metadata": {},
     "output_type": "display_data"
    },
    {
     "name": "stdout",
     "output_type": "stream",
     "text": [
      "Number of cvr numbers in current iteration: 0\n"
     ]
    },
    {
     "data": {
      "application/vnd.jupyter.widget-view+json": {
       "model_id": "d91388feb0c245998980a8cd45254d1b",
       "version_major": 2,
       "version_minor": 0
      },
      "text/plain": [
       "HBox(children=(IntProgress(value=1, bar_style='info', max=1), HTML(value='')))"
      ]
     },
     "metadata": {},
     "output_type": "display_data"
    },
    {
     "name": "stdout",
     "output_type": "stream",
     "text": [
      "Number of cvr numbers in current iteration: 0\n"
     ]
    },
    {
     "data": {
      "application/vnd.jupyter.widget-view+json": {
       "model_id": "3e28f4bd2a534398a0de59632bcc3618",
       "version_major": 2,
       "version_minor": 0
      },
      "text/plain": [
       "HBox(children=(IntProgress(value=1, bar_style='info', max=1), HTML(value='')))"
      ]
     },
     "metadata": {},
     "output_type": "display_data"
    },
    {
     "name": "stdout",
     "output_type": "stream",
     "text": [
      "Number of cvr numbers in current iteration: 595\n"
     ]
    },
    {
     "data": {
      "application/vnd.jupyter.widget-view+json": {
       "model_id": "08c9c9be0f2e47c0a3bdbab2d9775deb",
       "version_major": 2,
       "version_minor": 0
      },
      "text/plain": [
       "HBox(children=(IntProgress(value=0, max=595), HTML(value='')))"
      ]
     },
     "metadata": {},
     "output_type": "display_data"
    },
    {
     "name": "stdout",
     "output_type": "stream",
     "text": [
      "\n"
     ]
    }
   ],
   "source": [
    "import os\n",
    "current_cvrs = set()\n",
    "#current_cvrs = set([int(file.split('.')[0]) for file in os.listdir(\"Data/\")])\n",
    "#current_cvrs.update([int(file.split('.')[0]) for file in os.listdir(\"Valid_Data/\")])\n",
    "#current_cvrs.update([int(file.split('.')[0]) for file in os.listdir(\"New_Data/\")])\n",
    "skipped_cvrs = download_files(start_date='20180101', end_date='20181231', found_cvrs=current_cvrs)"
   ]
  },
  {
   "cell_type": "code",
   "execution_count": 91,
   "metadata": {},
   "outputs": [],
   "source": [
    "# Function to use later for aggregating our data for each CVR file. Also able to handle strings, return NaN if \n",
    "# different strings are present in the column\n",
    "import numpy as np\n",
    "from pandas.api.types import is_numeric_dtype\n",
    "\n",
    "def mean_str(col):\n",
    "    if is_numeric_dtype(col):\n",
    "        return col.mean()\n",
    "    else:\n",
    "        return tuple(col.unique()) if col.nunique() == 1 else np.NaN"
   ]
  },
  {
   "cell_type": "markdown",
   "metadata": {
    "scrolled": true
   },
   "source": [
    "common_attr\n",
    "#print(common_attr)\n",
    "#useful_common_att = ['Assets','Equity','_score','ProfitLoss','LiabilitiesAndEquity']\n",
    "#useful_all_att = ['Assets','Equity','_score','ProfitLoss','LiabilitiesAndEquity','Revenue','Dividend(Paid)',\n",
    "                   'NumberOfEmployees','AverageNumberOfEmployees']"
   ]
  },
  {
   "cell_type": "code",
   "execution_count": 119,
   "metadata": {},
   "outputs": [
    {
     "data": {
      "application/vnd.jupyter.widget-view+json": {
       "model_id": "121b65f5f1fe470f96f70b4f5fe7e1b6",
       "version_major": 2,
       "version_minor": 0
      },
      "text/plain": [
       "HBox(children=(IntProgress(value=0, max=23854), HTML(value='')))"
      ]
     },
     "metadata": {},
     "output_type": "display_data"
    },
    {
     "name": "stderr",
     "output_type": "stream",
     "text": [
      "C:\\Users\\Bruger\\Anaconda3\\lib\\site-packages\\ipykernel_launcher.py:21: FutureWarning: Sorting because non-concatenation axis is not aligned. A future version\n",
      "of pandas will change to not sort by default.\n",
      "\n",
      "To accept the future behavior, pass 'sort=False'.\n",
      "\n",
      "To retain the current behavior and silence the warning, pass 'sort=True'.\n",
      "\n"
     ]
    }
   ],
   "source": [
    "all_cvrs_df = pd.DataFrame()\n",
    "\n",
    "for file in tqdm_notebook(os.listdir('Valid_Data/')):\n",
    "    # Get the CVR number \n",
    "    cvr_num = file.split('.')[0]\n",
    "    # Load the company CSV file into a pandas DF\n",
    "    company_df = pd.read_csv('Valid_Data/' + file).drop(columns = 'Unnamed: 0')\n",
    "    \n",
    "    # Change the start_date column into only containing years for easier aggregation\n",
    "    for idx in range(0, len(company_df)):\n",
    "        company_df.at[idx, 'start_date'] = company_df.at[idx, 'start_date'][0:4]\n",
    "    \n",
    "    # Aggregate the rows by the \n",
    "    company_df = company_df.groupby('start_date').agg(mean_str)\n",
    "    \n",
    "    # Make a new column called target which includes next years revenue \n",
    "    company_df['Target'] = company_df['Revenue'].shift(-1)\n",
    "     \n",
    "    company_df = company_df[~company_df.Target.isna()]    \n",
    "    \n",
    "    all_cvrs_df = pd.concat([company_df, all_cvrs_df], ignore_index=True, axis = 0)\n",
    "    "
   ]
  },
  {
   "cell_type": "code",
   "execution_count": 121,
   "metadata": {},
   "outputs": [],
   "source": [
    "all_cvrs_df.to_pickle('all_data.pkl')"
   ]
  }
 ],
 "metadata": {
  "kernelspec": {
   "display_name": "Python 3",
   "language": "python",
   "name": "python3"
  },
  "language_info": {
   "codemirror_mode": {
    "name": "ipython",
    "version": 3
   },
   "file_extension": ".py",
   "mimetype": "text/x-python",
   "name": "python",
   "nbconvert_exporter": "python",
   "pygments_lexer": "ipython3",
   "version": "3.7.3"
  }
 },
 "nbformat": 4,
 "nbformat_minor": 2
}
